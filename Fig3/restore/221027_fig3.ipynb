{
 "cells": [
  {
   "cell_type": "code",
   "execution_count": 1,
   "metadata": {},
   "outputs": [
    {
     "data": {
      "text/plain": [
       "<module 'blip_analysis' from '/home/camp/warnert/working/Recordings/binary_pulses/blip_analysis/blip_analysis.py'>"
      ]
     },
     "execution_count": 1,
     "metadata": {},
     "output_type": "execute_result"
    }
   ],
   "source": [
    "import numpy as np\n",
    "from sklearn.model_selection import train_test_split, GridSearchCV, StratifiedShuffleSplit\n",
    "from sklearn.svm import LinearSVC\n",
    "import matplotlib.pyplot as plt\n",
    "from matplotlib.gridspec import GridSpec\n",
    "from tqdm import tqdm, trange\n",
    "from sklearn.metrics import confusion_matrix\n",
    "from scipy.stats import poisson, norm\n",
    "from copy import deepcopy\n",
    "from mpl_toolkits.axes_grid1 import make_axes_locatable\n",
    "from sklearn.decomposition import PCA\n",
    "import sys\n",
    "import pickle\n",
    "import blip_analysis as ba\n",
    "import exp_blip_models as em\n",
    "from scipy.cluster.hierarchy import dendrogram, linkage\n",
    "import daskify\n",
    "import dask\n",
    "from scipy.stats import skewnorm, mannwhitneyu\n",
    "import scipy\n",
    "import matplotlib\n",
    "from sklearn.manifold import LocallyLinearEmbedding, MDS\n",
    "matplotlib.rcParams['pdf.fonttype'] = 42\n",
    "matplotlib.rcParams['ps.fonttype'] = 42\n",
    "from scipy.spatial import distance_matrix\n",
    "import openephys as oe\n",
    "from scipy.stats import ttest_ind\n",
    "import importlib\n",
    "importlib.reload(em)\n",
    "importlib.reload(ba)"
   ]
  },
  {
   "cell_type": "code",
   "execution_count": 2,
   "metadata": {},
   "outputs": [
    {
     "name": "stdout",
     "output_type": "stream",
     "text": [
      "Found odour 1\n",
      "Found odour 3\n",
      "Found odour 5\n"
     ]
    }
   ],
   "source": [
    "unit_usrt1, unit_usrt2, unit_usrt3 = ba.load_usrts()"
   ]
  },
  {
   "cell_type": "code",
   "execution_count": 3,
   "metadata": {},
   "outputs": [],
   "source": [
    "glyphs = ba.get_glyphs()\n",
    "good_indexes = ba.get_stable_resp_indexes()"
   ]
  },
  {
   "cell_type": "code",
   "execution_count": 107,
   "metadata": {},
   "outputs": [
    {
     "name": "stderr",
     "output_type": "stream",
     "text": [
      "/camp/home/warnert/.conda/envs/blip_manu/lib/python3.7/site-packages/distributed/node.py:155: UserWarning: Port 8787 is already in use.\n",
      "Perhaps you already have a cluster running?\n",
      "Hosting the HTTP server on port 44855 instead\n",
      "  http_address[\"port\"], self.http_server.port\n"
     ]
    }
   ],
   "source": [
    "dasked = daskify.Daskified()\n",
    "dasked.start_cluster()\n"
   ]
  },
  {
   "cell_type": "code",
   "execution_count": 108,
   "metadata": {},
   "outputs": [],
   "source": [
    "client = dasked.client"
   ]
  },
  {
   "cell_type": "code",
   "execution_count": 103,
   "metadata": {},
   "outputs": [
    {
     "name": "stderr",
     "output_type": "stream",
     "text": [
      "                                                 \r"
     ]
    }
   ],
   "source": [
    "scores1_conc = []\n",
    "scores1_onset = []\n",
    "scores2_conc = []\n",
    "scores2_onset = []\n",
    "scores3_conc = []\n",
    "scores3_onset = []\n",
    "\n",
    "preds_conc1 = []\n",
    "preds_onset1 = []\n",
    "preds_conc2 = []\n",
    "preds_onset2 = []\n",
    "preds_conc3 = []\n",
    "preds_onset3 = []\n",
    "\n",
    "scores_cao1 = []\n",
    "scores_cao2 = []\n",
    "scores_cao3 = []\n",
    "scores_full1 = []\n",
    "scores_full2 = []\n",
    "scores_full3 = []\n",
    "\n",
    "preds_cao1 = []\n",
    "preds_cao2 = []\n",
    "preds_cao3 = []\n",
    "preds_full1 = []\n",
    "preds_full2 = []\n",
    "preds_full3 = []\n",
    "\n",
    "full_models1 = []\n",
    "full_models2 = []\n",
    "full_models3 = []\n",
    "\n",
    "cao_models1 = []\n",
    "cao_models2 = []\n",
    "cao_models3 = []\n",
    "\n",
    "conc_models1 = []\n",
    "conc_models2 = []\n",
    "conc_models3 = []\n",
    "\n",
    "onset_models1 = []\n",
    "onset_models2 = []\n",
    "onset_models3 = []\n",
    "\n",
    "for i in trange(145, leave=False, position=0):\n",
    "    model1_conc = em.ExponentialCustomTrialArray(unit_usrt1, i, conc_array)\n",
    "    model1_conc.fit()\n",
    "    scores1_conc.append(model1_conc.fit_score)\n",
    "    preds_conc1.append(model1_conc.pred_resp)\n",
    "    conc_models1.append(model1_conc)\n",
    "    \n",
    "    model2_conc = em.ExponentialCustomTrialArray(unit_usrt2, i, conc_array)\n",
    "    model2_conc.fit()\n",
    "    scores2_conc.append(model2_conc.fit_score)\n",
    "    preds_conc2.append(model2_conc.pred_resp)\n",
    "    conc_models2.append(model2_conc)\n",
    "    \n",
    "    model3_conc = em.ExponentialCustomTrialArray(unit_usrt3, i, conc_array)\n",
    "    model3_conc.fit()\n",
    "    scores3_conc.append(model3_conc.fit_score)\n",
    "    preds_conc3.append(model3_conc.pred_resp)\n",
    "    conc_models3.append(model3_conc)\n",
    "    \n",
    "    model1_onset = em.ExponentialCustomTrialArray(unit_usrt1, i, onset_array)\n",
    "    model1_onset.fit()\n",
    "    scores1_onset.append(model1_onset.fit_score)\n",
    "    preds_onset1.append(model1_onset.pred_resp)\n",
    "    onset_models1.append(model1_onset)\n",
    "    \n",
    "    model2_onset = em.ExponentialCustomTrialArray(unit_usrt2, i, onset_array)\n",
    "    model2_onset.fit()\n",
    "    scores2_onset.append(model2_onset.fit_score)\n",
    "    preds_onset2.append(model2_onset.pred_resp)\n",
    "    onset_models2.append(model2_onset)\n",
    "    \n",
    "    model3_onset = em.ExponentialCustomTrialArray(unit_usrt3, i, onset_array)\n",
    "    model3_onset.fit()\n",
    "    scores3_onset.append(model3_onset.fit_score)\n",
    "    preds_onset3.append(model3_onset.pred_resp)\n",
    "    onset_models3.append(model3_onset)\n",
    "    \n",
    "    model1_cao = em.ExponentialCustomTrialArray(unit_usrt1, i, joined_array)\n",
    "    model1_cao.fit()\n",
    "    scores_cao1.append(model1_cao.fit_score)\n",
    "    preds_cao1.append(model1_cao.pred_resp)\n",
    "    cao_models1.append(model1_cao)\n",
    "    \n",
    "    model2_cao = em.ExponentialCustomTrialArray(unit_usrt2, i, joined_array)\n",
    "    model2_cao.fit()\n",
    "    scores_cao2.append(model2_cao.fit_score)\n",
    "    preds_cao2.append(model2_cao.pred_resp)\n",
    "    cao_models2.append(model2_cao)\n",
    "    \n",
    "    model3_cao = em.ExponentialCustomTrialArray(unit_usrt3, i, joined_array)\n",
    "    model3_cao.fit()\n",
    "    scores_cao3.append(model3_cao.fit_score)\n",
    "    preds_cao3.append(model3_cao.pred_resp)\n",
    "    cao_models3.append(model3_cao)    \n",
    "\n",
    "    model1_full = em.ExponentialCustomTrialArray(unit_usrt1, i, full_array)\n",
    "    model1_full.fit()\n",
    "    scores_full1.append(model1_full.fit_score)\n",
    "    preds_full1.append(model1_full.pred_resp)\n",
    "    full_models1.append(model1_full)\n",
    "    \n",
    "    model2_full = em.ExponentialCustomTrialArray(unit_usrt2, i, full_array)\n",
    "    model2_full.fit()\n",
    "    scores_full2.append(model2_full.fit_score)\n",
    "    preds_full2.append(model2_full.pred_resp)\n",
    "    full_models2.append(model2_full)    \n",
    "\n",
    "    model3_full = em.ExponentialCustomTrialArray(unit_usrt3, i, full_array)\n",
    "    model3_full.fit()\n",
    "    scores_full3.append(model3_full.fit_score)\n",
    "    preds_full3.append(model3_full.pred_resp)\n",
    "    full_models3.append(model3_full)"
   ]
  },
  {
   "cell_type": "code",
   "execution_count": 241,
   "metadata": {},
   "outputs": [],
   "source": [
    "pickle.dump(conc_models1, open(\"221209_conc_models1.pkl\", 'wb'), protocol=pickle.DEFAULT_PROTOCOL)\n",
    "pickle.dump(conc_models2, open(\"221209_conc_models2.pkl\", 'wb'), protocol=pickle.DEFAULT_PROTOCOL)\n",
    "pickle.dump(conc_models3, open(\"221209_conc_models3.pkl\", 'wb'), protocol=pickle.DEFAULT_PROTOCOL)\n",
    "\n",
    "pickle.dump(onset_models1, open(\"221209_onset_models1.pkl\", 'wb'), protocol=pickle.DEFAULT_PROTOCOL)\n",
    "pickle.dump(onset_models2, open(\"221209_onset_models2.pkl\", 'wb'), protocol=pickle.DEFAULT_PROTOCOL)\n",
    "pickle.dump(onset_models3, open(\"221209_onset_models3.pkl\", 'wb'), protocol=pickle.DEFAULT_PROTOCOL)\n"
   ]
  },
  {
   "cell_type": "code",
   "execution_count": 161,
   "metadata": {},
   "outputs": [
    {
     "name": "stdout",
     "output_type": "stream",
     "text": [
      "(100, 32)\n"
     ]
    }
   ],
   "source": [
    "print(conc_models1[0].test_scores.shape)"
   ]
  },
  {
   "cell_type": "code",
   "execution_count": null,
   "metadata": {},
   "outputs": [],
   "source": [
    "def dask_fit_split(model_name, model_index):\n",
    "    models = pickle.Unpickler(open(model_name, 'rb')).load()\n",
    "    model = models[model_index]\n",
    "    model.fit_split()\n",
    "    "
   ]
  },
  {
   "cell_type": "code",
   "execution_count": 62,
   "metadata": {},
   "outputs": [],
   "source": [
    "pickle.dump(cao_models1, open('221209_cao_models1.pkl', 'wb'), protocol=pickle.DEFAULT_PROTOCOL)\n",
    "pickle.dump(cao_models2, open('221209_cao_models2.pkl', 'wb'), protocol=pickle.DEFAULT_PROTOCOL)\n",
    "pickle.dump(cao_models3, open('221209_cao_models3.pkl', 'wb'), protocol=pickle.DEFAULT_PROTOCOL)"
   ]
  },
  {
   "cell_type": "code",
   "execution_count": 40,
   "metadata": {},
   "outputs": [],
   "source": [
    "all_scores = np.concatenate([scores_full1, scores_full2, scores_full3])\n",
    "all_full_models = np.concatenate([full_models1, full_models2, full_models3])"
   ]
  },
  {
   "cell_type": "code",
   "execution_count": 32,
   "metadata": {},
   "outputs": [
    {
     "data": {
      "image/png": "[encoded data removed]",
      "text/plain": [
       "<Figure size 432x288 with 1 Axes>"
      ]
     },
     "metadata": {
      "needs_background": "light"
     },
     "output_type": "display_data"
    }
   ],
   "source": [
    "hist = plt.hist(np.log(scores_full1), bins=100, density=True);\n",
    "plt.hist(np.log(scores_full2), bins=hist[1], density=True);\n",
    "plt.hist(np.log(scores_full3), bins=hist[1], density=True);\n",
    "plt.hist(np.log(all_scores), bins=hist[1], density=True);"
   ]
  },
  {
   "cell_type": "code",
   "execution_count": 43,
   "metadata": {},
   "outputs": [],
   "source": [
    "worse_fit = np.where(all_scores == np.max(all_scores))[0][0]\n",
    "percentile25 = np.where(all_scores == np.percentile(all_scores, 25, interpolation='nearest'))[0][0]\n",
    "median = np.where(all_scores == np.median(all_scores))[0][0]\n",
    "percentile75 = np.where(all_scores == np.percentile(all_scores, 75, interpolation='nearest'))[0][0]\n",
    "best_fit = np.where(all_scores == np.min(all_scores))[0][0]\n",
    "fit_indexes = [best_fit, percentile25, median, percentile75, worse_fit]"
   ]
  },
  {
   "cell_type": "code",
   "execution_count": null,
   "metadata": {},
   "outputs": [],
   "source": [
    "[i.fit_split() for i in tqdm(full_models1)]\n"
   ]
  },
  {
   "cell_type": "code",
   "execution_count": null,
   "metadata": {},
   "outputs": [],
   "source": [
    "[i.fit_split() for i in tqdm(full_models2)]"
   ]
  },
  {
   "cell_type": "code",
   "execution_count": 8,
   "metadata": {},
   "outputs": [
    {
     "data": {
      "text/plain": [
       "(100, 32)"
      ]
     },
     "execution_count": 8,
     "metadata": {},
     "output_type": "execute_result"
    }
   ],
   "source": [
    "model = full_models1[0]\n",
    "np.array(model.pred_test_avg).shape"
   ]
  },
  {
   "cell_type": "code",
   "execution_count": 9,
   "metadata": {},
   "outputs": [
    {
     "data": {
      "text/plain": [
       "(100, 32)"
      ]
     },
     "execution_count": 9,
     "metadata": {},
     "output_type": "execute_result"
    }
   ],
   "source": [
    "np.array(model.X_test_avg).shape"
   ]
  },
  {
   "cell_type": "code",
   "execution_count": 30,
   "metadata": {},
   "outputs": [
    {
     "data": {
      "text/plain": [
       "-630.6732815015948"
      ]
     },
     "execution_count": 30,
     "metadata": {},
     "output_type": "execute_result"
    }
   ],
   "source": [
    "all_fit_score = [i.fit_score for i in full_models1]\n",
    "all_fit_scores = [i.fit_scores for i in full_models1]\n",
    "all_is_fit = [i.is_fit for i in full_models1]\n",
    "all_loss_val = [i.loss_val for i in full_models1]\n"
   ]
  },
  {
   "cell_type": "code",
   "execution_count": 49,
   "metadata": {},
   "outputs": [],
   "source": [
    "import pickle"
   ]
  },
  {
   "cell_type": "code",
   "execution_count": 52,
   "metadata": {},
   "outputs": [],
   "source": [
    "pickle.dump(full_models1, open('test.pkl', 'wb'), protocol=pickle.DEFAULT_PROTOCOL)"
   ]
  },
  {
   "cell_type": "code",
   "execution_count": 55,
   "metadata": {},
   "outputs": [],
   "source": [
    "test_in = pickle.Unpickler(open('test.pkl', 'rb')).load()\n"
   ]
  },
  {
   "cell_type": "code",
   "execution_count": 59,
   "metadata": {},
   "outputs": [
    {
     "data": {
      "text/plain": [
       "array([[13.93751787, 13.43418512, 12.81106172, ..., 11.66589516,\n",
       "        12.25801616, 12.20991213],\n",
       "       [13.04833507, 13.50190803, 10.98125529, ..., 11.38018953,\n",
       "        12.23892536, 13.55131365],\n",
       "       [13.7017852 , 13.13117914, 11.85293588, ..., 11.58106278,\n",
       "        11.87983006, 12.2058697 ],\n",
       "       ...,\n",
       "       [14.33890301, 13.98129111, 12.18147973, ..., 10.84061855,\n",
       "        11.05956382, 10.75758315],\n",
       "       [13.83484164, 14.23119697, 12.42694764, ..., 13.31372648,\n",
       "        12.99915227, 12.72912044],\n",
       "       [14.23688055, 13.19184711, 11.44689625, ..., 10.56484456,\n",
       "        10.93808452, 11.42778348]])"
      ]
     },
     "execution_count": 59,
     "metadata": {},
     "output_type": "execute_result"
    }
   ],
   "source": [
    "a = test_in[0]\n",
    "a.pred_test_avg"
   ]
  },
  {
   "cell_type": "code",
   "execution_count": 48,
   "metadata": {},
   "outputs": [
    {
     "name": "stdout",
     "output_type": "stream",
     "text": [
      "['X_test_avg', 'X_train_avg', 'fit_score', 'is_fit', 'loss_val', 'opt_out', 'pred_resp', 'pred_test_avg', 'pred_train_avg', 'test_scores', 'train_scores', 'trial_array', 'trial_array_full', 'true_resp', 'unit_id', 'unit_sr', 'unit_sr_flat', 'unit_sr_var', 'unit_srt']\n"
     ]
    }
   ],
   "source": [
    "attrs = [i for i in dir(model) if not callable(getattr(model, i)) and '__' not in i]\n",
    "# for i in dir(model):\n",
    "#     if not callable(getattr(model, i)):\n",
    "#         attrs.append(i)\n",
    "print(attrs)"
   ]
  },
  {
   "cell_type": "code",
   "execution_count": 31,
   "metadata": {},
   "outputs": [
    {
     "data": {
      "text/plain": [
       "True"
      ]
     },
     "execution_count": 31,
     "metadata": {},
     "output_type": "execute_result"
    }
   ],
   "source": [
    "callable(model.loss)"
   ]
  },
  {
   "cell_type": "code",
   "execution_count": 4,
   "metadata": {},
   "outputs": [],
   "source": [
    "full_models1 = pickle.Unpickler(open('221209_full_models1.pkl', 'rb')).load()\n",
    "full_models2 = pickle.Unpickler(open('221209_full_models2.pkl', 'rb')).load()\n",
    "full_models3 = pickle.Unpickler(open('221209_full_models3.pkl', 'rb')).load()\n",
    "\n",
    "cao_models1 = pickle.Unpickler(open('221209_cao_models1.pkl', 'rb')).load()\n",
    "cao_models2 = pickle.Unpickler(open('221209_cao_models2.pkl', 'rb')).load()\n",
    "cao_models3 = pickle.Unpickler(open('221209_cao_models3.pkl', 'rb')).load()\n",
    "\n",
    "conc_models1 = pickle.Unpickler(open('221209_conc_models1.pkl', 'rb')).load()\n",
    "conc_models2 = pickle.Unpickler(open('221209_conc_models2.pkl', 'rb')).load()\n",
    "conc_models3 = pickle.Unpickler(open('221209_conc_models3.pkl', 'rb')).load()\n",
    "\n",
    "onset_models1 = pickle.Unpickler(open('221209_onset_models1.pkl', 'rb')).load()\n",
    "onset_models2 = pickle.Unpickler(open('221209_onset_models2.pkl', 'rb')).load()\n",
    "onset_models3 = pickle.Unpickler(open('221209_onset_models3.pkl', 'rb')).load()"
   ]
  },
  {
   "cell_type": "code",
   "execution_count": 5,
   "metadata": {},
   "outputs": [],
   "source": [
    "full_joint_models = np.concatenate([full_models1, full_models2, full_models3])"
   ]
  },
  {
   "cell_type": "code",
   "execution_count": 6,
   "metadata": {},
   "outputs": [
    {
     "name": "stdout",
     "output_type": "stream",
     "text": [
      "(435,)\n"
     ]
    }
   ],
   "source": [
    "test_preds = np.array([np.mean(i.pred_test_avg, axis=0) for i in full_joint_models])\n",
    "test_true = np.array([np.mean(i.X_test_avg, axis=0) for i in full_joint_models])\n",
    "all_test_preds = np.array([i.pred_test_avg for i in full_joint_models])\n",
    "all_test_true = np.array([i.X_test_avg for i in full_joint_models])\n",
    "all_scores = np.array([np.mean(i.test_scores) for i in full_joint_models])\n",
    "scores1 = np.array([np.mean(i.test_scores) for i in full_models1])\n",
    "scores2 = np.array([np.mean(i.test_scores) for i in full_models2])\n",
    "scores3 = np.array([np.mean(i.test_scores) for i in full_models3])\n",
    "print(all_scores.shape)"
   ]
  },
  {
   "cell_type": "code",
   "execution_count": 7,
   "metadata": {},
   "outputs": [],
   "source": [
    "combined_scores = [all_scores, scores1, scores2, scores3]"
   ]
  },
  {
   "cell_type": "code",
   "execution_count": 8,
   "metadata": {},
   "outputs": [],
   "source": [
    "def plot_error_distributions(ax, errors, log=True, yticklabels=None, axvlines=None):\n",
    "    if log:\n",
    "        ax.violinplot([np.log10(i) for i in errors], vert=False)\n",
    "        ax.set_xlabel('Log(Fit error)')\n",
    "    else:\n",
    "        ax.violinplot(errors, vert=False)\n",
    "        ax.set_xlabel('Fit error')\n",
    "    ax.set_yticks(np.arange(1, len(errors)+1))\n",
    "    if yticklabels is not None:\n",
    "        ax.set_yticklabels(yticklabels)\n",
    "    if axvlines is not None:\n",
    "        for axvline in axvlines:\n",
    "            ax.axvline(axvline, linestyle='--', color='k')"
   ]
  },
  {
   "cell_type": "code",
   "execution_count": 9,
   "metadata": {},
   "outputs": [],
   "source": [
    "worse_fit = np.where(all_scores == np.max(all_scores))[0][0]\n",
    "percentile25 = np.where(all_scores == np.percentile(all_scores, 25, interpolation='nearest'))[0][0]\n",
    "median = np.where(all_scores == np.median(all_scores))[0][0]\n",
    "percentile75 = np.where(all_scores == np.percentile(all_scores, 75, interpolation='nearest'))[0][0]\n",
    "best_fit = np.where(all_scores == np.min(all_scores))[0][0]\n",
    "best_fit = np.argsort(all_scores)[0]\n",
    "fit_indexes = [best_fit, percentile25, median, percentile75, worse_fit]\n",
    "fit_index_values = [np.log10(all_scores[i]) for i in fit_indexes]"
   ]
  },
  {
   "cell_type": "code",
   "execution_count": 13,
   "metadata": {},
   "outputs": [
    {
     "data": {
      "image/png": "[encoded data removed]",
      "text/plain": [
       "<Figure size 432x288 with 1 Axes>"
      ]
     },
     "metadata": {
      "needs_background": "light"
     },
     "output_type": "display_data"
    }
   ],
   "source": [
    "fig = plt.figure()\n",
    "ax = fig.add_subplot(111)\n",
    "plot_error_distributions(ax, combined_scores, yticklabels=['Joined distribution', 'Odour 1', 'Odour 2', 'Odour 3'], axvlines=fit_index_values[1:-1])"
   ]
  },
  {
   "cell_type": "code",
   "execution_count": 12,
   "metadata": {},
   "outputs": [
    {
     "name": "stdout",
     "output_type": "stream",
     "text": [
      "[346, 71, 65, 422, 311]\n",
      "[-4.724121916480504, -2.2904913814108236, -1.6454092660295205, -1.1061616338585096, 11.392020984302361]\n"
     ]
    }
   ],
   "source": [
    "print(fit_indexes)\n",
    "print(fit_index_values)"
   ]
  },
  {
   "cell_type": "code",
   "execution_count": 10,
   "metadata": {},
   "outputs": [],
   "source": [
    "def plot_fits(fig, gs, true_vals, pred_vals, chosen_indexes, hor=True, legend_ax_index=2):\n",
    "    if hor:\n",
    "        subgs = gs.subgridspec(ncols=len(chosen_indexes), nrows=1)\n",
    "    else:\n",
    "        subgs = gs.subgridspec(ncols=1, nrows=len(chosen_indexes))\n",
    "    axs = []\n",
    "    for ax_i, index in enumerate(chosen_indexes):\n",
    "        if ax_i != 0:\n",
    "            \n",
    "            ax = fig.add_subplot(subgs[ax_i], sharey=axs[-1])\n",
    "            plt.setp(ax.get_yticklabels(), visible=False)\n",
    "        else:\n",
    "            ax = fig.add_subplot(subgs[ax_i])\n",
    "        ax = plot_fit(ax, true_vals[index], label='True')\n",
    "        ax = plot_fit(ax, pred_vals[index], label='Prediction')\n",
    "        axs.append(ax)\n",
    "        ax.set_xticks(range(32))\n",
    "        ax.set_xticklabels(glyphs, fontsize=8, rotation=90)\n",
    "        if ax_i == legend_ax_index:\n",
    "            ax.legend()\n",
    "    \n",
    "    return axs\n",
    "\n",
    "def plot_fit(ax, vals, label=None):\n",
    "    mins = np.mean(vals, axis=0) - np.min(vals, axis=0)\n",
    "    maxs = np.max(vals, axis=0) - np.mean(vals, axis=0)\n",
    "    \n",
    "    ax.errorbar(range(32), np.mean(vals, axis=0), yerr=(mins, maxs), fmt='o', label=label, markersize=3, linewidth=1)\n",
    "    return ax"
   ]
  },
  {
   "cell_type": "code",
   "execution_count": 11,
   "metadata": {},
   "outputs": [
    {
     "data": {
      "text/plain": [
       "[<matplotlib.axes._subplots.AxesSubplot at 0x7f4a95c75320>,\n",
       " <matplotlib.axes._subplots.AxesSubplot at 0x7f4a837503c8>,\n",
       " <matplotlib.axes._subplots.AxesSubplot at 0x7f4a83c130f0>]"
      ]
     },
     "execution_count": 11,
     "metadata": {},
     "output_type": "execute_result"
    },
    {
     "data": {
      "image/png": "[encoded data removed]",
      "text/plain": [
       "<Figure size 432x288 with 3 Axes>"
      ]
     },
     "metadata": {
      "needs_background": "light"
     },
     "output_type": "display_data"
    }
   ],
   "source": [
    "fig = plt.figure()\n",
    "gs = GridSpec(1, 1)\n",
    "plot_fits(fig, gs[0], all_test_true, all_test_preds, fit_indexes[1:-1])"
   ]
  },
  {
   "cell_type": "code",
   "execution_count": 17,
   "metadata": {},
   "outputs": [],
   "source": [
    "\n",
    "combined_trial_scores = np.concatenate([[np.mean(i.test_scores, axis=0) for i in models] for models in [full_models1, full_models2, full_models3]])\n"
   ]
  },
  {
   "cell_type": "code",
   "execution_count": 36,
   "metadata": {},
   "outputs": [
    {
     "name": "stdout",
     "output_type": "stream",
     "text": [
      "(32,)\n"
     ]
    }
   ],
   "source": [
    "print(np.median(np.log10(combined_trial_scores), axis=0).shape)"
   ]
  },
  {
   "cell_type": "code",
   "execution_count": 45,
   "metadata": {},
   "outputs": [
    {
     "data": {
      "image/png": "[encoded data removed]",
      "text/plain": [
       "<Figure size 432x288 with 1 Axes>"
      ]
     },
     "metadata": {
      "needs_background": "light"
     },
     "output_type": "display_data"
    }
   ],
   "source": [
    "def plot_trial_scores(ax, trial_scores, sort_by_median=True):\n",
    "    if sort_by_median:\n",
    "        sorted_index = np.argsort(np.median(np.log10(trial_scores), axis=0))\n",
    "        sorted_scores = np.log10(trial_scores)[:, sorted_index]\n",
    "    else:\n",
    "        sorted_scores = np.log10(trial_scores)\n",
    "        sorted_index = range(32)\n",
    "    ax.boxplot(sorted_scores, showfliers=False)\n",
    "    ax.set_xticks(range(1, 33))\n",
    "    ax.set_xticklabels(np.array(glyphs)[sorted_index], rotation=90, fontsize=8)\n",
    "    ax.set_ylabel('Ln(Fit error)')\n",
    "fig = plt.figure()\n",
    "ax = fig.add_subplot(111)\n",
    "plot_trial_scores(ax, combined_trial_scores, sort_by_median=True)"
   ]
  },
  {
   "cell_type": "markdown",
   "metadata": {},
   "source": [
    "#Change to a conc vs onset scatter plot"
   ]
  },
  {
   "cell_type": "code",
   "execution_count": 12,
   "metadata": {},
   "outputs": [],
   "source": [
    "all_reses = np.load('../Fig2/221027_all_svm_outs.npy')\n",
    "preds1 = np.array(all_reses)[0, :, 0].reshape(500, 32)\n",
    "trues1 = np.array(all_reses)[0, :, 1].reshape(500, 32)\n",
    "preds2 = np.array(all_reses)[1, :, 0].reshape(500, 32)\n",
    "trues2 = np.array(all_reses)[1, :, 1].reshape(500, 32)\n",
    "preds3 = np.array(all_reses)[2, :, 0].reshape(500, 32)\n",
    "trues3 = np.array(all_reses)[2, :, 1].reshape(500, 32)\n",
    "cm1 = confusion_matrix(np.concatenate(trues1), np.concatenate(preds1), normalize='true', labels=range(32))\n",
    "cm2 = confusion_matrix(np.concatenate(trues2), np.concatenate(preds2), normalize='true', labels=range(32))\n",
    "cm3 = confusion_matrix(np.concatenate(trues3), np.concatenate(preds3), normalize='true', labels=range(32))"
   ]
  },
  {
   "cell_type": "code",
   "execution_count": null,
   "metadata": {},
   "outputs": [],
   "source": []
  },
  {
   "cell_type": "code",
   "execution_count": 13,
   "metadata": {},
   "outputs": [],
   "source": [
    "def plot_loglog_error(ax, scores_conc, scores_onset, lims='equal', label=None):\n",
    "    ax.loglog(scores_conc, scores_onset, '.', label=label)\n",
    "#     ax.set_xlabel('Log concentration error (a.u.)')\n",
    "#     ax.set_ylabel('Log onset error (a.u.)')\n",
    "    if lims == 'equal':\n",
    "        max_lim = np.max([ax.get_ylim(), ax.get_xlim()])\n",
    "        min_lim = np.min([ax.get_ylim(), ax.get_xlim()])\n",
    "        ax.set_ylim(min_lim, max_lim)\n",
    "        ax.set_xlim(min_lim, max_lim)\n",
    "def plot_two_errors(fig, gs, all_scores1, all_scores2, all_scores3, all_scores4, lims='equal', label=None, orientation='h'):\n",
    "    if orientation == 'h':\n",
    "        sub_gs = gs.subgridspec(ncols=2, nrows=1, wspace=0.5)\n",
    "    elif orientation == 'v':\n",
    "        sub_gs = gs.subgridspec(ncols=1, nrows=2, wspace=0.5)\n",
    "    error_ax1 = fig.add_subplot(sub_gs[0], aspect=1)\n",
    "    error_ax2 = fig.add_subplot(sub_gs[1], aspect=1)\n",
    "    for i in range(len(all_scores_conc)):\n",
    "        plot_loglog_error(error_ax1, all_scores1[i], all_scores2[i], label=f'Odour {i+1}')\n",
    "        plot_loglog_error(error_ax2, all_scores3[i], all_scores4[i])\n",
    "    max_lim = np.max([error_ax1.get_ylim(), error_ax2.get_xlim()])\n",
    "    min_lim = np.min([error_ax1.get_ylim(), error_ax2.get_xlim()])\n",
    "    error_ax1.set_ylim(min_lim, max_lim)\n",
    "    error_ax1.set_xlim(min_lim, max_lim)\n",
    "    error_ax2.set_ylim(min_lim, max_lim)\n",
    "    error_ax2.set_xlim(min_lim, max_lim)\n",
    "    return error_ax1, error_ax2"
   ]
  },
  {
   "cell_type": "code",
   "execution_count": 14,
   "metadata": {},
   "outputs": [],
   "source": [
    "test_scores_conc1 = [np.mean(i.test_scores) for i in conc_models1]\n",
    "test_scores_conc2 = [np.mean(i.test_scores) for i in conc_models2]\n",
    "test_scores_conc3 = [np.mean(i.test_scores) for i in conc_models3]\n",
    "\n",
    "test_scores_cao1 = [np.mean(i.test_scores) for i in cao_models1]\n",
    "test_scores_cao2 = [np.mean(i.test_scores) for i in cao_models2]\n",
    "test_scores_cao3 = [np.mean(i.test_scores) for i in cao_models3]\n",
    "\n",
    "test_scores_onset1 = [np.mean(i.test_scores) for i in onset_models1]\n",
    "test_scores_onset2 = [np.mean(i.test_scores) for i in onset_models2]\n",
    "test_scores_onset3 = [np.mean(i.test_scores) for i in onset_models3]\n",
    "\n",
    "test_scores1 = [np.mean(i.test_scores) for i in full_models1]\n",
    "test_scores2 = [np.mean(i.test_scores) for i in full_models2]\n",
    "test_scores3 = [np.mean(i.test_scores) for i in full_models3]\n",
    "\n",
    "all_scores_conc = [test_scores_conc1, test_scores_conc2, test_scores_conc3]\n",
    "all_scores_onset = [test_scores_onset1, test_scores_onset2, test_scores_onset3]\n",
    "all_scores_cao = [test_scores_cao1, test_scores_cao2, test_scores_cao3]\n",
    "all_scores_full = [test_scores1, test_scores2, test_scores3]\n"
   ]
  },
  {
   "cell_type": "code",
   "execution_count": 22,
   "metadata": {},
   "outputs": [
    {
     "data": {
      "text/plain": [
       "Text(0, 0.5, 'Log temporal bin error (a.u.)')"
      ]
     },
     "execution_count": 22,
     "metadata": {},
     "output_type": "execute_result"
    },
    {
     "data": {
      "image/png": "[encoded data removed]",
      "text/plain": [
       "<Figure size 432x288 with 2 Axes>"
      ]
     },
     "metadata": {
      "needs_background": "light"
     },
     "output_type": "display_data"
    }
   ],
   "source": [
    "fig = plt.figure()\n",
    "gs = GridSpec(1, 1)\n",
    "ea1, ea2 = plot_two_errors(fig, gs[0], all_scores_conc, all_scores_onset, all_scores_cao, all_scores_full, orientation='h')\n",
    "ea1.set_xlabel('Log concentration error (a.u.)')\n",
    "ea1.set_ylabel('Log onset error (a.u.)')\n",
    "ea2.set_xlabel('Log combination error (a.u.)')\n",
    "ea2.set_ylabel('Log temporal bin error (a.u.)')"
   ]
  },
  {
   "cell_type": "code",
   "execution_count": 58,
   "metadata": {},
   "outputs": [
    {
     "data": {
      "text/plain": [
       "[<matplotlib.axes._subplots.AxesSubplot at 0x7f4a12b4b710>,\n",
       " <matplotlib.axes._subplots.AxesSubplot at 0x7f4a143105f8>,\n",
       " <matplotlib.axes._subplots.AxesSubplot at 0x7f4a12b03be0>]"
      ]
     },
     "execution_count": 58,
     "metadata": {},
     "output_type": "execute_result"
    },
    {
     "data": {
      "image/png": "[encoded data removed]",
      "text/plain": [
       "<Figure size 597.6x842.4 with 12 Axes>"
      ]
     },
     "metadata": {
      "needs_background": "light"
     },
     "output_type": "display_data"
    }
   ],
   "source": [
    "fig = plt.figure(figsize=(8.3, 11.7))\n",
    "gs = GridSpec(6, 4)\n",
    "ea1, ea2 = plot_two_errors(fig, gs[0, 2:], all_scores_conc, all_scores_onset, all_scores_cao, all_scores_full, orientation='h')\n",
    "diagram_ax = fig.add_subplot(gs[0, :-2])\n",
    "plot_axes = plot_fits(fig, gs[1, :], all_test_true, all_test_preds, fit_indexes[1:-1])\n",
    "dist_ax = fig.add_subplot(gs[2, :])\n",
    "plot_error_distributions(dist_ax, combined_scores, yticklabels=['Joined distribution', 'Odour 1', 'Odour 2', 'Odour 3'], axvlines=fit_index_values[1:-1])\n",
    "trial_error_ax = fig.add_subplot(gs[3, :])\n",
    "plot_trial_scores(trial_error_ax, combined_trial_scores)\n",
    "other_odour_pred_ax = fig.add_subplot(gs[5, :])\n",
    "plot_error_distributions(other_odour_pred_ax, [pred_scores1, pred_scores2, pred_scores3])\n",
    "#pred_odour_ax = fig.add_subplot(gs[4, :])\n",
    "plot_pred_odour(fig, gs[4, :], all_pred_models_true, all_pred_models_pred, fit_indexes_pred_odour[1:-1])\n",
    "# heatmap_ax = fig.add_subplot(gs[1, :])\n",
    "# vmax = np.max(np.abs(firing_difference1))\n",
    "# link = linkage(np.array(firing_difference1), method='complete', optimal_ordering=True)\n",
    "# dend = dendrogram(link, no_plot=True)\n",
    "# im = heatmap_ax.imshow(np.array(firing_difference1)[dend['leaves']].T, cmap='bwr', vmax=vmax, vmin=-vmax)\n",
    "# divider = make_axes_locatable(heatmap_ax)\n",
    "# cax = divider.append_axes(\"right\", size='2%', pad=0.05)\n",
    "# plt.colorbar(im, cax=cax)\n",
    "#plt.colorbar()"
   ]
  },
  {
   "cell_type": "code",
   "execution_count": 35,
   "metadata": {},
   "outputs": [
    {
     "data": {
      "text/plain": [
       "(435, 32)"
      ]
     },
     "execution_count": 35,
     "metadata": {},
     "output_type": "execute_result"
    }
   ],
   "source": [
    "combined_trial_scores.shape"
   ]
  },
  {
   "cell_type": "code",
   "execution_count": 29,
   "metadata": {},
   "outputs": [],
   "source": [
    "def plot_pred_odour(fig, gs, true_vals, pred_vals, chosen_indexes, legend_ax_index=2):\n",
    "\n",
    "    subgs = gs.subgridspec(ncols=len(chosen_indexes), nrows=1)\n",
    "    axs = []\n",
    "    for ax_i, index in enumerate(chosen_indexes):\n",
    "        if ax_i != 0:\n",
    "            \n",
    "            ax = fig.add_subplot(subgs[ax_i], sharey=axs[-1])\n",
    "            plt.setp(ax.get_yticklabels(), visible=False)\n",
    "        else:\n",
    "            ax = fig.add_subplot(subgs[ax_i])\n",
    "        ax.scatter(range(32), true_vals[index], label='True')\n",
    "        ax.scatter(range(32), pred_vals[index], label='Prediction')\n",
    "        axs.append(ax)\n",
    "        ax.set_xticks(range(32))\n",
    "        ax.set_xticklabels(glyphs, fontsize=8, rotation=90)\n",
    "        if ax_i == legend_ax_index:\n",
    "            ax.legend()\n",
    "    \n",
    "    return axs"
   ]
  },
  {
   "cell_type": "code",
   "execution_count": 59,
   "metadata": {},
   "outputs": [
    {
     "data": {
      "text/plain": [
       "[<matplotlib.axes._subplots.AxesSubplot at 0x7f4a123aa128>,\n",
       " <matplotlib.axes._subplots.AxesSubplot at 0x7f4a12308da0>,\n",
       " <matplotlib.axes._subplots.AxesSubplot at 0x7f4a11e4a278>]"
      ]
     },
     "execution_count": 59,
     "metadata": {},
     "output_type": "execute_result"
    },
    {
     "data": {
      "image/png": "[encoded data removed]",
      "text/plain": [
       "<Figure size 432x288 with 3 Axes>"
      ]
     },
     "metadata": {
      "needs_background": "light"
     },
     "output_type": "display_data"
    }
   ],
   "source": [
    "fig = plt.figure()\n",
    "gs = GridSpec(1, 1)\n",
    "plot_pred_odour(fig, gs[0], all_pred_models_true, all_pred_models_pred, fit_indexes_pred_odour[1:-1])"
   ]
  },
  {
   "cell_type": "code",
   "execution_count": 49,
   "metadata": {},
   "outputs": [
    {
     "name": "stdout",
     "output_type": "stream",
     "text": [
      "130\n"
     ]
    }
   ],
   "source": [
    "print(len(pred_models_true1))"
   ]
  },
  {
   "cell_type": "code",
   "execution_count": 53,
   "metadata": {},
   "outputs": [],
   "source": [
    "def pred_other_odour(model1, model2, model3, unit_usrt, ui, pred_trial = -1, ratio_schema = 'pred_trial', include_t=False):\n",
    "    full_array = em.trial_arrays['diff_array']\n",
    "    if ratio_schema == 'pred_trial':\n",
    "        ratio_w1 = model1.true_resp[-1]/((model1.true_resp[-1]+model2.true_resp[-1]))\n",
    "        ratio_w2 = model2.true_resp[-1]/((model1.true_resp[-1]+model2.true_resp[-1]))\n",
    "    elif ratio_schema == 'mean':\n",
    "        ratio_w1 = np.mean(model1.true_resp)/((np.mean(model1.true_resp)+np.mean(model2.true_resp)))\n",
    "        ratio_w2 = np.mean(model2.true_resp)/((np.mean(model1.true_resp)+np.mean(model2.true_resp)))\n",
    "    elif ratio_schema == 'max':\n",
    "        if model1.true_resp[-1] > model2.true_resp[-1]:\n",
    "            ratio_w1 = 1\n",
    "            ratio_w2 = 0\n",
    "        else:\n",
    "            ratio_w1 = 0\n",
    "            ratio_w2 = 1\n",
    "    if not include_t:\n",
    "        pred_ws = model1.opt_out.x[:-1]*ratio_w1 + model2.opt_out.x[:-1]*ratio_w2\n",
    "        avg_thresh = (model1.opt_out.x[-1] + model2.opt_out.x[-1])/2\n",
    "        pred_out = pred_ws @ full_array[pred_trial]\n",
    "        scale = (np.log(model3.true_resp[pred_trial]) - avg_thresh)/pred_out\n",
    "        pred_ws = scale*pred_ws\n",
    "        pred_ws = list(pred_ws) + [avg_thresh]\n",
    "    else:\n",
    "        pred_ws = model1.opt_out.x*ratio_w1 + model2.opt_out.x*ratio_w2\n",
    "        full_array_1 = np.append(full_array, np.ones((32, 1)), axis=1)\n",
    "        pred_out = pred_ws @ full_array_1[pred_trial]\n",
    "        scale = (np.log(model3.true_resp[pred_trial]))/pred_out\n",
    "        pred_ws = scale*pred_ws\n",
    "    model_test = em.ExponentialCustomTrialArray(unit_usrt, ui, full_array)\n",
    "    model_test.fit(W=pred_ws)\n",
    "    return model_test"
   ]
  },
  {
   "cell_type": "code",
   "execution_count": 55,
   "metadata": {},
   "outputs": [
    {
     "name": "stderr",
     "output_type": "stream",
     "text": [
      "                                                 \r"
     ]
    }
   ],
   "source": [
    "pred_scores1 = []\n",
    "pred_scores2 = []\n",
    "pred_scores3 = []\n",
    "\n",
    "pred_models1 = []\n",
    "pred_models2 = []\n",
    "pred_models3 = []\n",
    "for ui in tqdm(good_indexes, position=0, leave=False):\n",
    "    model_test = pred_other_odour(full_models2[ui], full_models3[ui], full_models1[ui], unit_usrt1, ui, include_t=True)\n",
    "    pred_scores1.append(model_test.fit_score)\n",
    "    pred_models1.append(model_test)\n",
    "    model_test = pred_other_odour(full_models1[ui], full_models3[ui], full_models2[ui], unit_usrt2, ui, include_t=True)\n",
    "    pred_scores2.append(model_test.fit_score)\n",
    "    pred_models2.append(model_test)\n",
    "    model_test = pred_other_odour(full_models2[ui], full_models1[ui], full_models3[ui], unit_usrt3, ui, include_t=True)\n",
    "    pred_scores3.append(model_test.fit_score)\n",
    "    pred_models3.append(model_test)"
   ]
  },
  {
   "cell_type": "code",
   "execution_count": 56,
   "metadata": {},
   "outputs": [],
   "source": [
    "pred_models_pred1 = [i.pred_resp for i in pred_models1]\n",
    "pred_models_pred2 = [i.pred_resp for i in pred_models2]\n",
    "pred_models_pred3 = [i.pred_resp for i in pred_models3]\n",
    "\n",
    "pred_models_true1 = [i.true_resp for i in pred_models1]\n",
    "pred_models_true2 = [i.true_resp for i in pred_models2]\n",
    "pred_models_true3 = [i.true_resp for i in pred_models3]\n",
    "\n",
    "all_pred_models_pred = np.concatenate([pred_models_pred1, pred_models_pred2, pred_models_pred3])\n",
    "all_pred_models_true = np.concatenate([pred_models_true1, pred_models_true2, pred_models_true3])"
   ]
  },
  {
   "cell_type": "code",
   "execution_count": 57,
   "metadata": {},
   "outputs": [
    {
     "data": {
      "text/plain": [
       "[<matplotlib.lines.Line2D at 0x7f4a1467aeb8>]"
      ]
     },
     "execution_count": 57,
     "metadata": {},
     "output_type": "execute_result"
    },
    {
     "data": {
      "image/png": "[encoded data removed]",
      "text/plain": [
       "<Figure size 432x288 with 1 Axes>"
      ]
     },
     "metadata": {
      "needs_background": "light"
     },
     "output_type": "display_data"
    }
   ],
   "source": [
    "plt.plot(pred_models1[0].pred_resp)\n",
    "plt.plot(pred_models1[0].true_resp)"
   ]
  },
  {
   "cell_type": "code",
   "execution_count": 37,
   "metadata": {},
   "outputs": [
    {
     "name": "stdout",
     "output_type": "stream",
     "text": [
      "32\n",
      "32\n"
     ]
    }
   ],
   "source": [
    "print(len(pred_models_true1[0]))\n",
    "print(len(pred_models_pred1[0]))"
   ]
  },
  {
   "cell_type": "code",
   "execution_count": 39,
   "metadata": {},
   "outputs": [
    {
     "ename": "ValueError",
     "evalue": "The lengths of the data (1) and the error 2 do not match",
     "output_type": "error",
     "traceback": [
      "\u001b[0;31m---------------------------------------------------------------------------\u001b[0m",
      "\u001b[0;31mValueError\u001b[0m                                Traceback (most recent call last)",
      "\u001b[0;32m<ipython-input-39-111e941c873c>\u001b[0m in \u001b[0;36m<module>\u001b[0;34m()\u001b[0m\n\u001b[1;32m      1\u001b[0m \u001b[0mfig\u001b[0m \u001b[0;34m=\u001b[0m \u001b[0mplt\u001b[0m\u001b[0;34m.\u001b[0m\u001b[0mfigure\u001b[0m\u001b[0;34m(\u001b[0m\u001b[0;34m)\u001b[0m\u001b[0;34m\u001b[0m\u001b[0;34m\u001b[0m\u001b[0m\n\u001b[1;32m      2\u001b[0m \u001b[0max\u001b[0m \u001b[0;34m=\u001b[0m \u001b[0mfig\u001b[0m\u001b[0;34m.\u001b[0m\u001b[0madd_subplot\u001b[0m\u001b[0;34m(\u001b[0m\u001b[0;36m111\u001b[0m\u001b[0;34m)\u001b[0m\u001b[0;34m\u001b[0m\u001b[0;34m\u001b[0m\u001b[0m\n\u001b[0;32m----> 3\u001b[0;31m \u001b[0mplot_fit\u001b[0m\u001b[0;34m(\u001b[0m\u001b[0max\u001b[0m\u001b[0;34m,\u001b[0m \u001b[0mpred_models_pred1\u001b[0m\u001b[0;34m[\u001b[0m\u001b[0;36m0\u001b[0m\u001b[0;34m]\u001b[0m\u001b[0;34m,\u001b[0m \u001b[0mpred_models_true1\u001b[0m\u001b[0;34m[\u001b[0m\u001b[0;36m0\u001b[0m\u001b[0;34m]\u001b[0m\u001b[0;34m)\u001b[0m\u001b[0;34m\u001b[0m\u001b[0;34m\u001b[0m\u001b[0m\n\u001b[0m",
      "\u001b[0;32m<ipython-input-10-d3e2536a64c3>\u001b[0m in \u001b[0;36mplot_fit\u001b[0;34m(ax, vals, label)\u001b[0m\n\u001b[1;32m     26\u001b[0m     \u001b[0mmaxs\u001b[0m \u001b[0;34m=\u001b[0m \u001b[0mnp\u001b[0m\u001b[0;34m.\u001b[0m\u001b[0mmax\u001b[0m\u001b[0;34m(\u001b[0m\u001b[0mvals\u001b[0m\u001b[0;34m,\u001b[0m \u001b[0maxis\u001b[0m\u001b[0;34m=\u001b[0m\u001b[0;36m0\u001b[0m\u001b[0;34m)\u001b[0m \u001b[0;34m-\u001b[0m \u001b[0mnp\u001b[0m\u001b[0;34m.\u001b[0m\u001b[0mmean\u001b[0m\u001b[0;34m(\u001b[0m\u001b[0mvals\u001b[0m\u001b[0;34m,\u001b[0m \u001b[0maxis\u001b[0m\u001b[0;34m=\u001b[0m\u001b[0;36m0\u001b[0m\u001b[0;34m)\u001b[0m\u001b[0;34m\u001b[0m\u001b[0;34m\u001b[0m\u001b[0m\n\u001b[1;32m     27\u001b[0m \u001b[0;34m\u001b[0m\u001b[0m\n\u001b[0;32m---> 28\u001b[0;31m     \u001b[0max\u001b[0m\u001b[0;34m.\u001b[0m\u001b[0merrorbar\u001b[0m\u001b[0;34m(\u001b[0m\u001b[0mrange\u001b[0m\u001b[0;34m(\u001b[0m\u001b[0;36m32\u001b[0m\u001b[0;34m)\u001b[0m\u001b[0;34m,\u001b[0m \u001b[0mnp\u001b[0m\u001b[0;34m.\u001b[0m\u001b[0mmean\u001b[0m\u001b[0;34m(\u001b[0m\u001b[0mvals\u001b[0m\u001b[0;34m,\u001b[0m \u001b[0maxis\u001b[0m\u001b[0;34m=\u001b[0m\u001b[0;36m0\u001b[0m\u001b[0;34m)\u001b[0m\u001b[0;34m,\u001b[0m \u001b[0myerr\u001b[0m\u001b[0;34m=\u001b[0m\u001b[0;34m(\u001b[0m\u001b[0mmins\u001b[0m\u001b[0;34m,\u001b[0m \u001b[0mmaxs\u001b[0m\u001b[0;34m)\u001b[0m\u001b[0;34m,\u001b[0m \u001b[0mfmt\u001b[0m\u001b[0;34m=\u001b[0m\u001b[0;34m'o'\u001b[0m\u001b[0;34m,\u001b[0m \u001b[0mlabel\u001b[0m\u001b[0;34m=\u001b[0m\u001b[0mlabel\u001b[0m\u001b[0;34m,\u001b[0m \u001b[0mmarkersize\u001b[0m\u001b[0;34m=\u001b[0m\u001b[0;36m3\u001b[0m\u001b[0;34m,\u001b[0m \u001b[0mlinewidth\u001b[0m\u001b[0;34m=\u001b[0m\u001b[0;36m1\u001b[0m\u001b[0;34m)\u001b[0m\u001b[0;34m\u001b[0m\u001b[0;34m\u001b[0m\u001b[0m\n\u001b[0m\u001b[1;32m     29\u001b[0m     \u001b[0;32mreturn\u001b[0m \u001b[0max\u001b[0m\u001b[0;34m\u001b[0m\u001b[0;34m\u001b[0m\u001b[0m\n",
      "\u001b[0;32m/camp/home/warnert/.conda/envs/blip_manu/lib/python3.7/site-packages/matplotlib/__init__.py\u001b[0m in \u001b[0;36minner\u001b[0;34m(ax, data, *args, **kwargs)\u001b[0m\n\u001b[1;32m   1599\u001b[0m     \u001b[0;32mdef\u001b[0m \u001b[0minner\u001b[0m\u001b[0;34m(\u001b[0m\u001b[0max\u001b[0m\u001b[0;34m,\u001b[0m \u001b[0;34m*\u001b[0m\u001b[0margs\u001b[0m\u001b[0;34m,\u001b[0m \u001b[0mdata\u001b[0m\u001b[0;34m=\u001b[0m\u001b[0;32mNone\u001b[0m\u001b[0;34m,\u001b[0m \u001b[0;34m**\u001b[0m\u001b[0mkwargs\u001b[0m\u001b[0;34m)\u001b[0m\u001b[0;34m:\u001b[0m\u001b[0;34m\u001b[0m\u001b[0;34m\u001b[0m\u001b[0m\n\u001b[1;32m   1600\u001b[0m         \u001b[0;32mif\u001b[0m \u001b[0mdata\u001b[0m \u001b[0;32mis\u001b[0m \u001b[0;32mNone\u001b[0m\u001b[0;34m:\u001b[0m\u001b[0;34m\u001b[0m\u001b[0;34m\u001b[0m\u001b[0m\n\u001b[0;32m-> 1601\u001b[0;31m             \u001b[0;32mreturn\u001b[0m \u001b[0mfunc\u001b[0m\u001b[0;34m(\u001b[0m\u001b[0max\u001b[0m\u001b[0;34m,\u001b[0m \u001b[0;34m*\u001b[0m\u001b[0mmap\u001b[0m\u001b[0;34m(\u001b[0m\u001b[0msanitize_sequence\u001b[0m\u001b[0;34m,\u001b[0m \u001b[0margs\u001b[0m\u001b[0;34m)\u001b[0m\u001b[0;34m,\u001b[0m \u001b[0;34m**\u001b[0m\u001b[0mkwargs\u001b[0m\u001b[0;34m)\u001b[0m\u001b[0;34m\u001b[0m\u001b[0;34m\u001b[0m\u001b[0m\n\u001b[0m\u001b[1;32m   1602\u001b[0m \u001b[0;34m\u001b[0m\u001b[0m\n\u001b[1;32m   1603\u001b[0m         \u001b[0mbound\u001b[0m \u001b[0;34m=\u001b[0m \u001b[0mnew_sig\u001b[0m\u001b[0;34m.\u001b[0m\u001b[0mbind\u001b[0m\u001b[0;34m(\u001b[0m\u001b[0max\u001b[0m\u001b[0;34m,\u001b[0m \u001b[0;34m*\u001b[0m\u001b[0margs\u001b[0m\u001b[0;34m,\u001b[0m \u001b[0;34m**\u001b[0m\u001b[0mkwargs\u001b[0m\u001b[0;34m)\u001b[0m\u001b[0;34m\u001b[0m\u001b[0;34m\u001b[0m\u001b[0m\n",
      "\u001b[0;32m/camp/home/warnert/.conda/envs/blip_manu/lib/python3.7/site-packages/matplotlib/axes/_axes.py\u001b[0m in \u001b[0;36merrorbar\u001b[0;34m(self, x, y, yerr, xerr, fmt, ecolor, elinewidth, capsize, barsabove, lolims, uplims, xlolims, xuplims, errorevery, capthick, **kwargs)\u001b[0m\n\u001b[1;32m   3422\u001b[0m \u001b[0;34m\u001b[0m\u001b[0m\n\u001b[1;32m   3423\u001b[0m         \u001b[0;32mif\u001b[0m \u001b[0myerr\u001b[0m \u001b[0;32mis\u001b[0m \u001b[0;32mnot\u001b[0m \u001b[0;32mNone\u001b[0m\u001b[0;34m:\u001b[0m\u001b[0;34m\u001b[0m\u001b[0;34m\u001b[0m\u001b[0m\n\u001b[0;32m-> 3424\u001b[0;31m             \u001b[0mlower\u001b[0m\u001b[0;34m,\u001b[0m \u001b[0mupper\u001b[0m \u001b[0;34m=\u001b[0m \u001b[0mextract_err\u001b[0m\u001b[0;34m(\u001b[0m\u001b[0myerr\u001b[0m\u001b[0;34m,\u001b[0m \u001b[0my\u001b[0m\u001b[0;34m)\u001b[0m\u001b[0;34m\u001b[0m\u001b[0;34m\u001b[0m\u001b[0m\n\u001b[0m\u001b[1;32m   3425\u001b[0m             \u001b[0;31m# select points without upper/lower limits in y and\u001b[0m\u001b[0;34m\u001b[0m\u001b[0;34m\u001b[0m\u001b[0;34m\u001b[0m\u001b[0m\n\u001b[1;32m   3426\u001b[0m             \u001b[0;31m# draw normal errorbars for these points\u001b[0m\u001b[0;34m\u001b[0m\u001b[0;34m\u001b[0m\u001b[0;34m\u001b[0m\u001b[0m\n",
      "\u001b[0;32m/camp/home/warnert/.conda/envs/blip_manu/lib/python3.7/site-packages/matplotlib/axes/_axes.py\u001b[0m in \u001b[0;36mextract_err\u001b[0;34m(err, data)\u001b[0m\n\u001b[1;32m   3366\u001b[0m                 \u001b[0;32mif\u001b[0m \u001b[0mlen\u001b[0m\u001b[0;34m(\u001b[0m\u001b[0mdata\u001b[0m\u001b[0;34m)\u001b[0m \u001b[0;34m!=\u001b[0m \u001b[0mlen\u001b[0m\u001b[0;34m(\u001b[0m\u001b[0me\u001b[0m\u001b[0;34m)\u001b[0m\u001b[0;34m:\u001b[0m\u001b[0;34m\u001b[0m\u001b[0;34m\u001b[0m\u001b[0m\n\u001b[1;32m   3367\u001b[0m                     raise ValueError(\n\u001b[0;32m-> 3368\u001b[0;31m                         \u001b[0;34mf\"The lengths of the data ({len(data)}) and the \"\u001b[0m\u001b[0;34m\u001b[0m\u001b[0;34m\u001b[0m\u001b[0m\n\u001b[0m\u001b[1;32m   3369\u001b[0m                         f\"error {len(e)} do not match\")\n\u001b[1;32m   3370\u001b[0m             \u001b[0mlow\u001b[0m \u001b[0;34m=\u001b[0m \u001b[0;34m[\u001b[0m\u001b[0mv\u001b[0m \u001b[0;34m-\u001b[0m \u001b[0me\u001b[0m \u001b[0;32mfor\u001b[0m \u001b[0mv\u001b[0m\u001b[0;34m,\u001b[0m \u001b[0me\u001b[0m \u001b[0;32min\u001b[0m \u001b[0mzip\u001b[0m\u001b[0;34m(\u001b[0m\u001b[0mdata\u001b[0m\u001b[0;34m,\u001b[0m \u001b[0ma\u001b[0m\u001b[0;34m)\u001b[0m\u001b[0;34m]\u001b[0m\u001b[0;34m\u001b[0m\u001b[0;34m\u001b[0m\u001b[0m\n",
      "\u001b[0;31mValueError\u001b[0m: The lengths of the data (1) and the error 2 do not match"
     ]
    },
    {
     "data": {
      "image/png": "[encoded data removed]",
      "text/plain": [
       "<Figure size 432x288 with 1 Axes>"
      ]
     },
     "metadata": {
      "needs_background": "light"
     },
     "output_type": "display_data"
    }
   ],
   "source": [
    "fig = plt.figure()\n",
    "ax = fig.add_subplot(111)\n",
    "plot_fit(ax, pred_models_pred1[0], pred_models_true1[0])"
   ]
  },
  {
   "cell_type": "code",
   "execution_count": 42,
   "metadata": {},
   "outputs": [
    {
     "data": {
      "text/plain": [
       "[<matplotlib.lines.Line2D at 0x7f4af8f2fc18>]"
      ]
     },
     "execution_count": 42,
     "metadata": {},
     "output_type": "execute_result"
    },
    {
     "data": {
      "image/png": "[encoded data removed]",
      "text/plain": [
       "<Figure size 432x288 with 1 Axes>"
      ]
     },
     "metadata": {
      "needs_background": "light"
     },
     "output_type": "display_data"
    }
   ],
   "source": [
    "plt.plot(pred_models_pred1[fit_indexes[1]])\n",
    "plt.plot(pred_models_true1[fit_indexes[1]])"
   ]
  },
  {
   "cell_type": "code",
   "execution_count": 32,
   "metadata": {},
   "outputs": [
    {
     "ename": "ValueError",
     "evalue": "The lengths of the data (1) and the error 2 do not match",
     "output_type": "error",
     "traceback": [
      "\u001b[0;31m---------------------------------------------------------------------------\u001b[0m",
      "\u001b[0;31mValueError\u001b[0m                                Traceback (most recent call last)",
      "\u001b[0;32m<ipython-input-32-a9b75afa64e6>\u001b[0m in \u001b[0;36m<module>\u001b[0;34m()\u001b[0m\n\u001b[1;32m      1\u001b[0m \u001b[0mfig\u001b[0m \u001b[0;34m=\u001b[0m \u001b[0mplt\u001b[0m\u001b[0;34m.\u001b[0m\u001b[0mfigure\u001b[0m\u001b[0;34m(\u001b[0m\u001b[0;34m)\u001b[0m\u001b[0;34m\u001b[0m\u001b[0;34m\u001b[0m\u001b[0m\n\u001b[1;32m      2\u001b[0m \u001b[0mgs\u001b[0m \u001b[0;34m=\u001b[0m \u001b[0mGridSpec\u001b[0m\u001b[0;34m(\u001b[0m\u001b[0;36m1\u001b[0m\u001b[0;34m,\u001b[0m \u001b[0;36m1\u001b[0m\u001b[0;34m)\u001b[0m\u001b[0;34m\u001b[0m\u001b[0;34m\u001b[0m\u001b[0m\n\u001b[0;32m----> 3\u001b[0;31m \u001b[0mplot_axes\u001b[0m \u001b[0;34m=\u001b[0m \u001b[0mplot_fits\u001b[0m\u001b[0;34m(\u001b[0m\u001b[0mfig\u001b[0m\u001b[0;34m,\u001b[0m \u001b[0mgs\u001b[0m\u001b[0;34m[\u001b[0m\u001b[0;36m0\u001b[0m\u001b[0;34m]\u001b[0m\u001b[0;34m,\u001b[0m \u001b[0mpred_models_true1\u001b[0m\u001b[0;34m,\u001b[0m \u001b[0mpred_models_pred1\u001b[0m\u001b[0;34m,\u001b[0m \u001b[0mfit_indexes\u001b[0m\u001b[0;34m[\u001b[0m\u001b[0;36m1\u001b[0m\u001b[0;34m:\u001b[0m\u001b[0;34m-\u001b[0m\u001b[0;36m1\u001b[0m\u001b[0;34m]\u001b[0m\u001b[0;34m)\u001b[0m\u001b[0;34m\u001b[0m\u001b[0;34m\u001b[0m\u001b[0m\n\u001b[0m",
      "\u001b[0;32m<ipython-input-10-d3e2536a64c3>\u001b[0m in \u001b[0;36mplot_fits\u001b[0;34m(fig, gs, true_vals, pred_vals, chosen_indexes, hor, legend_ax_index)\u001b[0m\n\u001b[1;32m     12\u001b[0m         \u001b[0;32melse\u001b[0m\u001b[0;34m:\u001b[0m\u001b[0;34m\u001b[0m\u001b[0;34m\u001b[0m\u001b[0m\n\u001b[1;32m     13\u001b[0m             \u001b[0max\u001b[0m \u001b[0;34m=\u001b[0m \u001b[0mfig\u001b[0m\u001b[0;34m.\u001b[0m\u001b[0madd_subplot\u001b[0m\u001b[0;34m(\u001b[0m\u001b[0msubgs\u001b[0m\u001b[0;34m[\u001b[0m\u001b[0max_i\u001b[0m\u001b[0;34m]\u001b[0m\u001b[0;34m)\u001b[0m\u001b[0;34m\u001b[0m\u001b[0;34m\u001b[0m\u001b[0m\n\u001b[0;32m---> 14\u001b[0;31m         \u001b[0max\u001b[0m \u001b[0;34m=\u001b[0m \u001b[0mplot_fit\u001b[0m\u001b[0;34m(\u001b[0m\u001b[0max\u001b[0m\u001b[0;34m,\u001b[0m \u001b[0mtrue_vals\u001b[0m\u001b[0;34m[\u001b[0m\u001b[0mindex\u001b[0m\u001b[0;34m]\u001b[0m\u001b[0;34m,\u001b[0m \u001b[0mlabel\u001b[0m\u001b[0;34m=\u001b[0m\u001b[0;34m'True'\u001b[0m\u001b[0;34m)\u001b[0m\u001b[0;34m\u001b[0m\u001b[0;34m\u001b[0m\u001b[0m\n\u001b[0m\u001b[1;32m     15\u001b[0m         \u001b[0max\u001b[0m \u001b[0;34m=\u001b[0m \u001b[0mplot_fit\u001b[0m\u001b[0;34m(\u001b[0m\u001b[0max\u001b[0m\u001b[0;34m,\u001b[0m \u001b[0mpred_vals\u001b[0m\u001b[0;34m[\u001b[0m\u001b[0mindex\u001b[0m\u001b[0;34m]\u001b[0m\u001b[0;34m,\u001b[0m \u001b[0mlabel\u001b[0m\u001b[0;34m=\u001b[0m\u001b[0;34m'Prediction'\u001b[0m\u001b[0;34m)\u001b[0m\u001b[0;34m\u001b[0m\u001b[0;34m\u001b[0m\u001b[0m\n\u001b[1;32m     16\u001b[0m         \u001b[0maxs\u001b[0m\u001b[0;34m.\u001b[0m\u001b[0mappend\u001b[0m\u001b[0;34m(\u001b[0m\u001b[0max\u001b[0m\u001b[0;34m)\u001b[0m\u001b[0;34m\u001b[0m\u001b[0;34m\u001b[0m\u001b[0m\n",
      "\u001b[0;32m<ipython-input-10-d3e2536a64c3>\u001b[0m in \u001b[0;36mplot_fit\u001b[0;34m(ax, vals, label)\u001b[0m\n\u001b[1;32m     26\u001b[0m     \u001b[0mmaxs\u001b[0m \u001b[0;34m=\u001b[0m \u001b[0mnp\u001b[0m\u001b[0;34m.\u001b[0m\u001b[0mmax\u001b[0m\u001b[0;34m(\u001b[0m\u001b[0mvals\u001b[0m\u001b[0;34m,\u001b[0m \u001b[0maxis\u001b[0m\u001b[0;34m=\u001b[0m\u001b[0;36m0\u001b[0m\u001b[0;34m)\u001b[0m \u001b[0;34m-\u001b[0m \u001b[0mnp\u001b[0m\u001b[0;34m.\u001b[0m\u001b[0mmean\u001b[0m\u001b[0;34m(\u001b[0m\u001b[0mvals\u001b[0m\u001b[0;34m,\u001b[0m \u001b[0maxis\u001b[0m\u001b[0;34m=\u001b[0m\u001b[0;36m0\u001b[0m\u001b[0;34m)\u001b[0m\u001b[0;34m\u001b[0m\u001b[0;34m\u001b[0m\u001b[0m\n\u001b[1;32m     27\u001b[0m \u001b[0;34m\u001b[0m\u001b[0m\n\u001b[0;32m---> 28\u001b[0;31m     \u001b[0max\u001b[0m\u001b[0;34m.\u001b[0m\u001b[0merrorbar\u001b[0m\u001b[0;34m(\u001b[0m\u001b[0mrange\u001b[0m\u001b[0;34m(\u001b[0m\u001b[0;36m32\u001b[0m\u001b[0;34m)\u001b[0m\u001b[0;34m,\u001b[0m \u001b[0mnp\u001b[0m\u001b[0;34m.\u001b[0m\u001b[0mmean\u001b[0m\u001b[0;34m(\u001b[0m\u001b[0mvals\u001b[0m\u001b[0;34m,\u001b[0m \u001b[0maxis\u001b[0m\u001b[0;34m=\u001b[0m\u001b[0;36m0\u001b[0m\u001b[0;34m)\u001b[0m\u001b[0;34m,\u001b[0m \u001b[0myerr\u001b[0m\u001b[0;34m=\u001b[0m\u001b[0;34m(\u001b[0m\u001b[0mmins\u001b[0m\u001b[0;34m,\u001b[0m \u001b[0mmaxs\u001b[0m\u001b[0;34m)\u001b[0m\u001b[0;34m,\u001b[0m \u001b[0mfmt\u001b[0m\u001b[0;34m=\u001b[0m\u001b[0;34m'o'\u001b[0m\u001b[0;34m,\u001b[0m \u001b[0mlabel\u001b[0m\u001b[0;34m=\u001b[0m\u001b[0mlabel\u001b[0m\u001b[0;34m,\u001b[0m \u001b[0mmarkersize\u001b[0m\u001b[0;34m=\u001b[0m\u001b[0;36m3\u001b[0m\u001b[0;34m,\u001b[0m \u001b[0mlinewidth\u001b[0m\u001b[0;34m=\u001b[0m\u001b[0;36m1\u001b[0m\u001b[0;34m)\u001b[0m\u001b[0;34m\u001b[0m\u001b[0;34m\u001b[0m\u001b[0m\n\u001b[0m\u001b[1;32m     29\u001b[0m     \u001b[0;32mreturn\u001b[0m \u001b[0max\u001b[0m\u001b[0;34m\u001b[0m\u001b[0;34m\u001b[0m\u001b[0m\n",
      "\u001b[0;32m/camp/home/warnert/.conda/envs/blip_manu/lib/python3.7/site-packages/matplotlib/__init__.py\u001b[0m in \u001b[0;36minner\u001b[0;34m(ax, data, *args, **kwargs)\u001b[0m\n\u001b[1;32m   1599\u001b[0m     \u001b[0;32mdef\u001b[0m \u001b[0minner\u001b[0m\u001b[0;34m(\u001b[0m\u001b[0max\u001b[0m\u001b[0;34m,\u001b[0m \u001b[0;34m*\u001b[0m\u001b[0margs\u001b[0m\u001b[0;34m,\u001b[0m \u001b[0mdata\u001b[0m\u001b[0;34m=\u001b[0m\u001b[0;32mNone\u001b[0m\u001b[0;34m,\u001b[0m \u001b[0;34m**\u001b[0m\u001b[0mkwargs\u001b[0m\u001b[0;34m)\u001b[0m\u001b[0;34m:\u001b[0m\u001b[0;34m\u001b[0m\u001b[0;34m\u001b[0m\u001b[0m\n\u001b[1;32m   1600\u001b[0m         \u001b[0;32mif\u001b[0m \u001b[0mdata\u001b[0m \u001b[0;32mis\u001b[0m \u001b[0;32mNone\u001b[0m\u001b[0;34m:\u001b[0m\u001b[0;34m\u001b[0m\u001b[0;34m\u001b[0m\u001b[0m\n\u001b[0;32m-> 1601\u001b[0;31m             \u001b[0;32mreturn\u001b[0m \u001b[0mfunc\u001b[0m\u001b[0;34m(\u001b[0m\u001b[0max\u001b[0m\u001b[0;34m,\u001b[0m \u001b[0;34m*\u001b[0m\u001b[0mmap\u001b[0m\u001b[0;34m(\u001b[0m\u001b[0msanitize_sequence\u001b[0m\u001b[0;34m,\u001b[0m \u001b[0margs\u001b[0m\u001b[0;34m)\u001b[0m\u001b[0;34m,\u001b[0m \u001b[0;34m**\u001b[0m\u001b[0mkwargs\u001b[0m\u001b[0;34m)\u001b[0m\u001b[0;34m\u001b[0m\u001b[0;34m\u001b[0m\u001b[0m\n\u001b[0m\u001b[1;32m   1602\u001b[0m \u001b[0;34m\u001b[0m\u001b[0m\n\u001b[1;32m   1603\u001b[0m         \u001b[0mbound\u001b[0m \u001b[0;34m=\u001b[0m \u001b[0mnew_sig\u001b[0m\u001b[0;34m.\u001b[0m\u001b[0mbind\u001b[0m\u001b[0;34m(\u001b[0m\u001b[0max\u001b[0m\u001b[0;34m,\u001b[0m \u001b[0;34m*\u001b[0m\u001b[0margs\u001b[0m\u001b[0;34m,\u001b[0m \u001b[0;34m**\u001b[0m\u001b[0mkwargs\u001b[0m\u001b[0;34m)\u001b[0m\u001b[0;34m\u001b[0m\u001b[0;34m\u001b[0m\u001b[0m\n",
      "\u001b[0;32m/camp/home/warnert/.conda/envs/blip_manu/lib/python3.7/site-packages/matplotlib/axes/_axes.py\u001b[0m in \u001b[0;36merrorbar\u001b[0;34m(self, x, y, yerr, xerr, fmt, ecolor, elinewidth, capsize, barsabove, lolims, uplims, xlolims, xuplims, errorevery, capthick, **kwargs)\u001b[0m\n\u001b[1;32m   3422\u001b[0m \u001b[0;34m\u001b[0m\u001b[0m\n\u001b[1;32m   3423\u001b[0m         \u001b[0;32mif\u001b[0m \u001b[0myerr\u001b[0m \u001b[0;32mis\u001b[0m \u001b[0;32mnot\u001b[0m \u001b[0;32mNone\u001b[0m\u001b[0;34m:\u001b[0m\u001b[0;34m\u001b[0m\u001b[0;34m\u001b[0m\u001b[0m\n\u001b[0;32m-> 3424\u001b[0;31m             \u001b[0mlower\u001b[0m\u001b[0;34m,\u001b[0m \u001b[0mupper\u001b[0m \u001b[0;34m=\u001b[0m \u001b[0mextract_err\u001b[0m\u001b[0;34m(\u001b[0m\u001b[0myerr\u001b[0m\u001b[0;34m,\u001b[0m \u001b[0my\u001b[0m\u001b[0;34m)\u001b[0m\u001b[0;34m\u001b[0m\u001b[0;34m\u001b[0m\u001b[0m\n\u001b[0m\u001b[1;32m   3425\u001b[0m             \u001b[0;31m# select points without upper/lower limits in y and\u001b[0m\u001b[0;34m\u001b[0m\u001b[0;34m\u001b[0m\u001b[0;34m\u001b[0m\u001b[0m\n\u001b[1;32m   3426\u001b[0m             \u001b[0;31m# draw normal errorbars for these points\u001b[0m\u001b[0;34m\u001b[0m\u001b[0;34m\u001b[0m\u001b[0;34m\u001b[0m\u001b[0m\n",
      "\u001b[0;32m/camp/home/warnert/.conda/envs/blip_manu/lib/python3.7/site-packages/matplotlib/axes/_axes.py\u001b[0m in \u001b[0;36mextract_err\u001b[0;34m(err, data)\u001b[0m\n\u001b[1;32m   3366\u001b[0m                 \u001b[0;32mif\u001b[0m \u001b[0mlen\u001b[0m\u001b[0;34m(\u001b[0m\u001b[0mdata\u001b[0m\u001b[0;34m)\u001b[0m \u001b[0;34m!=\u001b[0m \u001b[0mlen\u001b[0m\u001b[0;34m(\u001b[0m\u001b[0me\u001b[0m\u001b[0;34m)\u001b[0m\u001b[0;34m:\u001b[0m\u001b[0;34m\u001b[0m\u001b[0;34m\u001b[0m\u001b[0m\n\u001b[1;32m   3367\u001b[0m                     raise ValueError(\n\u001b[0;32m-> 3368\u001b[0;31m                         \u001b[0;34mf\"The lengths of the data ({len(data)}) and the \"\u001b[0m\u001b[0;34m\u001b[0m\u001b[0;34m\u001b[0m\u001b[0m\n\u001b[0m\u001b[1;32m   3369\u001b[0m                         f\"error {len(e)} do not match\")\n\u001b[1;32m   3370\u001b[0m             \u001b[0mlow\u001b[0m \u001b[0;34m=\u001b[0m \u001b[0;34m[\u001b[0m\u001b[0mv\u001b[0m \u001b[0;34m-\u001b[0m \u001b[0me\u001b[0m \u001b[0;32mfor\u001b[0m \u001b[0mv\u001b[0m\u001b[0;34m,\u001b[0m \u001b[0me\u001b[0m \u001b[0;32min\u001b[0m \u001b[0mzip\u001b[0m\u001b[0;34m(\u001b[0m\u001b[0mdata\u001b[0m\u001b[0;34m,\u001b[0m \u001b[0ma\u001b[0m\u001b[0;34m)\u001b[0m\u001b[0;34m]\u001b[0m\u001b[0;34m\u001b[0m\u001b[0;34m\u001b[0m\u001b[0m\n",
      "\u001b[0;31mValueError\u001b[0m: The lengths of the data (1) and the error 2 do not match"
     ]
    },
    {
     "data": {
      "image/png": "[encoded data removed]",
      "text/plain": [
       "<Figure size 432x288 with 1 Axes>"
      ]
     },
     "metadata": {
      "needs_background": "light"
     },
     "output_type": "display_data"
    }
   ],
   "source": [
    "fig = plt.figure()\n",
    "gs = GridSpec(1, 1)\n",
    "plot_axes = plot_fits(fig, gs[0], pred_models_true1, pred_models_pred1, fit_indexes[1:-1])"
   ]
  },
  {
   "cell_type": "code",
   "execution_count": 32,
   "metadata": {},
   "outputs": [],
   "source": [
    "all_pred_scores = np.concatenate([pred_scores1, pred_scores2, pred_scores3])"
   ]
  },
  {
   "cell_type": "code",
   "execution_count": 33,
   "metadata": {},
   "outputs": [],
   "source": [
    "worse_fit = np.where(all_pred_scores == np.max(all_pred_scores))[0][0]\n",
    "percentile25 = np.where(all_pred_scores == np.percentile(all_pred_scores, 25, interpolation='nearest'))[0][0]\n",
    "median = np.where(all_pred_scores == np.percentile(all_pred_scores, 50, interpolation='nearest'))[0][0]\n",
    "percentile75 = np.where(all_pred_scores == np.percentile(all_pred_scores, 75, interpolation='nearest'))[0][0]\n",
    "best_fit = np.where(all_pred_scores == np.min(all_pred_scores))[0][0]\n",
    "best_fit = np.argsort(all_pred_scores)[0]\n",
    "fit_indexes_pred_odour = [best_fit, percentile25, median, percentile75, worse_fit]\n",
    "fit_index_values_pred_odour = [np.log(all_pred_scores[i]) for i in fit_indexes_pred_odour]"
   ]
  },
  {
   "cell_type": "code",
   "execution_count": null,
   "metadata": {},
   "outputs": [],
   "source": []
  },
  {
   "cell_type": "code",
   "execution_count": 29,
   "metadata": {},
   "outputs": [
    {
     "name": "stdout",
     "output_type": "stream",
     "text": [
      "(array([], dtype=int64),)\n",
      "0.424203811427461\n",
      "0.4231304895157295\n"
     ]
    }
   ],
   "source": [
    "print(np.where(all_pred_scores == np.median(all_pred_scores)))\n",
    "print(np.median(all_pred_scores, ))\n",
    "print(np.percentile(all_pred_scores, 50, interpolation='nearest'))"
   ]
  },
  {
   "cell_type": "code",
   "execution_count": 50,
   "metadata": {},
   "outputs": [],
   "source": [
    "ui = 30\n",
    "model_test = pred_other_odour(full_models1[ui], full_models2[ui], full_models3[ui], unit_usrt3, ui, include_t=True)"
   ]
  },
  {
   "cell_type": "code",
   "execution_count": 51,
   "metadata": {},
   "outputs": [
    {
     "data": {
      "text/plain": [
       "[<matplotlib.lines.Line2D at 0x7ff6307d5b70>]"
      ]
     },
     "execution_count": 51,
     "metadata": {},
     "output_type": "execute_result"
    },
    {
     "data": {
      "image/png": "[encoded data removed]",
      "text/plain": [
       "<Figure size 432x288 with 1 Axes>"
      ]
     },
     "metadata": {
      "needs_background": "light"
     },
     "output_type": "display_data"
    }
   ],
   "source": [
    "plt.plot(model_test.pred_resp)\n",
    "plt.plot(model_test.true_resp)"
   ]
  },
  {
   "cell_type": "code",
   "execution_count": 71,
   "metadata": {},
   "outputs": [
    {
     "name": "stderr",
     "output_type": "stream",
     "text": [
      "                                                 \r"
     ]
    }
   ],
   "source": [
    "include_t_scores = []\n",
    "exclude_t_scores = []\n",
    "for ui in tqdm(good_indexes, position=0, leave=False):\n",
    "    model_test = pred_other_odour(full_models2[ui], full_models1[ui], full_models3[ui], unit_usrt3, ui, include_t=True)\n",
    "    include_t_scores.append(model_test.fit_score)\n",
    "    model_test = pred_other_odour(full_models2[ui], full_models1[ui], full_models3[ui], unit_usrt3, ui, include_t=False)\n",
    "    exclude_t_scores.append(model_test.fit_score)\n",
    "    "
   ]
  },
  {
   "cell_type": "code",
   "execution_count": 66,
   "metadata": {},
   "outputs": [
    {
     "name": "stdout",
     "output_type": "stream",
     "text": [
      "[  0   1   2   3   4   5   6   7   8   9  10  11  12  13  14  15  18  22\n",
      "  23  24  25  26  27  30  31  32  33  34  35  36  37  38  39  40  41  42\n",
      "  43  44  45  46  47  48  49  50  51  52  55  57  58  59  61  62  63  64\n",
      "  65  66  67  68  69  70  71  72  73  74  75  76  77  78  79  80  81  84\n",
      "  86  87  88  89  90  91  92  93  94  95  96  97  98  99 100 101 102 103\n",
      " 104 106 107 108 109 110 111 112 113 114 115 116 117 118 119 120 121 122\n",
      " 123 124 125 126 127 128 129 130 131 132 133 134 135 136 137 138 139 140\n",
      " 141 142 143 144]\n"
     ]
    }
   ],
   "source": [
    "print(good_indexes)"
   ]
  },
  {
   "cell_type": "code",
   "execution_count": 72,
   "metadata": {},
   "outputs": [
    {
     "data": {
      "text/plain": [
       "{'bodies': [<matplotlib.collections.PolyCollection at 0x7ff62fb9ecc0>,\n",
       "  <matplotlib.collections.PolyCollection at 0x7ff62fb3b438>],\n",
       " 'cmaxes': <matplotlib.collections.LineCollection at 0x7ff62fbafe48>,\n",
       " 'cmins': <matplotlib.collections.LineCollection at 0x7ff62fb3b668>,\n",
       " 'cbars': <matplotlib.collections.LineCollection at 0x7ff62fb3b860>}"
      ]
     },
     "execution_count": 72,
     "metadata": {},
     "output_type": "execute_result"
    },
    {
     "data": {
      "image/png": "[encoded data removed]",
      "text/plain": [
       "<Figure size 432x288 with 1 Axes>"
      ]
     },
     "metadata": {
      "needs_background": "light"
     },
     "output_type": "display_data"
    }
   ],
   "source": [
    "plt.violinplot([np.log(include_t_scores), np.log(exclude_t_scores)])"
   ]
  },
  {
   "cell_type": "code",
   "execution_count": 64,
   "metadata": {},
   "outputs": [
    {
     "name": "stdout",
     "output_type": "stream",
     "text": [
      "[0.17540760236632225, 0.24080763349446632, 0.1451527442561022, 0.7040636799852482, 0.17433909487541405, 0.08485400678051039, 0.2641464974326948, 0.21028979539426537, 0.15796686805973742, 0.2305438727400544, 0.18107802581490412, 0.6598398939022966, 0.1324762330530644, 0.11258788290012875, 0.5114238263095194, 0.21301510895397857, nan, 0.02829140644728327, 0.12269977269725071, nan, nan, 1.366505300989684, 0.21787228111150475, 0.9005457735752609, 0.12362985528018468, 0.09270635300122092, 0.8873968150441296, 0.08900999204070362, 0.11782582006521915, nan, 0.5972383386095943, 0.08568484716440328, 0.06821561180752163, 0.22375958957480363, 0.14470653042987877, 0.31198591774873724, 0.461007942237369, 0.7189013272213785, 1.907227411167164, 7.8962507890905185, 0.23490780993790522, 0.48612279577600354, 0.2833804306798993, 4.821114381067396, 9.848981557884214, 0.5229353818215514, 5.0614095421618135, 71.66244651775393, 0.7545854128690758, 2.241457107465708, 0.7490465525565464, 0.5146789693652514, 0.2907196464295971, 78.59366764691786, 205665443.4347826, 3.5012362078005106, 15081.643274117218, 154.4718827756283, 0.7227852968513446, 0.2142838918715349, 31218.22172295334, 0.6324908030609673, 123.85701481587785, 0.31914680221277186, 0.19577728027474864, 0.41664356328939245, 0.1869513727639378, 0.11588055859519833, 0.09810722958197282, 0.7375376053295782, 0.2557388097110523, 0.4844653822285584, 0.17208755744728219, 0.41074759262022303, 1.7568590735501124, 0.4431288858821865, 0.18835551939365225, 0.2532289624891149, 0.0967679191991826, 0.5808532818805132, 0.17872840967803916, 1.6186448841028458, 0.03601014905841651, 0.08934741397003418, 0.14493608219408474, 0.049120632134769165, 0.6345934180227785, 0.09005536049300761, 0.2508420999744927, 3.174784937675711, 1.169791610534509, 0.1223918306949291, 0.08169739866339654, 0.22345870459474088, 0.30190600267726114, 1.0236947300345687, 0.0822813953885668, 0.09186720020281335, 0.9455737384572267, 0.7712595095782614, 0.4849716627604524, 0.23790941298937002, 0.9891831189780984, 0.4484472363305577, 2.419726317358642, nan, 2.8811153945922303, 0.47491395255760843, 0.6252752811014085, 0.5588554057200249, 0.6033909439944674, 0.5903950237870773, 0.1590802545431973, 1.562491716854545, 0.8534124654221171, 0.26726888920314673, 0.56823675664373, 0.18355664037380104, 1.7056497728722662, 1.101196801866871, 1.9352601831025793, 1.2559937675093944, 0.867369565177978, 0.6238805328327595, 1.1606142652018845, 0.1889126916793013, 1.0090089189902152, 2.490100921584832, 3.3738752413358686, 6.9086878656575585, 2.191639463354495, 1.7478863120717814, 25.353411040938354, 0.8581051523956411, 3.0478739372532244, 0.5542856103960637, 5.984287162016946, 1.6566837900649403, 1.7770500115016261, 0.32735686244787987, 5.127069834437153, 3.5138604819589325, 0.3867717597176149, 0.1737500388774164, 0.3189722400355251]\n"
     ]
    }
   ],
   "source": [
    "print(include_t_scores)"
   ]
  },
  {
   "cell_type": "code",
   "execution_count": 56,
   "metadata": {},
   "outputs": [
    {
     "data": {
      "text/plain": [
       "[<matplotlib.lines.Line2D at 0x7ff62feb9518>]"
      ]
     },
     "execution_count": 56,
     "metadata": {},
     "output_type": "execute_result"
    },
    {
     "data": {
      "image/png": "[encoded data removed]",
      "text/plain": [
       "<Figure size 432x288 with 1 Axes>"
      ]
     },
     "metadata": {
      "needs_background": "light"
     },
     "output_type": "display_data"
    }
   ],
   "source": [
    "plt.scatter(np.log(include_t_scores), np.log(exclude_t_scores))\n",
    "plt.plot(range(15))"
   ]
  },
  {
   "cell_type": "code",
   "execution_count": 58,
   "metadata": {},
   "outputs": [
    {
     "name": "stdout",
     "output_type": "stream",
     "text": [
      "68\n"
     ]
    },
    {
     "name": "stderr",
     "output_type": "stream",
     "text": [
      "/camp/home/warnert/.conda/envs/blip_manu/lib/python3.7/site-packages/ipykernel_launcher.py:1: RuntimeWarning: invalid value encountered in less\n",
      "  \"\"\"Entry point for launching an IPython kernel.\n"
     ]
    }
   ],
   "source": [
    "print(len(np.where(np.log(include_t_scores) < np.log(exclude_t_scores))[0]))"
   ]
  },
  {
   "cell_type": "code",
   "execution_count": null,
   "metadata": {},
   "outputs": [],
   "source": [
    "plt.loglog([np.mean(i.test_scores) for i in cao_models1], [np.mean(i.test_scores) for i in full_models1], '.')"
   ]
  },
  {
   "cell_type": "code",
   "execution_count": null,
   "metadata": {},
   "outputs": [],
   "source": [
    "trial_array_full = np.concatenate([[list(cao_models1[0].trial_array[s])]*len(cao_models1[0].unit_sr[s]) for s in range(len(cao_models1[0].trial_array))])\n",
    "print(trial_array_full)"
   ]
  },
  {
   "cell_type": "code",
   "execution_count": null,
   "metadata": {},
   "outputs": [],
   "source": [
    "plt.imshow(cao_models1[10].test_scores - full_models1[10].test_scores)\n",
    "plt.colorbar()"
   ]
  },
  {
   "cell_type": "code",
   "execution_count": null,
   "metadata": {},
   "outputs": [],
   "source": [
    "full_scores1 = np.array([i.test_scores for i in full_models1])\n",
    "full_scores2 = np.array([i.test_scores for i in full_models2])\n",
    "full_scores3 = np.array([i.test_scores for i in full_models3])\n",
    "\n",
    "cao_scores1 = np.array([i.test_scores for i in cao_models1])\n",
    "cao_scores2 = np.array([i.test_scores for i in cao_models2])\n",
    "cao_scores3 = np.array([i.test_scores for i in cao_models3])"
   ]
  },
  {
   "cell_type": "code",
   "execution_count": null,
   "metadata": {},
   "outputs": [],
   "source": [
    "print(len(np.where(full_scores1.reshape(145, -1).mean(axis=-1) < 1)[0]))\n",
    "print(len(np.where(cao_scores1.reshape(145, -1).mean(axis=-1) < 1)[0]))\n",
    "print(len(np.where(full_scores2.reshape(145, -1).mean(axis=-1) < 1)[0]))\n",
    "print(len(np.where(cao_scores2.reshape(145, -1).mean(axis=-1) < 1)[0]))\n",
    "print(len(np.where(full_scores3.reshape(145, -1).mean(axis=-1) < 1)[0]))\n",
    "print(len(np.where(cao_scores3.reshape(145, -1).mean(axis=-1) < 1)[0]))"
   ]
  },
  {
   "cell_type": "code",
   "execution_count": null,
   "metadata": {},
   "outputs": [],
   "source": [
    "plt.semilogy([np.mean(i.test_scores) for i in cao_models1])\n",
    "plt.semilogy([np.mean(i.test_scores) for i in full_models1])\n"
   ]
  },
  {
   "cell_type": "code",
   "execution_count": null,
   "metadata": {},
   "outputs": [],
   "source": [
    "good_indexes = ba.get_stable_resp_indexes()"
   ]
  },
  {
   "cell_type": "code",
   "execution_count": null,
   "metadata": {},
   "outputs": [],
   "source": [
    "plt.semilogy(np.array([np.mean(i.test_scores) for i in cao_models1])[good_indexes])\n",
    "plt.semilogy(np.array([np.mean(i.test_scores) for i in full_models1])[good_indexes])\n"
   ]
  },
  {
   "cell_type": "code",
   "execution_count": null,
   "metadata": {},
   "outputs": [],
   "source": [
    "plt.semilogy(np.array([np.mean(i.train_scores) for i in cao_models1])[good_indexes])\n",
    "plt.semilogy(np.array([np.mean(i.train_scores) for i in full_models1])[good_indexes])\n"
   ]
  },
  {
   "cell_type": "code",
   "execution_count": null,
   "metadata": {},
   "outputs": [],
   "source": [
    "fig, ax = plt.subplots(1, 2, sharey=True, figsize=(10, 3))\n",
    "ax[1].semilogy(np.array([np.mean(i.test_scores) for i in cao_models1])[good_indexes], label='Cao')\n",
    "ax[1].semilogy(np.array([np.mean(i.test_scores) for i in full_models1])[good_indexes], label='Full')\n",
    "ax[1].legend()\n",
    "ax[0].semilogy(np.array([np.mean(i.train_scores) for i in cao_models1])[good_indexes])\n",
    "ax[0].semilogy(np.array([np.mean(i.train_scores) for i in full_models1])[good_indexes])\n",
    "fig.add_subplot(111, frameon=False)\n",
    "plt.xticks([])\n",
    "plt.yticks([])\n",
    "plt.xlabel('Units', labelpad=15)\n",
    "plt.ylabel('Ln(Error)', labelpad=30)\n",
    "ax[0].set_title('Training scores')\n",
    "ax[1].set_title('Test scores')"
   ]
  },
  {
   "cell_type": "code",
   "execution_count": null,
   "metadata": {},
   "outputs": [],
   "source": [
    "all_fit_scores = []\n",
    "for i in trange(145, leave=False, position=0):\n",
    "    model = deepcopy(full_models1[i])\n",
    "    #print(model.trial_array)\n",
    "\n",
    "    #plt.plot(model.pred_resp)\n",
    "    model.fit()\n",
    "    pre_fits = model.fit_scores()\n",
    "    fit_scores = []\n",
    "    for i in range(32):\n",
    "        pre_fit = pre_fits[i]\n",
    "        witheld_array = np.arange(32)\n",
    "        witheld_array = witheld_array[witheld_array != i]\n",
    "        full_var = model.unit_sr_var\n",
    "        sub_var = full_var[witheld_array]\n",
    "        model.unit_sr_var = sub_var\n",
    "        #print(witheld_array)\n",
    "        sub_true = np.array(model.true_resp)[witheld_array]\n",
    "        sub_full_array = full_array[witheld_array]\n",
    "        model.fit(X=sub_true, y=sub_full_array, update_loss=False)\n",
    "        model.unit_sr_var = full_var\n",
    "        ws = model.opt_out.x\n",
    "        model.fit(W=ws)\n",
    "        #print(model.fit_score)\n",
    "        #plt.plot(model.pred_resp)\n",
    "        fit_scores.append(model.fit_scores()[i]/pre_fit)\n",
    "    all_fit_scores.append(fit_scores)"
   ]
  },
  {
   "cell_type": "code",
   "execution_count": 133,
   "metadata": {},
   "outputs": [],
   "source": [
    "def witheld_trial_pred_error(models):\n",
    "    all_fit_scores = []\n",
    "    for i in trange(len(models), leave=False, position=0):\n",
    "        model = deepcopy(models[i])\n",
    "        model.fit()\n",
    "        pre_fits = model.fit_scores()\n",
    "        fit_scores = []\n",
    "        for i in range(32):\n",
    "            pre_fit = pre_fits[i]\n",
    "            witheld_array = np.arange(32)\n",
    "            witheld_array = witheld_array[witheld_array != i]\n",
    "            full_var = model.unit_sr_var\n",
    "            sub_var = full_var[witheld_array]\n",
    "            model.unit_sr_var = sub_var\n",
    "            #print(witheld_array)\n",
    "            sub_true = np.array(model.true_resp)[witheld_array]\n",
    "            sub_full_array = full_array[witheld_array]\n",
    "            model.fit(X=sub_true, y=sub_full_array, update_loss=False)\n",
    "            model.unit_sr_var = full_var\n",
    "            ws = model.opt_out.x\n",
    "            model.fit(W=ws)\n",
    "            #print(model.fit_score)\n",
    "            #plt.plot(model.pred_resp)\n",
    "            fit_scores.append(model.fit_scores()[i]/pre_fit)\n",
    "        all_fit_scores.append(fit_scores)\n",
    "    return all_fit_scores"
   ]
  },
  {
   "cell_type": "code",
   "execution_count": 134,
   "metadata": {},
   "outputs": [
    {
     "name": "stderr",
     "output_type": "stream",
     "text": [
      "                                                 \r"
     ]
    }
   ],
   "source": [
    "all_fit_errors1 = witheld_trial_pred_error(full_models1)"
   ]
  },
  {
   "cell_type": "code",
   "execution_count": 135,
   "metadata": {},
   "outputs": [
    {
     "name": "stderr",
     "output_type": "stream",
     "text": [
      "                                                 \r"
     ]
    }
   ],
   "source": [
    "all_fit_errors2 = witheld_trial_pred_error(full_models2)\n",
    "all_fit_errors3 = witheld_trial_pred_error(full_models3)"
   ]
  },
  {
   "cell_type": "code",
   "execution_count": null,
   "metadata": {},
   "outputs": [],
   "source": [
    "all_drop_scores = []\n",
    "for i in trange(145, leave=False, position=0):\n",
    "    model = deepcopy(full_models1[i])\n",
    "    \n",
    "    model.fit()\n",
    "    pre_fit = model.fit_score\n",
    "    trial_fit_scores = []\n",
    "    for i in range(1, 32):\n",
    "        fit_scores = []\n",
    "        for j in range(100):\n",
    "            witheld_trials = np.random.choice(range(32), size=i, replace=False)\n",
    "            other_trials = np.arange(32)\n",
    "            other_trials = np.delete(other_trials, witheld_trials)\n",
    "            \n",
    "            full_var = model.unit_sr_var\n",
    "            sub_var = full_var[other_trials]\n",
    "            model.unit_sr_var = sub_var\n",
    "            #print(witheld_array)\n",
    "            sub_true = np.array(model.true_resp)[other_trials]\n",
    "            sub_full_array = full_array[other_trials]\n",
    "            model.fit(X=sub_true, y=sub_full_array, update_loss=False)\n",
    "            model.unit_sr_var = full_var\n",
    "            ws = model.opt_out.x\n",
    "            model.fit(W=ws)\n",
    "            #print(model.fit_score)\n",
    "            #plt.plot(model.pred_resp)\n",
    "            fit_scores.append(model.fit_score)\n",
    "        trial_fit_scores.append(fit_scores/pre_fit)\n",
    "    all_drop_scores.append(trial_fit_scores)"
   ]
  },
  {
   "cell_type": "code",
   "execution_count": null,
   "metadata": {},
   "outputs": [],
   "source": [
    "np.random.seed(10)\n",
    "witheld_trials = np.random.choice(range(32), size=2, replace=False)\n",
    "other_trials = np.arange(32)\n",
    "other_trials = np.delete(other_trials, witheld_trials)\n",
    "print(other_trials)"
   ]
  },
  {
   "cell_type": "code",
   "execution_count": 156,
   "metadata": {},
   "outputs": [
    {
     "name": "stdout",
     "output_type": "stream",
     "text": [
      "(145,)\n"
     ]
    }
   ],
   "source": []
  },
  {
   "cell_type": "code",
   "execution_count": null,
   "metadata": {},
   "outputs": [],
   "source": [
    "print(model.fit_scores())"
   ]
  },
  {
   "cell_type": "code",
   "execution_count": 122,
   "metadata": {},
   "outputs": [
    {
     "data": {
      "text/plain": [
       "<matplotlib.collections.PolyCollection at 0x7f3a4ba7afd0>"
      ]
     },
     "execution_count": 122,
     "metadata": {},
     "output_type": "execute_result"
    },
    {
     "data": {
      "image/png": "[encoded data removed]",
      "text/plain": [
       "<Figure size 432x288 with 2 Axes>"
      ]
     },
     "metadata": {
      "needs_background": "light"
     },
     "output_type": "display_data"
    },
    {
     "data": {
      "image/png": "[encoded data removed]",
      "text/plain": [
       "<Figure size 432x288 with 1 Axes>"
      ]
     },
     "metadata": {
      "needs_background": "light"
     },
     "output_type": "display_data"
    }
   ],
   "source": [
    "plt.imshow(np.array(all_fit_scores), cmap='bwr', vmin=1+np.max(all_fit_scores), vmax=-np.max(all_fit_scores) + 1)\n",
    "plt.colorbar()\n",
    "plt.figure()\n",
    "stds = np.std(all_fit_scores, axis=0)\n",
    "mins = np.mean(all_fit_scores, axis=0) - stds\n",
    "maxs = np.mean(all_fit_scores, axis=0) + stds\n",
    "plt.plot(np.mean(all_fit_scores, axis=0))\n",
    "plt.fill_between(np.arange(32), mins, maxs, alpha=0.5)"
   ]
  },
  {
   "cell_type": "code",
   "execution_count": 123,
   "metadata": {},
   "outputs": [
    {
     "data": {
      "image/png": "[encoded data removed]",
      "text/plain": [
       "<Figure size 432x288 with 1 Axes>"
      ]
     },
     "metadata": {
      "needs_background": "light"
     },
     "output_type": "display_data"
    }
   ],
   "source": [
    "plt.boxplot(np.array(all_fit_scores), showfliers=False);\n"
   ]
  },
  {
   "cell_type": "code",
   "execution_count": null,
   "metadata": {},
   "outputs": [],
   "source": [
    "print(np.array(all_fit_scores).shape)"
   ]
  },
  {
   "cell_type": "code",
   "execution_count": null,
   "metadata": {},
   "outputs": [],
   "source": [
    "client.close()"
   ]
  },
  {
   "cell_type": "code",
   "execution_count": null,
   "metadata": {},
   "outputs": [],
   "source": [
    "sig_better = 0\n",
    "sig_worse = 0\n",
    "for i in good_indexes:\n",
    "    significance = ttest_ind(np.mean(cao_models1[i].test_scores, axis=-1), np.mean(full_models1[i].test_scores, axis=-1))[1]\n",
    "    if np.mean(cao_models1[i].test_scores) > np.mean(full_models1[i].test_scores):\n",
    "        if significance < 0.05:\n",
    "            sig_better += 1\n",
    "    else:\n",
    "        if significance < 0.05:\n",
    "            sig_worse += 1"
   ]
  },
  {
   "cell_type": "code",
   "execution_count": null,
   "metadata": {},
   "outputs": [],
   "source": [
    "print(sig_better, sig_worse)"
   ]
  },
  {
   "cell_type": "code",
   "execution_count": null,
   "metadata": {},
   "outputs": [],
   "source": [
    "full_tests1 = np.array([(1 - i.test_scores*i.unit_sr_var)/i.unit_sr_var for i in full_models1])\n",
    "full_tests2 = np.array([(1 - i.test_scores*i.unit_sr_var)/i.unit_sr_var for i in full_models2])\n",
    "full_tests3 = np.array([(1 - i.test_scores*i.unit_sr_var)/i.unit_sr_var for i in full_models3])\n",
    "\n",
    "cao_tests1 = np.array([(1 - i.test_scores*i.unit_sr_var)/i.unit_sr_var for i in cao_models1])\n",
    "cao_tests2 = np.array([(1 - i.test_scores*i.unit_sr_var)/i.unit_sr_var for i in cao_models2])\n",
    "cao_tests3 = np.array([(1 - i.test_scores*i.unit_sr_var)/i.unit_sr_var for i in cao_models3])"
   ]
  },
  {
   "cell_type": "code",
   "execution_count": null,
   "metadata": {},
   "outputs": [],
   "source": [
    "plt.scatter(np.mean(cao_tests1.reshape(145, -1), axis=-1), np.mean(full_tests1.reshape(145, -1), axis=-1))\n",
    "plt.xlim(0, 10)\n",
    "plt.ylim(0, 10)\n",
    "plt.plot([0, 10], [0, 10])"
   ]
  },
  {
   "cell_type": "code",
   "execution_count": null,
   "metadata": {},
   "outputs": [],
   "source": [
    "print(cao_tests1[0])\n",
    "print('a')\n",
    "print(full_tests1[0])"
   ]
  },
  {
   "cell_type": "code",
   "execution_count": null,
   "metadata": {},
   "outputs": [],
   "source": [
    "def fit_split(model, n_splits=100, test_size=0.5, train_test_var=False, random_state=None, sss=None):\n",
    "        '''\n",
    "        Fit portions of the data and compare fitted values across different splits\n",
    "        '''\n",
    "        if sss is None:\n",
    "            sss = StratifiedShuffleSplit(n_splits=n_splits, test_size=test_size, random_state=random_state)\n",
    "        trial_labels =  np.concatenate([[s for j in range(len(model.unit_sr[s]))] for s in range(len(model.trial_array))])\n",
    "        all_train_scores = []\n",
    "        all_test_scores = []\n",
    "        for train_index, test_index in sss.split(model.unit_sr_flat, trial_labels):\n",
    "            X_train = model.unit_sr_flat[train_index]\n",
    "            X_test = model.unit_sr_flat[test_index]\n",
    "            y_train = model.trial_array_full[train_index]\n",
    "            y_test = model.trial_array_full[test_index]\n",
    "            labels_train = trial_labels[train_index]\n",
    "            labels_test = trial_labels[test_index]\n",
    "            print(X_train)\n",
    "            print(X_train.shape, y_train.shape)\n",
    "            return X_train, y_train\n",
    "            model.fit(X_train, y_train)\n",
    "            out_train, pred_train = self.opt_out, self.pred_resp\n",
    "            model.fit(X_test, y_test, W=out_train.x)\n",
    "            pred_test =self.pred_resp\n",
    "\n",
    "            X_train_avg = []\n",
    "            X_test_avg = []\n",
    "            pred_train_avg = []\n",
    "            pred_test_avg = []\n",
    "            train_unit_var = []\n",
    "            test_unit_var = []\n",
    "\n",
    "            for label in range(len(self.trial_array)):\n",
    "                X_train_avg.append(np.mean(X_train[labels_train == label]))\n",
    "                X_test_avg.append(np.mean(X_test[labels_test == label]))\n",
    "\n",
    "                pred_train_avg.append(np.mean(pred_train[labels_train == label]))\n",
    "                pred_test_avg.append(np.mean(pred_test[labels_test == label]))\n",
    "\n",
    "                train_unit_var.append(np.std(X_train[labels_train==label])**2)\n",
    "                test_unit_var.append(np.std(X_test[labels_test==label])**2)\n",
    "            \n",
    "            train_scores = np.array([np.power((i-j), 2) for i, j in zip(X_train_avg, pred_train_avg)])\n",
    "            test_scores = np.array([np.power((i-j), 2) for i, j in zip(X_test_avg, pred_test_avg)])\n",
    "            if train_test_var:\n",
    "                all_train_scores.append(1-np.array(train_scores)/np.array(train_unit_var))\n",
    "                all_test_scores.append(1-np.array(test_scores)/np.array(test_unit_var))\n",
    "            \n",
    "            else:\n",
    "                all_train_scores.append(1-np.array(train_scores)/self.unit_sr_var)\n",
    "                all_test_scores.append(1-np.array(test_scores)/self.unit_sr_var)\n",
    "        return train_scores, test_scores"
   ]
  },
  {
   "cell_type": "code",
   "execution_count": null,
   "metadata": {},
   "outputs": [],
   "source": [
    "X_train, y_train = fit_split(model)"
   ]
  },
  {
   "cell_type": "code",
   "execution_count": null,
   "metadata": {},
   "outputs": [],
   "source": [
    "print(y_train)"
   ]
  },
  {
   "cell_type": "code",
   "execution_count": null,
   "metadata": {},
   "outputs": [],
   "source": [
    "plt.plot(full_models1[dend])"
   ]
  },
  {
   "cell_type": "code",
   "execution_count": null,
   "metadata": {},
   "outputs": [],
   "source": [
    "print(full_models1[140].true_resp)\n",
    "print(full_models1[140].pred_resp)"
   ]
  },
  {
   "cell_type": "code",
   "execution_count": null,
   "metadata": {},
   "outputs": [],
   "source": [
    "plt.plot(np.array(firing_difference3)[:, 0])"
   ]
  },
  {
   "cell_type": "code",
   "execution_count": null,
   "metadata": {},
   "outputs": [],
   "source": [
    "link = linkage(np.array(firing_difference1), method='complete', optimal_ordering=True)\n",
    "dend = dendrogram(link)"
   ]
  },
  {
   "cell_type": "code",
   "execution_count": null,
   "metadata": {},
   "outputs": [],
   "source": [
    "link = linkage(np.array(firing_difference2), method='complete', optimal_ordering=True)\n",
    "dend = dendrogram(link)"
   ]
  },
  {
   "cell_type": "code",
   "execution_count": null,
   "metadata": {},
   "outputs": [],
   "source": [
    "firing_difference_conc = np.concatenate([firing_difference1, firing_difference2, firing_difference3], axis=0)"
   ]
  },
  {
   "cell_type": "code",
   "execution_count": null,
   "metadata": {},
   "outputs": [],
   "source": [
    "link = linkage(np.array(firing_difference_conc), method='complete', optimal_ordering=True)\n",
    "dend = dendrogram(link)"
   ]
  },
  {
   "cell_type": "code",
   "execution_count": null,
   "metadata": {},
   "outputs": [],
   "source": [
    "fig = plt.figure(figsize=(10, 5))\n",
    "ax = fig.add_subplot(111)\n",
    "dend = dendrogram(link, ax=ax)"
   ]
  },
  {
   "cell_type": "code",
   "execution_count": null,
   "metadata": {},
   "outputs": [],
   "source": []
  },
  {
   "cell_type": "code",
   "execution_count": null,
   "metadata": {},
   "outputs": [],
   "source": [
    "dend['leaves']"
   ]
  },
  {
   "cell_type": "code",
   "execution_count": 97,
   "metadata": {},
   "outputs": [
    {
     "data": {
      "image/png": "[encoded data removed]",
      "text/plain": [
       "<Figure size 597.6x842.4 with 2 Axes>"
      ]
     },
     "metadata": {
      "needs_background": "light"
     },
     "output_type": "display_data"
    }
   ],
   "source": [
    "fig = plt.figure(figsize=(8.3, 11.7))\n",
    "gs = GridSpec(4, 4, hspace=1)\n",
    "error_ax = fig.add_subplot(gs[0, :2], aspect=1)\n",
    "plot_loglog_error(error_ax, scores1_conc, scores1_onset, label='Odour 1')\n",
    "plot_loglog_error(error_ax, scores2_conc, scores2_onset, label='Odour 2')\n",
    "plot_loglog_error(error_ax, scores3_conc, scores3_onset, label='Odour 3')\n",
    "error_ax.legend()\n",
    "\n",
    "error_ax2 = fig.add_subplot(gs[0, 2:], aspect=1)\n",
    "plot_loglog_error(error_ax2, scores_cao1, scores_full1)\n",
    "plot_loglog_error(error_ax2, scores_cao2, scores_full2)\n",
    "plot_loglog_error(error_ax2, scores_cao3, scores_full3)\n",
    "error_ax2.set_xlabel('Combined error (a.u.)')\n",
    "error_ax2.set_ylabel('Temporal error (a.u.)')\n",
    "\n",
    "max_lim = np.max([error_ax.get_ylim(), error_ax2.get_xlim()])\n",
    "min_lim = np.min([error_ax.get_ylim(), error_ax2.get_xlim()])\n",
    "error_ax.set_ylim(min_lim, max_lim)\n",
    "error_ax.set_xlim(min_lim, max_lim)\n",
    "error_ax2.set_ylim(min_lim, max_lim)\n",
    "error_ax2.set_xlim(min_lim, max_lim)\n",
    "\n",
    "locmin = matplotlib.ticker.LogLocator(base=10.0, subs=(0.1,0.2,0.4,0.6,0.8,1,2,4,6,8,10 )) \n",
    "error_ax.xaxis.set_minor_locator(locmin)\n",
    "error_ax.xaxis.set_minor_formatter(matplotlib.ticker.NullFormatter())\n",
    "# loss_ax = fig.add_subplot(gs[0, 1])\n",
    "# loss_ax.plot([np.mean(loses), loss_random, np.mean([loss_onset1, loss_onset2, loss_onset3]), np.mean([loss_conc1, loss_conc2, loss_conc3])], '.')\n",
    "# loss_ax.set_xticks(range(4))\n",
    "# loss_ax.set_xticklabels([\"Inter-odour\", 'Shuffle', 'Onset', 'Concentration'])\n",
    "# loss_ax.set_ylabel('Confusion matrix error')\n",
    "# loss_ax.set_xlabel('Filter types')"
   ]
  },
  {
   "cell_type": "code",
   "execution_count": null,
   "metadata": {},
   "outputs": [],
   "source": []
  },
  {
   "cell_type": "code",
   "execution_count": null,
   "metadata": {},
   "outputs": [],
   "source": [
    "xs = [0.75, 1.25, 2.75, 3.25, 4.75, 5.25]\n",
    "plt.boxplot([np.log10(scores_cao1), np.log10(scores_full1), np.log10(scores_cao2), np.log10(scores_full2), np.log10(scores_cao3), np.log10(scores_full3)], showfliers=False, positions=xs, widths=0.5);\n",
    "plt.ylabel('Log$_{10}$(normalised error)')"
   ]
  },
  {
   "cell_type": "code",
   "execution_count": null,
   "metadata": {},
   "outputs": [],
   "source": [
    "ttest_ind(scores_cao1, scores_full1, equal_var=False)"
   ]
  },
  {
   "cell_type": "code",
   "execution_count": null,
   "metadata": {},
   "outputs": [],
   "source": [
    "def generate_modelled_responses(firing_rates, input_noise_level=0.0, output_noise_level=0.0, repeat_num=15):\n",
    "    modelled_resps = np.array([[[poisson(abs(i * (1 + input_noise_level*norm.rvs(1)))).rvs(1)[0]*(1 + output_noise_level*norm.rvs(1)) for j in range(repeat_num)] for i in cell] for cell in tqdm(firing_rates, leave=False, position=0)])\n",
    "    modelled_resps = modelled_resps.reshape(130, -1)\n",
    "    ys = [i for i in range(32) for j in range(repeat_num)]\n",
    "    return modelled_resps, ys\n",
    "\n",
    "def fit_modelled_svc(modelled_responses, ys, test_size=None, rep_count = 100):\n",
    "    trues = []\n",
    "    preds = []\n",
    "    scores = []\n",
    "    for i in trange(rep_count, position=0, leave=False):\n",
    "        X_train, X_test, y_train, y_test = train_test_split(modelled_responses.T, ys)\n",
    "        svc = LinearSVC(max_iter=10000)\n",
    "        svc.fit(X_train, y_train)\n",
    "        trues.append(y_test)\n",
    "        preds.append(svc.predict(X_test))\n",
    "        scores.append(svc.score(X_test, y_test))\n",
    "    return np.array(trues), np.array(preds), np.array(scores)\n",
    "\n",
    "def dask_generate_and_fit(firing_rates_scattered, input_noise_level=0.0, output_noise_level=0.0, repeat_num=15, rep_count=100):\n",
    "    modelled_resps, ys = generate_modelled_responses(firing_rates_scattered, input_noise_level, output_noise_level, repeat_num)\n",
    "    trues, preds, scores = fit_modelled_svc(modelled_resps, ys, rep_count=rep_count)\n",
    "    return trues, preds, scores, (input_noise_level, output_noise_level)"
   ]
  },
  {
   "cell_type": "code",
   "execution_count": null,
   "metadata": {},
   "outputs": [],
   "source": [
    "trues, preds, scores, noises = dask_generate_and_fit(np.array(preds_onset1)[good_indexes], rep_count=10)"
   ]
  },
  {
   "cell_type": "code",
   "execution_count": null,
   "metadata": {},
   "outputs": [],
   "source": [
    "print(noises)"
   ]
  },
  {
   "cell_type": "code",
   "execution_count": null,
   "metadata": {},
   "outputs": [],
   "source": [
    "preds_onset1_scattered = client.scatter(np.array(preds_onset1)[good_indexes])\n",
    "preds_onset2_scattered = client.scatter(np.array(preds_onset2)[good_indexes])\n",
    "preds_onset3_scattered = client.scatter(np.array(preds_onset3)[good_indexes])\n",
    "preds_conc1_scattered = client.scatter(np.array(preds_conc1)[good_indexes])\n",
    "preds_conc2_scattered = client.scatter(np.array(preds_conc2)[good_indexes])\n",
    "preds_conc3_scattered = client.scatter(np.array(preds_conc3)[good_indexes])"
   ]
  },
  {
   "cell_type": "code",
   "execution_count": null,
   "metadata": {},
   "outputs": [],
   "source": [
    "noise_levels = [0.0, 0.1, 0.2, 0.3, 0.4, 0.5, 0.6, 0.7, 0.8, 0.9, 1.0]"
   ]
  },
  {
   "cell_type": "code",
   "execution_count": null,
   "metadata": {},
   "outputs": [],
   "source": [
    "\n",
    "dask_futures = list(np.concatenate([[dask.delayed(dask_generate_and_fit)(preds_conc1_scattered, i, j) for i in noise_levels] for j in noise_levels]))"
   ]
  },
  {
   "cell_type": "code",
   "execution_count": null,
   "metadata": {},
   "outputs": [],
   "source": [
    "repeats=list(np.arange(100))"
   ]
  },
  {
   "cell_type": "code",
   "execution_count": null,
   "metadata": {},
   "outputs": [],
   "source": [
    "\n",
    "dask_outs = client.map(dask_generate_and_fit, [preds_conc1_scattered], noise_levels, noise_levels)"
   ]
  },
  {
   "cell_type": "code",
   "execution_count": null,
   "metadata": {},
   "outputs": [],
   "source": [
    "dask_outs = client.compute(dask_futures)"
   ]
  },
  {
   "cell_type": "code",
   "execution_count": null,
   "metadata": {},
   "outputs": [],
   "source": [
    "dasked.current_futures = dask_outs"
   ]
  },
  {
   "cell_type": "code",
   "execution_count": null,
   "metadata": {},
   "outputs": [],
   "source": [
    "client.cancel(dask_outs)"
   ]
  },
  {
   "cell_type": "code",
   "execution_count": null,
   "metadata": {},
   "outputs": [],
   "source": [
    "combos, dask_outs = dasked.gridsearch(dask_generate_and_fit, [preds_conc3_scattered], noise_levels, noise_levels)"
   ]
  },
  {
   "cell_type": "code",
   "execution_count": null,
   "metadata": {},
   "outputs": [],
   "source": [
    "dasked.check_progress()"
   ]
  },
  {
   "cell_type": "code",
   "execution_count": null,
   "metadata": {},
   "outputs": [],
   "source": [
    "client.close()"
   ]
  },
  {
   "cell_type": "code",
   "execution_count": null,
   "metadata": {},
   "outputs": [],
   "source": [
    "client.cancel(dask_outs)"
   ]
  },
  {
   "cell_type": "code",
   "execution_count": null,
   "metadata": {},
   "outputs": [],
   "source": [
    "res_conc3 = [i.result() for i in dask_outs]"
   ]
  },
  {
   "cell_type": "code",
   "execution_count": null,
   "metadata": {},
   "outputs": [],
   "source": [
    "res_onset1 = res_onset"
   ]
  },
  {
   "cell_type": "code",
   "execution_count": null,
   "metadata": {},
   "outputs": [],
   "source": [
    "res_conc1 = res"
   ]
  },
  {
   "cell_type": "code",
   "execution_count": null,
   "metadata": {},
   "outputs": [],
   "source": [
    "res_onset1 = np.array(res_onset1)\n",
    "scores_onset1 = res_onset1[:, 2]\n",
    "scores_onset1 = np.concatenate(scores_onset1).reshape(11, 11, 100)\n",
    "cms = np.array([confusion_matrix(np.concatenate(res_onset1[i, 0]), np.concatenate(res_onset1[i, 1]), normalize='true', labels=list(range(32))) for i in range(121)])\n",
    "loss = np.array([fit_loss(cm1, i) for i in cms]).reshape(11, 11)\n",
    "loss_random = fit_loss(cm1, cm_random)"
   ]
  },
  {
   "cell_type": "code",
   "execution_count": null,
   "metadata": {},
   "outputs": [],
   "source": [
    "def best_cm(res, true_cm):\n",
    "    cms = np.array([confusion_matrix(np.concatenate(res[i, 0]), np.concatenate(res[i, 1]), normalize='true', labels=list(range(32))) for i in range(121)])\n",
    "    loss = np.array([fit_loss(true_cm, i) for i in cms])\n",
    "    best_fit = np.argmin(loss)\n",
    "    return cms[best_fit], np.min(loss)"
   ]
  },
  {
   "cell_type": "code",
   "execution_count": null,
   "metadata": {},
   "outputs": [],
   "source": [
    "cm_onset1, loss_onset1 = best_cm(res_onset1, cm1)\n",
    "cm_onset2, loss_onset2 = best_cm(np.array(res_onset2), np.array(cm2))\n",
    "cm_onset3, loss_onset3 = best_cm(np.array(res_onset3), cm3)\n",
    "cm_conc1, loss_conc1 = best_cm(np.array(res_conc1), cm1)\n",
    "cm_conc2, loss_conc2 = best_cm(np.array(res_conc2), cm2)\n",
    "cm_conc3, loss_conc3 = best_cm(np.array(res_conc3), cm3)"
   ]
  },
  {
   "cell_type": "code",
   "execution_count": null,
   "metadata": {},
   "outputs": [],
   "source": [
    "loses = []\n",
    "for indexi, i in enumerate([cm1, cm2, cm3]):\n",
    "    for indexj, j in enumerate([cm1, cm2, cm3]):\n",
    "        if indexi != indexj:\n",
    "            loses.append(fit_loss(cm1, cm2))\n"
   ]
  },
  {
   "cell_type": "code",
   "execution_count": null,
   "metadata": {},
   "outputs": [],
   "source": [
    "plt.plot([np.mean(loses), loss_random, loss_onset1, loss_onset2, loss_onset3, loss_conc1, loss_conc2, loss_conc3, ], '.')"
   ]
  },
  {
   "cell_type": "code",
   "execution_count": null,
   "metadata": {},
   "outputs": [],
   "source": [
    "max_diff = np.max([np.max(loss) - loss_random, loss_random - np.min(loss)])\n",
    "\n",
    "plt.imshow(loss, vmin=loss_random-max_diff, vmax=loss_random+max_diff, cmap='bwr')\n",
    "plt.colorbar()\n",
    "print(loss_random)"
   ]
  },
  {
   "cell_type": "code",
   "execution_count": null,
   "metadata": {},
   "outputs": [],
   "source": [
    "print(np.where(loss ==np.min(loss)))"
   ]
  },
  {
   "cell_type": "code",
   "execution_count": null,
   "metadata": {},
   "outputs": [],
   "source": [
    "plt.imshow(cms.reshape(11, 11, 32, 32)[0, 9])"
   ]
  },
  {
   "cell_type": "code",
   "execution_count": null,
   "metadata": {},
   "outputs": [],
   "source": [
    "plt.imshow(scores.mean(axis=-1))\n",
    "plt.colorbar()"
   ]
  },
  {
   "cell_type": "code",
   "execution_count": null,
   "metadata": {},
   "outputs": [],
   "source": [
    "def fit_loss(cm_true, cm_modelled):\n",
    "    loss = np.sqrt(np.sum((cm_true.ravel()-cm_modelled.ravel())**2))\n",
    "    return loss"
   ]
  },
  {
   "cell_type": "code",
   "execution_count": null,
   "metadata": {},
   "outputs": [],
   "source": [
    "noise_levels = np.arange(0, 1.1, 0.1)\n",
    "all_scores = []\n",
    "for input_noise in noise_levels:\n",
    "    for output_noise in noise_levels:\n",
    "        modelled_resps, ys = generate_modelled_responses(np.array(preds_onset1)[good_indexes], input_noise_level=input_noise, output_noise_level=output_noise)\n",
    "        trues, preds, scores = fit_modelled_svc(modelled_resps, ys)\n",
    "        "
   ]
  },
  {
   "cell_type": "code",
   "execution_count": null,
   "metadata": {},
   "outputs": [],
   "source": [
    "model_onset1 = generate_modelled_responses(np.array(preds_onset1)[good_indexes], input_noise_level=0.0)"
   ]
  },
  {
   "cell_type": "code",
   "execution_count": null,
   "metadata": {},
   "outputs": [],
   "source": [
    "trues, preds, scores = fit_modelled_svc(model_onset1[0], model_onset1[1])"
   ]
  },
  {
   "cell_type": "code",
   "execution_count": null,
   "metadata": {},
   "outputs": [],
   "source": [
    "cm = confusion_matrix(np.concatenate(trues), np.concatenate(preds), normalize='true')"
   ]
  },
  {
   "cell_type": "code",
   "execution_count": null,
   "metadata": {},
   "outputs": [],
   "source": [
    "plt.imshow(cm)\n",
    "plt.colorbar()\n"
   ]
  },
  {
   "cell_type": "code",
   "execution_count": null,
   "metadata": {},
   "outputs": [],
   "source": [
    "cv = GridSearchCV(LinearSVC(), {'C':[1.0, 10, 1000]})"
   ]
  },
  {
   "cell_type": "code",
   "execution_count": null,
   "metadata": {},
   "outputs": [],
   "source": [
    "cv.fit(model_onset1[0].T, model_onset1[1])"
   ]
  },
  {
   "cell_type": "code",
   "execution_count": null,
   "metadata": {},
   "outputs": [],
   "source": [
    "cv.best_score_"
   ]
  },
  {
   "cell_type": "code",
   "execution_count": null,
   "metadata": {},
   "outputs": [],
   "source": [
    "base_labels = range(32)\n",
    "random_selection = np.random.choice(base_labels, size=16000)"
   ]
  },
  {
   "cell_type": "code",
   "execution_count": null,
   "metadata": {},
   "outputs": [],
   "source": [
    "cm_random = confusion_matrix(np.concatenate(trues1), random_selection, normalize='true', labels=range(32))"
   ]
  },
  {
   "cell_type": "code",
   "execution_count": null,
   "metadata": {},
   "outputs": [],
   "source": [
    "plt.imshow(cm_random)\n",
    "plt.colorbar()"
   ]
  },
  {
   "cell_type": "code",
   "execution_count": null,
   "metadata": {},
   "outputs": [],
   "source": [
    "cms_modelled = np.load('../221109_cms_modelled.npy')\n",
    "stable_resps = ba.get_stable_resp_indexes()"
   ]
  },
  {
   "cell_type": "code",
   "execution_count": null,
   "metadata": {},
   "outputs": [],
   "source": [
    "print(cms_modelled.shape)"
   ]
  },
  {
   "cell_type": "code",
   "execution_count": null,
   "metadata": {},
   "outputs": [],
   "source": [
    "### Test"
   ]
  }
 ],
 "metadata": {
  "kernelspec": {
   "display_name": "Python 3",
   "language": "python",
   "name": "python3"
  },
  "language_info": {
   "codemirror_mode": {
    "name": "ipython",
    "version": 3
   },
   "file_extension": ".py",
   "mimetype": "text/x-python",
   "name": "python",
   "nbconvert_exporter": "python",
   "pygments_lexer": "ipython3",
   "version": "3.7.3"
  }
 },
 "nbformat": 4,
 "nbformat_minor": 4
}
