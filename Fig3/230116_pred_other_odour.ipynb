{
 "cells": [
  {
   "cell_type": "code",
   "execution_count": 1,
   "metadata": {},
   "outputs": [
    {
     "name": "stdout",
     "output_type": "stream",
     "text": [
      "b\n",
      "b\n"
     ]
    },
    {
     "data": {
      "text/plain": [
       "<module 'blip_analysis' from '/home/camp/warnert/working/Recordings/binary_pulses/blip_analysis/blip_analysis.py'>"
      ]
     },
     "execution_count": 1,
     "metadata": {},
     "output_type": "execute_result"
    }
   ],
   "source": [
    "import numpy as np\n",
    "from sklearn.model_selection import train_test_split, GridSearchCV, StratifiedShuffleSplit\n",
    "from sklearn.svm import LinearSVC\n",
    "import matplotlib.pyplot as plt\n",
    "from matplotlib.gridspec import GridSpec\n",
    "from tqdm import tqdm, trange\n",
    "from sklearn.metrics import confusion_matrix\n",
    "from scipy.stats import poisson, norm\n",
    "from copy import deepcopy\n",
    "from mpl_toolkits.axes_grid1 import make_axes_locatable\n",
    "from sklearn.decomposition import PCA\n",
    "import sys\n",
    "import pickle\n",
    "import blip_analysis as ba\n",
    "import exp_blip_models as em\n",
    "from scipy.cluster.hierarchy import dendrogram, linkage\n",
    "import daskify\n",
    "import dask\n",
    "from scipy.stats import skewnorm, mannwhitneyu\n",
    "import scipy\n",
    "import matplotlib\n",
    "from sklearn.manifold import LocallyLinearEmbedding, MDS\n",
    "matplotlib.rcParams['pdf.fonttype'] = 42\n",
    "matplotlib.rcParams['ps.fonttype'] = 42\n",
    "from scipy.spatial import distance_matrix\n",
    "import openephys as oe\n",
    "from scipy.stats import ttest_ind\n",
    "import importlib\n",
    "importlib.reload(em)\n",
    "importlib.reload(ba)"
   ]
  },
  {
   "cell_type": "code",
   "execution_count": 2,
   "metadata": {},
   "outputs": [
    {
     "name": "stdout",
     "output_type": "stream",
     "text": [
      "Found odour 1\n",
      "Found odour 3\n",
      "Found odour 5\n"
     ]
    }
   ],
   "source": [
    "unit_usrt1, unit_usrt2, unit_usrt3 = ba.load_usrts()\n",
    "good_indexes = ba.get_stable_resp_indexes()"
   ]
  },
  {
   "cell_type": "code",
   "execution_count": 3,
   "metadata": {},
   "outputs": [],
   "source": [
    "full_models1 = pickle.Unpickler(open('221209_full_models1.pkl', 'rb')).load()\n",
    "full_models2 = pickle.Unpickler(open('221209_full_models2.pkl', 'rb')).load()\n",
    "full_models3 = pickle.Unpickler(open('221209_full_models3.pkl', 'rb')).load()\n",
    "\n",
    "cao_models1 = pickle.Unpickler(open('221209_cao_models1.pkl', 'rb')).load()\n",
    "cao_models2 = pickle.Unpickler(open('221209_cao_models2.pkl', 'rb')).load()\n",
    "cao_models3 = pickle.Unpickler(open('221209_cao_models3.pkl', 'rb')).load()\n",
    "\n",
    "conc_models1 = pickle.Unpickler(open('221209_conc_models1.pkl', 'rb')).load()\n",
    "conc_models2 = pickle.Unpickler(open('221209_conc_models2.pkl', 'rb')).load()\n",
    "conc_models3 = pickle.Unpickler(open('221209_conc_models3.pkl', 'rb')).load()\n",
    "\n",
    "onset_models1 = pickle.Unpickler(open('221209_onset_models1.pkl', 'rb')).load()\n",
    "onset_models2 = pickle.Unpickler(open('221209_onset_models2.pkl', 'rb')).load()\n",
    "onset_models3 = pickle.Unpickler(open('221209_onset_models3.pkl', 'rb')).load()"
   ]
  },
  {
   "cell_type": "code",
   "execution_count": 4,
   "metadata": {},
   "outputs": [],
   "source": [
    "def plot_pred_odour(fig, gs, true_vals, pred_vals, chosen_indexes, legend_ax_index=2):\n",
    "\n",
    "    subgs = gs.subgridspec(ncols=len(chosen_indexes), nrows=1)\n",
    "    axs = []\n",
    "    for ax_i, index in enumerate(chosen_indexes):\n",
    "        if ax_i != 0:\n",
    "            \n",
    "            ax = fig.add_subplot(subgs[ax_i], sharey=axs[-1])\n",
    "            plt.setp(ax.get_yticklabels(), visible=False)\n",
    "        else:\n",
    "            ax = fig.add_subplot(subgs[ax_i])\n",
    "        ax.scatter(range(32), true_vals[index], label='True')\n",
    "        ax.scatter(range(32), pred_vals[index], label='Prediction')\n",
    "        axs.append(ax)\n",
    "        ax.set_xticks(range(32))\n",
    "        ax.set_xticklabels(glyphs, fontsize=8, rotation=90)\n",
    "        if ax_i == legend_ax_index:\n",
    "            ax.legend()\n",
    "    \n",
    "    return axs\n",
    "\n",
    "def pred_other_odour(model1, model2, model3, unit_usrt, ui, pred_trial = -1, ratio_schema = 'pred_trial', fitting_schema=None):\n",
    "    full_array = em.trial_arrays['diff_array']\n",
    "    if ratio_schema == 'pred_trial':\n",
    "        ratio_w1 = model1.true_resp[-1]/((model1.true_resp[-1]+model2.true_resp[-1]))\n",
    "        ratio_w2 = model2.true_resp[-1]/((model1.true_resp[-1]+model2.true_resp[-1]))\n",
    "    elif ratio_schema == 'mean':\n",
    "        ratio_w1 = np.mean(model1.true_resp)/((np.mean(model1.true_resp)+np.mean(model2.true_resp)))\n",
    "        ratio_w2 = np.mean(model2.true_resp)/((np.mean(model1.true_resp)+np.mean(model2.true_resp)))\n",
    "    elif ratio_schema == 'max':\n",
    "        if model1.true_resp[-1] > model2.true_resp[-1]:\n",
    "            ratio_w1 = 1\n",
    "            ratio_w2 = 0\n",
    "        else:\n",
    "            ratio_w1 = 0\n",
    "            ratio_w2 = 1\n",
    "    elif ratio_schema == 'pred_trial_diff':\n",
    "        model1_diff = abs(model1.true_resp[-1] - model1.true_resp[0])\n",
    "        model2_diff = abs(model2.true_resp[-1] - model2.true_resp[0])\n",
    "        ratio_w1 = model1_diff/(model1_diff+model2_diff)\n",
    "        ratio_w2 = model2_diff/(model1_diff+model1_diff)\n",
    "    if fitting_schema == 'exclude_t':\n",
    "        pred_ws = model1.opt_out.x[:-1]*ratio_w1 + model2.opt_out.x[:-1]*ratio_w2\n",
    "        avg_thresh = (model1.opt_out.x[-1] + model2.opt_out.x[-1])/2\n",
    "        pred_out = pred_ws @ full_array[pred_trial]\n",
    "        scale = (np.log(model3.true_resp[pred_trial]) - avg_thresh)/pred_out\n",
    "        pred_ws = scale*pred_ws\n",
    "        pred_ws = list(pred_ws) + [avg_thresh]\n",
    "    if fitting_schema == 'negative':\n",
    "        full_array_1 = np.append(full_array, np.ones((32, 1)), axis=1)\n",
    "        pred_ws = model1.opt_out.x*ratio_w1 - model2.opt_out.x*ratio_w2\n",
    "        pred_out = pred_ws @ full_array_1[pred_trial]\n",
    "        scale = (np.log(model3.true_resp[pred_trial]))/pred_out\n",
    "        pred_ws = scale*pred_ws\n",
    "    else:\n",
    "        pred_ws = model1.opt_out.x*ratio_w1 + model2.opt_out.x*ratio_w2\n",
    "        full_array_1 = np.append(full_array, np.ones((32, 1)), axis=1)\n",
    "        pred_out = pred_ws @ full_array_1[pred_trial]\n",
    "        scale = (np.log(model3.true_resp[pred_trial]))/pred_out\n",
    "        pred_ws = scale*pred_ws\n",
    "        \n",
    "\n",
    "    \n",
    "    model_test = em.ExponentialCustomTrialArray(unit_usrt, ui, full_array)\n",
    "    model_test.fit(W=pred_ws)\n",
    "    return model_test\n",
    "\n",
    "def pred_other_odour_split(model1, model2, model3, unit_usrt, ui, pred_trial = -1, ratio_schema = 'pred_trial', exclude_t=True, negative_ratio=False):\n",
    "    full_array = em.trial_arrays['diff_array']\n",
    "    model_test = em.ExponentialCustomTrialArray(unit_usrt, ui, full_array)\n",
    "    training_opts = []\n",
    "    all_pred_test_avg = []\n",
    "    for repeat in range(model1.X_train_avg.shape[0]):\n",
    "        if ratio_schema == 'pred_trial':\n",
    "\n",
    "            ratio_w1 = model1.X_train_avg[repeat][-1]/((model1.X_train_avg[repeat][-1]+model2.X_train_avg[repeat][-1]))\n",
    "            ratio_w2 = model2.X_train_avg[repeat][-1]/((model1.X_train_avg[repeat][-1]+model2.X_train_avg[repeat][-1]))\n",
    "        elif ratio_schema == 'mean':\n",
    "            ratio_w1 = np.mean(model1.X_train_avg[repeat])/((np.mean(model1.X_train_avg[repeat])+np.mean(model2.X_train_avg[repeat])))\n",
    "            ratio_w2 = np.mean(model2.X_train_avg[repeat])/((np.mean(model1.X_train_avg[repeat])+np.mean(model2.X_train_avg[repeat])))\n",
    "        elif ratio_schema == 'max':\n",
    "            if model1.X_train_avg[repeat][-1] > model2.X_train_avg[repeat][-1]:\n",
    "                ratio_w1 = 1\n",
    "                ratio_w2 = 0\n",
    "            else:\n",
    "                ratio_w1 = 0\n",
    "                ratio_w2 = 1\n",
    "        elif ratio_schema == 'pred_trial_diff':\n",
    "            model1_diff = abs(model1.X_train_avg[repeat][-1] - model1.X_train_avg[repeat][0])\n",
    "            model2_diff = abs(model2.X_train_avg[repeat][-1] - model2.X_train_avg[repeat][0])\n",
    "            ratio_w1 = model1_diff/(model1_diff+model2_diff)\n",
    "            ratio_w2 = model2_diff/(model1_diff+model1_diff)\n",
    "        else:\n",
    "            print('unknown ratio_schema', ratio_schema)\n",
    "        if negative_ratio:\n",
    "            ratio_w2 = -ratio_w2\n",
    "        if exclude_t:\n",
    "            pred_ws = model1.training_opts[repeat].x[:-1]*ratio_w1 + model2.training_opts[repeat].x[:-1]*ratio_w2\n",
    "            avg_thresh = (model1.training_opts[repeat].x[-1] + model2.training_opts[repeat].x[-1])/2\n",
    "            pred_out = pred_ws @ full_array[pred_trial]\n",
    "            scale = (np.log(model3.X_train_avg[repeat][pred_trial]) - avg_thresh)/pred_out\n",
    "            pred_ws = scale*pred_ws\n",
    "            pred_ws = list(pred_ws) + [avg_thresh]\n",
    "        else:\n",
    "            pred_ws = model1.training_opts[repeat].x*ratio_w1 + model2.training_opts[repeat].x*ratio_w2\n",
    "            full_array_1 = np.append(full_array, np.ones((32, 1)), axis=1)\n",
    "            pred_out = pred_ws @ full_array_1[pred_trial]\n",
    "            scale = (np.log(model3.X_train_avg[repeat][pred_trial]))/pred_out\n",
    "            pred_ws = scale*pred_ws           \n",
    "        \n",
    "        model_test.fit(model3.X_train_avg[repeat], W=pred_ws)\n",
    "        training_opts.append(pred_ws)\n",
    "        all_pred_test_avg.append(model_test.fit_score)\n",
    "    model_test.training_opts = np.array(training_opts)\n",
    "    model_test.pred_test_avg = np.array(all_pred_test_avg)\n",
    "    return model_test\n",
    "\n"
   ]
  },
  {
   "cell_type": "code",
   "execution_count": 22,
   "metadata": {},
   "outputs": [],
   "source": [
    "ui = full_responding_units[0]\n",
    "model1 = full_models1[ui]\n",
    "model2 = full_models2[ui]\n",
    "model3 = full_models3[ui]\n",
    "model_test = pred_other_odour_split(model1, model2, model3, unit_usrt3, ui)"
   ]
  },
  {
   "cell_type": "code",
   "execution_count": 23,
   "metadata": {},
   "outputs": [
    {
     "data": {
      "text/plain": [
       "array([0.66374513, 0.40701342, 0.34373729, 0.34298957, 0.36041975,\n",
       "       0.34815113, 0.43020248, 0.36638313, 0.39325644, 0.32562326,\n",
       "       0.51270483, 0.33488375, 0.33911016, 0.33893974, 0.4061295 ,\n",
       "       0.35558666, 0.34355981, 0.53143188, 0.37649661, 0.43808732,\n",
       "       0.38153045, 0.35239849, 0.80860902, 0.33900239, 0.86854606,\n",
       "       0.37215004, 0.34020649, 0.46048792, 0.36498697, 0.43240541,\n",
       "       0.47354479, 0.56320674, 0.55179796, 0.46275596, 0.37539622,\n",
       "       0.64909403, 0.33468284, 0.68912162, 0.44086412, 0.43206505,\n",
       "       0.37308883, 0.33778805, 0.50626635, 0.52386807, 0.59259039,\n",
       "       0.34874415, 0.3844603 , 0.34247736, 0.46789668, 0.50860474,\n",
       "       0.37958512, 0.39889952, 0.54172877, 0.60440081, 0.3894555 ,\n",
       "       0.34593821, 0.37500828, 0.32922042, 0.43437809, 0.4029825 ,\n",
       "       0.33847754, 0.4401475 , 0.32907614, 0.34695415, 0.32737775,\n",
       "       0.50388319, 0.3778836 , 0.39181382, 0.34334217, 0.46432538,\n",
       "       0.45742596, 0.45214366, 0.35153951, 0.44797159, 0.39810128,\n",
       "       0.44232917, 0.32037509, 0.36832677, 0.31916054, 0.42926996,\n",
       "       0.33745915, 0.35187018, 0.45546142, 0.61567104, 0.34592176,\n",
       "       0.41729173, 0.38228516, 0.73519897, 0.42942935, 0.32064587,\n",
       "       0.39741851, 0.3444414 , 1.08528502, 0.74703957, 0.42495973,\n",
       "       0.47265431, 0.35780511, 0.31510932, 0.44188509, 0.40747832])"
      ]
     },
     "execution_count": 23,
     "metadata": {},
     "output_type": "execute_result"
    }
   ],
   "source": [
    "model_test.pred_test_avg"
   ]
  },
  {
   "cell_type": "code",
   "execution_count": 5,
   "metadata": {},
   "outputs": [
    {
     "name": "stdout",
     "output_type": "stream",
     "text": [
      "16.26666666666667 4.935134806219133\n"
     ]
    }
   ],
   "source": [
    "## pred odour further work\n",
    "full_responding_units = []\n",
    "for i in good_indexes:\n",
    "    model1 = full_models1[i]\n",
    "    model2 = full_models2[i]\n",
    "    model3 = full_models3[i]\n",
    "    \n",
    "    odour1_resp_diff = abs(model1.true_resp[0] - model1.true_resp[-1])\n",
    "    odour2_resp_diff = abs(model2.true_resp[0] - model2.true_resp[-1])\n",
    "    odour3_resp_diff = abs(model3.true_resp[0] - model3.true_resp[-1])\n",
    "    \n",
    "    odour1_var = np.sqrt(model1.unit_sr_var[0])\n",
    "    odour2_var = np.sqrt(model2.unit_sr_var[0])\n",
    "    odour3_var = np.sqrt(model3.unit_sr_var[0])\n",
    "    if i == 41:\n",
    "        print(odour1_resp_diff, odour1_var)\n",
    "    if odour1_resp_diff > odour1_var and odour2_resp_diff > odour2_var and odour3_resp_diff > odour3_var:\n",
    "        full_responding_units.append(i)"
   ]
  },
  {
   "cell_type": "code",
   "execution_count": 6,
   "metadata": {},
   "outputs": [],
   "source": [
    "def plot_three_pred_model(ui):\n",
    "    fig, ax = plt.subplots(1, 3, sharey=True, figsize=(12, 4))\n",
    "    pred_model1 = pred_other_odour(full_models3[ui], full_models2[ui], full_models1[ui], unit_usrt1, ui)\n",
    "    pred_model2 = pred_other_odour(full_models3[ui], full_models1[ui], full_models2[ui], unit_usrt2, ui)\n",
    "    pred_model3 = pred_other_odour(full_models1[ui], full_models2[ui], full_models3[ui], unit_usrt3, ui)\n",
    "    full_models1[ui].fit()\n",
    "    full_models2[ui].fit()\n",
    "    full_models3[ui].fit()\n",
    "\n",
    "    ax[0].plot(pred_model1.true_resp, '.')\n",
    "    ax[0].plot(full_models1[ui].pred_resp, '.')\n",
    "    ax[0].plot(pred_model1.pred_resp, '.')\n",
    "    ax[0].set_title(f'F error {full_models1[ui].fit_score:0.2f}\\nO error {pred_model1.fit_score:0.2f}')\n",
    "\n",
    "    ax[1].plot(pred_model2.true_resp, '.')\n",
    "    ax[1].plot(full_models2[ui].pred_resp, '.')\n",
    "    ax[1].plot(pred_model2.pred_resp, '.')\n",
    "    ax[1].set_title(f'F error {full_models2[ui].fit_score:0.2f}\\nO error {pred_model2.fit_score:0.2f}')\n",
    "\n",
    "\n",
    "    ax[2].plot(pred_model3.true_resp, '.', label='True response')\n",
    "    ax[2].plot(full_models3[ui].pred_resp, '.',label='Full predictoion')\n",
    "    ax[2].plot(pred_model3.pred_resp, '.',label='Odour prediction')\n",
    "    ax[2].set_title(f'F error {full_models3[ui].fit_score:0.2f}\\nO error {pred_model3.fit_score:0.2f}')\n",
    "\n",
    "    ax[2].legend()\n"
   ]
  },
  {
   "cell_type": "code",
   "execution_count": 232,
   "metadata": {},
   "outputs": [
    {
     "name": "stderr",
     "output_type": "stream",
     "text": [
      "/home/camp/warnert/working/Recordings/binary_pulses/blip_analysis/exp_blip_models.py:85: RuntimeWarning: overflow encountered in power\n",
      "  return np.array([np.power((i-j), 2) for i, j in zip(true_resp, pred_resp)])/vars\n"
     ]
    }
   ],
   "source": [
    "### Fix this for the updated pred_other_odour\n",
    "\n",
    "scores_pred1 = []\n",
    "scores_pred2 = []\n",
    "scores_pred3 = []\n",
    "\n",
    "scores_full1 = []\n",
    "scores_full2 = []\n",
    "scores_full3 = []\n",
    "\n",
    "scores_abs1 = []\n",
    "scores_abs2 = []\n",
    "scores_abs3 = []\n",
    "\n",
    "scores_neg1 = []\n",
    "scores_neg2 = []\n",
    "scores_neg3 = []\n",
    "\n",
    "scores_split1 = []\n",
    "scores_split2 = []\n",
    "scores_split3 = []\n",
    "\n",
    "pred_tests_split1 = []\n",
    "pred_tests_split2 = []\n",
    "pred_tests_split3 = []\n",
    "\n",
    "\n",
    "for ui in full_responding_units:\n",
    "    pred_model1 = pred_other_odour(full_models3[ui], full_models2[ui], full_models1[ui], unit_usrt1, ui)\n",
    "    pred_model2 = pred_other_odour(full_models3[ui], full_models1[ui], full_models2[ui], unit_usrt2, ui)\n",
    "    pred_model3 = pred_other_odour(full_models1[ui], full_models2[ui], full_models3[ui], unit_usrt3, ui)\n",
    "    scores_pred1.append(pred_model1.fit_score)\n",
    "    scores_pred2.append(pred_model2.fit_score)\n",
    "    scores_pred3.append(pred_model3.fit_score)\n",
    "    \n",
    "    abs_model1 = pred_other_odour(full_models3[ui], full_models2[ui], full_models1[ui], unit_usrt1, ui, ratio_schema='pred_trial_diff')\n",
    "    abs_model2 = pred_other_odour(full_models3[ui], full_models1[ui], full_models2[ui], unit_usrt2, ui, ratio_schema='pred_trial_diff')\n",
    "    abs_model3 = pred_other_odour(full_models1[ui], full_models2[ui], full_models3[ui], unit_usrt3, ui, ratio_schema='pred_trial_diff')\n",
    "    scores_abs1.append(abs_model1.fit_score)\n",
    "    scores_abs2.append(abs_model2.fit_score)\n",
    "    scores_abs3.append(abs_model3.fit_score)\n",
    "\n",
    "    neg_model1 = pred_other_odour(full_models3[ui], full_models2[ui], full_models1[ui], unit_usrt1, ui, ratio_schema='pred_trial_diff', fitting_schema='negative')\n",
    "    neg_model2 = pred_other_odour(full_models3[ui], full_models1[ui], full_models2[ui], unit_usrt2, ui, ratio_schema='pred_trial_diff', fitting_schema='negative')\n",
    "    neg_model3 = pred_other_odour(full_models1[ui], full_models2[ui], full_models3[ui], unit_usrt3, ui, ratio_schema='pred_trial_diff', fitting_schema='negative')\n",
    "    scores_neg1.append(neg_model1.fit_score)\n",
    "    scores_neg2.append(neg_model2.fit_score)\n",
    "    scores_neg3.append(neg_model3.fit_score)\n",
    "    \n",
    "    split_model1 = pred_other_odour_split(full_models3[ui], full_models2[ui], full_models1[ui], unit_usrt1, ui)\n",
    "    split_model2 = pred_other_odour_split(full_models3[ui], full_models1[ui], full_models2[ui], unit_usrt2, ui)\n",
    "    split_model3 = pred_other_odour_split(full_models1[ui], full_models2[ui], full_models3[ui], unit_usrt3, ui)\n",
    "    scores_split1.append(split_model1.fit_score)\n",
    "    scores_split2.append(split_model2.fit_score)\n",
    "    scores_split3.append(split_model3.fit_score)\n",
    "    pred_tests_split1.append(split_model1.pred_test_avg)\n",
    "    pred_tests_split2.append(split_model2.pred_test_avg)\n",
    "    pred_tests_split3.append(split_model3.pred_test_avg)\n",
    "\n",
    "\n",
    "    \n",
    "    full_models1[ui].fit()\n",
    "    full_models2[ui].fit()\n",
    "    full_models3[ui].fit()\n",
    "    scores_full1.append(full_models1[ui].fit_score)\n",
    "    scores_full2.append(full_models2[ui].fit_score)\n",
    "    scores_full3.append(full_models3[ui].fit_score)\n",
    "    \n",
    "    \n",
    "\n",
    "ranked_fits1 = np.argsort(scores_pred1)\n",
    "ranked_fits2 = np.argsort(scores_pred2)\n",
    "ranked_fits3 = np.argsort(scores_pred3)\n",
    "ranked_fits_ui1 = np.array(full_responding_units)[ranked_fits1]\n",
    "ranked_fits_ui2 = np.array(full_responding_units)[ranked_fits2]\n",
    "ranked_fits_ui3 = np.array(full_responding_units)[ranked_fits3]"
   ]
  },
  {
   "cell_type": "code",
   "execution_count": 50,
   "metadata": {},
   "outputs": [
    {
     "name": "stdout",
     "output_type": "stream",
     "text": [
      "132 132\n"
     ]
    },
    {
     "data": {
      "text/plain": [
       "<ErrorbarContainer object of 3 artists>"
      ]
     },
     "execution_count": 50,
     "metadata": {},
     "output_type": "execute_result"
    },
    {
     "data": {
      "image/png": "[encoded data removed]",
      "text/plain": [
       "<Figure size 432x288 with 1 Axes>"
      ]
     },
     "metadata": {
      "needs_background": "light"
     },
     "output_type": "display_data"
    }
   ],
   "source": [
    "pred_tests_split_all = np.concatenate([pred_tests_split1, pred_tests_split2, pred_tests_split3])\n",
    "pred_tests_split_mean = np.mean(pred_tests_split_all, axis=1)\n",
    "pred_tests_split_max = np.max(pred_tests_split_all, axis=1) - pred_tests_split_mean\n",
    "pred_tests_split_min = pred_tests_split_mean - np.min(pred_tests_split_all, axis=1)\n",
    "print(len(pred_tests_split_max), len(pred_tests_split_min))\n",
    "plt.errorbar(np.arange(-0.2, 44-0.2), np.log10(pred_tests_split_mean)[:44], np.log10(pred_tests_split_min, pred_tests_split_max)[:44], fmt='.')\n",
    "plt.errorbar(np.arange(0, 44), np.log10(pred_tests_split_mean)[44:88], np.log10(pred_tests_split_min, pred_tests_split_max)[44:88], fmt='.')\n",
    "plt.errorbar(np.arange(0.2, 44.2), np.log10(pred_tests_split_mean)[88:], np.log10(pred_tests_split_min, pred_tests_split_max)[88:], fmt='.')\n"
   ]
  },
  {
   "cell_type": "code",
   "execution_count": 52,
   "metadata": {},
   "outputs": [
    {
     "data": {
      "text/plain": [
       "<ErrorbarContainer object of 3 artists>"
      ]
     },
     "execution_count": 52,
     "metadata": {},
     "output_type": "execute_result"
    },
    {
     "data": {
      "image/png": "[encoded data removed]",
      "text/plain": [
       "<Figure size 432x288 with 3 Axes>"
      ]
     },
     "metadata": {
      "needs_background": "light"
     },
     "output_type": "display_data"
    }
   ],
   "source": [
    "fig, ax = plt.subplots(3, sharex=True, sharey=True)\n",
    "ax[0].errorbar(range(44),  np.log10(pred_tests_split_mean)[:44], np.log10(pred_tests_split_min, pred_tests_split_max)[:44], fmt='.')\n",
    "ax[1].errorbar(np.arange(0, 44), np.log10(pred_tests_split_mean)[44:88], np.log10(pred_tests_split_min, pred_tests_split_max)[44:88], fmt='.', color='C1')\n",
    "ax[2].errorbar(np.arange(0, 44), np.log10(pred_tests_split_mean)[88:], np.log10(pred_tests_split_min, pred_tests_split_max)[88:], fmt='.', color='C2')"
   ]
  },
  {
   "cell_type": "code",
   "execution_count": 233,
   "metadata": {},
   "outputs": [],
   "source": [
    "best_neg_fits1 = np.min([scores_abs1, scores_neg1], axis=0)\n",
    "best_neg_fits2 = np.min([scores_abs2, scores_neg2], axis=0)\n",
    "best_neg_fits3 = np.min([scores_abs3, scores_neg3], axis=0)"
   ]
  },
  {
   "cell_type": "code",
   "execution_count": 235,
   "metadata": {},
   "outputs": [
    {
     "data": {
      "text/plain": [
       "{'bodies': [<matplotlib.collections.PolyCollection at 0x7f3de28ee358>],\n",
       " 'cmaxes': <matplotlib.collections.LineCollection at 0x7f3de28ee2b0>,\n",
       " 'cmins': <matplotlib.collections.LineCollection at 0x7f3de28ee5f8>,\n",
       " 'cbars': <matplotlib.collections.LineCollection at 0x7f3de28ee7f0>}"
      ]
     },
     "execution_count": 235,
     "metadata": {},
     "output_type": "execute_result"
    },
    {
     "data": {
      "image/png": "[encoded data removed]",
      "text/plain": [
       "<Figure size 432x288 with 1 Axes>"
      ]
     },
     "metadata": {
      "needs_background": "light"
     },
     "output_type": "display_data"
    }
   ],
   "source": [
    "plt.violinplot(np.log10(best_neg_fits1))"
   ]
  },
  {
   "cell_type": "code",
   "execution_count": 67,
   "metadata": {},
   "outputs": [
    {
     "name": "stdout",
     "output_type": "stream",
     "text": [
      "0.8761948550133911 0.8497056924066859\n",
      "0.7700116852231063 1.1759232547882332\n",
      "1.101479923615948 0.9425900579243479\n"
     ]
    }
   ],
   "source": [
    "print(np.median(scores_pred1), np.median(best_neg_fits1))\n",
    "print(np.median(scores_pred2), np.median(best_neg_fits2))\n",
    "print(np.median(scores_pred3), np.median(best_neg_fits3))"
   ]
  },
  {
   "cell_type": "code",
   "execution_count": 12,
   "metadata": {},
   "outputs": [
    {
     "data": {
      "text/plain": [
       "([<matplotlib.axis.XTick at 0x7fef1c9c8240>,\n",
       "  <matplotlib.axis.XTick at 0x7fef1ce63518>,\n",
       "  <matplotlib.axis.XTick at 0x7fef1ce2c940>,\n",
       "  <matplotlib.axis.XTick at 0x7fef1d825940>,\n",
       "  <matplotlib.axis.XTick at 0x7fef1d825b70>,\n",
       "  <matplotlib.axis.XTick at 0x7fef1d7ae898>,\n",
       "  <matplotlib.axis.XTick at 0x7fef1d7be160>,\n",
       "  <matplotlib.axis.XTick at 0x7fef1d7be8d0>,\n",
       "  <matplotlib.axis.XTick at 0x7fef1dde6da0>],\n",
       " <a list of 9 Text xticklabel objects>)"
      ]
     },
     "execution_count": 12,
     "metadata": {},
     "output_type": "execute_result"
    },
    {
     "data": {
      "image/png": "[encoded data removed]",
      "text/plain": [
       "<Figure size 432x288 with 1 Axes>"
      ]
     },
     "metadata": {
      "needs_background": "light"
     },
     "output_type": "display_data"
    }
   ],
   "source": [
    "plt.boxplot([np.log10(scores_full1), np.log10(best_neg_fits1), np.log10(scores_pred1), np.log10(scores_full2), np.log10(best_neg_fits2), np.log10(scores_pred2), np.log10(scores_full3), np.log10(best_neg_fits3), np.log10(scores_pred3)]);\n",
    "plt.ylabel('Log10(fit error)')\n",
    "plt.xticks(range(1, 10), labels=['O1 full', 'O1 pred abs', 'O1 pred init', 'O2 full', 'O2 pred abs', 'O2 pred init', 'O3 full', 'O3 pred abs', 'O3 pred init'], rotation=90)"
   ]
  },
  {
   "cell_type": "code",
   "execution_count": 48,
   "metadata": {},
   "outputs": [
    {
     "data": {
      "text/plain": [
       "Ttest_indResult(statistic=-1.037716662775876, pvalue=0.30231092106172275)"
      ]
     },
     "execution_count": 48,
     "metadata": {},
     "output_type": "execute_result"
    }
   ],
   "source": [
    "ttest_ind(best_neg_fits3, scores_pred3)"
   ]
  },
  {
   "cell_type": "code",
   "execution_count": 24,
   "metadata": {},
   "outputs": [
    {
     "data": {
      "image/png": "[encoded data removed]",
      "text/plain": [
       "<Figure size 432x288 with 1 Axes>"
      ]
     },
     "metadata": {
      "needs_background": "light"
     },
     "output_type": "display_data"
    }
   ],
   "source": [
    "\n",
    "plt.boxplot([scores_full1, scores_abs1, scores_pred1, scores_full2, scores_abs2, scores_pred2, scores_full3, scores_abs3, scores_pred3], showfliers=False);"
   ]
  },
  {
   "cell_type": "code",
   "execution_count": 74,
   "metadata": {},
   "outputs": [
    {
     "data": {
      "text/plain": [
       "{'whiskers': [<matplotlib.lines.Line2D at 0x7fef1ddcebe0>,\n",
       "  <matplotlib.lines.Line2D at 0x7fef1ddd8fd0>,\n",
       "  <matplotlib.lines.Line2D at 0x7fef34160ac8>,\n",
       "  <matplotlib.lines.Line2D at 0x7fef459c0780>,\n",
       "  <matplotlib.lines.Line2D at 0x7fef1dd84470>,\n",
       "  <matplotlib.lines.Line2D at 0x7fef45a97860>],\n",
       " 'caps': [<matplotlib.lines.Line2D at 0x7fef1ddd8080>,\n",
       "  <matplotlib.lines.Line2D at 0x7feefc1146d8>,\n",
       "  <matplotlib.lines.Line2D at 0x7fef1dde2f60>,\n",
       "  <matplotlib.lines.Line2D at 0x7fef1dde26d8>,\n",
       "  <matplotlib.lines.Line2D at 0x7fef45a972e8>,\n",
       "  <matplotlib.lines.Line2D at 0x7feef43436d8>],\n",
       " 'boxes': [<matplotlib.lines.Line2D at 0x7fef1ddce1d0>,\n",
       "  <matplotlib.lines.Line2D at 0x7fef34160d30>,\n",
       "  <matplotlib.lines.Line2D at 0x7fef45a65ba8>],\n",
       " 'medians': [<matplotlib.lines.Line2D at 0x7feefc114358>,\n",
       "  <matplotlib.lines.Line2D at 0x7fef45a656a0>,\n",
       "  <matplotlib.lines.Line2D at 0x7feef4343ba8>],\n",
       " 'fliers': [],\n",
       " 'means': []}"
      ]
     },
     "execution_count": 74,
     "metadata": {},
     "output_type": "execute_result"
    },
    {
     "data": {
      "image/png": "[encoded data removed]",
      "text/plain": [
       "<Figure size 432x288 with 1 Axes>"
      ]
     },
     "metadata": {
      "needs_background": "light"
     },
     "output_type": "display_data"
    }
   ],
   "source": [
    "plt.boxplot([scores_split1, scores_split2, scores_split3], showfliers=False)"
   ]
  },
  {
   "cell_type": "code",
   "execution_count": 16,
   "metadata": {},
   "outputs": [],
   "source": [
    "model.fit_split()"
   ]
  },
  {
   "cell_type": "code",
   "execution_count": 8,
   "metadata": {},
   "outputs": [],
   "source": [
    "dasked = daskify.Daskified()\n",
    "dasked.start_cluster()\n",
    "client = dasked.client"
   ]
  },
  {
   "cell_type": "code",
   "execution_count": 9,
   "metadata": {},
   "outputs": [],
   "source": [
    "def split_models(ui, file_name):\n",
    "    full_models = pickle.Unpickler(open(file_name, 'rb')).load()\n",
    "    model = full_models[ui]\n",
    "    model.fit_split()\n",
    "    return model"
   ]
  },
  {
   "cell_type": "code",
   "execution_count": 10,
   "metadata": {},
   "outputs": [],
   "source": [
    "delays = [dask.delayed(split_models)(i, '221209_full_models1.pkl') for i in range(145)]\n",
    "outs1 = client.compute(delays)\n",
    "delays = [dask.delayed(split_models)(i, '221209_full_models2.pkl') for i in range(145)]\n",
    "outs2 = client.compute(delays)\n",
    "delays = [dask.delayed(split_models)(i, '221209_full_models3.pkl') for i in range(145)]\n",
    "outs3 = client.compute(delays)"
   ]
  },
  {
   "cell_type": "code",
   "execution_count": 18,
   "metadata": {},
   "outputs": [
    {
     "name": "stdout",
     "output_type": "stream",
     "text": [
      "finished 145\n"
     ]
    }
   ],
   "source": [
    "dasked.current_futures = outs3\n",
    "dasked.check_progress()"
   ]
  },
  {
   "cell_type": "code",
   "execution_count": 19,
   "metadata": {},
   "outputs": [],
   "source": [
    "full_models1 = [i.result() for i in outs1]\n",
    "full_models2 = [i.result() for i in outs2]\n",
    "full_models3 = [i.result() for i in outs3]"
   ]
  },
  {
   "cell_type": "code",
   "execution_count": 28,
   "metadata": {},
   "outputs": [
    {
     "data": {
      "text/plain": [
       "<exp_blip_models.ExponentialCustomTrialArray at 0x7fef4586f630>"
      ]
     },
     "execution_count": 28,
     "metadata": {},
     "output_type": "execute_result"
    }
   ],
   "source": [
    "full_models1[0]"
   ]
  },
  {
   "cell_type": "code",
   "execution_count": 37,
   "metadata": {},
   "outputs": [
    {
     "ename": "ValueError",
     "evalue": "matmul: Input operand 1 has a mismatch in its core dimension 0, with gufunc signature (n?,k),(k,m?)->(n?,m?) (size 10 is different from 9)",
     "output_type": "error",
     "traceback": [
      "\u001b[0;31m---------------------------------------------------------------------------\u001b[0m",
      "\u001b[0;31mValueError\u001b[0m                                Traceback (most recent call last)",
      "\u001b[0;32m<ipython-input-37-2331c83dcd02>\u001b[0m in \u001b[0;36m<module>\u001b[0;34m()\u001b[0m\n\u001b[1;32m      1\u001b[0m \u001b[0;32mfor\u001b[0m \u001b[0mui\u001b[0m \u001b[0;32min\u001b[0m \u001b[0mfull_responding_units\u001b[0m\u001b[0;34m:\u001b[0m\u001b[0;34m\u001b[0m\u001b[0;34m\u001b[0m\u001b[0m\n\u001b[0;32m----> 2\u001b[0;31m     \u001b[0mpred_model1\u001b[0m \u001b[0;34m=\u001b[0m \u001b[0mpred_other_odour_split\u001b[0m\u001b[0;34m(\u001b[0m\u001b[0mfull_models3\u001b[0m\u001b[0;34m[\u001b[0m\u001b[0mui\u001b[0m\u001b[0;34m]\u001b[0m\u001b[0;34m,\u001b[0m \u001b[0mfull_models2\u001b[0m\u001b[0;34m[\u001b[0m\u001b[0mui\u001b[0m\u001b[0;34m]\u001b[0m\u001b[0;34m,\u001b[0m \u001b[0mfull_models1\u001b[0m\u001b[0;34m[\u001b[0m\u001b[0mui\u001b[0m\u001b[0;34m]\u001b[0m\u001b[0;34m,\u001b[0m \u001b[0munit_usrt1\u001b[0m\u001b[0;34m,\u001b[0m \u001b[0mui\u001b[0m\u001b[0;34m)\u001b[0m\u001b[0;34m\u001b[0m\u001b[0;34m\u001b[0m\u001b[0m\n\u001b[0m",
      "\u001b[0;32m<ipython-input-36-d9a3a0347973>\u001b[0m in \u001b[0;36mpred_other_odour_split\u001b[0;34m(model1, model2, model3, unit_usrt, ui, pred_trial, ratio_schema, fitting_schema)\u001b[0m\n\u001b[1;32m    108\u001b[0m             \u001b[0mpred_ws\u001b[0m \u001b[0;34m=\u001b[0m \u001b[0mmodel1\u001b[0m\u001b[0;34m.\u001b[0m\u001b[0mtraining_opts\u001b[0m\u001b[0;34m[\u001b[0m\u001b[0mrepeat\u001b[0m\u001b[0;34m]\u001b[0m\u001b[0;34m.\u001b[0m\u001b[0mx\u001b[0m\u001b[0;34m[\u001b[0m\u001b[0;34m:\u001b[0m\u001b[0;34m-\u001b[0m\u001b[0;36m1\u001b[0m\u001b[0;34m]\u001b[0m\u001b[0;34m*\u001b[0m\u001b[0mratio_w1\u001b[0m \u001b[0;34m+\u001b[0m \u001b[0mmodel2\u001b[0m\u001b[0;34m.\u001b[0m\u001b[0mtraining_opts\u001b[0m\u001b[0;34m[\u001b[0m\u001b[0mrepeat\u001b[0m\u001b[0;34m]\u001b[0m\u001b[0;34m.\u001b[0m\u001b[0mx\u001b[0m\u001b[0;34m[\u001b[0m\u001b[0;34m:\u001b[0m\u001b[0;34m-\u001b[0m\u001b[0;36m1\u001b[0m\u001b[0;34m]\u001b[0m\u001b[0;34m*\u001b[0m\u001b[0mratio_w2\u001b[0m\u001b[0;34m\u001b[0m\u001b[0;34m\u001b[0m\u001b[0m\n\u001b[1;32m    109\u001b[0m             \u001b[0mfull_array_1\u001b[0m \u001b[0;34m=\u001b[0m \u001b[0mnp\u001b[0m\u001b[0;34m.\u001b[0m\u001b[0mappend\u001b[0m\u001b[0;34m(\u001b[0m\u001b[0mfull_array\u001b[0m\u001b[0;34m,\u001b[0m \u001b[0mnp\u001b[0m\u001b[0;34m.\u001b[0m\u001b[0mones\u001b[0m\u001b[0;34m(\u001b[0m\u001b[0;34m(\u001b[0m\u001b[0;36m32\u001b[0m\u001b[0;34m,\u001b[0m \u001b[0;36m1\u001b[0m\u001b[0;34m)\u001b[0m\u001b[0;34m)\u001b[0m\u001b[0;34m,\u001b[0m \u001b[0maxis\u001b[0m\u001b[0;34m=\u001b[0m\u001b[0;36m1\u001b[0m\u001b[0;34m)\u001b[0m\u001b[0;34m\u001b[0m\u001b[0;34m\u001b[0m\u001b[0m\n\u001b[0;32m--> 110\u001b[0;31m             \u001b[0mpred_out\u001b[0m \u001b[0;34m=\u001b[0m \u001b[0mpred_ws\u001b[0m \u001b[0;34m@\u001b[0m \u001b[0mfull_array_1\u001b[0m\u001b[0;34m[\u001b[0m\u001b[0mpred_trial\u001b[0m\u001b[0;34m]\u001b[0m\u001b[0;34m\u001b[0m\u001b[0;34m\u001b[0m\u001b[0m\n\u001b[0m\u001b[1;32m    111\u001b[0m             \u001b[0mscale\u001b[0m \u001b[0;34m=\u001b[0m \u001b[0;34m(\u001b[0m\u001b[0mnp\u001b[0m\u001b[0;34m.\u001b[0m\u001b[0mlog\u001b[0m\u001b[0;34m(\u001b[0m\u001b[0mmodel3\u001b[0m\u001b[0;34m.\u001b[0m\u001b[0mX_train_avg\u001b[0m\u001b[0;34m[\u001b[0m\u001b[0mrepeat\u001b[0m\u001b[0;34m]\u001b[0m\u001b[0;34m[\u001b[0m\u001b[0mpred_trial\u001b[0m\u001b[0;34m]\u001b[0m\u001b[0;34m)\u001b[0m\u001b[0;34m)\u001b[0m\u001b[0;34m/\u001b[0m\u001b[0mpred_out\u001b[0m\u001b[0;34m\u001b[0m\u001b[0;34m\u001b[0m\u001b[0m\n\u001b[1;32m    112\u001b[0m             \u001b[0mpred_ws\u001b[0m \u001b[0;34m=\u001b[0m \u001b[0mscale\u001b[0m\u001b[0;34m*\u001b[0m\u001b[0mpred_ws\u001b[0m\u001b[0;34m\u001b[0m\u001b[0;34m\u001b[0m\u001b[0m\n",
      "\u001b[0;31mValueError\u001b[0m: matmul: Input operand 1 has a mismatch in its core dimension 0, with gufunc signature (n?,k),(k,m?)->(n?,m?) (size 10 is different from 9)"
     ]
    }
   ],
   "source": [
    "for ui in full_responding_units:\n",
    "    pred_model1 = pred_other_odour_split(full_models3[ui], full_models2[ui], full_models1[ui], unit_usrt1, ui)"
   ]
  },
  {
   "cell_type": "code",
   "execution_count": 74,
   "metadata": {},
   "outputs": [
    {
     "ename": "ValueError",
     "evalue": "X must have 2 or fewer dimensions",
     "output_type": "error",
     "traceback": [
      "\u001b[0;31m--------------------------------------------------------------------\u001b[0m",
      "\u001b[0;31mValueError\u001b[0m                         Traceback (most recent call last)",
      "\u001b[0;32m<ipython-input-74-45b66b28bed0>\u001b[0m in \u001b[0;36m<module>\u001b[0;34m()\u001b[0m\n\u001b[0;32m----> 1\u001b[0;31m \u001b[0mplt\u001b[0m\u001b[0;34m.\u001b[0m\u001b[0mviolinplot\u001b[0m\u001b[0;34m(\u001b[0m\u001b[0;34m[\u001b[0m\u001b[0mpred_tests_split1\u001b[0m\u001b[0;34m]\u001b[0m\u001b[0;34m)\u001b[0m\u001b[0;34m\u001b[0m\u001b[0;34m\u001b[0m\u001b[0m\n\u001b[0m",
      "\u001b[0;32m/camp/home/warnert/.conda/envs/blip_manu/lib/python3.7/site-packages/matplotlib/pyplot.py\u001b[0m in \u001b[0;36mviolinplot\u001b[0;34m(dataset, positions, vert, widths, showmeans, showextrema, showmedians, points, bw_method, data)\u001b[0m\n\u001b[1;32m   3025\u001b[0m         \u001b[0mshowmeans\u001b[0m\u001b[0;34m=\u001b[0m\u001b[0mshowmeans\u001b[0m\u001b[0;34m,\u001b[0m \u001b[0mshowextrema\u001b[0m\u001b[0;34m=\u001b[0m\u001b[0mshowextrema\u001b[0m\u001b[0;34m,\u001b[0m\u001b[0;34m\u001b[0m\u001b[0;34m\u001b[0m\u001b[0m\n\u001b[1;32m   3026\u001b[0m         \u001b[0mshowmedians\u001b[0m\u001b[0;34m=\u001b[0m\u001b[0mshowmedians\u001b[0m\u001b[0;34m,\u001b[0m \u001b[0mpoints\u001b[0m\u001b[0;34m=\u001b[0m\u001b[0mpoints\u001b[0m\u001b[0;34m,\u001b[0m \u001b[0mbw_method\u001b[0m\u001b[0;34m=\u001b[0m\u001b[0mbw_method\u001b[0m\u001b[0;34m,\u001b[0m\u001b[0;34m\u001b[0m\u001b[0;34m\u001b[0m\u001b[0m\n\u001b[0;32m-> 3027\u001b[0;31m         **({\"data\": data} if data is not None else {}))\n\u001b[0m\u001b[1;32m   3028\u001b[0m \u001b[0;34m\u001b[0m\u001b[0m\n\u001b[1;32m   3029\u001b[0m \u001b[0;34m\u001b[0m\u001b[0m\n",
      "\u001b[0;32m/camp/home/warnert/.conda/envs/blip_manu/lib/python3.7/site-packages/matplotlib/__init__.py\u001b[0m in \u001b[0;36minner\u001b[0;34m(ax, data, *args, **kwargs)\u001b[0m\n\u001b[1;32m   1599\u001b[0m     \u001b[0;32mdef\u001b[0m \u001b[0minner\u001b[0m\u001b[0;34m(\u001b[0m\u001b[0max\u001b[0m\u001b[0;34m,\u001b[0m \u001b[0;34m*\u001b[0m\u001b[0margs\u001b[0m\u001b[0;34m,\u001b[0m \u001b[0mdata\u001b[0m\u001b[0;34m=\u001b[0m\u001b[0;32mNone\u001b[0m\u001b[0;34m,\u001b[0m \u001b[0;34m**\u001b[0m\u001b[0mkwargs\u001b[0m\u001b[0;34m)\u001b[0m\u001b[0;34m:\u001b[0m\u001b[0;34m\u001b[0m\u001b[0;34m\u001b[0m\u001b[0m\n\u001b[1;32m   1600\u001b[0m         \u001b[0;32mif\u001b[0m \u001b[0mdata\u001b[0m \u001b[0;32mis\u001b[0m \u001b[0;32mNone\u001b[0m\u001b[0;34m:\u001b[0m\u001b[0;34m\u001b[0m\u001b[0;34m\u001b[0m\u001b[0m\n\u001b[0;32m-> 1601\u001b[0;31m             \u001b[0;32mreturn\u001b[0m \u001b[0mfunc\u001b[0m\u001b[0;34m(\u001b[0m\u001b[0max\u001b[0m\u001b[0;34m,\u001b[0m \u001b[0;34m*\u001b[0m\u001b[0mmap\u001b[0m\u001b[0;34m(\u001b[0m\u001b[0msanitize_sequence\u001b[0m\u001b[0;34m,\u001b[0m \u001b[0margs\u001b[0m\u001b[0;34m)\u001b[0m\u001b[0;34m,\u001b[0m \u001b[0;34m**\u001b[0m\u001b[0mkwargs\u001b[0m\u001b[0;34m)\u001b[0m\u001b[0;34m\u001b[0m\u001b[0;34m\u001b[0m\u001b[0m\n\u001b[0m\u001b[1;32m   1602\u001b[0m \u001b[0;34m\u001b[0m\u001b[0m\n\u001b[1;32m   1603\u001b[0m         \u001b[0mbound\u001b[0m \u001b[0;34m=\u001b[0m \u001b[0mnew_sig\u001b[0m\u001b[0;34m.\u001b[0m\u001b[0mbind\u001b[0m\u001b[0;34m(\u001b[0m\u001b[0max\u001b[0m\u001b[0;34m,\u001b[0m \u001b[0;34m*\u001b[0m\u001b[0margs\u001b[0m\u001b[0;34m,\u001b[0m \u001b[0;34m**\u001b[0m\u001b[0mkwargs\u001b[0m\u001b[0;34m)\u001b[0m\u001b[0;34m\u001b[0m\u001b[0;34m\u001b[0m\u001b[0m\n",
      "\u001b[0;32m/camp/home/warnert/.conda/envs/blip_manu/lib/python3.7/site-packages/matplotlib/axes/_axes.py\u001b[0m in \u001b[0;36mviolinplot\u001b[0;34m(self, dataset, positions, vert, widths, showmeans, showextrema, showmedians, points, bw_method)\u001b[0m\n\u001b[1;32m   8044\u001b[0m             \u001b[0;32mreturn\u001b[0m \u001b[0mkde\u001b[0m\u001b[0;34m.\u001b[0m\u001b[0mevaluate\u001b[0m\u001b[0;34m(\u001b[0m\u001b[0mcoords\u001b[0m\u001b[0;34m)\u001b[0m\u001b[0;34m\u001b[0m\u001b[0;34m\u001b[0m\u001b[0m\n\u001b[1;32m   8045\u001b[0m \u001b[0;34m\u001b[0m\u001b[0m\n\u001b[0;32m-> 8046\u001b[0;31m         \u001b[0mvpstats\u001b[0m \u001b[0;34m=\u001b[0m \u001b[0mcbook\u001b[0m\u001b[0;34m.\u001b[0m\u001b[0mviolin_stats\u001b[0m\u001b[0;34m(\u001b[0m\u001b[0mdataset\u001b[0m\u001b[0;34m,\u001b[0m \u001b[0m_kde_method\u001b[0m\u001b[0;34m,\u001b[0m \u001b[0mpoints\u001b[0m\u001b[0;34m=\u001b[0m\u001b[0mpoints\u001b[0m\u001b[0;34m)\u001b[0m\u001b[0;34m\u001b[0m\u001b[0;34m\u001b[0m\u001b[0m\n\u001b[0m\u001b[1;32m   8047\u001b[0m         return self.violin(vpstats, positions=positions, vert=vert,\n\u001b[1;32m   8048\u001b[0m                            \u001b[0mwidths\u001b[0m\u001b[0;34m=\u001b[0m\u001b[0mwidths\u001b[0m\u001b[0;34m,\u001b[0m \u001b[0mshowmeans\u001b[0m\u001b[0;34m=\u001b[0m\u001b[0mshowmeans\u001b[0m\u001b[0;34m,\u001b[0m\u001b[0;34m\u001b[0m\u001b[0;34m\u001b[0m\u001b[0m\n",
      "\u001b[0;32m/camp/home/warnert/.conda/envs/blip_manu/lib/python3.7/site-packages/matplotlib/cbook/__init__.py\u001b[0m in \u001b[0;36mviolin_stats\u001b[0;34m(X, method, points)\u001b[0m\n\u001b[1;32m   1475\u001b[0m \u001b[0;34m\u001b[0m\u001b[0m\n\u001b[1;32m   1476\u001b[0m     \u001b[0;31m# Want X to be a list of data sequences\u001b[0m\u001b[0;34m\u001b[0m\u001b[0;34m\u001b[0m\u001b[0;34m\u001b[0m\u001b[0m\n\u001b[0;32m-> 1477\u001b[0;31m     \u001b[0mX\u001b[0m \u001b[0;34m=\u001b[0m \u001b[0m_reshape_2D\u001b[0m\u001b[0;34m(\u001b[0m\u001b[0mX\u001b[0m\u001b[0;34m,\u001b[0m \u001b[0;34m\"X\"\u001b[0m\u001b[0;34m)\u001b[0m\u001b[0;34m\u001b[0m\u001b[0;34m\u001b[0m\u001b[0m\n\u001b[0m\u001b[1;32m   1478\u001b[0m \u001b[0;34m\u001b[0m\u001b[0m\n\u001b[1;32m   1479\u001b[0m     \u001b[0;32mfor\u001b[0m \u001b[0mx\u001b[0m \u001b[0;32min\u001b[0m \u001b[0mX\u001b[0m\u001b[0;34m:\u001b[0m\u001b[0;34m\u001b[0m\u001b[0;34m\u001b[0m\u001b[0m\n",
      "\u001b[0;32m/camp/home/warnert/.conda/envs/blip_manu/lib/python3.7/site-packages/matplotlib/cbook/__init__.py\u001b[0m in \u001b[0;36m_reshape_2D\u001b[0;34m(X, name)\u001b[0m\n\u001b[1;32m   1428\u001b[0m         \u001b[0;32mreturn\u001b[0m \u001b[0;34m[\u001b[0m\u001b[0mnp\u001b[0m\u001b[0;34m.\u001b[0m\u001b[0mreshape\u001b[0m\u001b[0;34m(\u001b[0m\u001b[0mx\u001b[0m\u001b[0;34m,\u001b[0m \u001b[0;34m-\u001b[0m\u001b[0;36m1\u001b[0m\u001b[0;34m)\u001b[0m \u001b[0;32mfor\u001b[0m \u001b[0mx\u001b[0m \u001b[0;32min\u001b[0m \u001b[0mX\u001b[0m\u001b[0;34m]\u001b[0m\u001b[0;34m\u001b[0m\u001b[0;34m\u001b[0m\u001b[0m\n\u001b[1;32m   1429\u001b[0m     \u001b[0;32melse\u001b[0m\u001b[0;34m:\u001b[0m\u001b[0;34m\u001b[0m\u001b[0;34m\u001b[0m\u001b[0m\n\u001b[0;32m-> 1430\u001b[0;31m         \u001b[0;32mraise\u001b[0m \u001b[0mValueError\u001b[0m\u001b[0;34m(\u001b[0m\u001b[0;34m\"{} must have 2 or fewer dimensions\"\u001b[0m\u001b[0;34m.\u001b[0m\u001b[0mformat\u001b[0m\u001b[0;34m(\u001b[0m\u001b[0mname\u001b[0m\u001b[0;34m)\u001b[0m\u001b[0;34m)\u001b[0m\u001b[0;34m\u001b[0m\u001b[0;34m\u001b[0m\u001b[0m\n\u001b[0m\u001b[1;32m   1431\u001b[0m \u001b[0;34m\u001b[0m\u001b[0m\n\u001b[1;32m   1432\u001b[0m \u001b[0;34m\u001b[0m\u001b[0m\n",
      "\u001b[0;31mValueError\u001b[0m: X must have 2 or fewer dimensions"
     ]
    },
    {
     "data": {
      "image/png": "[encoded data removed]",
      "text/plain": [
       "<Figure size 432x288 with 1 Axes>"
      ]
     },
     "metadata": {
      "needs_background": "light"
     },
     "output_type": "display_data"
    }
   ],
   "source": [
    "plt.violinplot([pred_tests_split1])"
   ]
  },
  {
   "cell_type": "code",
   "execution_count": 80,
   "metadata": {},
   "outputs": [
    {
     "name": "stdout",
     "output_type": "stream",
     "text": [
      "[ 0.92290515  0.92108016  0.64757173  1.92102837  0.25632646  0.36142085\n",
      "  0.6230128   1.09972604  0.54864937  0.25487856  0.63390628  0.35144632\n",
      "  2.73913257  0.32643179  0.35316634  1.22229173  0.96765151  0.79237659\n",
      "  0.1930738   1.0125616   2.36938846  0.63739453  0.58970065  0.6178743\n",
      "  0.61079227  1.6564978   0.88128953  0.25700218  1.42982936  1.0175738\n",
      "  5.8702065   1.18315028  3.23753964  4.15025397  2.46423867 16.12046083\n",
      "  1.50772316  6.05548618  0.61699416  6.1089095   1.94637033  5.49446609\n",
      "  3.95292734  0.30813939]\n"
     ]
    },
    {
     "data": {
      "text/plain": [
       "{'bodies': [<matplotlib.collections.PolyCollection at 0x7f3e715b89b0>,\n",
       "  <matplotlib.collections.PolyCollection at 0x7f3e715b8c88>,\n",
       "  <matplotlib.collections.PolyCollection at 0x7f3e715b8ef0>],\n",
       " 'cmaxes': <matplotlib.collections.LineCollection at 0x7f3e715b8780>,\n",
       " 'cmins': <matplotlib.collections.LineCollection at 0x7f3e71546160>,\n",
       " 'cbars': <matplotlib.collections.LineCollection at 0x7f3e715463c8>}"
      ]
     },
     "execution_count": 80,
     "metadata": {},
     "output_type": "execute_result"
    },
    {
     "data": {
      "image/png": "[encoded data removed]",
      "text/plain": [
       "<Figure size 432x288 with 1 Axes>"
      ]
     },
     "metadata": {
      "needs_background": "light"
     },
     "output_type": "display_data"
    }
   ],
   "source": [
    "print(np.array(pred_tests_split1).mean(axis=-1))\n",
    "plt.violinplot([np.log10(pred_tests_split1).mean(axis=-1), np.log10(pred_tests_split2).mean(axis=-1), np.log10(pred_tests_split3).mean(axis=-1)], vert=False)"
   ]
  },
  {
   "cell_type": "code",
   "execution_count": 91,
   "metadata": {},
   "outputs": [
    {
     "name": "stderr",
     "output_type": "stream",
     "text": [
      "/home/camp/warnert/working/Recordings/binary_pulses/blip_analysis/exp_blip_models.py:85: RuntimeWarning: overflow encountered in power\n",
      "  return np.array([np.power((i-j), 2) for i, j in zip(true_resp, pred_resp)])/vars\n"
     ]
    }
   ],
   "source": [
    "scores1 = []\n",
    "scores2 = []\n",
    "scores3 = []\n",
    "\n",
    "for i in good_indexes:\n",
    "    pred_model1 = pred_other_odour_split(full_models3[i], full_models2[i], full_models1[i], unit_usrt1, i, )\n",
    "    pred_model2 = pred_other_odour_split(full_models1[i], full_models3[i], full_models2[i], unit_usrt2, i, )\n",
    "    pred_model3 = pred_other_odour_split(full_models1[i], full_models2[i], full_models3[i], unit_usrt3, i, )\n",
    "    scores1.append(pred_model1.pred_test_avg.mean())\n",
    "    scores2.append(pred_model2.pred_test_avg.mean())\n",
    "    scores3.append(pred_model3.pred_test_avg.mean())\n",
    "scores1 = np.array(scores1)\n",
    "scores2 = np.array(scores2)\n",
    "scores3 = np.array(scores3)"
   ]
  },
  {
   "cell_type": "code",
   "execution_count": 89,
   "metadata": {},
   "outputs": [
    {
     "name": "stderr",
     "output_type": "stream",
     "text": [
      "/camp/home/warnert/.conda/envs/blip_manu/lib/python3.7/site-packages/numpy/core/function_base.py:153: RuntimeWarning: invalid value encountered in multiply\n",
      "  y *= step\n",
      "/camp/home/warnert/.conda/envs/blip_manu/lib/python3.7/site-packages/numpy/lib/function_base.py:2449: RuntimeWarning: invalid value encountered in subtract\n",
      "  X -= avg[:, None]\n",
      "/camp/home/warnert/.conda/envs/blip_manu/lib/python3.7/site-packages/numpy/linalg/linalg.py:2116: RuntimeWarning: invalid value encountered in det\n",
      "  r = _umath_linalg.det(a, signature=signature)\n",
      "/camp/home/warnert/.conda/envs/blip_manu/lib/python3.7/site-packages/matplotlib/mlab.py:1542: RuntimeWarning: invalid value encountered in subtract\n",
      "  diff = self.dataset - points[:, i, np.newaxis]\n"
     ]
    },
    {
     "data": {
      "text/plain": [
       "{'bodies': [<matplotlib.collections.PolyCollection at 0x7f3e71ca5eb8>,\n",
       "  <matplotlib.collections.PolyCollection at 0x7f3e2aa1aba8>,\n",
       "  <matplotlib.collections.PolyCollection at 0x7f3e2aa1ae10>],\n",
       " 'cmaxes': <matplotlib.collections.LineCollection at 0x7f3e2aa1a780>,\n",
       " 'cmins': <matplotlib.collections.LineCollection at 0x7f3e2aa2b048>,\n",
       " 'cbars': <matplotlib.collections.LineCollection at 0x7f3e2aa2b278>}"
      ]
     },
     "execution_count": 89,
     "metadata": {},
     "output_type": "execute_result"
    },
    {
     "data": {
      "image/png": "[encoded data removed]",
      "text/plain": [
       "<Figure size 432x288 with 1 Axes>"
      ]
     },
     "metadata": {
      "needs_background": "light"
     },
     "output_type": "display_data"
    }
   ],
   "source": [
    "plt.violinplot([np.log10(scores1), np.log10(scores2), np.log10(scores3)], vert=False)"
   ]
  },
  {
   "cell_type": "code",
   "execution_count": 103,
   "metadata": {},
   "outputs": [
    {
     "data": {
      "text/plain": [
       "{'bodies': [<matplotlib.collections.PolyCollection at 0x7f3e298cb5c0>,\n",
       "  <matplotlib.collections.PolyCollection at 0x7f3e298cb898>],\n",
       " 'cmaxes': <matplotlib.collections.LineCollection at 0x7f3e298cb4a8>,\n",
       " 'cmins': <matplotlib.collections.LineCollection at 0x7f3e298cbac8>,\n",
       " 'cbars': <matplotlib.collections.LineCollection at 0x7f3e298cbcf8>}"
      ]
     },
     "execution_count": 103,
     "metadata": {},
     "output_type": "execute_result"
    },
    {
     "data": {
      "image/png": "[encoded data removed]",
      "text/plain": [
       "<Figure size 432x288 with 1 Axes>"
      ]
     },
     "metadata": {
      "needs_background": "light"
     },
     "output_type": "display_data"
    }
   ],
   "source": [
    "reduced_full_respinding_units = np.array([np.where(good_indexes == i)[0][0] for i in full_responding_units])\n",
    "plt.violinplot([np.log10(scores1)[reduced_full_respinding_units], np.log10(scores_full1)])"
   ]
  },
  {
   "cell_type": "code",
   "execution_count": 112,
   "metadata": {},
   "outputs": [
    {
     "data": {
      "image/png": "[encoded data removed]",
      "text/plain": [
       "<Figure size 432x288 with 1 Axes>"
      ]
     },
     "metadata": {
      "needs_background": "light"
     },
     "output_type": "display_data"
    }
   ],
   "source": [
    "def slope_plot(data):\n",
    "    mean_data = np.mean(data, axis=1)\n",
    "    plt.plot(mean_data)\n",
    "    for j in range(len(data)):\n",
    "        plt.scatter([j for i in range(len(data[j]))], data[j], alpha=0.5, color='grey')\n",
    "\n",
    "data = []\n",
    "slope_plot(np.array([scores1[reduced_full_respinding_units], scores_full1]))"
   ]
  },
  {
   "cell_type": "code",
   "execution_count": 168,
   "metadata": {},
   "outputs": [
    {
     "name": "stderr",
     "output_type": "stream",
     "text": [
      "/home/camp/warnert/working/Recordings/binary_pulses/blip_analysis/exp_blip_models.py:85: RuntimeWarning: overflow encountered in power\n",
      "  return np.array([np.power((i-j), 2) for i, j in zip(true_resp, pred_resp)])/vars\n",
      "/home/camp/warnert/working/Recordings/binary_pulses/blip_analysis/exp_blip_models.py:104: RuntimeWarning: overflow encountered in exp\n",
      "  pred_firing = np.exp(inter_exp)\n",
      "/home/camp/warnert/working/Recordings/binary_pulses/blip_analysis/exp_blip_models.py:69: RuntimeWarning: divide by zero encountered in log\n",
      "  return np.sum(pred_response-true_response*np.log(pred_response))\n",
      "/home/camp/warnert/working/Recordings/binary_pulses/blip_analysis/exp_blip_models.py:69: RuntimeWarning: invalid value encountered in subtract\n",
      "  return np.sum(pred_response-true_response*np.log(pred_response))\n",
      "/camp/home/warnert/.conda/envs/blip_manu/lib/python3.7/site-packages/ipykernel_launcher.py:92: RuntimeWarning: divide by zero encountered in double_scalars\n",
      "/camp/home/warnert/.conda/envs/blip_manu/lib/python3.7/site-packages/ipykernel_launcher.py:100: RuntimeWarning: invalid value encountered in matmul\n",
      "/camp/home/warnert/.conda/envs/blip_manu/lib/python3.7/site-packages/ipykernel_launcher.py:91: RuntimeWarning: invalid value encountered in double_scalars\n",
      "/camp/home/warnert/.conda/envs/blip_manu/lib/python3.7/site-packages/ipykernel_launcher.py:92: RuntimeWarning: invalid value encountered in double_scalars\n",
      "/camp/home/warnert/.conda/envs/blip_manu/lib/python3.7/site-packages/ipykernel_launcher.py:107: RuntimeWarning: invalid value encountered in matmul\n"
     ]
    }
   ],
   "source": [
    "all_scores1 = []\n",
    "all_scores2 = []\n",
    "all_scores3 = []\n",
    "for ratio_schema in ['pred_trial', 'pred_trial_diff']:\n",
    "    for exclude_t in [True, False]:\n",
    "        for negative_ratio in [True, False]:\n",
    "            for ui in good_indexes:\n",
    "\n",
    "                pred_model1 = pred_other_odour_split(full_models2[ui], full_models3[ui], full_models1[ui], unit_usrt1, ui, ratio_schema=ratio_schema, exclude_t=exclude_t, negative_ratio=negative_ratio)\n",
    "                pred_model2 = pred_other_odour_split(full_models1[ui], full_models3[ui], full_models2[ui], unit_usrt2, ui, ratio_schema=ratio_schema, exclude_t=exclude_t, negative_ratio=negative_ratio)\n",
    "                pred_model3 = pred_other_odour_split(full_models2[ui], full_models1[ui], full_models3[ui], unit_usrt3, ui, ratio_schema=ratio_schema, exclude_t=exclude_t, negative_ratio=negative_ratio)\n",
    "                pred_model_score1 = pred_model1.pred_test_avg\n",
    "                pred_model_score1 = np.mean(pred_model_score1[np.isfinite(pred_model_score1)])\n",
    "                pred_model_score2 = pred_model2.pred_test_avg\n",
    "                pred_model_score2 = np.mean(pred_model_score2[np.isfinite(pred_model_score2)])\n",
    "                pred_model_score3 = pred_model3.pred_test_avg\n",
    "                pred_model_score3 = np.mean(pred_model_score3[np.isfinite(pred_model_score3)])\n",
    "                all_scores1.append(pred_model_score1)\n",
    "                all_scores2.append(pred_model_score2)\n",
    "                all_scores3.append(pred_model_score3)\n",
    "all_scores1 = np.array(all_scores1)\n",
    "all_scores2 = np.array(all_scores2)\n",
    "all_scores3 = np.array(all_scores3)"
   ]
  },
  {
   "cell_type": "code",
   "execution_count": 169,
   "metadata": {},
   "outputs": [],
   "source": [
    "all_scores1 = all_scores1.reshape(2, 2, 2, 130)\n",
    "all_scores2 = all_scores2.reshape(2, 2, 2, 130)\n",
    "all_scores3 = all_scores3.reshape(2, 2, 2, 130)"
   ]
  },
  {
   "cell_type": "code",
   "execution_count": 163,
   "metadata": {},
   "outputs": [
    {
     "name": "stdout",
     "output_type": "stream",
     "text": [
      "[74.82666667 48.42666667 58.59555556 57.90666667 70.84888889 89.76\n",
      " 56.18222222 55.98222222 60.78222222 62.31555556 42.76       49.90666667\n",
      " 31.84       32.99555556 37.84888889 49.44       66.77333333 85.78222222\n",
      " 31.98222222 54.79555556 49.72888889 56.44888889 70.93333333 48.88888889\n",
      " 55.98222222 53.26222222 48.64       49.22666667 44.04       55.39555556\n",
      " 52.02222222 58.29333333]\n"
     ]
    }
   ],
   "source": [
    "print(pred_model1.unit_sr_var)"
   ]
  },
  {
   "cell_type": "code",
   "execution_count": 187,
   "metadata": {},
   "outputs": [],
   "source": [
    "mean_all_scores1 = np.nanmean(all_scores1.min(axis=-1), axis=-1)\n",
    "mean_all_scores2 = np.nanmean(all_scores2.min(axis=-1), axis=-1)\n",
    "mean_all_scores3 = np.nanmean(all_scores3.min(axis=-1), axis=-1)\n",
    "\n",
    "mean_responding_scores1 = np.nanmean(all_scores1[:, :, :, reduced_full_respinding_units].min(axis=-1), axis=-1)\n",
    "mean_responding_scores2 = np.nanmean(all_scores2[:, :, :, reduced_full_respinding_units].min(axis=-1), axis=-1)\n",
    "mean_responding_scores3 = np.nanmean(all_scores3[:, :, :, reduced_full_respinding_units].min(axis=-1), axis=-1)\n",
    "\n",
    "neged_all_scores1 = all_scores1.min(axis=2)\n",
    "neged_all_scores2 = all_scores2.min(axis=2)\n",
    "neged_all_scores3 = all_scores3.min(axis=2)\n",
    "\n",
    "neged_resp_scores1 = all_scores1[:, :, :, reduced_full_respinding_units].min(axis=2)\n",
    "neged_resp_scores2 = all_scores2[:, :, :, reduced_full_respinding_units].min(axis=2)\n",
    "neged_resp_scores3 = all_scores3[:, :, :, reduced_full_respinding_units].min(axis=2)"
   ]
  },
  {
   "cell_type": "code",
   "execution_count": 224,
   "metadata": {},
   "outputs": [
    {
     "name": "stdout",
     "output_type": "stream",
     "text": [
      "0.5117975945372205 0.6282106206284613\n"
     ]
    }
   ],
   "source": [
    "print(np.median(neged_all_scores1.reshape(4, -1)[0]), np.median(neged_resp_scores1.reshape(4, 44)[0]))"
   ]
  },
  {
   "cell_type": "code",
   "execution_count": 205,
   "metadata": {},
   "outputs": [],
   "source": [
    "def quartile_plot(xs, data):\n",
    "    mean_data = np.median(data, axis=1)\n",
    "    lower_quartile = [np.quantile(i, 0.25) for i in data]\n",
    "    upper_quartile = [np.quantile(i, .75) for i in data]\n",
    "    lower_quartile = mean_data - lower_quartile\n",
    "    upper_quartile = upper_quartile - mean_data\n",
    "    print(len(data), len(lower_quartile))\n",
    "    \n",
    "    plt.errorbar(xs, mean_data, yerr=(lower_quartile, upper_quartile), fmt='o')"
   ]
  },
  {
   "cell_type": "code",
   "execution_count": 231,
   "metadata": {},
   "outputs": [
    {
     "name": "stdout",
     "output_type": "stream",
     "text": [
      "4 4\n",
      "4 4\n",
      "4 4\n"
     ]
    },
    {
     "data": {
      "text/plain": [
       "Text(0, 0.5, 'Log10(fit score)')"
      ]
     },
     "execution_count": 231,
     "metadata": {},
     "output_type": "execute_result"
    },
    {
     "data": {
      "image/png": "[encoded data removed]",
      "text/plain": [
       "<Figure size 432x288 with 1 Axes>"
      ]
     },
     "metadata": {
      "needs_background": "light"
     },
     "output_type": "display_data"
    }
   ],
   "source": [
    "# quartile_plot(np.arange(-0.25, 4-0.25), np.log10(neged_all_scores1.reshape(4, 130)))\n",
    "# quartile_plot(np.arange(-0.15, 4-0.15), np.log10(neged_all_scores2.reshape(4, 130)))\n",
    "# quartile_plot(np.arange(-0.05, 4-0.05), np.log10(neged_all_scores3.reshape(4, 130)))\n",
    "quartile_plot(np.arange(0.05, 4.05), np.log10(neged_resp_scores1.reshape(4, 44)))\n",
    "quartile_plot(np.arange(0.15, 4.15), np.log10(neged_resp_scores2.reshape(4, 44)))\n",
    "quartile_plot(np.arange(0.25, 4.25), np.log10(neged_resp_scores3.reshape(4, 44)))\n",
    "plt.xticks(range(4), labels=['pred trial - exlude_t', 'pred_trial - include_t', 'pred_trial_diff - exclude_t', 'pred_trial_diff - include_t'], rotation=90)\n",
    "plt.ylabel('Log10(fit score)')"
   ]
  },
  {
   "cell_type": "code",
   "execution_count": null,
   "metadata": {},
   "outputs": [],
   "source": []
  },
  {
   "cell_type": "code",
   "execution_count": 228,
   "metadata": {},
   "outputs": [
    {
     "name": "stdout",
     "output_type": "stream",
     "text": [
      "Ttest_indResult(statistic=-0.7629525516682358, pvalue=0.44757946226450407)\n",
      "Ttest_indResult(statistic=0.8814740869423701, pvalue=0.3805182489135053)\n",
      "Ttest_indResult(statistic=0.6417171796076406, pvalue=0.5227635845175054)\n",
      "Ttest_indResult(statistic=-0.9582599569784038, pvalue=0.34061793073818314)\n",
      "Ttest_indResult(statistic=-0.8396190222392819, pvalue=0.4034500543792833)\n",
      "Ttest_indResult(statistic=-0.6813690044571236, pvalue=0.4974687609041366)\n",
      "Ttest_indResult(statistic=-1.7702086505262888, pvalue=0.08023631685752525)\n",
      "Ttest_indResult(statistic=0.09546882132690364, pvalue=0.9241645597803467)\n",
      "Ttest_indResult(statistic=-0.7653639002058177, pvalue=0.44615025183424295)\n",
      "Ttest_indResult(statistic=-0.8786154559269578, pvalue=0.38205805384081815)\n",
      "Ttest_indResult(statistic=-0.9849808369430355, pvalue=0.32739653847860795)\n",
      "Ttest_indResult(statistic=-0.9322312739472806, pvalue=0.3538268285033003)\n",
      "Ttest_indResult(statistic=-1.489553884526369, pvalue=0.13999992329975328)\n",
      "Ttest_indResult(statistic=-1.8060946333888799, pvalue=0.07440191839473582)\n",
      "Ttest_indResult(statistic=-1.2352073107993236, pvalue=0.22011724180878176)\n",
      "Ttest_indResult(statistic=0.6846835810931928, pvalue=0.49538475005451277)\n",
      "Ttest_indResult(statistic=0.863391449530574, pvalue=0.3903238128061527)\n",
      "Ttest_indResult(statistic=0.17826977242670236, pvalue=0.8589303834623511)\n"
     ]
    }
   ],
   "source": [
    "for i in range(3):\n",
    "    for j in range(i+1, 4):\n",
    "        print(ttest_ind(np.log10(neged_resp_scores1.reshape(4, 44)[i]), np.log10(neged_resp_scores1.reshape(4, 44)[j])))\n",
    "        print(ttest_ind(np.log10(neged_resp_scores2.reshape(4, 44)[i]), np.log10(neged_resp_scores2.reshape(4, 44)[j])))\n",
    "        print(ttest_ind(np.log10(neged_resp_scores3.reshape(4, 44)[i]), np.log10(neged_resp_scores3.reshape(4, 44)[j])))"
   ]
  },
  {
   "cell_type": "code",
   "execution_count": 188,
   "metadata": {},
   "outputs": [
    {
     "data": {
      "text/plain": [
       "Text(0, 0.5, 'Log10(Fit score)')"
      ]
     },
     "execution_count": 188,
     "metadata": {},
     "output_type": "execute_result"
    },
    {
     "data": {
      "image/png": "[encoded data removed]",
      "text/plain": [
       "<Figure size 432x288 with 1 Axes>"
      ]
     },
     "metadata": {
      "needs_background": "light"
     },
     "output_type": "display_data"
    }
   ],
   "source": [
    "plt.plot(np.log10(mean_all_scores1.flatten()))\n",
    "plt.plot(np.log10(mean_all_scores2.flatten()))\n",
    "plt.plot(np.log10(mean_all_scores3.flatten()))\n",
    "\n",
    "plt.plot(np.log10(mean_responding_scores1.flatten()))\n",
    "plt.plot(np.log10(mean_responding_scores2.flatten()))\n",
    "plt.plot(np.log10(mean_responding_scores3.flatten()))\n",
    "\n",
    "plt.ylabel('Log10(Fit score)')\n"
   ]
  },
  {
   "cell_type": "code",
   "execution_count": 192,
   "metadata": {},
   "outputs": [
    {
     "data": {
      "image/png": "[encoded data removed]",
      "text/plain": [
       "<Figure size 432x288 with 1 Axes>"
      ]
     },
     "metadata": {
      "needs_background": "light"
     },
     "output_type": "display_data"
    }
   ],
   "source": [
    "def slope_plot(data):\n",
    "    mean_data = np.mean(data, axis=1)\n",
    "    plt.plot(mean_data)\n",
    "    for j in range(len(data)):\n",
    "        plt.scatter([j for i in range(len(data[j]))], data[j], alpha=0.5, color='grey')\n",
    "\n",
    "slope_plot(np.log10(neged_all_scores1.reshape(4, 130)))\n",
    "slope_plot(np.log10(neged_all_scores2.reshape(4, 130)))\n",
    "slope_plot(np.log10(neged_all_scores3.reshape(4, 130)))\n",
    "slope_plot(np.log10(neged_resp_scores1.reshape(4, 44)))\n",
    "slope_plot(np.log10(neged_resp_scores2.reshape(4, 44)))\n",
    "slope_plot(np.log10(neged_resp_scores3.reshape(4, 44)))"
   ]
  },
  {
   "cell_type": "code",
   "execution_count": 147,
   "metadata": {},
   "outputs": [
    {
     "name": "stdout",
     "output_type": "stream",
     "text": [
      "(array([0, 0, 0, 0, 0, 0, 0, 0, 0, 0, 0, 0, 0, 0, 0, 0, 0, 0, 0, 0, 0, 0,\n",
      "       0, 0, 1, 1, 1, 1, 1, 1, 1, 1, 1, 1, 1, 1, 1, 1, 1, 1, 1, 1, 1]), array([0, 0, 0, 0, 0, 0, 0, 0, 0, 0, 0, 0, 0, 1, 1, 1, 1, 1, 1, 1, 1, 1,\n",
      "       1, 1, 0, 0, 0, 0, 0, 0, 0, 0, 1, 1, 1, 1, 1, 1, 1, 1, 1, 1, 1]), array([0, 0, 0, 0, 0, 0, 0, 0, 0, 0, 0, 1, 1, 0, 0, 0, 0, 0, 0, 0, 0, 0,\n",
      "       0, 0, 0, 0, 0, 0, 0, 1, 1, 1, 0, 0, 0, 0, 0, 0, 0, 0, 0, 0, 0]), array([ 17,  48,  50,  58,  59,  80, 107, 111, 123, 126, 128,  30,  49,\n",
      "        39,  45,  48,  49,  52,  58,  71,  86, 107, 119, 124,  33, 104,\n",
      "       110, 111, 123,  30,  44,  45,   1,  36,  37,  40,  47,  48,  72,\n",
      "        76,  81,  91, 111]))\n"
     ]
    }
   ],
   "source": [
    "print(np.where(all_scores1 == np.max(all_scores1)))"
   ]
  },
  {
   "cell_type": "code",
   "execution_count": 149,
   "metadata": {},
   "outputs": [],
   "source": [
    "test_model = pred_other_odour_split(full_models2[ui], full_models3[ui], full_models1[ui], unit_usrt1, good_indexes[17], ratio_schema='pred_trial', exclude_t=True, negative_ratio=True)"
   ]
  },
  {
   "cell_type": "code",
   "execution_count": 151,
   "metadata": {},
   "outputs": [
    {
     "data": {
      "text/plain": [
       "0.8839889501614597"
      ]
     },
     "execution_count": 151,
     "metadata": {},
     "output_type": "execute_result"
    }
   ],
   "source": [
    "np.mean(test_model.pred_test_avg)"
   ]
  },
  {
   "cell_type": "code",
   "execution_count": null,
   "metadata": {},
   "outputs": [],
   "source": []
  }
 ],
 "metadata": {
  "kernelspec": {
   "display_name": "Python 3",
   "language": "python",
   "name": "python3"
  },
  "language_info": {
   "codemirror_mode": {
    "name": "ipython",
    "version": 3
   },
   "file_extension": ".py",
   "mimetype": "text/x-python",
   "name": "python",
   "nbconvert_exporter": "python",
   "pygments_lexer": "ipython3",
   "version": "3.7.3"
  },
  "vscode": {
   "interpreter": {
    "hash": "ffa59c630a18ee6a23737b9c50856d2054378dc4afe1e999cec46d2ba8492ecc"
   }
  }
 },
 "nbformat": 4,
 "nbformat_minor": 4
}
