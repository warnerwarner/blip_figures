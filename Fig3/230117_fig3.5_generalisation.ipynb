{
 "cells": [
  {
   "cell_type": "code",
   "execution_count": 1,
   "metadata": {},
   "outputs": [
    {
     "name": "stdout",
     "output_type": "stream",
     "text": [
      "b\n",
      "b\n"
     ]
    }
   ],
   "source": [
    "import numpy as np\n",
    "from sklearn.model_selection import train_test_split, GridSearchCV, StratifiedShuffleSplit\n",
    "from sklearn.svm import LinearSVC\n",
    "import matplotlib.pyplot as plt\n",
    "from matplotlib.gridspec import GridSpec\n",
    "from tqdm import tqdm, trange\n",
    "from sklearn.metrics import confusion_matrix\n",
    "from scipy.stats import poisson, norm\n",
    "from copy import deepcopy\n",
    "from mpl_toolkits.axes_grid1 import make_axes_locatable\n",
    "from sklearn.decomposition import PCA\n",
    "import sys\n",
    "import pickle\n",
    "import blip_analysis as ba\n",
    "import exp_blip_models as em\n",
    "from scipy.cluster.hierarchy import dendrogram, linkage\n",
    "import daskify\n",
    "import dask\n",
    "from scipy.stats import skewnorm, mannwhitneyu\n",
    "import scipy\n",
    "import matplotlib\n",
    "from sklearn.manifold import LocallyLinearEmbedding, MDS\n",
    "matplotlib.rcParams['pdf.fonttype'] = 42\n",
    "matplotlib.rcParams['ps.fonttype'] = 42\n",
    "from scipy.spatial import distance_matrix\n",
    "import openephys as oe\n",
    "from scipy.stats import ttest_ind\n",
    "import importlib\n",
    "importlib.reload(em)\n",
    "importlib.reload(ba)\n",
    "sys.path.append('label_axes')\n",
    "from label_axes import label_axes"
   ]
  },
  {
   "cell_type": "code",
   "execution_count": 2,
   "metadata": {},
   "outputs": [
    {
     "name": "stdout",
     "output_type": "stream",
     "text": [
      "Found odour 1\n",
      "Found odour 3\n",
      "Found odour 5\n"
     ]
    }
   ],
   "source": [
    "unit_usrt1, unit_usrt2, unit_usrt3 = ba.load_usrts()"
   ]
  },
  {
   "cell_type": "code",
   "execution_count": 3,
   "metadata": {},
   "outputs": [],
   "source": [
    "good_indexes = ba.get_stable_resp_indexes()\n",
    "glyphs = ba.get_glyphs()"
   ]
  },
  {
   "cell_type": "code",
   "execution_count": 4,
   "metadata": {},
   "outputs": [],
   "source": [
    "\n",
    "model = em.ExponentialCustomTrialArray(unit_usrt1, good_indexes[0], em.trial_arrays['diff_array'])\n"
   ]
  },
  {
   "cell_type": "code",
   "execution_count": null,
   "metadata": {},
   "outputs": [],
   "source": []
  },
  {
   "cell_type": "code",
   "execution_count": 4,
   "metadata": {},
   "outputs": [
    {
     "name": "stderr",
     "output_type": "stream",
     "text": [
      "                                               \r"
     ]
    }
   ],
   "source": [
    "witheld_scores1 = []\n",
    "witheld_scores2 = []\n",
    "witheld_scores3 = []\n",
    "witheld_preds1 = []\n",
    "witheld_preds2 = []\n",
    "witheld_preds3 = []\n",
    "red_preds1 = []\n",
    "red_preds2 = []\n",
    "red_preds3 = []\n",
    "true_resp1 = []\n",
    "true_resp2 = []\n",
    "true_resp3 = []\n",
    "\n",
    "for i in trange(32, position=0, leave=False):\n",
    "    for ui in good_indexes:\n",
    "        model1 = em.ExponentialCustomTrialArray(unit_usrt1, ui, em.trial_arrays['diff_array'])\n",
    "\n",
    "        witheld_score, pred_red, pred_witheld = model1.fit_withold_trials(i)\n",
    "        witheld_scores1.append(witheld_score)\n",
    "        witheld_preds1.append(pred_witheld)\n",
    "        red_preds1.append(pred_red)\n",
    "        true_resp1.append(model1.true_resp)\n",
    "        model2 = em.ExponentialCustomTrialArray(unit_usrt2, ui, em.trial_arrays['diff_array'])\n",
    "        witheld_score, pred_red, pred_witheld= model2.fit_withold_trials(i)\n",
    "        witheld_scores2.append(witheld_score)\n",
    "        witheld_preds2.append(pred_witheld)\n",
    "        red_preds2.append(pred_red)\n",
    "        true_resp2.append(model2.true_resp)\n",
    "        model3 = em.ExponentialCustomTrialArray(unit_usrt3, ui, em.trial_arrays['diff_array'])\n",
    "        witheld_score, pred_red, pred_witheld = model3.fit_withold_trials(i)\n",
    "        witheld_scores3.append(witheld_score)\n",
    "        witheld_preds3.append(pred_witheld)\n",
    "        red_preds3.append(pred_red)\n",
    "        true_resp3.append(model3.true_resp)\n",
    "witheld_scores1 = np.array(witheld_scores1).reshape(32, 130)\n",
    "witheld_scores2 = np.array(witheld_scores2).reshape(32, 130)\n",
    "witheld_scores3 = np.array(witheld_scores3).reshape(32, 130)"
   ]
  },
  {
   "cell_type": "code",
   "execution_count": 5,
   "metadata": {},
   "outputs": [],
   "source": [
    "withheld_scores_joined = np.concatenate([witheld_scores1, witheld_scores2, witheld_scores3], axis=1)\n"
   ]
  },
  {
   "cell_type": "code",
   "execution_count": 6,
   "metadata": {},
   "outputs": [],
   "source": [
    "witheld_order1 = np.argsort(np.median(np.log10(witheld_scores1), axis=1))\n",
    "witheld_order2 = np.argsort(np.median(np.log10(witheld_scores2), axis=1))\n",
    "witheld_order3 = np.argsort(np.median(np.log10(witheld_scores3), axis=1))\n",
    "witheld_order_joined = np.argsort(np.median(np.log10(withheld_scores_joined), axis=1))"
   ]
  },
  {
   "cell_type": "code",
   "execution_count": 24,
   "metadata": {},
   "outputs": [
    {
     "data": {
      "text/plain": [
       "Text(0, 0.5, 'Log(Fit error)')"
      ]
     },
     "execution_count": 24,
     "metadata": {},
     "output_type": "execute_result"
    },
    {
     "data": {
      "image/png": "[encoded data removed]",
      "text/plain": [
       "<Figure size 432x288 with 1 Axes>"
      ]
     },
     "metadata": {
      "needs_background": "light"
     },
     "output_type": "display_data"
    }
   ],
   "source": [
    "fig = plt.figure()\n",
    "ax = fig.add_subplot(111)\n",
    "ax.boxplot(np.log10(witheld_scores1)[witheld_order1].T, showfliers=False);\n",
    "ax.set_xticklabels(np.array(glyphs)[witheld_order1], rotation=90);\n",
    "plt.ylabel('Log(Fit error)')"
   ]
  },
  {
   "cell_type": "code",
   "execution_count": null,
   "metadata": {},
   "outputs": [],
   "source": []
  },
  {
   "cell_type": "code",
   "execution_count": 25,
   "metadata": {},
   "outputs": [],
   "source": [
    "#print(witheld_scores.shape)\n",
    "def plot_single_trial_removal_error(ax, witheld_scores, sort_order='median'):\n",
    "    if sort_order == 'median':\n",
    "        sort_index = np.argsort(np.median(witheld_scores, axis=1))\n",
    "    elif sort_order == 'mean':\n",
    "        sort_index = np.argsort(np.mean(witheld_scores, axis=1))\n",
    "    \n",
    "    ax.boxplot(witheld_scores[sort_index].T, showfliers=False)\n",
    "    ax.set_xticklabels(np.array(glyphs)[sort_index], rotation=90, fontsize=5)\n",
    "    ax.set_ylabel('Log(Fit error)')\n",
    "# fig = plt.figure()\n",
    "# ax = fig.add_subplot(111)\n",
    "# plot_single_trial_removal_error(ax, np.log10(witheld_scores))\n"
   ]
  },
  {
   "cell_type": "code",
   "execution_count": 9,
   "metadata": {},
   "outputs": [
    {
     "ename": "NameError",
     "evalue": "name 'witheld_scores' is not defined",
     "output_type": "error",
     "traceback": [
      "\u001b[0;31m---------------------------------------------------------------------------\u001b[0m",
      "\u001b[0;31mNameError\u001b[0m                                 Traceback (most recent call last)",
      "\u001b[0;32m<ipython-input-9-04164e1e809c>\u001b[0m in \u001b[0;36m<module>\u001b[0;34m()\u001b[0m\n\u001b[1;32m      1\u001b[0m \u001b[0mfig\u001b[0m \u001b[0;34m=\u001b[0m \u001b[0mplt\u001b[0m\u001b[0;34m.\u001b[0m\u001b[0mfigure\u001b[0m\u001b[0;34m(\u001b[0m\u001b[0;34m)\u001b[0m\u001b[0;34m\u001b[0m\u001b[0;34m\u001b[0m\u001b[0m\n\u001b[1;32m      2\u001b[0m \u001b[0max\u001b[0m \u001b[0;34m=\u001b[0m \u001b[0mfig\u001b[0m\u001b[0;34m.\u001b[0m\u001b[0madd_subplot\u001b[0m\u001b[0;34m(\u001b[0m\u001b[0;36m111\u001b[0m\u001b[0;34m)\u001b[0m\u001b[0;34m\u001b[0m\u001b[0;34m\u001b[0m\u001b[0m\n\u001b[0;32m----> 3\u001b[0;31m \u001b[0mplot_single_trial_removal_error\u001b[0m\u001b[0;34m(\u001b[0m\u001b[0max\u001b[0m\u001b[0;34m,\u001b[0m \u001b[0mnp\u001b[0m\u001b[0;34m.\u001b[0m\u001b[0mlog10\u001b[0m\u001b[0;34m(\u001b[0m\u001b[0mwitheld_scores\u001b[0m\u001b[0;34m)\u001b[0m\u001b[0;34m)\u001b[0m\u001b[0;34m\u001b[0m\u001b[0;34m\u001b[0m\u001b[0m\n\u001b[0m",
      "\u001b[0;31mNameError\u001b[0m: name 'witheld_scores' is not defined"
     ]
    },
    {
     "data": {
      "image/png": "[encoded data removed]",
      "text/plain": [
       "<Figure size 432x288 with 1 Axes>"
      ]
     },
     "metadata": {
      "needs_background": "light"
     },
     "output_type": "display_data"
    }
   ],
   "source": [
    "fig = plt.figure()\n",
    "ax = fig.add_subplot(111)\n",
    "plot_single_trial_removal_error(ax, np.log10(witheld_scores))"
   ]
  },
  {
   "cell_type": "code",
   "execution_count": 39,
   "metadata": {},
   "outputs": [
    {
     "name": "stdout",
     "output_type": "stream",
     "text": [
      "31.0\n"
     ]
    }
   ],
   "source": [
    "print(len(witheld_scores)/130)"
   ]
  },
  {
   "cell_type": "code",
   "execution_count": 26,
   "metadata": {},
   "outputs": [
    {
     "name": "stderr",
     "output_type": "stream",
     "text": [
      "                                       \r"
     ]
    },
    {
     "ename": "ValueError",
     "evalue": "operands could not be broadcast together with shapes (2,) (30,) ",
     "output_type": "error",
     "traceback": [
      "\u001b[0;31m---------------------------------------------------------------------------\u001b[0m",
      "\u001b[0;31mValueError\u001b[0m                                Traceback (most recent call last)",
      "\u001b[0;32m<ipython-input-26-091002ac177a>\u001b[0m in \u001b[0;36m<module>\u001b[0;34m()\u001b[0m\n\u001b[1;32m      6\u001b[0m         \u001b[0mnp\u001b[0m\u001b[0;34m.\u001b[0m\u001b[0mrandom\u001b[0m\u001b[0;34m.\u001b[0m\u001b[0mshuffle\u001b[0m\u001b[0;34m(\u001b[0m\u001b[0mtrial_order\u001b[0m\u001b[0;34m)\u001b[0m\u001b[0;34m\u001b[0m\u001b[0;34m\u001b[0m\u001b[0m\n\u001b[1;32m      7\u001b[0m         \u001b[0;32mfor\u001b[0m \u001b[0mj\u001b[0m \u001b[0;32min\u001b[0m \u001b[0mrange\u001b[0m\u001b[0;34m(\u001b[0m\u001b[0;36m1\u001b[0m\u001b[0;34m,\u001b[0m \u001b[0;36m32\u001b[0m\u001b[0;34m)\u001b[0m\u001b[0;34m:\u001b[0m\u001b[0;34m\u001b[0m\u001b[0;34m\u001b[0m\u001b[0m\n\u001b[0;32m----> 8\u001b[0;31m             \u001b[0mwitheld_score\u001b[0m \u001b[0;34m=\u001b[0m \u001b[0mnp\u001b[0m\u001b[0;34m.\u001b[0m\u001b[0mmean\u001b[0m\u001b[0;34m(\u001b[0m\u001b[0mmodel1\u001b[0m\u001b[0;34m.\u001b[0m\u001b[0mfit_withold_trials\u001b[0m\u001b[0;34m(\u001b[0m\u001b[0mtrial_order\u001b[0m\u001b[0;34m[\u001b[0m\u001b[0;34m:\u001b[0m\u001b[0mj\u001b[0m\u001b[0;34m]\u001b[0m\u001b[0;34m)\u001b[0m\u001b[0;34m)\u001b[0m\u001b[0;34m\u001b[0m\u001b[0;34m\u001b[0m\u001b[0m\n\u001b[0m\u001b[1;32m      9\u001b[0m             \u001b[0mincreasing_scores\u001b[0m\u001b[0;34m.\u001b[0m\u001b[0mappend\u001b[0m\u001b[0;34m(\u001b[0m\u001b[0mwitheld_score\u001b[0m\u001b[0;34m)\u001b[0m\u001b[0;34m\u001b[0m\u001b[0;34m\u001b[0m\u001b[0m\n\u001b[1;32m     10\u001b[0m \u001b[0mincreasing_scores\u001b[0m \u001b[0;34m=\u001b[0m \u001b[0mnp\u001b[0m\u001b[0;34m.\u001b[0m\u001b[0marray\u001b[0m\u001b[0;34m(\u001b[0m\u001b[0mincreasing_scores\u001b[0m\u001b[0;34m)\u001b[0m\u001b[0;34m.\u001b[0m\u001b[0mreshape\u001b[0m\u001b[0;34m(\u001b[0m\u001b[0;36m44\u001b[0m\u001b[0;34m,\u001b[0m \u001b[0;36m100\u001b[0m\u001b[0;34m,\u001b[0m \u001b[0;36m31\u001b[0m\u001b[0;34m)\u001b[0m\u001b[0;34m\u001b[0m\u001b[0;34m\u001b[0m\u001b[0m\n",
      "\u001b[0;32m<__array_function__ internals>\u001b[0m in \u001b[0;36mmean\u001b[0;34m(*args, **kwargs)\u001b[0m\n",
      "\u001b[0;32m/camp/home/warnert/.conda/envs/blip_manu/lib/python3.7/site-packages/numpy/core/fromnumeric.py\u001b[0m in \u001b[0;36mmean\u001b[0;34m(a, axis, dtype, out, keepdims)\u001b[0m\n\u001b[1;32m   3333\u001b[0m \u001b[0;34m\u001b[0m\u001b[0m\n\u001b[1;32m   3334\u001b[0m     return _methods._mean(a, axis=axis, dtype=dtype,\n\u001b[0;32m-> 3335\u001b[0;31m                           out=out, **kwargs)\n\u001b[0m\u001b[1;32m   3336\u001b[0m \u001b[0;34m\u001b[0m\u001b[0m\n\u001b[1;32m   3337\u001b[0m \u001b[0;34m\u001b[0m\u001b[0m\n",
      "\u001b[0;32m/camp/home/warnert/.conda/envs/blip_manu/lib/python3.7/site-packages/numpy/core/_methods.py\u001b[0m in \u001b[0;36m_mean\u001b[0;34m(a, axis, dtype, out, keepdims)\u001b[0m\n\u001b[1;32m    149\u001b[0m             \u001b[0mis_float16_result\u001b[0m \u001b[0;34m=\u001b[0m \u001b[0;32mTrue\u001b[0m\u001b[0;34m\u001b[0m\u001b[0;34m\u001b[0m\u001b[0m\n\u001b[1;32m    150\u001b[0m \u001b[0;34m\u001b[0m\u001b[0m\n\u001b[0;32m--> 151\u001b[0;31m     \u001b[0mret\u001b[0m \u001b[0;34m=\u001b[0m \u001b[0mumr_sum\u001b[0m\u001b[0;34m(\u001b[0m\u001b[0marr\u001b[0m\u001b[0;34m,\u001b[0m \u001b[0maxis\u001b[0m\u001b[0;34m,\u001b[0m \u001b[0mdtype\u001b[0m\u001b[0;34m,\u001b[0m \u001b[0mout\u001b[0m\u001b[0;34m,\u001b[0m \u001b[0mkeepdims\u001b[0m\u001b[0;34m)\u001b[0m\u001b[0;34m\u001b[0m\u001b[0;34m\u001b[0m\u001b[0m\n\u001b[0m\u001b[1;32m    152\u001b[0m     \u001b[0;32mif\u001b[0m \u001b[0misinstance\u001b[0m\u001b[0;34m(\u001b[0m\u001b[0mret\u001b[0m\u001b[0;34m,\u001b[0m \u001b[0mmu\u001b[0m\u001b[0;34m.\u001b[0m\u001b[0mndarray\u001b[0m\u001b[0;34m)\u001b[0m\u001b[0;34m:\u001b[0m\u001b[0;34m\u001b[0m\u001b[0;34m\u001b[0m\u001b[0m\n\u001b[1;32m    153\u001b[0m         ret = um.true_divide(\n",
      "\u001b[0;31mValueError\u001b[0m: operands could not be broadcast together with shapes (2,) (30,) "
     ]
    }
   ],
   "source": [
    "increasing_scores = []\n",
    "for ui in tqdm(good_indexes, leave=False, position=0):\n",
    "    model1 = em.ExponentialCustomTrialArray(unit_usrt1, ui, em.trial_arrays['diff_array'])\n",
    "    for i in range(100):\n",
    "        trial_order = np.arange(32)\n",
    "        np.random.shuffle(trial_order)\n",
    "        for j in range(1, 32):\n",
    "            witheld_score = np.mean(model1.fit_withold_trials(trial_order[:j]))\n",
    "            increasing_scores.append(witheld_score)\n",
    "increasing_scores = np.array(increasing_scores).reshape(44, 100, 31)"
   ]
  },
  {
   "cell_type": "code",
   "execution_count": 15,
   "metadata": {},
   "outputs": [
    {
     "name": "stdout",
     "output_type": "stream",
     "text": [
      "[ 0  1  3  4  5  6  7  8  9 10 11 12 13 14 15 16 17 18 19 20 21 22 23 24\n",
      " 25 26 27 28 29 30]\n"
     ]
    }
   ],
   "source": [
    "removed_index = [31, 2]\n",
    "trial_array = np.arange(32)\n",
    "mask = np.full(32, True)\n",
    "mask[removed_index] = False\n",
    "removed_array = trial_array[mask]\n",
    "print(removed_array)\n",
    "\n"
   ]
  },
  {
   "cell_type": "code",
   "execution_count": 28,
   "metadata": {},
   "outputs": [
    {
     "data": {
      "text/plain": [
       "-0.18109844370992895"
      ]
     },
     "execution_count": 28,
     "metadata": {},
     "output_type": "execute_result"
    }
   ],
   "source": [
    "[1, 1, 1, 1, 1] @ model.opt_out.x[:5]"
   ]
  },
  {
   "cell_type": "code",
   "execution_count": 11,
   "metadata": {},
   "outputs": [
    {
     "name": "stderr",
     "output_type": "stream",
     "text": [
      "/camp/home/warnert/.conda/envs/blip_manu/lib/python3.7/site-packages/distributed/node.py:155: UserWarning: Port 8787 is already in use.\n",
      "Perhaps you already have a cluster running?\n",
      "Hosting the HTTP server on port 38376 instead\n",
      "  http_address[\"port\"], self.http_server.port\n"
     ]
    }
   ],
   "source": [
    "dasked = daskify.Daskified()\n",
    "dasked.start_cluster()\n",
    "client = dasked.client"
   ]
  },
  {
   "cell_type": "code",
   "execution_count": 12,
   "metadata": {},
   "outputs": [],
   "source": [
    "def dask_increasing_witheld(unit_usrt_scattered, trial_array, ui, witheld_trials):\n",
    "    model = em.ExponentialCustomTrialArray(unit_usrt_scattered, ui, trial_array)\n",
    "    model_fit_scores, _, _ = model.fit_withold_trials(witheld_trials)\n",
    "    witheld_score = np.mean(model_fit_scores)\n",
    "    return witheld_score"
   ]
  },
  {
   "cell_type": "code",
   "execution_count": 17,
   "metadata": {},
   "outputs": [
    {
     "data": {
      "text/plain": [
       "0.2708930326206137"
      ]
     },
     "execution_count": 17,
     "metadata": {},
     "output_type": "execute_result"
    }
   ],
   "source": [
    "dask_increasing_witheld(unit_usrt1, em.trial_arrays['diff_array'], good_indexes[0], [1,2,3,4,5])"
   ]
  },
  {
   "cell_type": "code",
   "execution_count": 14,
   "metadata": {},
   "outputs": [],
   "source": [
    "unit_usrt1_scattered = client.scatter(unit_usrt1)\n",
    "diff_array_scattered = client.scatter(em.trial_arrays['diff_array'])"
   ]
  },
  {
   "cell_type": "code",
   "execution_count": 15,
   "metadata": {},
   "outputs": [],
   "source": [
    "unit_usrt2_scattered = client.scatter(unit_usrt2)\n",
    "unit_usrt3_scattered = client.scatter(unit_usrt3)"
   ]
  },
  {
   "cell_type": "code",
   "execution_count": 103,
   "metadata": {},
   "outputs": [
    {
     "name": "stderr",
     "output_type": "stream",
     "text": [
      "                                                 \r"
     ]
    }
   ],
   "source": [
    "dask_delays = []\n",
    "for ui in tqdm(good_indexes, leave=False, position=0):\n",
    "    for i in range(100):\n",
    "        trial_order = np.arange(32)\n",
    "        np.random.shuffle(trial_order)\n",
    "        for j in range(1, 32):\n",
    "            dask_delays.append(dask.delayed(dask_increasing_witheld)(unit_usrt3_scattered, diff_array_scattered, ui, trial_order[:j]))\n",
    "\n"
   ]
  },
  {
   "cell_type": "code",
   "execution_count": 21,
   "metadata": {},
   "outputs": [
    {
     "name": "stdout",
     "output_type": "stream",
     "text": [
      "403000\n"
     ]
    }
   ],
   "source": [
    "print(len(dask_delays))"
   ]
  },
  {
   "cell_type": "code",
   "execution_count": 104,
   "metadata": {},
   "outputs": [],
   "source": [
    "dask_outs = client.compute(dask_delays)\n",
    "dasked.current_futures = dask_outs"
   ]
  },
  {
   "cell_type": "code",
   "execution_count": 108,
   "metadata": {},
   "outputs": [
    {
     "name": "stdout",
     "output_type": "stream",
     "text": [
      "finished 403000\n"
     ]
    }
   ],
   "source": [
    "dasked.check_progress()"
   ]
  },
  {
   "cell_type": "code",
   "execution_count": 27,
   "metadata": {},
   "outputs": [
    {
     "data": {
      "text/plain": [
       "4.951072244896314"
      ]
     },
     "execution_count": 27,
     "metadata": {},
     "output_type": "execute_result"
    }
   ],
   "source": [
    "dask_increasing_witheld(unit_usrt1, em.trial_arrays['diff_array'], ui, trial_order[:j])"
   ]
  },
  {
   "cell_type": "code",
   "execution_count": 39,
   "metadata": {},
   "outputs": [
    {
     "name": "stderr",
     "output_type": "stream",
     "text": [
      "                                                        \r"
     ]
    }
   ],
   "source": [
    "removing_trials_res = np.array([i.result() for i in tqdm(dask_outs, leave=False, position=0)])"
   ]
  },
  {
   "cell_type": "code",
   "execution_count": 109,
   "metadata": {},
   "outputs": [],
   "source": [
    "removing_trials_res3 = client.gather(dask_outs)"
   ]
  },
  {
   "cell_type": "code",
   "execution_count": 40,
   "metadata": {},
   "outputs": [],
   "source": [
    "removing_trials_res = removing_trials_res.reshape(130, 100, 31)"
   ]
  },
  {
   "cell_type": "code",
   "execution_count": 102,
   "metadata": {},
   "outputs": [],
   "source": [
    "removing_trials_res2 = np.array(removing_trials_res2).reshape(130, 100, 31)"
   ]
  },
  {
   "cell_type": "code",
   "execution_count": 110,
   "metadata": {},
   "outputs": [],
   "source": [
    "removing_trials_res3 = np.array(removing_trials_res3).reshape(130, 100, 31)"
   ]
  },
  {
   "cell_type": "code",
   "execution_count": 58,
   "metadata": {},
   "outputs": [
    {
     "data": {
      "image/png": "[encoded data removed]",
      "text/plain": [
       "<Figure size 432x288 with 1 Axes>"
      ]
     },
     "metadata": {
      "needs_background": "light"
     },
     "output_type": "display_data"
    }
   ],
   "source": [
    "mean_removing_trials = np.mean(removing_trials_res, axis=1)\n",
    "plt.boxplot(np.log10(mean_removing_trials), showfliers=False);\n"
   ]
  },
  {
   "cell_type": "code",
   "execution_count": 118,
   "metadata": {},
   "outputs": [
    {
     "data": {
      "image/png": "[encoded data removed]",
      "text/plain": [
       "<Figure size 432x288 with 1 Axes>"
      ]
     },
     "metadata": {
      "needs_background": "light"
     },
     "output_type": "display_data"
    }
   ],
   "source": [
    "mean_removing_trials1 = np.mean(removing_trials_res, axis=1)\n",
    "mean_removing_trials2 = np.mean(removing_trials_res2, axis=1)\n",
    "mean_removing_trials3 = np.mean(removing_trials_res3, axis=1)\n",
    "\n",
    "mins1 = np.log10(np.mean(mean_removing_trials1, axis=0) - np.min(mean_removing_trials1, axis=0))\n",
    "maxs1 = np.log10(np.max(mean_removing_trials1, axis=0) - np.mean(mean_removing_trials1, axis=0))\n",
    "mins2 = np.log10(np.mean(mean_removing_trials2, axis=0) - np.min(mean_removing_trials2, axis=0))\n",
    "maxs2 = np.log10(np.max(mean_removing_trials2, axis=0) - np.mean(mean_removing_trials2, axis=0))\n",
    "mins3 = np.log10(np.mean(mean_removing_trials3, axis=0) - np.min(mean_removing_trials3, axis=0))\n",
    "maxs3 = np.log10(np.max(mean_removing_trials3, axis=0) - np.mean(mean_removing_trials3, axis=0))\n",
    "\n",
    "fig = plt.figure()\n",
    "ax = fig.add_subplot(111)\n",
    "ax.fill_between(range(31), mins1, maxs1, alpha=0.5)\n",
    "ax.plot(np.log10(mean_removing_trials1.mean(axis=0)));\n",
    "ax.fill_between(range(31), mins2, maxs2, alpha=0.5)\n",
    "ax.plot(np.log10(mean_removing_trials2.mean(axis=0)));\n",
    "ax.fill_between(range(31), mins3, maxs3, alpha=0.5)\n",
    "ax.plot(np.log10(mean_removing_trials3.mean(axis=0)));\n",
    "plt."
   ]
  },
  {
   "cell_type": "code",
   "execution_count": 135,
   "metadata": {},
   "outputs": [
    {
     "name": "stdout",
     "output_type": "stream",
     "text": [
      "(3, 130, 100, 31)\n"
     ]
    }
   ],
   "source": [
    "joined_removing_res = np.array([removing_trials_res, removing_trials_res2, removing_trials_res3])\n",
    "print(joined_removing_res.shape)"
   ]
  },
  {
   "cell_type": "code",
   "execution_count": 136,
   "metadata": {},
   "outputs": [],
   "source": [
    "np.save('230118_removing_trial_res.npy', joined_removing_res)"
   ]
  },
  {
   "cell_type": "code",
   "execution_count": 27,
   "metadata": {},
   "outputs": [],
   "source": [
    "joined_removing_res = np.load('230118_removing_trial_res.npy')\n",
    "removing_trials_res1 = joined_removing_res[0]\n",
    "removing_trials_res2 = joined_removing_res[1]\n",
    "removing_trials_res3 = joined_removing_res[2]"
   ]
  },
  {
   "cell_type": "code",
   "execution_count": 11,
   "metadata": {},
   "outputs": [
    {
     "ename": "NameError",
     "evalue": "name 'mean_removing_trials' is not defined",
     "output_type": "error",
     "traceback": [
      "\u001b[0;31m---------------------------------------------------------------------------\u001b[0m",
      "\u001b[0;31mNameError\u001b[0m                                 Traceback (most recent call last)",
      "\u001b[0;32m<ipython-input-11-c613c117535a>\u001b[0m in \u001b[0;36m<module>\u001b[0;34m()\u001b[0m\n\u001b[0;32m----> 1\u001b[0;31m \u001b[0mprint\u001b[0m\u001b[0;34m(\u001b[0m\u001b[0mnp\u001b[0m\u001b[0;34m.\u001b[0m\u001b[0mmedian\u001b[0m\u001b[0;34m(\u001b[0m\u001b[0mmean_removing_trials\u001b[0m\u001b[0;34m,\u001b[0m \u001b[0maxis\u001b[0m\u001b[0;34m=\u001b[0m\u001b[0;36m0\u001b[0m\u001b[0;34m)\u001b[0m\u001b[0;34m)\u001b[0m\u001b[0;34m\u001b[0m\u001b[0;34m\u001b[0m\u001b[0m\n\u001b[0m",
      "\u001b[0;31mNameError\u001b[0m: name 'mean_removing_trials' is not defined"
     ]
    }
   ],
   "source": [
    "print(np.median(mean_removing_trials, axis=0))"
   ]
  },
  {
   "cell_type": "code",
   "execution_count": 12,
   "metadata": {},
   "outputs": [
    {
     "name": "stdout",
     "output_type": "stream",
     "text": [
      "(130, 100, 31)\n"
     ]
    }
   ],
   "source": [
    "print(removing_trials_res1.shape)"
   ]
  },
  {
   "cell_type": "code",
   "execution_count": 28,
   "metadata": {},
   "outputs": [
    {
     "name": "stdout",
     "output_type": "stream",
     "text": [
      "test\n"
     ]
    },
    {
     "data": {
      "text/plain": [
       "<matplotlib.legend.Legend at 0x7fd58bfeea58>"
      ]
     },
     "execution_count": 28,
     "metadata": {},
     "output_type": "execute_result"
    },
    {
     "data": {
      "image/png": "[encoded data removed]",
      "text/plain": [
       "<Figure size 432x288 with 1 Axes>"
      ]
     },
     "metadata": {
      "needs_background": "light"
     },
     "output_type": "display_data"
    }
   ],
   "source": [
    "def plot_removing_trials_acc(ax, removing_trial_res, shaded=True, label=None):\n",
    "    mean_trial = np.mean(removing_trial_res, axis=1)\n",
    "    mean_mean_trial = np.mean(mean_trial, axis=0)\n",
    "\n",
    "    mins = np.min(mean_trial, axis=0)\n",
    "    maxs = np.max(mean_trial, axis=0)\n",
    "\n",
    "\n",
    "    if shaded:\n",
    "        print(label)\n",
    "        ax.plot(range(1, len(mean_mean_trial)+1), np.log10(mean_mean_trial)[::-1], label=label)\n",
    "        ax.fill_between(range(1, len(mean_mean_trial)+1), np.log10(mins[::-1]), np.log10(maxs[::-1]), alpha=0.5)\n",
    "    else:\n",
    "        mins = np.log10(mean_mean_trial) - np.log10(mins)\n",
    "        maxs = np.log10(maxs)-np.log10(mean_mean_trial)\n",
    "        ax.errorbar(range(1, len(mean_mean_trial)+1), np.log10(mean_mean_trial)[::-1], yerr=(mins[::-1], maxs[::-1]), elinewidth=1, capsize=2, label=label)\n",
    "fig = plt.figure()\n",
    "ax = fig.add_subplot(111)\n",
    "plot_removing_trials_acc(ax, removing_trials_res1, shaded=True, label='test')\n",
    "plot_removing_trials_acc(ax, removing_trials_res2, shaded=False)\n",
    "plot_removing_trials_acc(ax, removing_trials_res3, shaded=False)\n",
    "ax.set_xlabel('Number of trial patterns')\n",
    "ax.set_ylabel('Log(Fit error)')\n",
    "\n",
    "ax.plot([1], label='a')\n",
    "ax.legend()"
   ]
  },
  {
   "cell_type": "code",
   "execution_count": 29,
   "metadata": {},
   "outputs": [
    {
     "ename": "NameError",
     "evalue": "name 'mean_removing_trials' is not defined",
     "output_type": "error",
     "traceback": [
      "\u001b[0;31m---------------------------------------------------------------------------\u001b[0m",
      "\u001b[0;31mNameError\u001b[0m                                 Traceback (most recent call last)",
      "\u001b[0;32m<ipython-input-29-97cb42b53507>\u001b[0m in \u001b[0;36m<module>\u001b[0;34m()\u001b[0m\n\u001b[0;32m----> 1\u001b[0;31m \u001b[0mmins\u001b[0m \u001b[0;34m=\u001b[0m \u001b[0mnp\u001b[0m\u001b[0;34m.\u001b[0m\u001b[0mmean\u001b[0m\u001b[0;34m(\u001b[0m\u001b[0mmean_removing_trials\u001b[0m\u001b[0;34m,\u001b[0m \u001b[0maxis\u001b[0m\u001b[0;34m=\u001b[0m\u001b[0;36m0\u001b[0m\u001b[0;34m)\u001b[0m \u001b[0;34m-\u001b[0m \u001b[0mnp\u001b[0m\u001b[0;34m.\u001b[0m\u001b[0mmin\u001b[0m\u001b[0;34m(\u001b[0m\u001b[0mmean_removing_trials\u001b[0m\u001b[0;34m,\u001b[0m \u001b[0maxis\u001b[0m\u001b[0;34m=\u001b[0m\u001b[0;36m0\u001b[0m\u001b[0;34m)\u001b[0m\u001b[0;34m\u001b[0m\u001b[0;34m\u001b[0m\u001b[0m\n\u001b[0m\u001b[1;32m      2\u001b[0m \u001b[0mmaxs\u001b[0m \u001b[0;34m=\u001b[0m \u001b[0mnp\u001b[0m\u001b[0;34m.\u001b[0m\u001b[0mmax\u001b[0m\u001b[0;34m(\u001b[0m\u001b[0mmean_removing_trials\u001b[0m\u001b[0;34m,\u001b[0m \u001b[0maxis\u001b[0m\u001b[0;34m=\u001b[0m\u001b[0;36m0\u001b[0m\u001b[0;34m)\u001b[0m \u001b[0;34m-\u001b[0m \u001b[0mnp\u001b[0m\u001b[0;34m.\u001b[0m\u001b[0mmean\u001b[0m\u001b[0;34m(\u001b[0m\u001b[0mmean_removing_trials\u001b[0m\u001b[0;34m,\u001b[0m \u001b[0maxis\u001b[0m\u001b[0;34m=\u001b[0m\u001b[0;36m0\u001b[0m\u001b[0;34m)\u001b[0m\u001b[0;34m\u001b[0m\u001b[0;34m\u001b[0m\u001b[0m\n\u001b[1;32m      3\u001b[0m \u001b[0;34m\u001b[0m\u001b[0m\n\u001b[1;32m      4\u001b[0m \u001b[0mplt\u001b[0m\u001b[0;34m.\u001b[0m\u001b[0merrorbar\u001b[0m\u001b[0;34m(\u001b[0m\u001b[0mrange\u001b[0m\u001b[0;34m(\u001b[0m\u001b[0;36m31\u001b[0m\u001b[0;34m)\u001b[0m\u001b[0;34m,\u001b[0m \u001b[0mnp\u001b[0m\u001b[0;34m.\u001b[0m\u001b[0mlog10\u001b[0m\u001b[0;34m(\u001b[0m\u001b[0mnp\u001b[0m\u001b[0;34m.\u001b[0m\u001b[0mmean\u001b[0m\u001b[0;34m(\u001b[0m\u001b[0mmean_removing_trials\u001b[0m\u001b[0;34m,\u001b[0m \u001b[0maxis\u001b[0m\u001b[0;34m=\u001b[0m\u001b[0;36m0\u001b[0m\u001b[0;34m)\u001b[0m\u001b[0;34m)\u001b[0m\u001b[0;34m,\u001b[0m \u001b[0myerr\u001b[0m\u001b[0;34m=\u001b[0m\u001b[0;34m(\u001b[0m\u001b[0mnp\u001b[0m\u001b[0;34m.\u001b[0m\u001b[0mlog10\u001b[0m\u001b[0;34m(\u001b[0m\u001b[0mmins\u001b[0m\u001b[0;34m)\u001b[0m\u001b[0;34m,\u001b[0m \u001b[0mnp\u001b[0m\u001b[0;34m.\u001b[0m\u001b[0mlog10\u001b[0m\u001b[0;34m(\u001b[0m\u001b[0mmaxs\u001b[0m\u001b[0;34m)\u001b[0m\u001b[0;34m)\u001b[0m\u001b[0;34m)\u001b[0m\u001b[0;34m\u001b[0m\u001b[0;34m\u001b[0m\u001b[0m\n",
      "\u001b[0;31mNameError\u001b[0m: name 'mean_removing_trials' is not defined"
     ]
    }
   ],
   "source": [
    "mins = np.mean(mean_removing_trials, axis=0) - np.min(mean_removing_trials, axis=0)\n",
    "maxs = np.max(mean_removing_trials, axis=0) - np.mean(mean_removing_trials, axis=0)\n",
    "\n",
    "plt.errorbar(range(31), np.log10(np.mean(mean_removing_trials, axis=0)), yerr=(np.log10(mins), np.log10(maxs)))\n"
   ]
  },
  {
   "cell_type": "code",
   "execution_count": 52,
   "metadata": {},
   "outputs": [
    {
     "data": {
      "text/plain": [
       "[<matplotlib.lines.Line2D at 0x7f4ba51118d0>]"
      ]
     },
     "execution_count": 52,
     "metadata": {},
     "output_type": "execute_result"
    },
    {
     "data": {
      "image/png": "[encoded data removed]",
      "text/plain": [
       "<Figure size 432x288 with 1 Axes>"
      ]
     },
     "metadata": {
      "needs_background": "light"
     },
     "output_type": "display_data"
    }
   ],
   "source": [
    "plt.plot(np.log10(mins))\n",
    "plt.plot(np.log10(np.mean(mean_removing_trials, axis=0)))\n",
    "plt.plot(np.log10(maxs))"
   ]
  },
  {
   "cell_type": "code",
   "execution_count": 57,
   "metadata": {},
   "outputs": [
    {
     "data": {
      "text/plain": [
       "[<matplotlib.lines.Line2D at 0x7f4ba5f38c18>]"
      ]
     },
     "execution_count": 57,
     "metadata": {},
     "output_type": "execute_result"
    },
    {
     "data": {
      "image/png": "[encoded data removed]",
      "text/plain": [
       "<Figure size 432x288 with 1 Axes>"
      ]
     },
     "metadata": {
      "needs_background": "light"
     },
     "output_type": "display_data"
    }
   ],
   "source": [
    "plt.fill_between(range(31), np.log10(mins), np.log10(maxs), alpha=0.5)\n",
    "plt.plot(np.log10(np.mean(mean_removing_trials, axis=0)), linewidth=3)"
   ]
  },
  {
   "cell_type": "code",
   "execution_count": 30,
   "metadata": {},
   "outputs": [],
   "source": [
    "bin1 = [1, 3, 5, 7, 9, 11, 13, 15, 17, 19, 21, 23, 25, 27, 29, 31]\n",
    "bin2 = [2, 3, 6, 7, 10, 11, 14, 15, 18, 19, 22, 23, 26, 27, 30, 31]\n",
    "bin3 = [4, 5, 6, 7, 12, 13, 14, 15,20, 21, 22, 23, 28, 29, 30, 31]\n",
    "bin4 = [8, 9, 10, 11, 12, 13, 14, 15, 24, 25, 26, 27, 28, 29, 30, 31]\n",
    "bin5 = list(range(16, 32))\n",
    "bin_removed = np.load('230119_trial_removed_bin_sets.npy')"
   ]
  },
  {
   "cell_type": "code",
   "execution_count": 31,
   "metadata": {},
   "outputs": [],
   "source": [
    "def plot_unseen_trial_response(ax, model, legend=False):\n",
    "    best_preds_red = []\n",
    "    best_preds_with = []\n",
    "    best_scores = []\n",
    "    inserted_arrays = []\n",
    "    for i in range(32):\n",
    "        score, preds_red, preds_with = model.fit_withold_trials(i)\n",
    "        best_scores.append(score)\n",
    "        best_preds_red.append(preds_red)\n",
    "        best_preds_with.append(preds_with)\n",
    "\n",
    "    \n",
    "    model.fit()\n",
    "    ax.plot(model.true_resp, 'o', label='True resp')\n",
    "    ax.plot(best_preds_with, 'o', label='Unseen prediction')\n",
    "    ax.plot(model.pred_resp, 'o', label='Seen prediction')\n",
    "    if legend:\n",
    "        ax.legend()"
   ]
  },
  {
   "cell_type": "code",
   "execution_count": 32,
   "metadata": {},
   "outputs": [
    {
     "name": "stdout",
     "output_type": "stream",
     "text": [
      "222\n",
      "253\n",
      "(array([340]),)\n"
     ]
    }
   ],
   "source": [
    "cell_mean_removed_scores1 = np.mean(removing_trials_res1[:, :, 0], axis=1)\n",
    "cell_mean_removed_scores2 = np.mean(removing_trials_res2[:, :, 0], axis=1)\n",
    "cell_mean_removed_scores3 = np.mean(removing_trials_res3[:, :, 0], axis=1)\n",
    "conc_scores = np.concatenate([cell_mean_removed_scores1, cell_mean_removed_scores2, cell_mean_removed_scores3])\n",
    "\n",
    "print(np.argmin(conc_scores))\n",
    "print(np.argmax(conc_scores))\n",
    "print(np.where(conc_scores == np.quantile(conc_scores, 0.5, interpolation='nearest')))\n",
    "best_fit_ui = good_indexes[222-130]\n",
    "worse_fit_ui = good_indexes[253-130]\n",
    "mid_fit_ui = good_indexes[340-260]"
   ]
  },
  {
   "cell_type": "code",
   "execution_count": 56,
   "metadata": {},
   "outputs": [
    {
     "data": {
      "image/png": "[encoded data removed]",
      "text/plain": [
       "<Figure size 597.6x842.4 with 10 Axes>"
      ]
     },
     "metadata": {
      "needs_background": "light"
     },
     "output_type": "display_data"
    }
   ],
   "source": [
    "fig = plt.figure(figsize=(8.3, 11.7))\n",
    "gs = GridSpec(4, 6, left=0.05, right=0.95, top=0.95, hspace=0.4)\n",
    "axes = []\n",
    "single_trial_acc_ax = fig.add_subplot(gs[0, :2])\n",
    "axes.append(single_trial_acc_ax)\n",
    "plot_single_trial_removal_error(single_trial_acc_ax, np.log10(withheld_scores_joined))\n",
    "number_of_trial_accs_ax = fig.add_subplot(gs[0, 2:4])\n",
    "axes.append(number_of_trial_accs_ax)\n",
    "plot_removing_trials_acc(number_of_trial_accs_ax, removing_trials_res1, shaded=False, label='Odour1')\n",
    "plot_removing_trials_acc(number_of_trial_accs_ax, removing_trials_res2, shaded=False, label='Odour2')\n",
    "plot_removing_trials_acc(number_of_trial_accs_ax, removing_trials_res3, shaded=False, label='Odour3')\n",
    "number_of_trial_accs_ax.set_xlabel('Number of trials used')\n",
    "number_of_trial_accs_ax.legend()\n",
    "\n",
    "bin_group_removing_ax = fig.add_subplot(gs[0, 4:])\n",
    "axes.append(bin_group_removing_ax)\n",
    "plot_removing_trials_acc(bin_group_removing_ax, bin_removed[4], shaded=False, label='Set 1')\n",
    "plot_removing_trials_acc(bin_group_removing_ax, bin_removed[3], shaded=False, label='Set 2')\n",
    "plot_removing_trials_acc(bin_group_removing_ax, bin_removed[2], shaded=False, label='Set 3')\n",
    "plot_removing_trials_acc(bin_group_removing_ax, bin_removed[1], shaded=False, label='Set 4')\n",
    "plot_removing_trials_acc(bin_group_removing_ax, bin_removed[0], shaded=False, label='Set 5')\n",
    "bin_group_removing_ax.legend()\n",
    "bin_group_removing_ax.set_xlabel('Number of Set trials used')\n",
    "\n",
    "best_fit_ui = good_indexes[222-130]\n",
    "worse_fit_ui = good_indexes[253-130]\n",
    "mid_fit_ui = good_indexes[340-260]\n",
    "removed_trial_example_ax1 = fig.add_subplot(gs[1, :2])\n",
    "removed_trial_example_ax2 = fig.add_subplot(gs[1, 2:4], sharey=removed_trial_example_ax1)\n",
    "removed_trial_example_ax3 = fig.add_subplot(gs[1, 4:], sharey=removed_trial_example_ax1)\n",
    "axes.append(removed_trial_example_ax1)\n",
    "axes.append(removed_trial_example_ax2)\n",
    "axes.append(removed_trial_example_ax3)\n",
    "model_best = em.ExponentialCustomTrialArray(unit_usrt2, best_fit_ui, em.trial_arrays['diff_array'])\n",
    "model_worst = em.ExponentialCustomTrialArray(unit_usrt2, worse_fit_ui, em.trial_arrays['diff_array'])\n",
    "model_mid = em.ExponentialCustomTrialArray(unit_usrt3, mid_fit_ui, em.trial_arrays['diff_array'])\n",
    "\n",
    "plot_unseen_trial_response(removed_trial_example_ax1, model_best)\n",
    "plot_unseen_trial_response(removed_trial_example_ax2, model_mid)\n",
    "plot_unseen_trial_response(removed_trial_example_ax3, model_worst, legend=True)\n",
    "removed_trial_example_ax1.set_ylabel('Firing rate (Hz)')\n",
    "\n",
    "pred_odour_dist_ax = fig.add_subplot(gs[2, :])\n",
    "axes.append(pred_odour_dist_ax)\n",
    "pred_odour_dist_ax.violinplot([log_pred_odor1, log_pred_odor2, log_pred_odor3], vert=False)\n",
    "pred_odour_dist_ax.axvline(np.log10(low_quart), linestyle='--', color='k')\n",
    "pred_odour_dist_ax.axvline(np.log10(mid_quart), linestyle='--', color='k')\n",
    "pred_odour_dist_ax.axvline(np.log10(high_quart), linestyle='--', color='k')\n",
    "pred_odour_dist_ax.set_xlabel('Log(Fit error)')\n",
    "pred_odour_dist_ax.set_yticks(range(1, 4))\n",
    "pred_odour_dist_ax.set_yticklabels(['Odour 1', 'Odour 2', 'Odour 3'])\n",
    "\n",
    "pred_odour_exp_ax1 = fig.add_subplot(gs[3, :2])\n",
    "pred_odour_exp_ax2 = fig.add_subplot(gs[3, 2:4], sharey=pred_odour_exp_ax1)\n",
    "pred_odour_exp_ax3 = fig.add_subplot(gs[3, 4:6], sharey=pred_odour_exp_ax1)\n",
    "axes.append(pred_odour_exp_ax1)\n",
    "axes.append(pred_odour_exp_ax2)\n",
    "axes.append(pred_odour_exp_ax3)\n",
    "\n",
    "\n",
    "plot_pred_odour_fit(pred_odour_exp_ax1, full_models1[97], pred_odour_model25)\n",
    "plot_pred_odour_fit(pred_odour_exp_ax2, full_models3[377-260], pred_odour_model50)\n",
    "plot_pred_odour_fit(pred_odour_exp_ax3, full_models3[345-260], pred_odour_model75)\n",
    "pred_odour_exp_ax1.set_ylabel('Firing rate (Hz)')\n",
    "\n",
    "labels = ['A', 'B', 'C', 'Di', 'ii', 'iii', 'E', 'Fi', 'ii', 'iii']\n",
    "label_axes.label_axes(axes, labels, fontsize=15, fontweight='bold', align_x=[[0,3, 6, 7], [1, 4, 8], [2, 5,9]], align_y=[[0, 1, 2], [3, 4, 5], [7, 8, 9]])"
   ]
  },
  {
   "cell_type": "code",
   "execution_count": 34,
   "metadata": {},
   "outputs": [],
   "source": [
    "### Unseen odour\n",
    "def pred_other_odour(model1, model2, model3, unit_usrt, ui, pred_trial = -1, ratio_schema = 'pred_trial', negative=False, exclude_t=True):\n",
    "    full_array = em.trial_arrays['diff_array']\n",
    "    if ratio_schema == 'pred_trial':\n",
    "        ratio_w1 = model1.true_resp[-1]/((model1.true_resp[-1]+model2.true_resp[-1]))\n",
    "        ratio_w2 = model2.true_resp[-1]/((model1.true_resp[-1]+model2.true_resp[-1]))\n",
    "    elif ratio_schema == 'mean':\n",
    "        ratio_w1 = np.mean(model1.true_resp)/((np.mean(model1.true_resp)+np.mean(model2.true_resp)))\n",
    "        ratio_w2 = np.mean(model2.true_resp)/((np.mean(model1.true_resp)+np.mean(model2.true_resp)))\n",
    "    elif ratio_schema == 'max':\n",
    "        if model1.true_resp[-1] > model2.true_resp[-1]:\n",
    "            ratio_w1 = 1\n",
    "            ratio_w2 = 0\n",
    "        else:\n",
    "            ratio_w1 = 0\n",
    "            ratio_w2 = 1\n",
    "    elif ratio_schema == 'pred_trial_diff':\n",
    "        model1_diff = abs(model1.true_resp[-1] - model1.true_resp[0])\n",
    "        model2_diff = abs(model2.true_resp[-1] - model2.true_resp[0])\n",
    "        ratio_w1 = model1_diff/(model1_diff+model2_diff)\n",
    "        ratio_w2 = model2_diff/(model1_diff+model1_diff)\n",
    "    if negative:\n",
    "        ratio_w2 = -ratio_w2\n",
    "    if exclude_t:\n",
    "        pred_ws = model1.opt_out.x[:-1]*ratio_w1 + model2.opt_out.x[:-1]*ratio_w2\n",
    "        avg_thresh = (model1.opt_out.x[-1] + model2.opt_out.x[-1])/2\n",
    "        pred_out = pred_ws @ full_array[pred_trial]\n",
    "        scale = (np.log(model3.true_resp[pred_trial]) - avg_thresh)/pred_out\n",
    "        pred_ws = scale*pred_ws\n",
    "        pred_ws = list(pred_ws) + [avg_thresh]\n",
    "    else:\n",
    "        pred_ws = model1.opt_out.x*ratio_w1 + model2.opt_out.x*ratio_w2\n",
    "        full_array_1 = np.append(full_array, np.ones((32, 1)), axis=1)\n",
    "        pred_out = pred_ws @ full_array_1[pred_trial]\n",
    "        scale = (np.log(model3.true_resp[pred_trial]))/pred_out\n",
    "        pred_ws = scale*pred_ws\n",
    "        \n",
    "\n",
    "    \n",
    "    model_test = em.ExponentialCustomTrialArray(unit_usrt, ui, full_array)\n",
    "    model_test.fit(W=pred_ws)\n",
    "    return model_test"
   ]
  },
  {
   "cell_type": "code",
   "execution_count": 35,
   "metadata": {},
   "outputs": [],
   "source": [
    "full_models1 = np.array(pickle.Unpickler(open('221209_full_models1.pkl', 'rb')).load())[good_indexes]\n",
    "full_models2 = np.array(pickle.Unpickler(open('221209_full_models2.pkl', 'rb')).load())[good_indexes]\n",
    "full_models3 = np.array(pickle.Unpickler(open('221209_full_models3.pkl', 'rb')).load())[good_indexes]"
   ]
  },
  {
   "cell_type": "code",
   "execution_count": 18,
   "metadata": {},
   "outputs": [
    {
     "data": {
      "text/plain": [
       "<exp_blip_models.ExponentialCustomTrialArray at 0x7fd5abc09898>"
      ]
     },
     "execution_count": 18,
     "metadata": {},
     "output_type": "execute_result"
    }
   ],
   "source": [
    "pred_other_odour(full_models1[0], full_models2[0], full_models3[0], unit_usrt3, good_indexes[0])"
   ]
  },
  {
   "cell_type": "code",
   "execution_count": 36,
   "metadata": {},
   "outputs": [
    {
     "name": "stderr",
     "output_type": "stream",
     "text": [
      "                                                 \r"
     ]
    }
   ],
   "source": [
    "pred_odours_score1 = []\n",
    "pred_odours_score2 = []\n",
    "pred_odours_score3 = []\n",
    "\n",
    "\n",
    "for i in trange(130, position=0, leave=False):\n",
    "    for ratio_schema in ['pred_trial', 'pred_trial_diff']:\n",
    "        for exclude_t in [True, False]:\n",
    "            for negative in [True, False]:\n",
    "                pred_model1 = pred_other_odour(full_models2[i], full_models3[i], full_models1[i], unit_usrt1, good_indexes[i], ratio_schema=ratio_schema, exclude_t=exclude_t, negative=negative)\n",
    "                pred_model2 = pred_other_odour(full_models1[i], full_models3[i], full_models2[i], unit_usrt2, good_indexes[i], ratio_schema=ratio_schema, exclude_t=exclude_t, negative=negative)\n",
    "                pred_model3 = pred_other_odour(full_models2[i], full_models1[i], full_models3[i], unit_usrt3, good_indexes[i], ratio_schema=ratio_schema, exclude_t=exclude_t, negative=negative)\n",
    "                pred_odours_score1.append(pred_model1.fit_score)\n",
    "                pred_odours_score2.append(pred_model2.fit_score)\n",
    "                pred_odours_score3.append(pred_model3.fit_score)\n"
   ]
  },
  {
   "cell_type": "code",
   "execution_count": 37,
   "metadata": {},
   "outputs": [],
   "source": [
    "pred_odours_score1 = np.array(pred_odours_score1).reshape(130, 2, 2, 2)\n",
    "pred_odours_score2 = np.array(pred_odours_score2).reshape(130, 2, 2, 2)\n",
    "pred_odours_score3 = np.array(pred_odours_score3).reshape(130, 2, 2, 2)\n",
    "\n",
    "pred_odours_score1 = np.min(pred_odours_score1, axis=-1)\n",
    "pred_odours_score2 = np.min(pred_odours_score2, axis=-1)\n",
    "pred_odours_score3 = np.min(pred_odours_score3, axis=-1)\n",
    "\n",
    "pred_odours_score1_flatten  = pred_odours_score1.reshape(130, -1)\n",
    "pred_odours_score2_flatten  = pred_odours_score2.reshape(130, -1)\n",
    "pred_odours_score3_flatten  = pred_odours_score3.reshape(130, -1)"
   ]
  },
  {
   "cell_type": "code",
   "execution_count": 38,
   "metadata": {},
   "outputs": [
    {
     "name": "stdout",
     "output_type": "stream",
     "text": [
      "10.0 5.259488779550939\n"
     ]
    }
   ],
   "source": [
    "## pred odour further work\n",
    "full_responding_units = []\n",
    "for i in range(130):\n",
    "    model1 = full_models1[i]\n",
    "    model2 = full_models2[i]\n",
    "    model3 = full_models3[i]\n",
    "    \n",
    "    odour1_resp_diff = abs(model1.true_resp[0] - model1.true_resp[-1])\n",
    "    odour2_resp_diff = abs(model2.true_resp[0] - model2.true_resp[-1])\n",
    "    odour3_resp_diff = abs(model3.true_resp[0] - model3.true_resp[-1])\n",
    "    \n",
    "    odour1_var = np.sqrt(model1.unit_sr_var[0])\n",
    "    odour2_var = np.sqrt(model2.unit_sr_var[0])\n",
    "    odour3_var = np.sqrt(model3.unit_sr_var[0])\n",
    "    if i == 41:\n",
    "        print(odour1_resp_diff, odour1_var)\n",
    "    if odour1_resp_diff > odour1_var and odour2_resp_diff > odour2_var and odour3_resp_diff > odour3_var:\n",
    "        full_responding_units.append(i)"
   ]
  },
  {
   "cell_type": "code",
   "execution_count": 220,
   "metadata": {},
   "outputs": [
    {
     "name": "stdout",
     "output_type": "stream",
     "text": [
      "44\n"
     ]
    }
   ],
   "source": [
    "print(len(full_responding_units))"
   ]
  },
  {
   "cell_type": "code",
   "execution_count": 39,
   "metadata": {},
   "outputs": [],
   "source": [
    "log_pred_odor1 = np.log10(pred_odours_score1[:, 0, 1])\n",
    "log_pred_odor2 = np.log10(pred_odours_score2[:, 0, 1])\n",
    "log_pred_odor3 = np.log10(pred_odours_score3[:, 0, 1])"
   ]
  },
  {
   "cell_type": "code",
   "execution_count": 64,
   "metadata": {},
   "outputs": [
    {
     "data": {
      "text/plain": [
       "Text(0, 0.5, 'Log(Fit error)')"
      ]
     },
     "execution_count": 64,
     "metadata": {},
     "output_type": "execute_result"
    },
    {
     "data": {
      "image/png": "[encoded data removed]",
      "text/plain": [
       "<Figure size 432x288 with 1 Axes>"
      ]
     },
     "metadata": {
      "needs_background": "light"
     },
     "output_type": "display_data"
    }
   ],
   "source": [
    "plt.violinplot([np.log10(pred_odours_score1[:, 0, 1]), np.log10(pred_odours_score2[:, 0, 1]), np.log10(pred_odours_score3[:, 0, 1]),\n",
    "               np.log10(pred_odours_score1[full_responding_units, 0, 1]), \n",
    "                np.log10(pred_odours_score2[full_responding_units, 0, 1]), \n",
    "                np.log10(pred_odours_score3[full_responding_units, 0, 1])])\n",
    "plt.xticks(range(1, 7), labels=['O1 full', 'O2 full', 'O3 full', 'O1 resp', 'O2 resp', 'O3 resp'])\n",
    "plt.ylabel('Log(Fit error)')"
   ]
  },
  {
   "cell_type": "code",
   "execution_count": 62,
   "metadata": {},
   "outputs": [
    {
     "name": "stdout",
     "output_type": "stream",
     "text": [
      "Ttest_indResult(statistic=-2.5998646114849686, pvalue=0.010136899752896708)\n",
      "Ttest_indResult(statistic=-2.9442473870739003, pvalue=0.003685177630689253)\n",
      "Ttest_indResult(statistic=-2.480856113413282, pvalue=0.014068013537777183)\n",
      "-0.3083149347784576 -0.07313843102967078\n"
     ]
    }
   ],
   "source": [
    "print(ttest_ind(np.log10(pred_odours_score1[:, 0, 1]), np.log10(pred_odours_score1[full_responding_units, 0, 1])))\n",
    "print(ttest_ind(np.log10(pred_odours_score2[:, 0, 1]), np.log10(pred_odours_score2[full_responding_units, 0, 1])))\n",
    "print(ttest_ind(np.log10(pred_odours_score3[:, 0, 1]), np.log10(pred_odours_score3[full_responding_units, 0, 1])))\n",
    "print(np.log10(pred_odours_score1[:, 0, 1]).mean(), np.log10(pred_odours_score1[full_responding_units, 0, 1]).mean())"
   ]
  },
  {
   "cell_type": "code",
   "execution_count": 43,
   "metadata": {},
   "outputs": [],
   "source": [
    "joined_dist = np.concatenate([pred_odours_score1[:, 0, 1], pred_odours_score2[:, 0, 1], pred_odours_score3[:, 0, 1]])"
   ]
  },
  {
   "cell_type": "code",
   "execution_count": 44,
   "metadata": {},
   "outputs": [
    {
     "name": "stdout",
     "output_type": "stream",
     "text": [
      "97\n",
      "377\n",
      "345\n"
     ]
    }
   ],
   "source": [
    "print(np.where(joined_dist == np.quantile(joined_dist, 0.25, interpolation='nearest'))[0][0])\n",
    "print(np.where(joined_dist == np.quantile(joined_dist, 0.5, interpolation='nearest'))[0][0])\n",
    "print(np.where(joined_dist == np.quantile(joined_dist, 0.75, interpolation='nearest'))[0][0])"
   ]
  },
  {
   "cell_type": "code",
   "execution_count": 45,
   "metadata": {},
   "outputs": [],
   "source": [
    "low_quart= np.quantile(joined_dist, 0.25, interpolation='nearest')\n",
    "mid_quart= np.quantile(joined_dist, 0.5, interpolation='nearest')\n",
    "high_quart= np.quantile(joined_dist, 0.75, interpolation='nearest')"
   ]
  },
  {
   "cell_type": "code",
   "execution_count": 46,
   "metadata": {},
   "outputs": [],
   "source": [
    "pred_odour_model25 = pred_other_odour(full_models2[97], full_models3[97], full_models1[97], unit_usrt1, good_indexes[97])\n",
    "pred_odour_model50 = pred_other_odour(full_models1[377-260], full_models2[377-260], full_models3[377-260], unit_usrt3, good_indexes[377-260])\n",
    "pred_odour_model75 = pred_other_odour(full_models1[345-260], full_models2[345-260], full_models3[345-260], unit_usrt3, good_indexes[345-260])"
   ]
  },
  {
   "cell_type": "code",
   "execution_count": 253,
   "metadata": {},
   "outputs": [
    {
     "data": {
      "text/plain": [
       "[<matplotlib.lines.Line2D at 0x7f538f1d9320>]"
      ]
     },
     "execution_count": 253,
     "metadata": {},
     "output_type": "execute_result"
    },
    {
     "data": {
      "image/png": "[encoded data removed]",
      "text/plain": [
       "<Figure size 432x288 with 1 Axes>"
      ]
     },
     "metadata": {
      "needs_background": "light"
     },
     "output_type": "display_data"
    },
    {
     "data": {
      "image/png": "[encoded data removed]",
      "text/plain": [
       "<Figure size 432x288 with 1 Axes>"
      ]
     },
     "metadata": {
      "needs_background": "light"
     },
     "output_type": "display_data"
    },
    {
     "data": {
      "image/png": "[encoded data removed]",
      "text/plain": [
       "<Figure size 432x288 with 1 Axes>"
      ]
     },
     "metadata": {
      "needs_background": "light"
     },
     "output_type": "display_data"
    }
   ],
   "source": [
    "full_models1[97].fit()\n",
    "full_models3[377-260].fit()\n",
    "full_models3[345-260].fit()\n",
    "plt.plot(pred_odour_model25.true_resp, 'o')\n",
    "plt.plot(pred_odour_model25.pred_resp, 'o')\n",
    "plt.plot(full_models1[97].pred_resp, 'o')\n",
    "plt.figure()\n",
    "plt.plot(pred_odour_model50.true_resp, 'o')\n",
    "plt.plot(pred_odour_model50.pred_resp, 'o')\n",
    "plt.plot(full_models3[377-260].pred_resp, 'o')\n",
    "plt.figure()\n",
    "plt.plot(pred_odour_model75.true_resp, 'o')\n",
    "plt.plot(pred_odour_model75.pred_resp, 'o')\n",
    "plt.plot(full_models3[345-260].pred_resp, 'o')"
   ]
  },
  {
   "cell_type": "code",
   "execution_count": 48,
   "metadata": {},
   "outputs": [],
   "source": [
    "def plot_pred_odour_fit(ax, full_model, odour_model):\n",
    "    full_model.fit()\n",
    "    ax.plot(odour_model.true_resp, 'o')\n",
    "    ax.plot(odour_model.pred_resp, 'o')\n",
    "    ax.plot(full_model.pred_resp, 'o')\n",
    "    ax.set_xticks(range(32))\n",
    "    ax.set_xticklabels(glyphs, rotation=90, fontsize=5)"
   ]
  },
  {
   "cell_type": "code",
   "execution_count": 210,
   "metadata": {},
   "outputs": [
    {
     "name": "stdout",
     "output_type": "stream",
     "text": [
      "Ttest_indResult(statistic=0.6787581685669609, pvalue=0.4978994970330909)\n",
      "Ttest_indResult(statistic=0.7249790459129539, pvalue=0.46912188521900267)\n",
      "Ttest_indResult(statistic=-1.002433643586263, pvalue=0.3170734375879851)\n",
      "\n",
      "\n",
      "Ttest_indResult(statistic=0.18857395845167285, pvalue=0.8505749892965596)\n",
      "Ttest_indResult(statistic=-0.9716149796330014, pvalue=0.3321521476586805)\n",
      "Ttest_indResult(statistic=0.14875931236255419, pvalue=0.8818597638280039)\n",
      "\n",
      "\n",
      "Ttest_indResult(statistic=-1.2336456290970161, pvalue=0.2184576489059235)\n",
      "Ttest_indResult(statistic=-2.3049076476496997, pvalue=0.021965980714906234)\n",
      "Ttest_indResult(statistic=-1.0059771291125998, pvalue=0.3153691134748929)\n",
      "\n",
      "\n",
      "Ttest_indResult(statistic=-0.5508893987633526, pvalue=0.5821862060562542)\n",
      "Ttest_indResult(statistic=-1.0549073272806964, pvalue=0.29245457184884266)\n",
      "Ttest_indResult(statistic=1.0060877908641381, pvalue=0.31531598571024466)\n",
      "\n",
      "\n",
      "Ttest_indResult(statistic=-1.2336456975201169, pvalue=0.2184576234409442)\n",
      "Ttest_indResult(statistic=-2.5306668131245598, pvalue=0.01197979424189379)\n",
      "Ttest_indResult(statistic=-0.987457620580953, pvalue=0.32434349392620754)\n",
      "\n",
      "\n",
      "Ttest_indResult(statistic=-1.2336456517684797, pvalue=0.21845764046829985)\n",
      "Ttest_indResult(statistic=-0.041888300912198494, pvalue=0.9666201409957951)\n",
      "Ttest_indResult(statistic=-1.0060437912917504, pvalue=0.31533710882200533)\n",
      "\n",
      "\n"
     ]
    }
   ],
   "source": [
    "for i in range(3):\n",
    "    for j in range(i+1, 4):\n",
    "        print(ttest_ind(pred_odours_score1_flatten[:, i], pred_odours_score1_flatten[:, j]))\n",
    "        print(ttest_ind(pred_odours_score2_flatten[:, i], pred_odours_score2_flatten[:, j]))\n",
    "        print(ttest_ind(pred_odours_score3_flatten[:, i], pred_odours_score3_flatten[:, j]))\n",
    "        print('\\n')"
   ]
  },
  {
   "cell_type": "code",
   "execution_count": null,
   "metadata": {},
   "outputs": [],
   "source": []
  }
 ],
 "metadata": {
  "kernelspec": {
   "display_name": "Python 3",
   "language": "python",
   "name": "python3"
  },
  "language_info": {
   "codemirror_mode": {
    "name": "ipython",
    "version": 3
   },
   "file_extension": ".py",
   "mimetype": "text/x-python",
   "name": "python",
   "nbconvert_exporter": "python",
   "pygments_lexer": "ipython3",
   "version": "3.7.3"
  }
 },
 "nbformat": 4,
 "nbformat_minor": 4
}
