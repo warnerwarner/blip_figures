{
 "cells": [
  {
   "cell_type": "code",
   "execution_count": 1,
   "metadata": {},
   "outputs": [
    {
     "name": "stdout",
     "output_type": "stream",
     "text": [
      "b\n"
     ]
    }
   ],
   "source": [
    "import sys\n",
    "import numpy as np\n",
    "import matplotlib.pyplot as plt\n",
    "import blip_analysis as ba\n",
    "import numpy as np\n",
    "import pickle\n",
    "from matplotlib.gridspec import GridSpec\n",
    "from sklearn.decomposition import PCA\n",
    "from copy import deepcopy\n",
    "from sklearn.cluster import KMeans\n",
    "from matplotlib.gridspec import GridSpec\n",
    "from label_axes import label_axes\n",
    "import matplotlib as mpl\n",
    "mpl.rcParams['pdf.fonttype'] = 42\n",
    "mpl.rcParams['ps.fonttype'] = 42"
   ]
  },
  {
   "cell_type": "code",
   "execution_count": 2,
   "metadata": {},
   "outputs": [
    {
     "name": "stdout",
     "output_type": "stream",
     "text": [
      "Found odour 1\n",
      "Found odour 3\n",
      "Found odour 5\n"
     ]
    }
   ],
   "source": [
    "### Load in data\n",
    "unit_usrt1, unit_usrt2, unit_usrt3 = ba.load_usrts()\n",
    "good_indexes = ba.get_stable_resp_indexes()\n",
    "glyphs = ba.get_glyphs()"
   ]
  },
  {
   "cell_type": "code",
   "execution_count": 3,
   "metadata": {},
   "outputs": [],
   "source": [
    "### Calculate the mean of the usrts\n",
    "unit_usrt_j = np.concatenate((unit_usrt1[good_indexes], unit_usrt2[good_indexes], unit_usrt3[good_indexes]), axis=0)\n",
    "mean_usrt1 = np.array([[i.mean() for i in j] for j in unit_usrt1[good_indexes]])\n",
    "mean_usrt2 = np.array([[i.mean() for i in j] for j in unit_usrt2[good_indexes]])\n",
    "mean_usrt3 = np.array([[i.mean() for i in j] for j in unit_usrt3[good_indexes]])\n",
    "mean_all_usrt = np.concatenate((mean_usrt1, mean_usrt2, mean_usrt3), axis=0)\n",
    "norm_mean_all_usrt = (mean_all_usrt - np.min(mean_all_usrt, axis=-1)[:, np.newaxis])/(np.max(mean_all_usrt, axis=-1)[:, np.newaxis] - np.min(mean_all_usrt, axis=-1)[: ,np.newaxis])"
   ]
  },
  {
   "cell_type": "code",
   "execution_count": 4,
   "metadata": {},
   "outputs": [],
   "source": [
    "### Load in the fit models\n",
    "diff_models1 = pickle.Unpickler(open('../Data/230320_diff_models1.pkl', 'rb')).load()\n",
    "diff_models2 = pickle.Unpickler(open('../Data/230320_diff_models2.pkl', 'rb')).load()\n",
    "diff_models3 = pickle.Unpickler(open('../Data/230320_diff_models3.pkl', 'rb')).load()\n",
    "onset_models1 = pickle.Unpickler(open('../Data/230320_onset_models1.pkl', 'rb')).load()\n",
    "conc_models1 = pickle.Unpickler(open('../Data/230320_conc_models1.pkl', 'rb')).load()\n",
    "diff_models_j = np.concatenate((diff_models1, diff_models2, diff_models3), axis=0)\n",
    "\n"
   ]
  },
  {
   "cell_type": "code",
   "execution_count": 5,
   "metadata": {},
   "outputs": [],
   "source": [
    "### Extract the bins\n",
    "bins1 = np.array([[j.x[:-1] for j in i.training_opts] for i in diff_models1]).mean(axis=1)\n",
    "bins2 = np.array([[j.x[:-1] for j in i.training_opts] for i in diff_models2]).mean(axis=1)\n",
    "bins3 = np.array([[j.x[:-1] for j in i.training_opts] for i in diff_models3]).mean(axis=1)\n",
    "\n",
    "all_preds = [i.pred_resp for i in diff_models1] + [i.pred_resp for i in diff_models2] + [i.pred_resp for i in diff_models3]\n",
    "all_trues = [i.true_resp for i in diff_models1] + [i.true_resp for i in diff_models2] + [i.true_resp for i in diff_models3]\n"
   ]
  },
  {
   "cell_type": "code",
   "execution_count": 6,
   "metadata": {},
   "outputs": [],
   "source": [
    "### Apply PCA to the bins\n",
    "pca1 = PCA(n_components=9)\n",
    "fit_bins1 = pca1.fit_transform(bins1)\n",
    "fit_1_pc12 = deepcopy(fit_bins1)\n",
    "fit_1_pc12[:, 2:] = 0\n",
    "bins_1_pc12 = pca1.inverse_transform(fit_1_pc12)\n",
    "\n",
    "\n",
    "pca2 = PCA(n_components=9)\n",
    "fit_bins2 = pca2.fit_transform(bins2)\n",
    "fit_2_pc12 = fit_bins2.copy()\n",
    "fit_2_pc12[:, 2:] = 0\n",
    "bins_2_pc12 = pca2.inverse_transform(fit_2_pc12)\n",
    "\n",
    "pca3 = PCA(n_components=9)\n",
    "fit_bins3 = pca3.fit_transform(bins3)\n",
    "fit_3_pc12 = fit_bins3.copy()\n",
    "fit_3_pc12[:, 2:] = 0\n",
    "bins_3_pc12 = pca3.inverse_transform(fit_3_pc12)\n",
    "\n",
    "pca_all = PCA(n_components=9)\n",
    "all_bins = np.concatenate([bins1 , bins2 , bins3], axis=0)\n",
    "fit_bins_all = pca_all.fit_transform(all_bins)\n",
    "fit_all_pc12 = fit_bins_all.copy()\n",
    "fit_all_pc12[:, 2:] = 0\n",
    "bins_all_pc12 = pca_all.inverse_transform(fit_all_pc12)"
   ]
  },
  {
   "cell_type": "code",
   "execution_count": 11,
   "metadata": {},
   "outputs": [],
   "source": [
    "\n",
    "def plot_selected_cell_response(usrt_joined, cell_index, ax=None, color='k', tickfontsize=5):\n",
    "    '''Plots the response of a single cell to all stimuli (part E)'''\n",
    "    if ax is None:\n",
    "        fig = plt.figure()\n",
    "        ax = fig.add_subplot(111)\n",
    "    select_cell = usrt_joined[cell_index]\n",
    "    cell_stds = [np.std(i.mean(axis=-1)) for i in select_cell]\n",
    "    cell_means = [np.mean(i.mean(axis=-1)) for i in select_cell]\n",
    "    ax.errorbar(range(32), cell_means, yerr=cell_stds, c=color, fmt='o', markersize=3, linewidth=1)\n",
    "    ax.set_xticks(range(32))\n",
    "    ax.set_xticklabels(glyphs, rotation=90, fontsize=tickfontsize)\n",
    "    ax.set_ylabel('Firing rate (Hz)')\n",
    "    #ax.set_xlabel('Stimuli')\n",
    "    ax.spines['top'].set_visible(False)\n",
    "    ax.spines['right'].set_visible(False)\n",
    "\n",
    "def plot_selected_cell_heatmap(usrt_joined, cell_index, trial_indexes=range(32), ax=None, cmap='viridis', tickfontsize=5, rotate_xticks=False, cbar_label=None):\n",
    "    '''Plots the response of a single cell to all stimuli as a heatmap (part E)'''\n",
    "    if ax is None:\n",
    "        fig = plt.figure()\n",
    "        ax = fig.add_subplot(111)\n",
    "    \n",
    "    select_cell = usrt_joined[cell_index]\n",
    "    cell_means = [i.mean(axis=0) for i in select_cell]\n",
    "    im = ax.imshow(cell_means, aspect='auto', cmap=cmap)\n",
    "    cbar = plt.colorbar(mappable=im, ax=ax)\n",
    "    cbar.ax.set_ylabel(cbar_label)\n",
    "    ax.set_yticks(range(32))\n",
    "    ax.set_yticklabels(glyphs, fontsize=tickfontsize)\n",
    "    ax.set_xticks([0, 10, 20, 30, 40])\n",
    "    if rotate_xticks:\n",
    "        rotation = 90\n",
    "    else:\n",
    "        rotation = 0\n",
    "    ax.set_xticklabels([0, 100, 200, 300, 400], rotation=rotation)\n",
    "    #ax.set_ylabel('Stimuli')\n",
    "    ax.set_xlabel('Time (ms)')\n",
    "    return cbar\n",
    "\n",
    "def plot_select_cell_response_and_heatmap(fig, gs, unit_usrt_j, unit_id, color_cmap, tickfontsize=4, wspace=0.5, rotation=True, cbar_label=None, heatmap_shift=0.0):\n",
    "    sub_gs = gs.subgridspec(1, 2, wspace=wspace)\n",
    "    ax1 = fig.add_subplot(sub_gs[0])\n",
    "    ax2 = fig.add_subplot(sub_gs[1])\n",
    "    plot_selected_cell_response(unit_usrt_j, unit_id, ax=ax1, color=color_cmap[0], tickfontsize=tickfontsize)\n",
    "    cbar = plot_selected_cell_heatmap(unit_usrt_j, unit_id, ax=ax2, cmap=color_cmap[1], tickfontsize=tickfontsize, rotate_xticks=rotation, cbar_label=cbar_label)\n",
    "    ax2_pos = ax2.get_position()\n",
    "    ax2.set_position([ax2_pos.x0+heatmap_shift, ax2_pos.y0, ax2_pos.width, ax2_pos.height])\n",
    "    cbar_pos = cbar.ax.get_position()\n",
    "    cbar.ax.set_position([cbar_pos.x0+heatmap_shift, cbar_pos.y0, cbar_pos.width, cbar_pos.height])\n",
    "    return ax1, ax2\n",
    "\n",
    "def plot_select_cell_response_and_heatmap(fig, gs, unit_usrt_j, unit_id, color_cmap, tickfontsize=4, wspace=0.5, rotation=True, cbar_label=None, heatmap_shift=0.0, show_model_weights=False):\n",
    "    sub_gs = gs.subgridspec(1, 2, wspace=wspace)\n",
    "    axs = []\n",
    "    if show_model_weights:\n",
    "        sub_sub_gs = sub_gs[0].subgridspec(4, 1)\n",
    "        ax1 = fig.add_subplot(sub_sub_gs[1:])\n",
    "        model_ax = fig.add_subplot(sub_sub_gs[0])\n",
    "        xs = [0, 1, 2, 3, 4] + [6, 7, 8, 9]\n",
    "        model_ax.bar(xs, diff_models_j[unit_id].opt_out.x[:-1], color=color_cmap[0])\n",
    "        model_ax.spines['right'].set_visible(False)\n",
    "        model_ax.spines['top'].set_visible(False)\n",
    "        model_ax.spines['left'].set_visible(False)\n",
    "        model_ax.spines['bottom'].set_visible(False)\n",
    "        model_ax.set_xticks([])\n",
    "        model_ax.axhline(0, zorder=-1, color='k', linewidth=0.5)\n",
    "        model_ax.set_yticks([])\n",
    "        model_ax.axvline(5, zorder=-1, color='k', linewidth=0.5)\n",
    "        axs.append(model_ax)\n",
    "    else:\n",
    "        ax1 = fig.add_subplot(sub_gs[0])\n",
    "    axs.append(ax1)\n",
    "    ax2 = fig.add_subplot(sub_gs[1])\n",
    "    plot_selected_cell_response(unit_usrt_j, unit_id, ax=ax1, color=color_cmap[0], tickfontsize=tickfontsize)\n",
    "    cbar = plot_selected_cell_heatmap(unit_usrt_j, unit_id, ax=ax2, cmap=color_cmap[1], tickfontsize=tickfontsize, rotate_xticks=rotation, cbar_label=cbar_label)\n",
    "    ax2_pos = ax2.get_position()\n",
    "    ax2.set_position([ax2_pos.x0+heatmap_shift, ax2_pos.y0, ax2_pos.width, ax2_pos.height])\n",
    "    cbar_pos = cbar.ax.get_position()\n",
    "    cbar.ax.set_position([cbar_pos.x0+heatmap_shift, cbar_pos.y0, cbar_pos.width, cbar_pos.height])\n",
    "    axs.append(ax2)\n",
    "    return axs"
   ]
  },
  {
   "cell_type": "code",
   "execution_count": 24,
   "metadata": {},
   "outputs": [
    {
     "data": {
      "image/png": "[encoded data removed]",
      "text/plain": [
       "<Figure size 576x288 with 12 Axes>"
      ]
     },
     "metadata": {
      "needs_background": "light"
     },
     "output_type": "display_data"
    }
   ],
   "source": [
    "fs = 4\n",
    "heatmap_shift = -0.02\n",
    "fig = plt.figure(figsize=(8, 4))\n",
    "gs = fig.add_gridspec(2, 2, wspace=0.4, hspace=0.3)\n",
    "\n",
    "max1, sax11, sax12 = plot_select_cell_response_and_heatmap(fig, gs[0, 0], unit_usrt_j, 162, ['C1', 'Oranges'], tickfontsize=fs, cbar_label='Firing rate (Hz)', heatmap_shift=heatmap_shift, show_model_weights=True)\n",
    "max2, sax21, sax22 = plot_select_cell_response_and_heatmap(fig, gs[0, 1], unit_usrt_j, 233, ['C2', 'Greens'], tickfontsize=fs, cbar_label='Firing rate (Hz)', heatmap_shift=heatmap_shift, show_model_weights=True)\n",
    "max3, sax31, sax32 = plot_select_cell_response_and_heatmap(fig, gs[1, 0], unit_usrt_j, 50, ['C3', 'Reds'], tickfontsize=fs, cbar_label='Firing rate (Hz)', heatmap_shift=heatmap_shift, show_model_weights=True)\n",
    "sax12.set_xticklabels([])\n",
    "sax11.set_xticklabels([])\n",
    "sax12.set_xlabel('')\n",
    "axes = [max1, sax11, sax12, max2, sax21, sax22, max3, sax31, sax32]\n",
    "labels = ['Ai', 'ii', 'iii', 'Bi', 'ii', 'iii', 'Ci', 'ii', 'iii']\n",
    "align_x = [[0, 1, 6, 7], [2, 8], [3, 4]]\n",
    "align_y = [[0, 2, 3, 5], [6, 8]]\n",
    "dx = [-0.01]*9\n",
    "dy = [0.01]*9\n",
    "label_axes.label_axes(axes, labels, align_x=align_x, align_y=align_y, fontsize=16, fontweight='bold', align_x_fun=np.min, align_y_fun=np.max, dx=dx, dy=dy)\n",
    "plt.savefig('230912_Sup62.pdf', bbox_inches='tight')"
   ]
  },
  {
   "cell_type": "code",
   "execution_count": null,
   "metadata": {},
   "outputs": [],
   "source": []
  }
 ],
 "metadata": {
  "kernelspec": {
   "display_name": "blip_manu",
   "language": "python",
   "name": "python3"
  },
  "language_info": {
   "codemirror_mode": {
    "name": "ipython",
    "version": 3
   },
   "file_extension": ".py",
   "mimetype": "text/x-python",
   "name": "python",
   "nbconvert_exporter": "python",
   "pygments_lexer": "ipython3",
   "version": "3.7.3"
  },
  "orig_nbformat": 4
 },
 "nbformat": 4,
 "nbformat_minor": 2
}
