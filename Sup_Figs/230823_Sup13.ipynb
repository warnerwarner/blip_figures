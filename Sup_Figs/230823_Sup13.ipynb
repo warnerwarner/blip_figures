{
 "cells": [
  {
   "cell_type": "code",
   "execution_count": 1,
   "metadata": {},
   "outputs": [
    {
     "name": "stdout",
     "output_type": "stream",
     "text": [
      "b\n"
     ]
    }
   ],
   "source": [
    "import numpy as np\n",
    "import matplotlib.pyplot as plt\n",
    "from label_axes import label_axes\n",
    "import blip_analysis as ba\n",
    "import scipy.io as sio\n",
    "import binary_recording as br\n",
    "from mpl_toolkits.axes_grid1 import make_axes_locatable\n",
    "import scipy\n",
    "from scipy.cluster.hierarchy import linkage, dendrogram\n",
    "import matplotlib\n",
    "import openephys as oe\n",
    "\n",
    "matplotlib.rcParams['pdf.fonttype'] = 42\n",
    "matplotlib.rcParams['ps.fonttype'] = 42"
   ]
  },
  {
   "cell_type": "code",
   "execution_count": 2,
   "metadata": {},
   "outputs": [
    {
     "name": "stdout",
     "output_type": "stream",
     "text": [
      "Found odour 1\n",
      "Found odour 3\n",
      "Found odour 5\n"
     ]
    }
   ],
   "source": [
    "## Load in all the data\n",
    "ba.load_usrts()\n",
    "glyphs = ba.get_glyphs()\n",
    "good_indexes = ba.get_stable_resp_indexes()\n",
    "\n",
    "units_usrt1 = np.load('../Data/230704_Fig1_long_usrt1.npy', allow_pickle=True)\n",
    "units_usrt2 = np.load('../Data/230704_Fig1_long_usrt2.npy', allow_pickle=True)\n",
    "units_usrt3 = np.load('../Data/230704_Fig1_long_usrt3.npy', allow_pickle=True)\n",
    "units_usrt1 = units_usrt1[good_indexes]\n",
    "units_usrt2 = units_usrt2[good_indexes]\n",
    "units_usrt3 = units_usrt3[good_indexes]\n",
    "\n",
    "mean_usrt1 = np.array([[np.mean(i, axis=0) for i in j] for j in units_usrt1])\n",
    "mean_usrt2 = np.array([[np.mean(i, axis=0) for i in j] for j in units_usrt2])\n",
    "mean_usrt3 = np.array([[np.mean(i, axis=0) for i in j] for j in units_usrt3])\n",
    "\n",
    "summed_response1 = mean_usrt1[:, :, 50:100].sum(axis=-1)\n",
    "summed_response2 = mean_usrt2[:, :, 50:100].sum(axis=-1)\n",
    "summed_response3 = mean_usrt3[:, :, 50:100].sum(axis=-1)\n",
    "\n",
    "\n"
   ]
  },
  {
   "cell_type": "code",
   "execution_count": 3,
   "metadata": {},
   "outputs": [],
   "source": [
    "## Generate the linkage for the hierarchical clustering\n",
    "\n",
    "link = linkage(summed_response1/np.max(summed_response1, axis=-1)[:, np.newaxis], optimal_ordering=True, method='complete', )\n",
    "dend = dendrogram(link, no_plot=True)\n",
    "leaves = dend['leaves']"
   ]
  },
  {
   "cell_type": "code",
   "execution_count": 33,
   "metadata": {},
   "outputs": [],
   "source": [
    "def dendo_and_heatmaps(fig, gs, link, summed_response, norm_choice='max', zscore_params=None, flip = True, **kwargs):\n",
    "    '''\n",
    "    Plots both parts E and F of the figure\n",
    "    '''\n",
    "    colors = ['k' for i in range(300)]\n",
    "    sub_gridspec = gs.subgridspec(1, 2, wspace=0.0)\n",
    "    \n",
    "    dend_ax = fig.add_subplot(sub_gridspec[0])\n",
    "    dend = dendrogram(link, ax=dend_ax, orientation='left', truncate_mode=None, no_labels=True, color_threshold=0.1, link_color_func=lambda k: colors[k])\n",
    "    dend_ax.set_ylabel('Units', labelpad=-5)\n",
    "    #dend_ax.set_xlabel('Distance')\n",
    "    dend_ax.set_xticks([])\n",
    "    norm_heatmap_ax = fig.add_subplot(sub_gridspec[1])\n",
    "    if norm_choice == 'max':\n",
    "        normed_response = summed_response/np.max(summed_response, axis=-1)[:, np.newaxis]\n",
    "    elif norm_choice == 'zscore_base':\n",
    "        assert zscore_params is not None, 'Please pass zscore_params'\n",
    "        normed_response = (summed_response - zscore_params[0])/zscore_params[1]\n",
    "    \n",
    "    im = norm_heatmap_ax.imshow(normed_response[dend['leaves'][::-1]], cmap='pink', aspect='auto')\n",
    "#     plt.colorbar(mappable=im, ax=norm_heatmap_ax, aspect=40)\n",
    "    norm_heatmap_ax.set_xticks(range(32))\n",
    "    norm_heatmap_ax.set_xticklabels(glyphs, rotation=90, fontsize=5);\n",
    "    norm_heatmap_ax.set_yticks([])\n",
    "    divider = make_axes_locatable(norm_heatmap_ax)\n",
    "    #cax = divider.append_axes(\"right\", size=\"5%\", pad=0.05)\n",
    "    dend_ax.spines['top'].set_visible(False)\n",
    "    dend_ax.spines['left'].set_visible(False)\n",
    "    dend_ax.spines['bottom'].set_visible(False)\n",
    "    \n",
    "    #resp_heatmap_ax = fig.add_subplot(sub_gridspec[1])\n",
    "\n",
    "    # resp_heatmap_ax1 = fig.add_subplot(sub_sub_gridspec[0])\n",
    "    # resp_heatmap_ax2 = fig.add_subplot(sub_sub_gridspec[1])\n",
    "    #plt.colorbar(im, cax=cax)\n",
    "#    heatmap_cbar_ax = fig.add_subplot(sub_gridspec[39])\n",
    "    #plot_heatmap(resp_heatmap_ax1, mean_usrt1, select_trials, dend['leaves'][::-1], **kwargs)\n",
    "#     vmax = np.max(mean_usrt1[:, select_trials])\n",
    "#     plot_heatmap(resp_heatmap_ax1, mean_usrt1, conc_trials, dend['leaves'][::-1], colorbar=False, vmax=vmax, cmap='Reds', **kwargs)\n",
    "#     pos = plot_heatmap(resp_heatmap_ax2, mean_usrt1, onset_trials, dend['leaves'][::-1], vmax=vmax, cmap='Blues', **kwargs)\n",
    "#     normed_pos = norm_heatmap_ax.get_position()\n",
    "#     cax_pos = [normed_pos.x0+normed_pos.width+0.01, normed_pos.y0+normed_pos.height*(1-0.8)/2, 0.02, normed_pos.height*0.8]\n",
    "#     cax = fig.add_axes(cax_pos)\n",
    "#     plt.colorbar(im, cax=cax)\n",
    "#     resp_heatmap_ax2.set_yticklabels([])\n",
    "#     resp_heatmap_ax2.set_ylabel('')\n",
    "    #normed_cbar_ax = fig.add_subplot(sub_gridspec[37])\n",
    "    cbar = plt.colorbar(mappable=im)\n",
    "    cbar_pos = cbar.ax.get_position()\n",
    "    heatmap_pos = norm_heatmap_ax.get_position()\n",
    "    cbar_pos = [cbar_pos.x0, heatmap_pos.y0, cbar_pos.width*0.8, heatmap_pos.height]\n",
    "    cbar.ax.set_position(cbar_pos)\n",
    "    cbar.ax.set_aspect(50)\n",
    "#     return dend_ax, resp_heatmap_ax1, resp_heatmap_ax2, dend['leaves'][::-1]\n"
   ]
  },
  {
   "cell_type": "code",
   "execution_count": 36,
   "metadata": {},
   "outputs": [
    {
     "data": {
      "image/png": "[encoded data removed]",
      "text/plain": [
       "<Figure size 288x432 with 3 Axes>"
      ]
     },
     "metadata": {
      "needs_background": "light"
     },
     "output_type": "display_data"
    }
   ],
   "source": [
    "fig = plt.figure(figsize=(4, 6))\n",
    "gs = fig.add_gridspec(1, 1)\n",
    "dendo_and_heatmaps(fig, gs[0], link, summed_response1, time_ticks_base=[-0.25, 0.0, 0.25])\n",
    "plt.savefig('230823_Sup13.pdf', bbox_inches='tight')"
   ]
  },
  {
   "cell_type": "code",
   "execution_count": null,
   "metadata": {},
   "outputs": [],
   "source": []
  },
  {
   "cell_type": "code",
   "execution_count": null,
   "metadata": {},
   "outputs": [],
   "source": []
  }
 ],
 "metadata": {
  "kernelspec": {
   "display_name": "blip_manu",
   "language": "python",
   "name": "python3"
  },
  "language_info": {
   "codemirror_mode": {
    "name": "ipython",
    "version": 3
   },
   "file_extension": ".py",
   "mimetype": "text/x-python",
   "name": "python",
   "nbconvert_exporter": "python",
   "pygments_lexer": "ipython3",
   "version": "3.7.3"
  },
  "orig_nbformat": 4
 },
 "nbformat": 4,
 "nbformat_minor": 2
}
