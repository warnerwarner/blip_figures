{
 "cells": [
  {
   "cell_type": "code",
   "execution_count": 193,
   "metadata": {},
   "outputs": [],
   "source": [
    "import blip_analysis as ba\n",
    "import matplotlib.pyplot as plt\n",
    "import numpy as np\n",
    "from tqdm import tqdm\n",
    "import dask\n",
    "from daskify import Daskified\n",
    "from label_axes import label_axes\n"
   ]
  },
  {
   "cell_type": "code",
   "execution_count": 2,
   "metadata": {},
   "outputs": [
    {
     "name": "stdout",
     "output_type": "stream",
     "text": [
      "Respiration peaks found\n",
      "Found file starts\n",
      "Found file ends\n",
      "Respiration trace found\n",
      "Found sniff spikes\n",
      "Extracting trial names\n",
      "Found 1408 trials in trial name file\n",
      "Respiration peaks found\n",
      "Found file starts\n",
      "Found file ends\n",
      "Respiration trace found\n",
      "Found sniff spikes\n",
      "Extracting trial names\n",
      "Found 4608 trials in trial name file\n",
      "Respiration peaks found\n",
      "Found file starts\n",
      "Found file ends\n",
      "Respiration trace found\n",
      "Found sniff spikes\n",
      "Extracting trial names\n",
      "Found 4288 trials in trial name file\n",
      "Respiration peaks found\n",
      "Found file starts\n",
      "Found file ends\n",
      "Respiration trace found\n",
      "Found sniff spikes\n",
      "Extracting trial names\n",
      "Found 1440 trials in trial name file\n",
      "Respiration peaks found\n",
      "Found file starts\n",
      "Found file ends\n",
      "Respiration trace found\n",
      "Found sniff spikes\n",
      "Extracting trial names\n",
      "Found 5328 trials in trial name file\n",
      "Respiration peaks found\n",
      "Found file starts\n",
      "Found file ends\n",
      "Respiration trace found\n",
      "Found sniff spikes\n",
      "Extracting trial names\n",
      "Found 5328 trials in trial name file\n",
      "Respiration peaks found\n",
      "Found file starts\n",
      "Found file ends\n",
      "Respiration trace found\n",
      "Found sniff spikes\n",
      "Extracting trial names\n",
      "Found 4928 trials in trial name file\n",
      "Respiration peaks found\n",
      "Found file starts\n",
      "Found file ends\n",
      "Respiration trace found\n",
      "Found sniff spikes\n",
      "Extracting trial names\n",
      "Found 1928 trials in trial name file\n"
     ]
    }
   ],
   "source": [
    "recs = ba.load_recs()"
   ]
  },
  {
   "cell_type": "code",
   "execution_count": 3,
   "metadata": {},
   "outputs": [
    {
     "name": "stdout",
     "output_type": "stream",
     "text": [
      "Found odour 1\n",
      "Found odour 3\n",
      "Found odour 5\n"
     ]
    }
   ],
   "source": [
    "gcs = [rec.get_good_clusters() for rec in recs.recordings]\n",
    "ba.load_usrts()\n",
    "good_units = ba.get_stable_resp_indexes()\n",
    "gcs = np.concatenate(gcs)[good_units]\n"
   ]
  },
  {
   "cell_type": "code",
   "execution_count": 4,
   "metadata": {},
   "outputs": [],
   "source": [
    "def dask_waveforms(gcs_scattered, unit_index, num_wfs=100):\n",
    "    wfs = gcs_scattered[unit_index].get_waveforms()\n",
    "    mean_wfs = wfs.mean(axis=0)\n",
    "    wf_jump_size = len(wfs)//num_wfs\n",
    "    select_wfs = wfs[::wf_jump_size]\n",
    "    return mean_wfs, select_wfs"
   ]
  },
  {
   "cell_type": "code",
   "execution_count": 5,
   "metadata": {},
   "outputs": [
    {
     "name": "stderr",
     "output_type": "stream",
     "text": [
      "                                                        \r"
     ]
    }
   ],
   "source": [
    "mean_wfs, select_wfs = dask_waveforms(gcs, 0)"
   ]
  },
  {
   "cell_type": "code",
   "execution_count": 6,
   "metadata": {},
   "outputs": [
    {
     "name": "stdout",
     "output_type": "stream",
     "text": [
      "(90, 32) (101, 90, 32)\n"
     ]
    }
   ],
   "source": [
    "print(mean_wfs.shape, select_wfs.shape)"
   ]
  },
  {
   "cell_type": "code",
   "execution_count": 38,
   "metadata": {},
   "outputs": [
    {
     "data": {
      "text/plain": [
       "(48578, 90, 32)"
      ]
     },
     "execution_count": 38,
     "metadata": {},
     "output_type": "execute_result"
    }
   ],
   "source": [
    "np.array(wfs).shape"
   ]
  },
  {
   "cell_type": "code",
   "execution_count": 5,
   "metadata": {},
   "outputs": [],
   "source": [
    "dasked = Daskified(memory='32GB')"
   ]
  },
  {
   "cell_type": "code",
   "execution_count": 6,
   "metadata": {},
   "outputs": [],
   "source": [
    "dasked.start_cluster()"
   ]
  },
  {
   "cell_type": "code",
   "execution_count": 7,
   "metadata": {},
   "outputs": [],
   "source": [
    "gcs_scattered = dasked.client.scatter(gcs)"
   ]
  },
  {
   "cell_type": "code",
   "execution_count": 8,
   "metadata": {},
   "outputs": [],
   "source": [
    "dfs = [dask.delayed(dask_waveforms)(gcs_scattered, i) for i in range(130)]"
   ]
  },
  {
   "cell_type": "code",
   "execution_count": 9,
   "metadata": {},
   "outputs": [],
   "source": [
    "futures = dasked.client.compute(dfs)\n",
    "dasked.current_futures = futures\n"
   ]
  },
  {
   "cell_type": "code",
   "execution_count": 30,
   "metadata": {},
   "outputs": [
    {
     "name": "stdout",
     "output_type": "stream",
     "text": [
      "finished 130\n"
     ]
    }
   ],
   "source": [
    "dasked.check_progress()"
   ]
  },
  {
   "cell_type": "code",
   "execution_count": 29,
   "metadata": {},
   "outputs": [
    {
     "name": "stdout",
     "output_type": "stream",
     "text": [
      "114\n"
     ]
    }
   ],
   "source": [
    "\n",
    "for i in range(130):\n",
    "    status = dasked.current_futures[i].status\n",
    "    if status == 'lost':\n",
    "        print(i)\n",
    "        # single_future = dasked.client.compute(dask.delayed(dask_waveforms)(gcs_scattered, i))\n",
    "        # dasked.current_futures[i] = single_future"
   ]
  },
  {
   "cell_type": "code",
   "execution_count": 56,
   "metadata": {},
   "outputs": [
    {
     "name": "stdout",
     "output_type": "stream",
     "text": [
      "finished 129\n",
      "pending 1\n"
     ]
    }
   ],
   "source": [
    "dasked.check_progress()"
   ]
  },
  {
   "cell_type": "code",
   "execution_count": 36,
   "metadata": {},
   "outputs": [
    {
     "data": {
      "text/html": [
       "<b>Future: dask_waveforms</b> <font color=\"gray\">status: </font><font color=\"black\">finished</font>, <font color=\"gray\">type: </font>builtins.tuple, <font color=\"gray\">key: </font>dask_waveforms-79a9e0e0-f298-4620-9bf3-f022f426904a"
      ],
      "text/plain": [
       "<Future: finished, type: builtins.tuple, key: dask_waveforms-79a9e0e0-f298-4620-9bf3-f022f426904a>"
      ]
     },
     "execution_count": 36,
     "metadata": {},
     "output_type": "execute_result"
    }
   ],
   "source": [
    "dasked.current_futures[75]"
   ]
  },
  {
   "cell_type": "code",
   "execution_count": 31,
   "metadata": {},
   "outputs": [
    {
     "name": "stderr",
     "output_type": "stream",
     "text": [
      "                                                  \r"
     ]
    }
   ],
   "source": [
    "res = [i.result() for i in tqdm(dasked.current_futures, leave=False, position=0)]"
   ]
  },
  {
   "cell_type": "code",
   "execution_count": 32,
   "metadata": {},
   "outputs": [],
   "source": [
    "good_units_rec = np.array([rec for rec in recs.recordings for i in range(len(rec.get_good_clusters()))])[good_units]\n",
    "good_units_chan_map = np.array([i.channel_map for i in good_units_rec])\n",
    "good_units_chan_pos = np.array([i.channel_positions for i in good_units_rec])"
   ]
  },
  {
   "cell_type": "code",
   "execution_count": 33,
   "metadata": {},
   "outputs": [],
   "source": [
    "finished_futures = []\n",
    "finished_chan_map = []\n",
    "finished_chan_pos = []\n",
    "for index, i in enumerate(dasked.current_futures):\n",
    "    if i.status == 'finished':\n",
    "        finished_futures.append(i)\n",
    "        finished_chan_map.append(good_units_chan_map[index])\n",
    "        finished_chan_pos.append(good_units_chan_pos[index])"
   ]
  },
  {
   "cell_type": "code",
   "execution_count": 103,
   "metadata": {},
   "outputs": [
    {
     "name": "stdout",
     "output_type": "stream",
     "text": [
      "145\n"
     ]
    }
   ],
   "source": [
    "print(len(good_units_rec))"
   ]
  },
  {
   "cell_type": "code",
   "execution_count": 34,
   "metadata": {},
   "outputs": [
    {
     "name": "stdout",
     "output_type": "stream",
     "text": [
      "(130, 90, 32) (130, 100, 90, 32)\n"
     ]
    }
   ],
   "source": [
    "mean_wfs = np.array([i[0] for i in res])\n",
    "sample_wfs = np.array([i[1][1:101] for i in res])\n",
    "print(mean_wfs.shape, sample_wfs.shape)"
   ]
  },
  {
   "cell_type": "code",
   "execution_count": 35,
   "metadata": {},
   "outputs": [],
   "source": [
    "np.save('230823_mean_wfs.npy', mean_wfs)\n",
    "np.save('230823_sample_wfs.npy', sample_wfs)"
   ]
  },
  {
   "cell_type": "code",
   "execution_count": 190,
   "metadata": {},
   "outputs": [
    {
     "data": {
      "image/png": "[encoded data removed]",
      "text/plain": [
       "<Figure size 216x720 with 1 Axes>"
      ]
     },
     "metadata": {
      "needs_background": "light"
     },
     "output_type": "display_data"
    }
   ],
   "source": [
    "def plot_waveform(ax, mean_wfs, sample_wfs, wf_index,  x_scale=1, y_scale=1, show_single_examps=True, scalebar_pos=[0, 0], color='black'):\n",
    "    chan_map = good_units_chan_map[wf_index]\n",
    "    chan_pos = good_units_chan_pos[wf_index]\n",
    "    for channel_index in range(32):\n",
    "        chan_loc = np.where(chan_map==channel_index)[0][0]\n",
    "        x = chan_pos[chan_loc][0]\n",
    "        y = chan_pos[chan_loc][1]\n",
    "        xs = np.linspace(x, x+90*x_scale, 90)\n",
    "        if show_single_examps:\n",
    "            for i in sample_wfs[wf_index]:\n",
    "                \n",
    "                ax.plot(xs, y_scale*i[:, channel_index]+y, color='lightgrey', alpha=0.5)\n",
    "        ax.plot(xs, y_scale*mean_wfs[wf_index,:, channel_index]+y, color=color, linewidth=2)\n",
    "    y_bar = np.array([0, 500])/0.195*y_scale + scalebar_pos[1]\n",
    "    x_bar = np.array([0, 30])*x_scale + scalebar_pos[0]\n",
    "    ax.plot([scalebar_pos[0], scalebar_pos[0]], y_bar, color='black', linewidth=2)\n",
    "    ax.plot(x_bar, [y_bar[0], y_bar[0]], color='black', linewidth=2)\n",
    "    ax.spines['right'].set_visible(False)\n",
    "    ax.spines['top'].set_visible(False)\n",
    "    ax.set_xlabel('X position ($\\mu$m)')\n",
    "    ax.set_ylabel('Y position ($\\mu$m)')\n",
    "fig, ax = plt.subplots(1, 1, figsize=(3, 10))\n",
    "plot_waveform(ax, mean_wfs, sample_wfs, 43, y_scale=0.005, x_scale=0.15, show_single_examps=True, scalebar_pos=[-2, -10], color='r')"
   ]
  },
  {
   "cell_type": "code",
   "execution_count": 109,
   "metadata": {},
   "outputs": [],
   "source": [
    "unit = gcs[95]\n",
    "sts = unit.spike_times\n",
    "\n",
    "# diffs = []\n",
    "# for i in tqdm(sts, position=0, leave=False):\n",
    "#     pre_window = np.int64(i) - 30*100\n",
    "#     close_spikes = sts[np.where(sts > pre_window)[0]]\n",
    "#     close_spikes = close_spikes[np.where(close_spikes < i + 30*100)[0]]\n",
    "#     close_spikes = np.array(close_spikes).astype(np.int64) - i\n",
    "#     close_spikes = close_spikes[close_spikes != 0]\n",
    "#     diffs.append(close_spikes)\n",
    "    "
   ]
  },
  {
   "cell_type": "code",
   "execution_count": 88,
   "metadata": {},
   "outputs": [
    {
     "name": "stdout",
     "output_type": "stream",
     "text": [
      "24\n",
      "[]\n"
     ]
    }
   ],
   "source": [
    "print(np.searchsorted(sts.flatten(), sts.flatten()[23]+1, side='right'))\n",
    "valid_diffs = sts[24:24] - sts[23]\n",
    "print(valid_diffs.flatten())"
   ]
  },
  {
   "cell_type": "code",
   "execution_count": 110,
   "metadata": {},
   "outputs": [
    {
     "name": "stderr",
     "output_type": "stream",
     "text": [
      "                                                         \r"
     ]
    }
   ],
   "source": [
    "diffs = []\n",
    "for index, i in enumerate(tqdm(sts, position=0, leave=False)):\n",
    "    last_index = np.searchsorted(sts.flatten(), i+30*100, side='right')[0]\n",
    "    windowed_values = sts[int(index+1):last_index] - i\n",
    "    diffs.append(windowed_values.flatten())"
   ]
  },
  {
   "cell_type": "code",
   "execution_count": 133,
   "metadata": {},
   "outputs": [
    {
     "name": "stdout",
     "output_type": "stream",
     "text": [
      "198\n"
     ]
    },
    {
     "data": {
      "text/plain": [
       "<BarContainer object of 198 artists>"
      ]
     },
     "execution_count": 133,
     "metadata": {},
     "output_type": "execute_result"
    },
    {
     "data": {
      "image/png": "[encoded data removed]",
      "text/plain": [
       "<Figure size 432x288 with 1 Axes>"
      ]
     },
     "metadata": {
      "needs_background": "light"
     },
     "output_type": "display_data"
    }
   ],
   "source": [
    "hist, xs = np.histogram(np.concatenate(diffs), bins=np.arange(0, 30*100, 30))\n",
    "neg_hist = hist[::-1]\n",
    "hist = np.concatenate([neg_hist, hist])\n",
    "xs = np.arange(-100, 100, 1)\n",
    "print(len(hist))\n",
    "plt.bar(xs[2:], hist, width=1)"
   ]
  },
  {
   "cell_type": "code",
   "execution_count": 141,
   "metadata": {},
   "outputs": [],
   "source": [
    "def generate_autocorrelogram(unit_index, window=100):\n",
    "    sts = gcs[unit_index].spike_times\n",
    "    diffs = []\n",
    "    for index, i in enumerate(tqdm(sts, position=0, leave=False)):\n",
    "        last_index = np.searchsorted(sts.flatten(), i+30*window, side='right')[0]\n",
    "        windowed_values = sts[int(index+1):last_index] - i\n",
    "        diffs.append(windowed_values.flatten())\n",
    "    hist, xs = np.histogram(np.concatenate(diffs), bins=np.arange(0, 30*100, 30), density=True)\n",
    "    neg_hist = hist[::-1]\n",
    "    hist = np.concatenate([neg_hist, hist])\n",
    "    xs = np.arange(-100, 100, 1)\n",
    "    xs = xs[2:]\n",
    "    return hist, xs"
   ]
  },
  {
   "cell_type": "code",
   "execution_count": 139,
   "metadata": {},
   "outputs": [
    {
     "name": "stderr",
     "output_type": "stream",
     "text": [
      "                                                        \r"
     ]
    }
   ],
   "source": [
    "hist_2, xs = generate_autocorrelogram(1, window=100)"
   ]
  },
  {
   "cell_type": "code",
   "execution_count": 136,
   "metadata": {},
   "outputs": [
    {
     "data": {
      "text/plain": [
       "<BarContainer object of 198 artists>"
      ]
     },
     "execution_count": 136,
     "metadata": {},
     "output_type": "execute_result"
    },
    {
     "data": {
      "image/png": "[encoded data removed]",
      "text/plain": [
       "<Figure size 432x288 with 1 Axes>"
      ]
     },
     "metadata": {
      "needs_background": "light"
     },
     "output_type": "display_data"
    }
   ],
   "source": [
    "plt.bar(xs, hist_2, width=1)"
   ]
  },
  {
   "cell_type": "code",
   "execution_count": 61,
   "metadata": {},
   "outputs": [],
   "source": [
    "t1 = sts[:, None].astype(np.int32)\n",
    "t2 = sts[None, :].astype(np.int32)"
   ]
  },
  {
   "cell_type": "code",
   "execution_count": 62,
   "metadata": {},
   "outputs": [
    {
     "ename": "MemoryError",
     "evalue": "Unable to allocate 658. GiB for an array with shape (297210, 297210, 1) and data type int64",
     "output_type": "error",
     "traceback": [
      "\u001b[0;31m---------------------------------------------------------------------------\u001b[0m",
      "\u001b[0;31mMemoryError\u001b[0m                               Traceback (most recent call last)",
      "\u001b[0;32m<ipython-input-62-8e98cd2643b8>\u001b[0m in \u001b[0;36m<module>\u001b[0;34m()\u001b[0m\n\u001b[0;32m----> 1\u001b[0;31m \u001b[0mdiffs\u001b[0m \u001b[0;34m=\u001b[0m \u001b[0mt1\u001b[0m \u001b[0;34m-\u001b[0m \u001b[0mt2\u001b[0m\u001b[0;34m\u001b[0m\u001b[0;34m\u001b[0m\u001b[0m\n\u001b[0m",
      "\u001b[0;31mMemoryError\u001b[0m: Unable to allocate 658. GiB for an array with shape (297210, 297210, 1) and data type int64"
     ]
    }
   ],
   "source": [
    "diffs = t1 - t2\n"
   ]
  },
  {
   "cell_type": "code",
   "execution_count": 57,
   "metadata": {},
   "outputs": [],
   "source": [
    "valid_diffs = diffs[(diffs > -30*100) & (diffs <= 30*100)]\n",
    "valid_diffs = valid_diffs[valid_diffs != 0]"
   ]
  },
  {
   "cell_type": "code",
   "execution_count": 59,
   "metadata": {},
   "outputs": [
    {
     "data": {
      "text/plain": [
       "(array([1.892e+03, 1.820e+03, 1.839e+03, 1.859e+03, 1.896e+03, 1.842e+03,\n",
       "        1.745e+03, 1.876e+03, 1.888e+03, 1.940e+03, 1.877e+03, 1.967e+03,\n",
       "        1.954e+03, 2.042e+03, 1.947e+03, 2.059e+03, 2.034e+03, 2.061e+03,\n",
       "        2.031e+03, 2.077e+03, 2.160e+03, 2.117e+03, 2.219e+03, 2.241e+03,\n",
       "        2.271e+03, 2.304e+03, 2.348e+03, 2.345e+03, 2.342e+03, 2.399e+03,\n",
       "        2.441e+03, 2.371e+03, 2.573e+03, 2.719e+03, 2.765e+03, 2.864e+03,\n",
       "        2.867e+03, 2.983e+03, 3.099e+03, 2.913e+03, 2.646e+03, 2.656e+03,\n",
       "        2.407e+03, 1.781e+03, 1.235e+03, 1.056e+03, 1.057e+03, 2.590e+02,\n",
       "        1.000e+00, 2.000e+00, 2.000e+00, 1.000e+00, 2.730e+02, 1.061e+03,\n",
       "        1.054e+03, 1.251e+03, 1.793e+03, 2.411e+03, 2.663e+03, 2.644e+03,\n",
       "        2.913e+03, 3.086e+03, 3.001e+03, 2.877e+03, 2.845e+03, 2.762e+03,\n",
       "        2.721e+03, 2.566e+03, 2.374e+03, 2.439e+03, 2.400e+03, 2.338e+03,\n",
       "        2.346e+03, 2.334e+03, 2.318e+03, 2.268e+03, 2.239e+03, 2.220e+03,\n",
       "        2.114e+03, 2.160e+03, 2.074e+03, 2.036e+03, 2.065e+03, 2.023e+03,\n",
       "        2.059e+03, 1.951e+03, 2.041e+03, 1.956e+03, 1.963e+03, 1.879e+03,\n",
       "        1.949e+03, 1.888e+03, 1.880e+03, 1.741e+03, 1.836e+03, 1.892e+03,\n",
       "        1.865e+03, 1.832e+03, 1.820e+03, 1.896e+03]),\n",
       " array([-2.99900e+03, -2.93901e+03, -2.87902e+03, -2.81903e+03,\n",
       "        -2.75904e+03, -2.69905e+03, -2.63906e+03, -2.57907e+03,\n",
       "        -2.51908e+03, -2.45909e+03, -2.39910e+03, -2.33911e+03,\n",
       "        -2.27912e+03, -2.21913e+03, -2.15914e+03, -2.09915e+03,\n",
       "        -2.03916e+03, -1.97917e+03, -1.91918e+03, -1.85919e+03,\n",
       "        -1.79920e+03, -1.73921e+03, -1.67922e+03, -1.61923e+03,\n",
       "        -1.55924e+03, -1.49925e+03, -1.43926e+03, -1.37927e+03,\n",
       "        -1.31928e+03, -1.25929e+03, -1.19930e+03, -1.13931e+03,\n",
       "        -1.07932e+03, -1.01933e+03, -9.59340e+02, -8.99350e+02,\n",
       "        -8.39360e+02, -7.79370e+02, -7.19380e+02, -6.59390e+02,\n",
       "        -5.99400e+02, -5.39410e+02, -4.79420e+02, -4.19430e+02,\n",
       "        -3.59440e+02, -2.99450e+02, -2.39460e+02, -1.79470e+02,\n",
       "        -1.19480e+02, -5.94900e+01,  5.00000e-01,  6.04900e+01,\n",
       "         1.20480e+02,  1.80470e+02,  2.40460e+02,  3.00450e+02,\n",
       "         3.60440e+02,  4.20430e+02,  4.80420e+02,  5.40410e+02,\n",
       "         6.00400e+02,  6.60390e+02,  7.20380e+02,  7.80370e+02,\n",
       "         8.40360e+02,  9.00350e+02,  9.60340e+02,  1.02033e+03,\n",
       "         1.08032e+03,  1.14031e+03,  1.20030e+03,  1.26029e+03,\n",
       "         1.32028e+03,  1.38027e+03,  1.44026e+03,  1.50025e+03,\n",
       "         1.56024e+03,  1.62023e+03,  1.68022e+03,  1.74021e+03,\n",
       "         1.80020e+03,  1.86019e+03,  1.92018e+03,  1.98017e+03,\n",
       "         2.04016e+03,  2.10015e+03,  2.16014e+03,  2.22013e+03,\n",
       "         2.28012e+03,  2.34011e+03,  2.40010e+03,  2.46009e+03,\n",
       "         2.52008e+03,  2.58007e+03,  2.64006e+03,  2.70005e+03,\n",
       "         2.76004e+03,  2.82003e+03,  2.88002e+03,  2.94001e+03,\n",
       "         3.00000e+03]),\n",
       " <a list of 100 Patch objects>)"
      ]
     },
     "execution_count": 59,
     "metadata": {},
     "output_type": "execute_result"
    },
    {
     "data": {
      "image/png": "[encoded data removed]",
      "text/plain": [
       "<Figure size 432x288 with 1 Axes>"
      ]
     },
     "metadata": {
      "needs_background": "light"
     },
     "output_type": "display_data"
    }
   ],
   "source": [
    "plt.hist(valid_diffs, bins=100)"
   ]
  },
  {
   "cell_type": "code",
   "execution_count": 44,
   "metadata": {},
   "outputs": [],
   "source": [
    "diffs = np.concatenate(diffs)"
   ]
  },
  {
   "cell_type": "code",
   "execution_count": 45,
   "metadata": {},
   "outputs": [
    {
     "data": {
      "text/plain": [
       "(array([1.892e+03, 1.820e+03, 1.839e+03, 1.859e+03, 1.896e+03, 1.842e+03,\n",
       "        1.745e+03, 1.876e+03, 1.888e+03, 1.940e+03, 1.877e+03, 1.967e+03,\n",
       "        1.954e+03, 2.042e+03, 1.947e+03, 2.059e+03, 2.034e+03, 2.061e+03,\n",
       "        2.031e+03, 2.077e+03, 2.160e+03, 2.117e+03, 2.219e+03, 2.241e+03,\n",
       "        2.271e+03, 2.304e+03, 2.348e+03, 2.345e+03, 2.342e+03, 2.399e+03,\n",
       "        2.441e+03, 2.371e+03, 2.573e+03, 2.719e+03, 2.765e+03, 2.864e+03,\n",
       "        2.867e+03, 2.983e+03, 3.099e+03, 2.913e+03, 2.646e+03, 2.656e+03,\n",
       "        2.407e+03, 1.781e+03, 1.235e+03, 1.056e+03, 1.057e+03, 2.590e+02,\n",
       "        1.000e+00, 2.000e+00, 2.000e+00, 1.000e+00, 2.590e+02, 1.057e+03,\n",
       "        1.056e+03, 1.235e+03, 1.781e+03, 2.407e+03, 2.656e+03, 2.646e+03,\n",
       "        2.913e+03, 3.099e+03, 2.983e+03, 2.867e+03, 2.864e+03, 2.765e+03,\n",
       "        2.719e+03, 2.573e+03, 2.371e+03, 2.441e+03, 2.399e+03, 2.342e+03,\n",
       "        2.345e+03, 2.348e+03, 2.304e+03, 2.271e+03, 2.241e+03, 2.219e+03,\n",
       "        2.117e+03, 2.160e+03, 2.077e+03, 2.031e+03, 2.061e+03, 2.034e+03,\n",
       "        2.059e+03, 1.947e+03, 2.042e+03, 1.954e+03, 1.967e+03, 1.877e+03,\n",
       "        1.940e+03, 1.888e+03, 1.876e+03, 1.745e+03, 1.842e+03, 1.896e+03,\n",
       "        1.859e+03, 1.839e+03, 1.820e+03, 1.892e+03]),\n",
       " array([-2999.  , -2939.02, -2879.04, -2819.06, -2759.08, -2699.1 ,\n",
       "        -2639.12, -2579.14, -2519.16, -2459.18, -2399.2 , -2339.22,\n",
       "        -2279.24, -2219.26, -2159.28, -2099.3 , -2039.32, -1979.34,\n",
       "        -1919.36, -1859.38, -1799.4 , -1739.42, -1679.44, -1619.46,\n",
       "        -1559.48, -1499.5 , -1439.52, -1379.54, -1319.56, -1259.58,\n",
       "        -1199.6 , -1139.62, -1079.64, -1019.66,  -959.68,  -899.7 ,\n",
       "         -839.72,  -779.74,  -719.76,  -659.78,  -599.8 ,  -539.82,\n",
       "         -479.84,  -419.86,  -359.88,  -299.9 ,  -239.92,  -179.94,\n",
       "         -119.96,   -59.98,     0.  ,    59.98,   119.96,   179.94,\n",
       "          239.92,   299.9 ,   359.88,   419.86,   479.84,   539.82,\n",
       "          599.8 ,   659.78,   719.76,   779.74,   839.72,   899.7 ,\n",
       "          959.68,  1019.66,  1079.64,  1139.62,  1199.6 ,  1259.58,\n",
       "         1319.56,  1379.54,  1439.52,  1499.5 ,  1559.48,  1619.46,\n",
       "         1679.44,  1739.42,  1799.4 ,  1859.38,  1919.36,  1979.34,\n",
       "         2039.32,  2099.3 ,  2159.28,  2219.26,  2279.24,  2339.22,\n",
       "         2399.2 ,  2459.18,  2519.16,  2579.14,  2639.12,  2699.1 ,\n",
       "         2759.08,  2819.06,  2879.04,  2939.02,  2999.  ]),\n",
       " <a list of 100 Patch objects>)"
      ]
     },
     "execution_count": 45,
     "metadata": {},
     "output_type": "execute_result"
    },
    {
     "data": {
      "image/png": "[encoded data removed]",
      "text/plain": [
       "<Figure size 432x288 with 1 Axes>"
      ]
     },
     "metadata": {
      "needs_background": "light"
     },
     "output_type": "display_data"
    }
   ],
   "source": [
    "plt.hist(diffs, bins=100)"
   ]
  },
  {
   "cell_type": "code",
   "execution_count": 54,
   "metadata": {},
   "outputs": [
    {
     "ename": "KeyboardInterrupt",
     "evalue": "",
     "output_type": "error",
     "traceback": [
      "\u001b[0;31m---------------------------------------------------------------------------\u001b[0m",
      "\u001b[0;31mKeyboardInterrupt\u001b[0m                         Traceback (most recent call last)",
      "\u001b[0;32m<ipython-input-54-a3e77dc111f7>\u001b[0m in \u001b[0;36m<module>\u001b[0;34m()\u001b[0m\n\u001b[0;32m----> 1\u001b[0;31m \u001b[0mplt\u001b[0m\u001b[0;34m.\u001b[0m\u001b[0mhist\u001b[0m\u001b[0;34m(\u001b[0m\u001b[0mdiffs\u001b[0m\u001b[0;34m)\u001b[0m\u001b[0;34m\u001b[0m\u001b[0;34m\u001b[0m\u001b[0m\n\u001b[0m",
      "\u001b[0;32m/camp/home/warnert/.conda/envs/blip_manu/lib/python3.7/site-packages/matplotlib/pyplot.py\u001b[0m in \u001b[0;36mhist\u001b[0;34m(x, bins, range, density, weights, cumulative, bottom, histtype, align, orientation, rwidth, log, color, label, stacked, normed, data, **kwargs)\u001b[0m\n\u001b[1;32m   2640\u001b[0m         \u001b[0malign\u001b[0m\u001b[0;34m=\u001b[0m\u001b[0malign\u001b[0m\u001b[0;34m,\u001b[0m \u001b[0morientation\u001b[0m\u001b[0;34m=\u001b[0m\u001b[0morientation\u001b[0m\u001b[0;34m,\u001b[0m \u001b[0mrwidth\u001b[0m\u001b[0;34m=\u001b[0m\u001b[0mrwidth\u001b[0m\u001b[0;34m,\u001b[0m \u001b[0mlog\u001b[0m\u001b[0;34m=\u001b[0m\u001b[0mlog\u001b[0m\u001b[0;34m,\u001b[0m\u001b[0;34m\u001b[0m\u001b[0;34m\u001b[0m\u001b[0m\n\u001b[1;32m   2641\u001b[0m         \u001b[0mcolor\u001b[0m\u001b[0;34m=\u001b[0m\u001b[0mcolor\u001b[0m\u001b[0;34m,\u001b[0m \u001b[0mlabel\u001b[0m\u001b[0;34m=\u001b[0m\u001b[0mlabel\u001b[0m\u001b[0;34m,\u001b[0m \u001b[0mstacked\u001b[0m\u001b[0;34m=\u001b[0m\u001b[0mstacked\u001b[0m\u001b[0;34m,\u001b[0m \u001b[0mnormed\u001b[0m\u001b[0;34m=\u001b[0m\u001b[0mnormed\u001b[0m\u001b[0;34m,\u001b[0m\u001b[0;34m\u001b[0m\u001b[0;34m\u001b[0m\u001b[0m\n\u001b[0;32m-> 2642\u001b[0;31m         **({\"data\": data} if data is not None else {}), **kwargs)\n\u001b[0m\u001b[1;32m   2643\u001b[0m \u001b[0;34m\u001b[0m\u001b[0m\n\u001b[1;32m   2644\u001b[0m \u001b[0;34m\u001b[0m\u001b[0m\n",
      "\u001b[0;32m/camp/home/warnert/.conda/envs/blip_manu/lib/python3.7/site-packages/matplotlib/__init__.py\u001b[0m in \u001b[0;36minner\u001b[0;34m(ax, data, *args, **kwargs)\u001b[0m\n\u001b[1;32m   1599\u001b[0m     \u001b[0;32mdef\u001b[0m \u001b[0minner\u001b[0m\u001b[0;34m(\u001b[0m\u001b[0max\u001b[0m\u001b[0;34m,\u001b[0m \u001b[0;34m*\u001b[0m\u001b[0margs\u001b[0m\u001b[0;34m,\u001b[0m \u001b[0mdata\u001b[0m\u001b[0;34m=\u001b[0m\u001b[0;32mNone\u001b[0m\u001b[0;34m,\u001b[0m \u001b[0;34m**\u001b[0m\u001b[0mkwargs\u001b[0m\u001b[0;34m)\u001b[0m\u001b[0;34m:\u001b[0m\u001b[0;34m\u001b[0m\u001b[0;34m\u001b[0m\u001b[0m\n\u001b[1;32m   1600\u001b[0m         \u001b[0;32mif\u001b[0m \u001b[0mdata\u001b[0m \u001b[0;32mis\u001b[0m \u001b[0;32mNone\u001b[0m\u001b[0;34m:\u001b[0m\u001b[0;34m\u001b[0m\u001b[0;34m\u001b[0m\u001b[0m\n\u001b[0;32m-> 1601\u001b[0;31m             \u001b[0;32mreturn\u001b[0m \u001b[0mfunc\u001b[0m\u001b[0;34m(\u001b[0m\u001b[0max\u001b[0m\u001b[0;34m,\u001b[0m \u001b[0;34m*\u001b[0m\u001b[0mmap\u001b[0m\u001b[0;34m(\u001b[0m\u001b[0msanitize_sequence\u001b[0m\u001b[0;34m,\u001b[0m \u001b[0margs\u001b[0m\u001b[0;34m)\u001b[0m\u001b[0;34m,\u001b[0m \u001b[0;34m**\u001b[0m\u001b[0mkwargs\u001b[0m\u001b[0;34m)\u001b[0m\u001b[0;34m\u001b[0m\u001b[0;34m\u001b[0m\u001b[0m\n\u001b[0m\u001b[1;32m   1602\u001b[0m \u001b[0;34m\u001b[0m\u001b[0m\n\u001b[1;32m   1603\u001b[0m         \u001b[0mbound\u001b[0m \u001b[0;34m=\u001b[0m \u001b[0mnew_sig\u001b[0m\u001b[0;34m.\u001b[0m\u001b[0mbind\u001b[0m\u001b[0;34m(\u001b[0m\u001b[0max\u001b[0m\u001b[0;34m,\u001b[0m \u001b[0;34m*\u001b[0m\u001b[0margs\u001b[0m\u001b[0;34m,\u001b[0m \u001b[0;34m**\u001b[0m\u001b[0mkwargs\u001b[0m\u001b[0;34m)\u001b[0m\u001b[0;34m\u001b[0m\u001b[0;34m\u001b[0m\u001b[0m\n",
      "\u001b[0;32m/camp/home/warnert/.conda/envs/blip_manu/lib/python3.7/site-packages/matplotlib/axes/_axes.py\u001b[0m in \u001b[0;36mhist\u001b[0;34m(self, x, bins, range, density, weights, cumulative, bottom, histtype, align, orientation, rwidth, log, color, label, stacked, normed, **kwargs)\u001b[0m\n\u001b[1;32m   6841\u001b[0m                 patch = _barfunc(bins[:-1]+boffset, height, width,\n\u001b[1;32m   6842\u001b[0m                                  \u001b[0malign\u001b[0m\u001b[0;34m=\u001b[0m\u001b[0;34m'center'\u001b[0m\u001b[0;34m,\u001b[0m \u001b[0mlog\u001b[0m\u001b[0;34m=\u001b[0m\u001b[0mlog\u001b[0m\u001b[0;34m,\u001b[0m\u001b[0;34m\u001b[0m\u001b[0;34m\u001b[0m\u001b[0m\n\u001b[0;32m-> 6843\u001b[0;31m                                  color=c, **{bottom_kwarg: bottom})\n\u001b[0m\u001b[1;32m   6844\u001b[0m                 \u001b[0mpatches\u001b[0m\u001b[0;34m.\u001b[0m\u001b[0mappend\u001b[0m\u001b[0;34m(\u001b[0m\u001b[0mpatch\u001b[0m\u001b[0;34m)\u001b[0m\u001b[0;34m\u001b[0m\u001b[0;34m\u001b[0m\u001b[0m\n\u001b[1;32m   6845\u001b[0m                 \u001b[0;32mif\u001b[0m \u001b[0mstacked\u001b[0m\u001b[0;34m:\u001b[0m\u001b[0;34m\u001b[0m\u001b[0;34m\u001b[0m\u001b[0m\n",
      "\u001b[0;32m/camp/home/warnert/.conda/envs/blip_manu/lib/python3.7/site-packages/matplotlib/__init__.py\u001b[0m in \u001b[0;36minner\u001b[0;34m(ax, data, *args, **kwargs)\u001b[0m\n\u001b[1;32m   1599\u001b[0m     \u001b[0;32mdef\u001b[0m \u001b[0minner\u001b[0m\u001b[0;34m(\u001b[0m\u001b[0max\u001b[0m\u001b[0;34m,\u001b[0m \u001b[0;34m*\u001b[0m\u001b[0margs\u001b[0m\u001b[0;34m,\u001b[0m \u001b[0mdata\u001b[0m\u001b[0;34m=\u001b[0m\u001b[0;32mNone\u001b[0m\u001b[0;34m,\u001b[0m \u001b[0;34m**\u001b[0m\u001b[0mkwargs\u001b[0m\u001b[0;34m)\u001b[0m\u001b[0;34m:\u001b[0m\u001b[0;34m\u001b[0m\u001b[0;34m\u001b[0m\u001b[0m\n\u001b[1;32m   1600\u001b[0m         \u001b[0;32mif\u001b[0m \u001b[0mdata\u001b[0m \u001b[0;32mis\u001b[0m \u001b[0;32mNone\u001b[0m\u001b[0;34m:\u001b[0m\u001b[0;34m\u001b[0m\u001b[0;34m\u001b[0m\u001b[0m\n\u001b[0;32m-> 1601\u001b[0;31m             \u001b[0;32mreturn\u001b[0m \u001b[0mfunc\u001b[0m\u001b[0;34m(\u001b[0m\u001b[0max\u001b[0m\u001b[0;34m,\u001b[0m \u001b[0;34m*\u001b[0m\u001b[0mmap\u001b[0m\u001b[0;34m(\u001b[0m\u001b[0msanitize_sequence\u001b[0m\u001b[0;34m,\u001b[0m \u001b[0margs\u001b[0m\u001b[0;34m)\u001b[0m\u001b[0;34m,\u001b[0m \u001b[0;34m**\u001b[0m\u001b[0mkwargs\u001b[0m\u001b[0;34m)\u001b[0m\u001b[0;34m\u001b[0m\u001b[0;34m\u001b[0m\u001b[0m\n\u001b[0m\u001b[1;32m   1602\u001b[0m \u001b[0;34m\u001b[0m\u001b[0m\n\u001b[1;32m   1603\u001b[0m         \u001b[0mbound\u001b[0m \u001b[0;34m=\u001b[0m \u001b[0mnew_sig\u001b[0m\u001b[0;34m.\u001b[0m\u001b[0mbind\u001b[0m\u001b[0;34m(\u001b[0m\u001b[0max\u001b[0m\u001b[0;34m,\u001b[0m \u001b[0;34m*\u001b[0m\u001b[0margs\u001b[0m\u001b[0;34m,\u001b[0m \u001b[0;34m**\u001b[0m\u001b[0mkwargs\u001b[0m\u001b[0;34m)\u001b[0m\u001b[0;34m\u001b[0m\u001b[0;34m\u001b[0m\u001b[0m\n",
      "\u001b[0;32m/camp/home/warnert/.conda/envs/blip_manu/lib/python3.7/site-packages/matplotlib/axes/_axes.py\u001b[0m in \u001b[0;36mbar\u001b[0;34m(self, x, height, width, bottom, align, **kwargs)\u001b[0m\n\u001b[1;32m   2428\u001b[0m                 \u001b[0medgecolor\u001b[0m\u001b[0;34m=\u001b[0m\u001b[0me\u001b[0m\u001b[0;34m,\u001b[0m\u001b[0;34m\u001b[0m\u001b[0;34m\u001b[0m\u001b[0m\n\u001b[1;32m   2429\u001b[0m                 \u001b[0mlinewidth\u001b[0m\u001b[0;34m=\u001b[0m\u001b[0mlw\u001b[0m\u001b[0;34m,\u001b[0m\u001b[0;34m\u001b[0m\u001b[0;34m\u001b[0m\u001b[0m\n\u001b[0;32m-> 2430\u001b[0;31m                 \u001b[0mlabel\u001b[0m\u001b[0;34m=\u001b[0m\u001b[0;34m'_nolegend_'\u001b[0m\u001b[0;34m,\u001b[0m\u001b[0;34m\u001b[0m\u001b[0;34m\u001b[0m\u001b[0m\n\u001b[0m\u001b[1;32m   2431\u001b[0m                 )\n\u001b[1;32m   2432\u001b[0m             \u001b[0mr\u001b[0m\u001b[0;34m.\u001b[0m\u001b[0mupdate\u001b[0m\u001b[0;34m(\u001b[0m\u001b[0mkwargs\u001b[0m\u001b[0;34m)\u001b[0m\u001b[0;34m\u001b[0m\u001b[0;34m\u001b[0m\u001b[0m\n",
      "\u001b[0;31mKeyboardInterrupt\u001b[0m: "
     ]
    },
    {
     "ename": "",
     "evalue": "",
     "output_type": "error",
     "traceback": [
      "\u001b[1;31mCanceled future for execute_request message before replies were done"
     ]
    }
   ],
   "source": [
    "plt.hist(diffs)"
   ]
  },
  {
   "cell_type": "code",
   "execution_count": 96,
   "metadata": {},
   "outputs": [
    {
     "name": "stdout",
     "output_type": "stream",
     "text": [
      "<class 'numpy.uint64'>\n"
     ]
    }
   ],
   "source": [
    "print(sts.astype())"
   ]
  },
  {
   "cell_type": "code",
   "execution_count": 87,
   "metadata": {},
   "outputs": [],
   "source": [
    "diffs_joined = np.concatenate(diffs)"
   ]
  },
  {
   "cell_type": "code",
   "execution_count": 92,
   "metadata": {},
   "outputs": [
    {
     "name": "stdout",
     "output_type": "stream",
     "text": [
      "[ 511  911 1487  400  976  576  852 1890 2159 2525 2837 1038 1307 1673\n",
      " 1985 2354  269  635  947 1316 2128  366  678 1047 1859  312  681 1493\n",
      "  369 1181  812  712 1213 1982 2497 2950  501 1270 1785 2238 2531 2904\n",
      "  769 1284 1737 2030 2403 2754 2988  515]\n"
     ]
    }
   ],
   "source": [
    "print(diffs_joined[:50])"
   ]
  },
  {
   "cell_type": "code",
   "execution_count": 142,
   "metadata": {},
   "outputs": [
    {
     "name": "stderr",
     "output_type": "stream",
     "text": [
      "                                                         \r"
     ]
    }
   ],
   "source": [
    "hist95, xs = generate_autocorrelogram(95, window=100)\n",
    "hist39, xs  = generate_autocorrelogram(39, window=100)"
   ]
  },
  {
   "cell_type": "code",
   "execution_count": 144,
   "metadata": {},
   "outputs": [],
   "source": [
    "def plot_autocorrelogram(ax, hist, xs, color='black'):\n",
    "    ax.bar(xs, hist, width=1, color=color)\n",
    "    ax.spines['right'].set_visible(False)\n",
    "    ax.spines['top'].set_visible(False)\n",
    "    ax.set_xlabel('Time (ms)')\n",
    "    ax.set_ylabel('Probability density of spike')"
   ]
  },
  {
   "cell_type": "code",
   "execution_count": 203,
   "metadata": {},
   "outputs": [
    {
     "data": {
      "image/png": "[encoded data removed]",
      "text/plain": [
       "<Figure size 576x504 with 9 Axes>"
      ]
     },
     "metadata": {
      "needs_background": "light"
     },
     "output_type": "display_data"
    }
   ],
   "source": [
    "cell_colors = ['royalblue', 'forestgreen']\n",
    "\n",
    "fig = plt.figure(figsize=(8, 7))\n",
    "gs = fig.add_gridspec(3, 4, wspace=0.75, hspace=0.5)\n",
    "wf_ax1 = fig.add_subplot(gs[:, 0])\n",
    "wf_ax2 = fig.add_subplot(gs[:, 1])\n",
    "plot_waveform(wf_ax1, mean_wfs, sample_wfs, 95, y_scale=0.005, x_scale=0.15, show_single_examps=False, scalebar_pos=[-2, -10], color=cell_colors[0])\n",
    "plot_waveform(wf_ax2, mean_wfs, sample_wfs, 39, y_scale=0.005, x_scale=0.15, show_single_examps=False, scalebar_pos=[-2, -10], color=cell_colors[1])\n",
    "wf_ax2.set_ylabel('')\n",
    "autocorr_ax1 = fig.add_subplot(gs[0, 2])\n",
    "autocorr_ax2 = fig.add_subplot(gs[0, 3])\n",
    "plot_autocorrelogram(autocorr_ax1, hist95, xs, color=cell_colors[0])\n",
    "plot_autocorrelogram(autocorr_ax2, hist39, xs, color=cell_colors[1])\n",
    "autocorr_ax2.set_ylabel('')\n",
    "ylims = [i.get_ylim() for i in [autocorr_ax1, autocorr_ax2]]\n",
    "ylim = [np.min(ylims), np.max(ylims)]\n",
    "autocorr_ax1.set_ylim(ylim)\n",
    "autocorr_ax2.set_ylim(ylim)\n",
    "autocorr_ax2.set_yticklabels([])\n",
    "autocorr_ax1.set_yticklabels([0, 2, 4, 6])\n",
    "autocorr_ax1.set_ylabel('PD of spike x $10^{-4}$')\n",
    "\n",
    "sub_gs = gs[1, 2:].subgridspec(2, 1, hspace=0.5)\n",
    "firing_ax1 = fig.add_subplot(sub_gs[0])\n",
    "firing_ax2 = fig.add_subplot(sub_gs[1])\n",
    "plot_firing_rate(firing_ax1, gcs, 95, x_scale=0.001, color=cell_colors[0])\n",
    "plot_firing_rate(firing_ax2, gcs, 39, x_scale=0.001, color=cell_colors[1])\n",
    "fig_ax = fig.add_subplot(gs[1, 2:], frameon=False)\n",
    "fig_ax.set_xticks([])\n",
    "fig_ax.set_yticks([])\n",
    "fig_ax.set_xlabel('Time (s) x $10^{3}$', labelpad=15)\n",
    "fig_ax.set_ylabel('Firing rate (Hz)', labelpad=20)\n",
    "\n",
    "violin_ax1 = fig.add_subplot(gs[2, 3])\n",
    "violin_ax2 = fig.add_subplot(gs[2, 2])\n",
    "vps1 = violin_ax1.violinplot(-max_spike_index*0.195/1000, showextrema=True, showmedians=True)\n",
    "vps2 = violin_ax2.violinplot(avg_frs, showextrema=True, showmedians=True)\n",
    "violin_ax1.spines['right'].set_visible(False)\n",
    "violin_ax1.spines['top'].set_visible(False)\n",
    "violin_ax2.spines['right'].set_visible(False)\n",
    "violin_ax2.spines['top'].set_visible(False)\n",
    "violin_ax1.set_ylabel('Max spike amplitude (mV)')\n",
    "violin_ax2.set_ylabel('Firing rate (Hz)')\n",
    "violin_ax1.set_xticks([])\n",
    "violin_ax2.set_xticks([])\n",
    "\n",
    "color = 'black'\n",
    "for vps in [vps1, vps2]:\n",
    "    for pc in vps['bodies']:\n",
    "        pc.set_facecolor(color)\n",
    "        pc.set_edgecolor('black')\n",
    "\n",
    "    # Changing the color of the quantiles, whiskers, and medians\n",
    "    for partname in ('cbars', 'cmins', 'cmaxes', 'cmedians'):\n",
    "        vp = vps[partname]\n",
    "        vp.set_edgecolor(color)\n",
    "\n",
    "axes = [wf_ax1, wf_ax2, autocorr_ax1, autocorr_ax2, firing_ax1, firing_ax2, violin_ax2, violin_ax1]\n",
    "labels = ['Ai', 'ii', 'Bi', 'ii', 'Ci', 'ii', 'D', 'E']\n",
    "align_x = [[2, 4, 5, 6], [3, 7]]\n",
    "align_y = [[0, 1, 2, 3], [6, 7]]\n",
    "dx = [0, 0, -0.02, 0, -0.02, -0.02, -0.02, -0.03]\n",
    "dy = [0, 0, 0, 0, 0, 0, 0, -0.03]\n",
    "label_axes.label_axes(axes, labels, align_x=align_x, align_y=align_y, fontsize=16, fontweight='bold', align_x_fun=np.min, align_y_fun=np.max, dx=dx, dy=dy)\n",
    "plt.savefig('230823_Sup12.pdf', bbox_inches='tight')"
   ]
  },
  {
   "cell_type": "code",
   "execution_count": 58,
   "metadata": {},
   "outputs": [
    {
     "ename": "NameError",
     "evalue": "name 'unit' is not defined",
     "output_type": "error",
     "traceback": [
      "\u001b[0;31m---------------------------------------------------------------------------\u001b[0m",
      "\u001b[0;31mNameError\u001b[0m                                 Traceback (most recent call last)",
      "\u001b[0;32m<ipython-input-58-33f2655da457>\u001b[0m in \u001b[0;36m<module>\u001b[0;34m()\u001b[0m\n\u001b[0;32m----> 1\u001b[0;31m \u001b[0mdir\u001b[0m\u001b[0;34m(\u001b[0m\u001b[0munit\u001b[0m\u001b[0;34m)\u001b[0m\u001b[0;34m\u001b[0m\u001b[0;34m\u001b[0m\u001b[0m\n\u001b[0m",
      "\u001b[0;31mNameError\u001b[0m: name 'unit' is not defined"
     ]
    }
   ],
   "source": [
    "dir(unit)"
   ]
  },
  {
   "cell_type": "code",
   "execution_count": 178,
   "metadata": {},
   "outputs": [
    {
     "name": "stdout",
     "output_type": "stream",
     "text": [
      "(130,)\n",
      "[ 43  44  95  62  91  39  60  41 103  37 115  98  42  36 127 104  54 110\n",
      "   1  77  89  59 122 126  63 116 121  35  93 105 112 123  65  40  52   4\n",
      "  88  94 113  76 111  58  96  85 129   3 124  71  64  92  67  57 102  68\n",
      "  81  53  69  28 128  56  31  48  97  72  86  61  80  66  90   0  82  38\n",
      "  75 118  84 119 125  79  55 114  24   5  46  47 117  51  73   7  49 106\n",
      "  14  32   9  78   2  18  17 108  99 120  29   8 101  10  33  30  74  20\n",
      "  13 109   6  19  83  16  11  23  12 100  26  22  70  25 107  15  87  27\n",
      "  34  45  50  21]\n"
     ]
    }
   ],
   "source": [
    "max_spike_index = np.min(mean_wfs, axis=1).min(axis=-1)\n",
    "print(max_spike_index.shape)\n",
    "print(np.argsort(max_spike_index))"
   ]
  },
  {
   "cell_type": "code",
   "execution_count": 34,
   "metadata": {},
   "outputs": [
    {
     "name": "stdout",
     "output_type": "stream",
     "text": [
      "43\n"
     ]
    }
   ],
   "source": [
    "print(np.argmin(max_spike_index))"
   ]
  },
  {
   "cell_type": "code",
   "execution_count": 30,
   "metadata": {},
   "outputs": [
    {
     "data": {
      "text/plain": [
       "{'bodies': [<matplotlib.collections.PolyCollection at 0x7f521a449c88>],\n",
       " 'cmaxes': <matplotlib.collections.LineCollection at 0x7f5228813ef0>,\n",
       " 'cmins': <matplotlib.collections.LineCollection at 0x7f521a449f28>,\n",
       " 'cbars': <matplotlib.collections.LineCollection at 0x7f521a45d160>,\n",
       " 'cmedians': <matplotlib.collections.LineCollection at 0x7f521a45d3c8>}"
      ]
     },
     "execution_count": 30,
     "metadata": {},
     "output_type": "execute_result"
    },
    {
     "data": {
      "image/png": "[encoded data removed]",
      "text/plain": [
       "<Figure size 432x288 with 1 Axes>"
      ]
     },
     "metadata": {
      "needs_background": "light"
     },
     "output_type": "display_data"
    }
   ],
   "source": [
    "plt.violinplot(max_spike_index*0.195, showextrema=True, showmedians=True)"
   ]
  },
  {
   "cell_type": "code",
   "execution_count": 26,
   "metadata": {},
   "outputs": [],
   "source": [
    "rec = recs.recordings[0]\n",
    "unit = rec.get_good_clusters()[0]"
   ]
  },
  {
   "cell_type": "code",
   "execution_count": 165,
   "metadata": {},
   "outputs": [
    {
     "data": {
      "image/png": "[encoded data removed]",
      "text/plain": [
       "<Figure size 432x288 with 1 Axes>"
      ]
     },
     "metadata": {
      "needs_background": "light"
     },
     "output_type": "display_data"
    }
   ],
   "source": [
    "def plot_firing_rate(ax, gcs, ui, color='black', x_scale=1):\n",
    "    fr = gcs[ui].get_firing_rate(good_units_rec[ui].rec_length)\n",
    "    ax.plot(fr[0]*x_scale, fr[1], color=color)\n",
    "    ax.spines['right'].set_visible(False)\n",
    "    ax.spines['top'].set_visible(False)\n",
    "    #ax.set_ylabel('Firing rate (Hz)')\n",
    "    \n",
    "\n",
    "fig, ax = plt.subplots(1, 1)\n",
    "plot_firing_rate(ax, gcs, 43, x_scale=0.001)\n"
   ]
  },
  {
   "cell_type": "code",
   "execution_count": 179,
   "metadata": {},
   "outputs": [],
   "source": [
    "avg_frs = [gcs[i].get_firing_rate(good_units_rec[i].rec_length)[1].mean() for i in range(len(gcs))]"
   ]
  },
  {
   "cell_type": "code",
   "execution_count": 40,
   "metadata": {},
   "outputs": [
    {
     "data": {
      "text/plain": [
       "{'bodies': [<matplotlib.collections.PolyCollection at 0x7f5229092a90>],\n",
       " 'cmaxes': <matplotlib.collections.LineCollection at 0x7f5229092a58>,\n",
       " 'cmins': <matplotlib.collections.LineCollection at 0x7f5229092d68>,\n",
       " 'cbars': <matplotlib.collections.LineCollection at 0x7f5229092f60>}"
      ]
     },
     "execution_count": 40,
     "metadata": {},
     "output_type": "execute_result"
    },
    {
     "data": {
      "image/png": "[encoded data removed]",
      "text/plain": [
       "<Figure size 432x288 with 1 Axes>"
      ]
     },
     "metadata": {
      "needs_background": "light"
     },
     "output_type": "display_data"
    }
   ],
   "source": [
    "plt.violinplot(avg_frs)"
   ]
  },
  {
   "cell_type": "code",
   "execution_count": 27,
   "metadata": {},
   "outputs": [],
   "source": [
    "fr = unit.get_firing_rate(rec.rec_length)"
   ]
  },
  {
   "cell_type": "code",
   "execution_count": 30,
   "metadata": {},
   "outputs": [
    {
     "data": {
      "text/plain": [
       "[<matplotlib.lines.Line2D at 0x7ef473c48c18>]"
      ]
     },
     "execution_count": 30,
     "metadata": {},
     "output_type": "execute_result"
    },
    {
     "data": {
      "image/png": "[encoded data removed]",
      "text/plain": [
       "<Figure size 432x288 with 1 Axes>"
      ]
     },
     "metadata": {
      "needs_background": "light"
     },
     "output_type": "display_data"
    }
   ],
   "source": [
    "plt.plot(fr[0], fr[1])"
   ]
  },
  {
   "cell_type": "code",
   "execution_count": 79,
   "metadata": {},
   "outputs": [],
   "source": [
    "unit = recs.recordings[0].get_good_clusters()[0]"
   ]
  },
  {
   "cell_type": "code",
   "execution_count": 81,
   "metadata": {},
   "outputs": [
    {
     "name": "stdout",
     "output_type": "stream",
     "text": [
      "(82, 32)\n"
     ]
    }
   ],
   "source": [
    "print()"
   ]
  },
  {
   "cell_type": "code",
   "execution_count": 63,
   "metadata": {},
   "outputs": [
    {
     "name": "stdout",
     "output_type": "stream",
     "text": [
      "(92, 100, 90, 32)\n"
     ]
    }
   ],
   "source": [
    "print(sample_wfs.shape)\n"
   ]
  },
  {
   "cell_type": "code",
   "execution_count": 31,
   "metadata": {},
   "outputs": [
    {
     "name": "stdout",
     "output_type": "stream",
     "text": [
      "[101 102]\n"
     ]
    }
   ],
   "source": [
    "lens = [len(i) for i in sample_wfs]\n",
    "print(np.unique(lens))\n"
   ]
  },
  {
   "cell_type": "code",
   "execution_count": null,
   "metadata": {},
   "outputs": [],
   "source": []
  }
 ],
 "metadata": {
  "kernelspec": {
   "display_name": "blip_manu",
   "language": "python",
   "name": "python3"
  },
  "language_info": {
   "codemirror_mode": {
    "name": "ipython",
    "version": 3
   },
   "file_extension": ".py",
   "mimetype": "text/x-python",
   "name": "python",
   "nbconvert_exporter": "python",
   "pygments_lexer": "ipython3",
   "version": "3.7.3"
  },
  "orig_nbformat": 4
 },
 "nbformat": 4,
 "nbformat_minor": 2
}
