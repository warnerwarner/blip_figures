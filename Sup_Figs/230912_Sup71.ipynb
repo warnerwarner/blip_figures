{
 "cells": [
  {
   "cell_type": "code",
   "execution_count": 1,
   "metadata": {},
   "outputs": [
    {
     "name": "stdout",
     "output_type": "stream",
     "text": [
      "b\n"
     ]
    }
   ],
   "source": [
    "\n",
    "import numpy as np\n",
    "import blip_analysis as ba\n",
    "import matplotlib.pyplot as plt\n",
    "import pickle\n",
    "import scipy\n",
    "from tqdm import trange\n",
    "from matplotlib.gridspec import GridSpec\n",
    "from label_axes import label_axes\n",
    "from scipy.optimize import minimize\n",
    "\n",
    "import matplotlib\n",
    "matplotlib.rcParams['pdf.fonttype'] = 42\n",
    "matplotlib.rcParams['ps.fonttype'] = 42"
   ]
  },
  {
   "cell_type": "code",
   "execution_count": 2,
   "metadata": {},
   "outputs": [
    {
     "name": "stdout",
     "output_type": "stream",
     "text": [
      "Found odour 1\n",
      "Found odour 3\n",
      "Found odour 5\n"
     ]
    }
   ],
   "source": [
    "## Load data\n",
    "unit_usrt1, unit_usrt2, unit_usrt3 = ba.load_usrts()\n",
    "good_indexes = ba.get_stable_resp_indexes()\n",
    "glyphs = ba.get_glyphs()"
   ]
  },
  {
   "cell_type": "code",
   "execution_count": 3,
   "metadata": {},
   "outputs": [],
   "source": [
    "### Run to load in all the models\n",
    "diff_models1 = pickle.Unpickler(open('../Data/230320_diff_models1.pkl', 'rb')).load()\n",
    "diff_models2 = pickle.Unpickler(open('../Data/230320_diff_models2.pkl', 'rb')).load()\n",
    "diff_models3 = pickle.Unpickler(open('../Data/230320_diff_models3.pkl', 'rb')).load()\n",
    "model_length = 130"
   ]
  },
  {
   "cell_type": "code",
   "execution_count": 4,
   "metadata": {},
   "outputs": [],
   "source": [
    "### Loading responsive cells from the 230509_fig5_2PCs.ipynb - only cells which are 'responsive' to all three odours\n",
    "responsive_only_cells = np.load('../Data/230515_all_responsive_cells.npy')\n",
    "diff_models1 = diff_models1[responsive_only_cells]\n",
    "diff_models2 = diff_models2[responsive_only_cells]\n",
    "diff_models3 = diff_models3[responsive_only_cells]\n",
    "model_length = 66"
   ]
  },
  {
   "cell_type": "code",
   "execution_count": 5,
   "metadata": {},
   "outputs": [],
   "source": [
    "### Fit all models to ensure their weighting has all repeats\n",
    "[i.fit() for i in diff_models1];\n",
    "[i.fit() for i in diff_models2];\n",
    "[i.fit() for i in diff_models3];"
   ]
  },
  {
   "cell_type": "code",
   "execution_count": 6,
   "metadata": {},
   "outputs": [
    {
     "name": "stdout",
     "output_type": "stream",
     "text": [
      "[ 3 51 41 12  4 24  2 63 31 52 49 53 21 44  6 47 22 25 64 10 43 36 16 13\n",
      " 11 58 15 60 56 23 20  5 55 54 17 62 48  8 59  0 50  1 57 18 45  9 33 26\n",
      " 14 35 30 46 29 28 42 38 19 65 61 27  7 40 37 32 39 34]\n"
     ]
    }
   ],
   "source": [
    "## calculate the mean and std of each cell\n",
    "mean_usrt1 = [[np.mean(np.mean(i, axis=-1)) for i in j] for j in unit_usrt1[good_indexes][responsive_only_cells]]\n",
    "std_usrt1 = [[np.std(np.mean(i, axis=-1)) for i in j] for j in unit_usrt1[good_indexes][responsive_only_cells]]\n",
    "mean_usrt2 = [[np.mean(np.mean(i, axis=-1)) for i in j] for j in unit_usrt2[good_indexes][responsive_only_cells]]\n",
    "std_usrt2 = [[np.std(np.mean(i, axis=-1)) for i in j] for j in unit_usrt2[good_indexes][responsive_only_cells]]\n",
    "mean_usrt3 = [[np.mean(np.mean(i, axis=-1)) for i in j] for j in unit_usrt3[good_indexes][responsive_only_cells]]\n",
    "std_usrt3 = [[np.std(np.mean(i, axis=-1)) for i in j] for j in unit_usrt3[good_indexes][responsive_only_cells]]\n",
    "corrs = [np.corrcoef(i, j)[0, 1] for i, j in zip(mean_usrt1, mean_usrt2)]\n",
    "print(np.argsort(np.abs(corrs)))\n",
    "corr_args = np.argsort(np.abs(corrs))"
   ]
  },
  {
   "cell_type": "code",
   "execution_count": 7,
   "metadata": {},
   "outputs": [],
   "source": [
    "### Load in the other odour fit results (this takes the 66 responsive cells)\n",
    "res = np.load('../Data/230704_other_odour_fits.npy', allow_pickle=True)"
   ]
  },
  {
   "cell_type": "code",
   "execution_count": 8,
   "metadata": {},
   "outputs": [],
   "source": [
    "## reshaping\n",
    "cell_preds12 = res[0, 0, :, 0, :]\n",
    "scores12 = res[0, 0, :, 1, :]\n",
    "cell_preds13 = res[0, 1, :, 0, :]\n",
    "scores13 = res[0, 1, :, 1, :]\n",
    "cell_preds21 = res[1, 0, :, 0, :]\n",
    "scores21 = res[1, 0, :, 1, :]\n",
    "cell_preds23 = res[1, 1, :, 0, :]\n",
    "scores23 = res[1, 1, :, 1, :]\n",
    "cell_preds31 = res[2, 0, :, 0, :]\n",
    "scores31 = res[2, 0, :, 1, :]\n",
    "cell_preds32 = res[2, 1, :, 0, :]\n",
    "scores32 = res[2, 1, :, 1, :]"
   ]
  },
  {
   "cell_type": "code",
   "execution_count": 16,
   "metadata": {},
   "outputs": [],
   "source": [
    "\n",
    "def plot_multi_odour_response2(cell_index, odour1, odour2, ax=None, odour1_std = None, odour2_std = None, legend=False, remove_spine_top=False, fs=10):\n",
    "    '''Plots the responses of a given cell to two odours, scaled to minimise the sum of squared differences'''\n",
    "    data1 = np.array(odour1[cell_index])\n",
    "    data2 = np.array(odour2[cell_index])\n",
    "    lower, upper = auto_scale(odour1, odour2, cell_index)\n",
    "    scaled_data2 = lower + (data2 - np.min(data2))*(upper - lower) / (np.max(data2) - np.min(data2))\n",
    "    scaled_err = np.abs((upper - lower) / (np.max(data2) - np.min(data2)) * np.array(odour2_std[cell_index]))\n",
    "\n",
    "    print(min(scaled_err), max(scaled_err))\n",
    "    \n",
    "    if ax is None:\n",
    "        fig = plt.figure()\n",
    "        ax = fig.add_subplot(111)\n",
    "    ax.errorbar(np.arange(0, 64, 2), data1, yerr=odour1_std[cell_index], fmt='.', color='k', linewidth=1)\n",
    "    ax.errorbar(np.arange(0.5, 64.5, 2), scaled_data2, yerr=scaled_err,  fmt='.', color='r', linewidth=1)\n",
    "    ax.set_xticks(np.arange(0.25, 64.25, 2))\n",
    "    ax.set_xticklabels(glyphs, rotation=90, fontsize=fs);\n",
    "    ylims = ax.get_ylim()\n",
    "    ax2 = ax.twinx()\n",
    "    scaled_ylims = ((np.array(ylims) - lower) * (np.max(data2) - np.min(data2)) / (upper - lower)) + np.min(data2)\n",
    "    ax2.set_ylim(scaled_ylims)\n",
    "    ax2.set_ylabel('Firing rate O2 (Hz)', color='r')\n",
    "    ax2.tick_params(axis='y', colors='red')\n",
    "    ax2.spines['right'].set_color('red')\n",
    "    ax.set_ylabel('Firing rate O1 (Hz)')\n",
    "    if remove_spine_top:\n",
    "        ax.spines['top'].set_visible(False)\n",
    "        ax2.spines['top'].set_visible(False)\n",
    "\n",
    "def auto_scale(odour1, odour2, ui):\n",
    "    '''Automatically scales the two odour responses to minimise the sum of squared differences'''\n",
    "    data1 = np.array(odour1[ui])\n",
    "    data2 = np.array(odour2[ui])\n",
    "\n",
    "    x_data = np.array(range(32))\n",
    "    init_limits = [0, 100]\n",
    "\n",
    "    result = minimize(calc_diff, init_limits, args=(data1, data2), method='Nelder-Mead', tol=1e-20, options={'maxiter': 10000})\n",
    "    return result.x\n",
    "\n",
    "def calc_diff(limits, data1, data2):\n",
    "    '''Calculates the sum of squared differences between two odour responses, scaled to the limits given'''\n",
    "    lower, upper = limits\n",
    "    \n",
    "    # Rescale data\n",
    "    scaled_data2 = lower + (data2 - np.min(data2))*(upper - lower) / (np.max(data2) - np.min(data2))\n",
    "    \n",
    "    # Calculate sum of squared differences\n",
    "    diff = np.sum((data1 - scaled_data2)**2)\n",
    "    return diff\n"
   ]
  },
  {
   "cell_type": "code",
   "execution_count": 24,
   "metadata": {},
   "outputs": [
    {
     "name": "stdout",
     "output_type": "stream",
     "text": [
      "1.2985089072817302 3.8843649675395393\n",
      "1.070132051517697 3.6529751411008284\n",
      "4.3164890809871705 13.911223352319738\n",
      "1.6540145377072215 11.341039401630681\n"
     ]
    },
    {
     "data": {
      "image/png": "[encoded data removed]",
      "text/plain": [
       "<Figure size 576x432 with 8 Axes>"
      ]
     },
     "metadata": {
      "needs_background": "light"
     },
     "output_type": "display_data"
    }
   ],
   "source": [
    "fig = plt.figure(figsize=(8, 6))\n",
    "gs = fig.add_gridspec(2, 2, wspace=0.5)\n",
    "response_ax1 = fig.add_subplot(gs[0, 0])\n",
    "response_ax2 = fig.add_subplot(gs[0, 1])\n",
    "response_ax3 = fig.add_subplot(gs[1, 0])\n",
    "response_ax4 = fig.add_subplot(gs[1, 1])\n",
    "fs=7\n",
    "plot_multi_odour_response2(corr_args[-2], mean_usrt1, mean_usrt2, odour1_std=std_usrt1, odour2_std=std_usrt2, ax=response_ax1, remove_spine_top=True)\n",
    "plot_multi_odour_response2(corr_args[-6], mean_usrt1, mean_usrt2, odour1_std=std_usrt1, odour2_std=std_usrt2, ax=response_ax2, remove_spine_top=True)\n",
    "plot_multi_odour_response2(corr_args[-10], mean_usrt1, mean_usrt2, odour1_std=std_usrt1, odour2_std=std_usrt2, ax=response_ax3, remove_spine_top=True, fs=fs)\n",
    "plot_multi_odour_response2(corr_args[-9], mean_usrt1, mean_usrt2, odour1_std=std_usrt1, odour2_std=std_usrt2, ax=response_ax4, remove_spine_top=True, fs=fs)\n",
    "response_ax1.set_xticklabels([])\n",
    "response_ax2.set_xticklabels([])\n",
    "axes = [response_ax1, response_ax2, response_ax3, response_ax4]\n",
    "labels = ['A', 'B', 'C', 'D']\n",
    "align_x = [[0, 2], [1, 3]]\n",
    "align_y = [[0, 1], [2, 3]]\n",
    "label_axes.label_axes(axes, labels, align_x=align_x, align_y=align_y, fontsize=16, fontweight='bold')\n",
    "plt.savefig('230912_Sup71.pdf', bbox_inches='tight')"
   ]
  },
  {
   "cell_type": "code",
   "execution_count": null,
   "metadata": {},
   "outputs": [],
   "source": []
  }
 ],
 "metadata": {
  "kernelspec": {
   "display_name": "blip_manu",
   "language": "python",
   "name": "python3"
  },
  "language_info": {
   "codemirror_mode": {
    "name": "ipython",
    "version": 3
   },
   "file_extension": ".py",
   "mimetype": "text/x-python",
   "name": "python",
   "nbconvert_exporter": "python",
   "pygments_lexer": "ipython3",
   "version": "3.7.3"
  },
  "orig_nbformat": 4
 },
 "nbformat": 4,
 "nbformat_minor": 2
}
