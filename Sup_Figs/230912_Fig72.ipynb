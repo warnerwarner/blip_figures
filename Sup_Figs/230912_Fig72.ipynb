{
 "cells": [
  {
   "cell_type": "code",
   "execution_count": 1,
   "metadata": {},
   "outputs": [
    {
     "name": "stdout",
     "output_type": "stream",
     "text": [
      "b\n"
     ]
    }
   ],
   "source": [
    "\n",
    "import numpy as np\n",
    "import blip_analysis as ba\n",
    "import matplotlib.pyplot as plt\n",
    "import pickle\n",
    "import scipy\n",
    "from tqdm import trange\n",
    "from matplotlib.gridspec import GridSpec\n",
    "from label_axes import label_axes\n",
    "from scipy.optimize import minimize\n",
    "\n",
    "import matplotlib\n",
    "matplotlib.rcParams['pdf.fonttype'] = 42\n",
    "matplotlib.rcParams['ps.fonttype'] = 42"
   ]
  },
  {
   "cell_type": "code",
   "execution_count": 2,
   "metadata": {},
   "outputs": [
    {
     "name": "stdout",
     "output_type": "stream",
     "text": [
      "Found odour 1\n",
      "Found odour 3\n",
      "Found odour 5\n"
     ]
    }
   ],
   "source": [
    "## Load data\n",
    "unit_usrt1, unit_usrt2, unit_usrt3 = ba.load_usrts()\n",
    "good_indexes = ba.get_stable_resp_indexes()\n",
    "glyphs = ba.get_glyphs()"
   ]
  },
  {
   "cell_type": "code",
   "execution_count": 3,
   "metadata": {},
   "outputs": [],
   "source": [
    "### Run to load in all the models\n",
    "diff_models1 = pickle.Unpickler(open('../Data/230320_diff_models1.pkl', 'rb')).load()\n",
    "diff_models2 = pickle.Unpickler(open('../Data/230320_diff_models2.pkl', 'rb')).load()\n",
    "diff_models3 = pickle.Unpickler(open('../Data/230320_diff_models3.pkl', 'rb')).load()\n",
    "model_length = 130"
   ]
  },
  {
   "cell_type": "code",
   "execution_count": 4,
   "metadata": {},
   "outputs": [],
   "source": [
    "### Loading responsive cells from the 230509_fig5_2PCs.ipynb - only cells which are 'responsive' to all three odours\n",
    "responsive_only_cells = np.load('../Data/230515_all_responsive_cells.npy')\n",
    "diff_models1 = diff_models1[responsive_only_cells]\n",
    "diff_models2 = diff_models2[responsive_only_cells]\n",
    "diff_models3 = diff_models3[responsive_only_cells]\n",
    "model_length = 66"
   ]
  },
  {
   "cell_type": "code",
   "execution_count": 5,
   "metadata": {},
   "outputs": [],
   "source": [
    "### Fit all models to ensure their weighting has all repeats\n",
    "[i.fit() for i in diff_models1];\n",
    "[i.fit() for i in diff_models2];\n",
    "[i.fit() for i in diff_models3];"
   ]
  },
  {
   "cell_type": "code",
   "execution_count": 6,
   "metadata": {},
   "outputs": [],
   "source": [
    "## calculate the mean and std of each cell\n",
    "mean_usrt1 = [[np.mean(np.mean(i, axis=-1)) for i in j] for j in unit_usrt1[good_indexes][responsive_only_cells]]\n",
    "std_usrt1 = [[np.std(np.mean(i, axis=-1)) for i in j] for j in unit_usrt1[good_indexes][responsive_only_cells]]\n",
    "mean_usrt2 = [[np.mean(np.mean(i, axis=-1)) for i in j] for j in unit_usrt2[good_indexes][responsive_only_cells]]\n",
    "std_usrt2 = [[np.std(np.mean(i, axis=-1)) for i in j] for j in unit_usrt2[good_indexes][responsive_only_cells]]\n",
    "mean_usrt3 = [[np.mean(np.mean(i, axis=-1)) for i in j] for j in unit_usrt3[good_indexes][responsive_only_cells]]\n",
    "std_usrt3 = [[np.std(np.mean(i, axis=-1)) for i in j] for j in unit_usrt3[good_indexes][responsive_only_cells]]\n",
    "corrs13 = [np.corrcoef(i, j)[0, 1] for i, j in zip(mean_usrt1, mean_usrt3)]\n",
    "corr_args13 = np.argsort(np.abs(corrs13))\n",
    "corrs23 = [np.corrcoef(i, j)[0, 1] for i, j in zip(mean_usrt2, mean_usrt3)]\n",
    "corr_args23 = np.argsort(np.abs(corrs23))"
   ]
  },
  {
   "cell_type": "code",
   "execution_count": 7,
   "metadata": {},
   "outputs": [],
   "source": [
    "### Load in the other odour fit results (this takes the 66 responsive cells)\n",
    "res = np.load('../Data/230704_other_odour_fits.npy', allow_pickle=True)"
   ]
  },
  {
   "cell_type": "code",
   "execution_count": 8,
   "metadata": {},
   "outputs": [],
   "source": [
    "## reshaping\n",
    "cell_preds12 = res[0, 0, :, 0, :]\n",
    "scores12 = res[0, 0, :, 1, :]\n",
    "cell_preds13 = res[0, 1, :, 0, :]\n",
    "scores13 = res[0, 1, :, 1, :]\n",
    "cell_preds21 = res[1, 0, :, 0, :]\n",
    "scores21 = res[1, 0, :, 1, :]\n",
    "cell_preds23 = res[1, 1, :, 0, :]\n",
    "scores23 = res[1, 1, :, 1, :]\n",
    "cell_preds31 = res[2, 0, :, 0, :]\n",
    "scores31 = res[2, 0, :, 1, :]\n",
    "cell_preds32 = res[2, 1, :, 0, :]\n",
    "scores32 = res[2, 1, :, 1, :]"
   ]
  },
  {
   "cell_type": "code",
   "execution_count": 9,
   "metadata": {},
   "outputs": [],
   "source": [
    "def plot_score_fracs(scores1, scores2, odour1_label='Odour 1', odour2_label='Odour 2', ax=None, colors=['C0', 'C1', 'r'], show_best=True):\n",
    "    '''Plots the fraction of cells which are fit better to another odour response than a given cell - generates part A'''\n",
    "    scores_frac1 = []\n",
    "    scores_frac2 = []\n",
    "    for i in range(model_length):\n",
    "        self_score1 = scores1[i][i]\n",
    "        self_score2 = scores2[i][i]\n",
    "        scores_frac1.append(len(np.where(np.array(scores1)[i] < self_score1)[0])/model_length)\n",
    "        scores_frac2.append(len(np.where(np.array(scores2)[i] < self_score2)[0])/model_length)\n",
    "    min_score_fracs = np.min([scores_frac1, scores_frac2], axis=0)\n",
    "    best_odour_fracs = np.array([scores_frac1, scores_frac2]).argmin(axis=0)\n",
    "\n",
    "    frac_args1 = np.argsort(scores_frac1)\n",
    "    frac_args2 = np.argsort(scores_frac2)\n",
    "    minfracs_args = np.argsort(min_score_fracs)\n",
    "\n",
    "    if ax is None:\n",
    "        fig = plt.figure()\n",
    "        ax = fig.add_subplot(111)\n",
    "    ax.plot(np.array(scores_frac1)[frac_args1], label=odour1_label, color=colors[0])\n",
    "    ax.plot(np.array(scores_frac2)[frac_args2], label=odour2_label, color=colors[1])\n",
    "    if show_best:\n",
    "        ax.plot(np.array(min_score_fracs)[minfracs_args], label='Min of both odours', color=colors[2])\n",
    "    ax.axhline(0.5, color='k', linestyle='--')\n",
    "    ax.set_xlabel('Sorted cell number')\n",
    "    ax.set_ylabel('Fraction of cells with better fit')\n",
    "    ax.axvline(int(model_length/2), color='k', linestyle='--')\n",
    "\n",
    "    print(len(np.where(np.array(scores_frac1) < 0.5)[0]))\n",
    "    print(len(np.where(np.array(scores_frac2) < 0.5)[0]))\n",
    "    print(len(np.where(np.array(min_score_fracs) < 0.5)[0]))\n",
    "    fracs = [len(np.where(np.array(scores_frac1) < 0.5)[0]), len(np.where(np.array(scores_frac2) < 0.5)[0]), len(np.where(np.array(min_score_fracs) < 0.5)[0])]\n",
    "    joint_args = [frac_args1, frac_args2, minfracs_args]\n",
    "    return ax, fracs, joint_args\n",
    "\n",
    "\n",
    "\n",
    "def auto_scale(odour1, odour2, ui):\n",
    "    '''Automatically scales the two odour responses to minimise the sum of squared differences'''\n",
    "    data1 = np.array(odour1[ui])\n",
    "    data2 = np.array(odour2[ui])\n",
    "\n",
    "    x_data = np.array(range(32))\n",
    "    init_limits = [0, 100]\n",
    "\n",
    "    result = minimize(calc_diff, init_limits, args=(data1, data2), method='Nelder-Mead', tol=1e-20, options={'maxiter': 10000})\n",
    "    return result.x\n",
    "\n",
    "def calc_diff(limits, data1, data2):\n",
    "    '''Calculates the sum of squared differences between two odour responses, scaled to the limits given'''\n",
    "    lower, upper = limits\n",
    "    \n",
    "    # Rescale data\n",
    "    scaled_data2 = lower + (data2 - np.min(data2))*(upper - lower) / (np.max(data2) - np.min(data2))\n",
    "    \n",
    "    # Calculate sum of squared differences\n",
    "    diff = np.sum((data1 - scaled_data2)**2)\n",
    "    return diff\n",
    "\n",
    "\n",
    "\n",
    "\n",
    "def plot_multi_odour_response2(cell_index, odour1, odour2, ax=None, odour1_std = None, odour2_std = None, legend=False, remove_spine_top=False):\n",
    "    '''Plots the responses of a given cell to two odours, scaled to minimise the sum of squared differences'''\n",
    "    data1 = np.array(odour1[cell_index])\n",
    "    data2 = np.array(odour2[cell_index])\n",
    "    lower, upper = auto_scale(odour1, odour2, cell_index)\n",
    "    scaled_data2 = lower + (data2 - np.min(data2))*(upper - lower) / (np.max(data2) - np.min(data2))\n",
    "    scaled_err = np.abs((upper - lower) / (np.max(data2) - np.min(data2)) * np.array(odour2_std[cell_index]))\n",
    "\n",
    "    print(min(scaled_err), max(scaled_err))\n",
    "    \n",
    "    if ax is None:\n",
    "        fig = plt.figure()\n",
    "        ax = fig.add_subplot(111)\n",
    "    ax.errorbar(np.arange(0, 64, 2), data1, yerr=odour1_std[cell_index], fmt='.', color='k', linewidth=1)\n",
    "    ax.errorbar(np.arange(0.5, 64.5, 2), scaled_data2, yerr=scaled_err,  fmt='.', color='r', linewidth=1)\n",
    "    ax.set_xticks(np.arange(0.25, 64.25, 2))\n",
    "    ax.set_xticklabels(glyphs, rotation=90);\n",
    "    ylims = ax.get_ylim()\n",
    "    ax2 = ax.twinx()\n",
    "    scaled_ylims = ((np.array(ylims) - lower) * (np.max(data2) - np.min(data2)) / (upper - lower)) + np.min(data2)\n",
    "    ax2.set_ylim(scaled_ylims)\n",
    "    ax2.set_ylabel('Firing rate O2 (Hz)', color='r')\n",
    "    ax2.tick_params(axis='y', colors='red')\n",
    "    ax2.spines['right'].set_color('red')\n",
    "    ax.set_ylabel('Firing rate O1 (Hz)')\n",
    "    if remove_spine_top:\n",
    "        ax.spines['top'].set_visible(False)\n",
    "        ax2.spines['top'].set_visible(False)\n"
   ]
  },
  {
   "cell_type": "code",
   "execution_count": 10,
   "metadata": {},
   "outputs": [],
   "source": [
    "\n",
    "\n",
    "\n",
    "def plot_significance(ax, x_pos, sig_level, y_level, rotation=False):\n",
    "    if rotation:\n",
    "        ax.plot([y_level, y_level], [x_pos[0], x_pos[1]], color='k')\n",
    "        ax.text(y_level*1.01, np.mean(x_pos), sig_level, horizontalalignment='left', verticalalignment='center', rotation=90)\n",
    "    else:\n",
    "        ax.plot([x_pos[0], x_pos[1]], [y_level, y_level], color='k')\n",
    "        ax.text(np.mean(x_pos), y_level, sig_level, horizontalalignment='center', verticalalignment='bottom')\n",
    "\n",
    "# vp = ax.violinplot([corrs, random_corr, np.abs(corrs), np.abs(random_corr)], showmeans=True, positions=x_pos, showextrema=False)\n",
    "# for pc in vp['bodies']:\n",
    "#     pc.set_facecolor('lightgrey')\n",
    "#     pc.set_edgecolor('lightgrey')\n",
    "#     pc.set_alpha(1)\n",
    "# vp['cmeans'].set_color('black')\n",
    "# ax.set_ylabel('Correlation coefficient')\n",
    "# ax.spines['top'].set_visible(False)\n",
    "# ax.spines['right'].set_visible(False)\n",
    "# ax.set_xticks(x_pos)\n",
    "# ax.set_xticklabels(['O1 O2', 'Shuffle', 'Absolute O1 O2', 'Absolute shuffle'], rotation=90)\n",
    "\n",
    "# plot_significance(ax, [0, 1], '****', 1.05)\n",
    "# plot_significance(ax, [3, 4], '****', 1.05)\n",
    "def plot_violinplot(fig, gs, data, x_pos, rotation=False):\n",
    "    ax = fig.add_subplot(gs)\n",
    "    # plotting the violin plots rotated 90 degrees\n",
    "    vp = ax.violinplot(data, showmeans=True, positions=x_pos, showextrema=False, vert= not rotation)\n",
    "    for pc in vp['bodies']:\n",
    "        pc.set_facecolor('lightgrey')\n",
    "        pc.set_edgecolor('lightgrey')\n",
    "        pc.set_alpha(1)\n",
    "    vp['cmeans'].set_color('black')\n",
    "    ax.spines['top'].set_visible(False)\n",
    "    ax.spines['right'].set_visible(False)\n",
    "    if rotation:\n",
    "        ax.set_yticks(x_pos)\n",
    "        ax.set_yticklabels(['O1 O2', 'Shuffle', 'Absolute O1 O2', 'Absolute shuffle'])\n",
    "        ax.set_xlabel('Correlation coefficient')\n",
    "    else:\n",
    "        ax.set_xticks(x_pos)\n",
    "        ax.set_xticklabels(['O1 O2', 'Shuffle', '|O1 O2|', '|Shuffle|'], rotation=90)\n",
    "        ax.set_ylabel('Correlation coefficient')\n",
    "    return ax\n",
    "\n",
    "# fig = plt.figure()\n",
    "# gs = fig.add_gridspec(1, 1)\n",
    "# x_pos = [0, 1, 3, 4]\n",
    "# ax = plot_violinplot(fig, gs[0], [corrs, random_corr, np.abs(corrs), np.abs(random_corr)], x_pos, rotation=False)\n",
    "# plot_significance(ax, [0, 1], '****', 1.05, rotation=False)\n",
    "# plot_significance(ax, [3, 4], '****', 1.05, rotation=False)\n"
   ]
  },
  {
   "cell_type": "code",
   "execution_count": 21,
   "metadata": {},
   "outputs": [],
   "source": [
    "better_corrs12 = []\n",
    "best_corrs12 = []\n",
    "better_corrs13 = []\n",
    "best_corrs13 = []\n",
    "better_corrs23 = []\n",
    "best_corrs23 = []\n",
    "for i in range(66):\n",
    "    base_corr = np.abs(np.corrcoef(mean_usrt1[i], mean_usrt2[i])[0,1])\n",
    "    other_corrs = [np.abs(np.corrcoef(mean_usrt1[i], mean_usrt2[j])[0,1]) for j in range(66) if j != i]\n",
    "    if base_corr > np.median(other_corrs):\n",
    "        better_corrs12.append(i)\n",
    "    if base_corr > np.max(other_corrs):\n",
    "        best_corrs12.append(i)\n",
    "\n",
    "    base_corr = np.abs(np.corrcoef(mean_usrt1[i], mean_usrt3[i])[0,1])\n",
    "    other_corrs = [np.abs(np.corrcoef(mean_usrt1[i], mean_usrt3[j])[0,1]) for j in range(66) if j != i]\n",
    "    if base_corr > np.median(other_corrs):\n",
    "        better_corrs13.append(i)\n",
    "    if base_corr > np.max(other_corrs):\n",
    "        best_corrs13.append(i)\n",
    "    \n",
    "    base_corr = np.abs(np.corrcoef(mean_usrt2[i], mean_usrt3[i])[0,1])\n",
    "    other_corrs = [np.abs(np.corrcoef(mean_usrt2[i], mean_usrt3[j])[0,1]) for j in range(66) if j != i]\n",
    "    if base_corr > np.median(other_corrs):\n",
    "        better_corrs23.append(i)\n",
    "    if base_corr > np.max(other_corrs):\n",
    "        best_corrs23.append(i)\n"
   ]
  },
  {
   "cell_type": "code",
   "execution_count": 19,
   "metadata": {},
   "outputs": [
    {
     "name": "stdout",
     "output_type": "stream",
     "text": [
      "[ 3 51 41 12  4 24  2 63 31 52 49 53 21 44  6 47 22 25 64 10 43 36 16 13\n",
      " 11 58 15 60 56 23 20  5 55 54 17 62 48  8 59  0 50  1 57 18 45  9 33 26\n",
      " 14 35 30 46 29 28 42 38 19 65 61 27  7 40 37 32 39 34]\n"
     ]
    }
   ],
   "source": [
    "## calculate the mean and std of each cell\n",
    "mean_usrt1 = [[np.mean(np.mean(i, axis=-1)) for i in j] for j in unit_usrt1[good_indexes][responsive_only_cells]]\n",
    "std_usrt1 = [[np.std(np.mean(i, axis=-1)) for i in j] for j in unit_usrt1[good_indexes][responsive_only_cells]]\n",
    "mean_usrt2 = [[np.mean(np.mean(i, axis=-1)) for i in j] for j in unit_usrt2[good_indexes][responsive_only_cells]]\n",
    "std_usrt2 = [[np.std(np.mean(i, axis=-1)) for i in j] for j in unit_usrt2[good_indexes][responsive_only_cells]]\n",
    "mean_usrt3 = [[np.mean(np.mean(i, axis=-1)) for i in j] for j in unit_usrt3[good_indexes][responsive_only_cells]]\n",
    "std_usrt3 = [[np.std(np.mean(i, axis=-1)) for i in j] for j in unit_usrt3[good_indexes][responsive_only_cells]]\n",
    "corrs = [np.corrcoef(i, j)[0, 1] for i, j in zip(mean_usrt1, mean_usrt2)]\n",
    "print(np.argsort(np.abs(corrs)))\n",
    "corr_args = np.argsort(np.abs(corrs))\n"
   ]
  },
  {
   "cell_type": "code",
   "execution_count": 36,
   "metadata": {},
   "outputs": [
    {
     "name": "stdout",
     "output_type": "stream",
     "text": [
      "2.425808265535662 9.58730729276665\n",
      "1.4318616556306039 5.320862022819265\n"
     ]
    },
    {
     "data": {
      "image/png": "[encoded data removed]",
      "text/plain": [
       "<Figure size 576x288 with 8 Axes>"
      ]
     },
     "metadata": {
      "needs_background": "light"
     },
     "output_type": "display_data"
    }
   ],
   "source": [
    "def sig_label(p_val):\n",
    "    stat = ''\n",
    "    if p_val < 0.05:\n",
    "        stat += '*'\n",
    "    if p_val < 0.01:\n",
    "        stat += '*'\n",
    "    if p_val < 0.001:\n",
    "        stat += '*'\n",
    "    if p_val < 0.0001:\n",
    "        stat += '*'\n",
    "    return stat\n",
    "\n",
    "x_pos = [0, 1, 3, 4]\n",
    "\n",
    "## Set which comparison here mus1 and mus2 are the mean_usrt from the two odours\n",
    "mus1 = mean_usrt1\n",
    "mus2 = mean_usrt3\n",
    "mus_std1 = std_usrt1\n",
    "mus_std2 = std_usrt3\n",
    "best_corrs = best_corrs13\n",
    "better_corrs = better_corrs13\n",
    "random_corr = [np.corrcoef(mus1[i], mus2[j])[0, 1] for i, j in zip(np.random.choice(np.arange(len(mus1)), size=500, replace=True), np.random.choice(np.arange(len(mus2)), size=500, replace=True))]\n",
    "corrs = [np.corrcoef(i, j)[0, 1] for i, j in zip(mus1, mus2)]\n",
    "corr_args = np.argsort(np.abs(corrs))\n",
    "abs_sig = scipy.stats.ttest_ind(np.abs(corrs), np.abs(random_corr))[1]\n",
    "sig = scipy.stats.ttest_ind(corrs, random_corr)[1]\n",
    "\n",
    "\n",
    "\n",
    "fig = plt.figure(figsize=(8, 4))\n",
    "gs = fig.add_gridspec(2, 4, hspace=1)\n",
    "resp_gs = gs[0, :].subgridspec(1, 2, wspace=0.5)\n",
    "best_response_ax1 = fig.add_subplot(resp_gs[0])\n",
    "best_response_ax2 = fig.add_subplot(resp_gs[1])\n",
    "plot_multi_odour_response2(corr_args[-1], mus1, mus2, odour1_std=mus_std1, odour2_std=mus_std2, ax=best_response_ax1, remove_spine_top=True)\n",
    "plot_multi_odour_response2(corr_args[-4], mus1, mus2, odour1_std=mus_std1, odour2_std=mus_std2, ax=best_response_ax2, remove_spine_top=True)\n",
    "violin_ax = plot_violinplot(fig, gs[1, :2], [corrs, random_corr, np.abs(corrs), np.abs(random_corr)], x_pos, rotation=False)\n",
    "base_sig_level = sig_label(sig)\n",
    "abs_sig_level = sig_label(abs_sig)\n",
    "if sig < 0.05:\n",
    "    plot_significance(violin_ax, [0, 1], base_sig_level, 1.05)\n",
    "if abs_sig < 0.05:\n",
    "    plot_significance(violin_ax, [4, 3], abs_sig_level, 1.05)\n",
    "pie_gs = gs[1, 2:].subgridspec(1, 2)\n",
    "pie_ax1 = fig.add_subplot(pie_gs[0])\n",
    "better_counts = np.array([len(better_corrs), 66-len(better_corrs)])\n",
    "best_counts = np.array([len(best_corrs), 66-len(best_corrs)])\n",
    "pie_colors = ['cyan', 'C8']\n",
    "pie_ax1.pie(better_counts, colors=pie_colors, autopct=lambda x: '{:.0f}'.format(x*better_counts.sum()/100))#, labels=[len(better_corrs), 66-len(better_corrs)])\n",
    "pie_ax2 = fig.add_subplot(pie_gs[1])\n",
    "pie_ax2.pie(best_counts, colors=pie_colors, autopct=lambda x: '{:.0f}'.format(x*best_counts.sum()/100))\n",
    "pie_ax2.plot([], [], pie_colors[0], label='Same cell', linewidth=6)\n",
    "pie_ax2.plot([], [], pie_colors[1], label='Random', linewidth=6)\n",
    "\n",
    "axes = [best_response_ax1, best_response_ax2, violin_ax, pie_ax1, pie_ax2]\n",
    "labels = ['A', 'B', 'C', 'Di', 'ii']\n",
    "align_x = [[0, 2], [1, 3]]\n",
    "align_y = [[0, 1], [2, 3, 4]]\n",
    "dx = [-0.02, -0.02, -0.02, -0.02, -0.02]\n",
    "label_axes.label_axes(axes, labels, fontsize=16, fontweight='bold', align_x=align_x, align_y=align_y, align_x_fun=np.min, align_y_fun=np.max, dx=dx)\n",
    "pie_ax2.legend(bbox_to_anchor=(-0.2, -0.1), ncol=2, loc='center')\n",
    "# pie_ax1.set_title('Better than median')\n",
    "# pie_ax2.set_title('Better than max')\n",
    "#plt.savefig('230908_Fig7.pdf', bbox_inches='tight')\n",
    "title_ax = fig.add_subplot(111, frameon=False)\n",
    "title_ax.set_xticks([])\n",
    "title_ax.set_yticks([])\n",
    "title_ax.set_title('O1 and O3', pad=30)\n",
    "plt.savefig('230912_Sup72_O1O3.pdf', bbox_inches='tight')"
   ]
  },
  {
   "cell_type": "code",
   "execution_count": null,
   "metadata": {},
   "outputs": [],
   "source": []
  }
 ],
 "metadata": {
  "kernelspec": {
   "display_name": "blip_manu",
   "language": "python",
   "name": "python3"
  },
  "language_info": {
   "codemirror_mode": {
    "name": "ipython",
    "version": 3
   },
   "file_extension": ".py",
   "mimetype": "text/x-python",
   "name": "python",
   "nbconvert_exporter": "python",
   "pygments_lexer": "ipython3",
   "version": "3.7.3"
  },
  "orig_nbformat": 4
 },
 "nbformat": 4,
 "nbformat_minor": 2
}
