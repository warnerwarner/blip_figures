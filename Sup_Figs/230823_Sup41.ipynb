{
 "cells": [
  {
   "cell_type": "code",
   "execution_count": 1,
   "metadata": {},
   "outputs": [
    {
     "name": "stdout",
     "output_type": "stream",
     "text": [
      "b\n"
     ]
    }
   ],
   "source": [
    "\n",
    "import numpy as np\n",
    "import matplotlib.pyplot as plt\n",
    "import blip_analysis as ba\n",
    "import exp_blip_models as ebm\n",
    "import numpy as np\n",
    "from scipy.stats import ttest_ind\n",
    "import pickle\n",
    "from matplotlib.gridspec import GridSpec\n",
    "from sklearn.metrics import confusion_matrix\n",
    "from sklearn.ensemble import RandomForestClassifier\n",
    "from sklearn.svm import LinearSVC\n",
    "from scipy.stats import poisson\n",
    "from sklearn.preprocessing import StandardScaler\n",
    "import matplotlib as mpl\n",
    "from label_axes import label_axes\n",
    "import json\n",
    "mpl.rcParams['pdf.fonttype'] = 42\n",
    "mpl.rcParams['ps.fonttype'] = 42"
   ]
  },
  {
   "cell_type": "code",
   "execution_count": 2,
   "metadata": {},
   "outputs": [],
   "source": [
    "glyphs = ba.get_glyphs()\n",
    "style_params = json.load(open('../Data/style_params.json', 'r'))\n",
    "conc_models1 = pickle.Unpickler(open('../Data/230320_conc_models1.pkl', 'rb')).load()\n",
    "conc_models2 = pickle.Unpickler(open('../Data/230320_conc_models2.pkl', 'rb')).load()\n",
    "conc_models3 = pickle.Unpickler(open('../Data/230320_conc_models3.pkl', 'rb')).load()\n",
    "onset_models1 = pickle.Unpickler(open('../Data/230320_onset_models1.pkl', 'rb')).load()\n",
    "onset_models2 = pickle.Unpickler(open('../Data/230320_onset_models2.pkl', 'rb')).load()\n",
    "onset_models3 = pickle.Unpickler(open('../Data/230320_onset_models3.pkl', 'rb')).load()\n",
    "cao_models1 = pickle.Unpickler(open('../Data/230320_cao_models1.pkl', 'rb')).load()\n",
    "cao_models2 = pickle.Unpickler(open('../Data/230320_cao_models2.pkl', 'rb')).load()\n",
    "cao_models3 = pickle.Unpickler(open('../Data/230320_cao_models3.pkl', 'rb')).load()\n",
    "diff_models1 = pickle.Unpickler(open('../Data/230320_diff_models1.pkl', 'rb')).load()\n",
    "diff_models2 = pickle.Unpickler(open('../Data/230320_diff_models2.pkl', 'rb')).load()\n",
    "diff_models3 = pickle.Unpickler(open('../Data/230320_diff_models3.pkl', 'rb')).load()\n",
    "base_models1 = pickle.Unpickler(open('../Data/230320_base_models1.pkl', 'rb')).load()\n",
    "base_models2 = pickle.Unpickler(open('../Data/230320_base_models2.pkl', 'rb')).load()\n",
    "base_models3 = pickle.Unpickler(open('../Data/230320_base_models3.pkl', 'rb')).load()"
   ]
  },
  {
   "cell_type": "code",
   "execution_count": 3,
   "metadata": {},
   "outputs": [],
   "source": [
    "data_joined = np.load('../Data/230612_data_joined.npy')\n",
    "#cms = [confusion_matrix(data[i, :, 1].reshape(-1), data[i, :, 0].reshape(-1), labels=range(32), normalize='true') for i in range(20)]\n",
    "cms1 = [confusion_matrix(data_joined[0, i, :, 1].reshape(-1), data_joined[0, i, :, 0].reshape(-1), labels=range(32), normalize='true') for i in range(20)]\n",
    "cms2 = [confusion_matrix(data_joined[1, i, :, 1].reshape(-1), data_joined[1, i, :, 0].reshape(-1), labels=range(32), normalize='true') for i in range(20)]\n",
    "cms3 = [confusion_matrix(data_joined[2, i, :, 1].reshape(-1), data_joined[2, i, :, 0].reshape(-1), labels=range(32), normalize='true') for i in range(20)]\n",
    "cms_conc1 = [confusion_matrix(data_joined[4, i, :, 1].reshape(-1), data_joined[4, i, :, 0].reshape(-1), labels=range(32), normalize='true') for i in range(20)]\n",
    "cms_onset1 = [confusion_matrix(data_joined[3, i, :, 1].reshape(-1), data_joined[3, i, :, 0].reshape(-1), labels=range(32), normalize='true') for i in range(20)]\n",
    "cms_joined1 = [confusion_matrix(data_joined[5, i, :, 1].reshape(-1), data_joined[5, i, :, 0].reshape(-1), labels=range(32), normalize='true') for i in range(20)]\n",
    "cms_conc2 = [confusion_matrix(data_joined[6, i, :, 1].reshape(-1), data_joined[6, i, :, 0].reshape(-1), labels=range(32), normalize='true') for i in range(20)]\n",
    "cms_onset2 = [confusion_matrix(data_joined[7, i, :, 1].reshape(-1), data_joined[7, i, :, 0].reshape(-1), labels=range(32), normalize='true') for i in range(20)]\n",
    "cms_joined2 = [confusion_matrix(data_joined[8, i, :, 1].reshape(-1), data_joined[8, i, :, 0].reshape(-1), labels=range(32), normalize='true') for i in range(20)]\n",
    "cms_conc3 = [confusion_matrix(data_joined[9, i, :, 1].reshape(-1), data_joined[9, i, :, 0].reshape(-1), labels=range(32), normalize='true') for i in range(20)]\n",
    "cms_onset3 = [confusion_matrix(data_joined[10, i, :, 1].reshape(-1), data_joined[10, i, :, 0].reshape(-1), labels=range(32), normalize='true') for i in range(20)]\n",
    "cms_joined3 = [confusion_matrix(data_joined[11, i, :, 1].reshape(-1), data_joined[11, i, :, 0].reshape(-1), labels=range(32), normalize='true') for i in range(20)]\n",
    "true_classifiers = pickle.Unpickler(open('../Fig3/../Fig3/230315_full_classifier_RFs.pkl', 'rb')).load()\n",
    "preds = true_classifiers[:, :, 1]\n",
    "preds = np.array([np.hstack(i) for i in preds])\n",
    "trues = [i for j in range(100) for i in range(32)]\n",
    "cm_true1 = confusion_matrix(trues, preds[0], labels=range(32), normalize='true')\n",
    "cm_true2 = confusion_matrix(trues, preds[1], labels=range(32), normalize='true')\n",
    "cm_true3 = confusion_matrix(trues, preds[2], labels=range(32), normalize='true')\n"
   ]
  },
  {
   "cell_type": "code",
   "execution_count": 4,
   "metadata": {},
   "outputs": [],
   "source": [
    "def plot_difference_distributions(ax, conc_models, onset_models, color=['r', 'b']):\n",
    "    ''' Plot the difference in test scores between the two models for each cell.\n",
    "    not being used now but needed for the sorted arg in the next function'''\n",
    "    conc_test_scores = np.array([i.test_scores.mean(axis=-1) for i in conc_models])\n",
    "    onset_test_scores = np.array([i.test_scores.mean(axis=-1) for i in onset_models])\n",
    "    diffs = np.array(conc_test_scores - onset_test_scores)\n",
    "    sorted_arg = np.argsort(diffs.mean(axis=-1))\n",
    "    ax.errorbar(range(130), diffs.mean(axis=-1)[sorted_arg], yerr=diffs.std(axis=-1)[sorted_arg], fmt='.', color='k',  markersize=0, elinewidth=0.5)\n",
    "    conc_best, onset_best, colors = find_best_fits(conc_models, onset_models, colors_base=color+['gray'])\n",
    "    ax.scatter(range(130), diffs.mean(axis=-1)[sorted_arg], c=np.array(colors)[sorted_arg], s=3, zorder=10)\n",
    "    print(len(conc_best), len(onset_best))\n",
    "    return sorted_arg\n",
    "\n",
    "def find_best_fits(conc_models, onset_models, colors_base=['r', 'b', 'gray']):\n",
    "    ''' Find the cells that are significantly better fit by the conc model or the onset model.'''\n",
    "    ttests = []\n",
    "    ttests_conc = []\n",
    "    ttests_onset = []\n",
    "    colors = []\n",
    "    conc_scores = np.array([i.test_scores.mean(axis=-1) for i in conc_models])\n",
    "    onset_scores = np.array([i.test_scores.mean(axis=-1) for i in onset_models])\n",
    "    \n",
    "    for i in range(130):\n",
    "        ttest = ttest_ind(conc_scores[i], onset_scores[i], equal_var=False)[1]*130\n",
    "        ttests.append(ttest)\n",
    "        if ttest < 0.05 and np.mean(conc_scores[i]) < np.mean(onset_scores[i]):\n",
    "            ttests_conc.append(i)\n",
    "            colors.append(colors_base[0])\n",
    "        elif ttest < 0.05 and np.mean(conc_scores[i]) > np.mean(onset_scores[i]):\n",
    "            ttests_onset.append(i)\n",
    "            colors.append(colors_base[1])\n",
    "        else:\n",
    "            colors.append(colors_base[2])\n",
    "    return ttests_conc, ttests_onset, colors\n",
    "\n",
    "def plot_split_models_response(ax1, ax2, model1, model2, isi=1, colors=None, fontsize=8, legend=True, labels=None):\n",
    "    ''' Plot the response of two models to the same cell used in part B and C of the figure.'''\n",
    "    if colors is None:\n",
    "        colors = ['k', 'C0', 'C1']\n",
    "    ax1.errorbar(np.arange(0, 32*isi, isi), model1.X_test_avg.mean(axis=0), yerr=(model1.X_test_avg.mean(axis=0) - model1.X_test_avg.min(axis=0), model1.X_test_avg.max(axis=0) - model1.X_test_avg.mean(axis=0)),fmt='.', color=colors[0],  markersize=0, elinewidth=0.5)\n",
    "    ax1.scatter(np.arange(0, 32*isi, isi), model1.X_test_avg.mean(axis=0), color=colors[0], s=3, zorder=10)\n",
    "    ax1.errorbar(np.arange(0, 32*isi, isi), model1.pred_test_avg.mean(axis=0), yerr=(model1.pred_test_avg.mean(axis=0) - model1.pred_test_avg.min(axis=0), model1.pred_test_avg.max(axis=0) - model1.pred_test_avg.mean(axis=0)), fmt='.', color=colors[1],  markersize=0, elinewidth=0.5)\n",
    "    ax1.scatter(np.arange(0, 32*isi, isi), model1.pred_test_avg.mean(axis=0), color=colors[1], s=3, zorder=10)\n",
    "\n",
    "    ax2.errorbar(np.arange(0, 32*isi, isi), model2.X_test_avg.mean(axis=0), yerr=(model2.X_test_avg.mean(axis=0) - model2.X_test_avg.min(axis=0), model2.X_test_avg.max(axis=0) - model2.X_test_avg.mean(axis=0)),fmt='.', color=colors[0],  markersize=0, elinewidth=0.5)\n",
    "    ax2.scatter(np.arange(0, 32*isi, isi), model2.X_test_avg.mean(axis=0), color=colors[0], s=3, zorder=10)\n",
    "    ax2.errorbar(np.arange(0, 32*isi, isi), model2.pred_test_avg.mean(axis=0), yerr=(model2.pred_test_avg.mean(axis=0) - model2.pred_test_avg.min(axis=0), model2.pred_test_avg.max(axis=0) - model2.pred_test_avg.mean(axis=0)), fmt='.', color=colors[2],  markersize=0, elinewidth=0.5)\n",
    "    ax2.scatter(np.arange(0, 32*isi, isi), model2.pred_test_avg.mean(axis=0), color=colors[2], s=3, zorder=10)\n",
    "\n",
    "    x_ticks = np.arange(0, 32*isi, isi)\n",
    "    ax1.set_xticks(x_ticks);\n",
    "    ax1.set_xticklabels(glyphs, rotation=90, fontsize=fontsize);\n",
    "    ax2.set_xticks(x_ticks);\n",
    "    ax2.set_xticklabels(glyphs, rotation=90, fontsize=fontsize);\n",
    "    ax1.spines['right'].set_visible(False)\n",
    "    ax1.spines['top'].set_visible(False)\n",
    "    ax2.spines['right'].set_visible(False)\n",
    "    ax2.spines['top'].set_visible(False)\n",
    "    ax2.set_yticklabels([])\n",
    "    [ax2.scatter([], [], color=colors[i], s=3, label=labels[i]) for i in range(len(colors))]\n",
    "    \n",
    "    if legend:\n",
    "        ax2.legend()\n",
    "\n",
    "\n",
    "def plot_best_cm(ax, cms, true_cm, fontsize=8, show_xticks=True, show_yticks=True, colorbar=True):\n",
    "    ''' Plot the confusion matrix with the highest correlation to the true matrix'''\n",
    "    best_idx = np.argmax([np.corrcoef(i.flatten(), true_cm.flatten())[0, 1] for i in cms])\n",
    "    print(best_idx)\n",
    "    \n",
    "    im = ax.imshow(cms[best_idx], cmap='plasma', vmin=0)\n",
    "    \n",
    "    ax.set_xticks(range(32))\n",
    "    ax.set_yticks(range(32))\n",
    "    if show_xticks:\n",
    "        ax.set_xticklabels(glyphs, rotation=90, fontsize=fontsize)\n",
    "    else:\n",
    "        ax.set_xticklabels([])\n",
    "    if show_yticks:\n",
    "        ax.set_yticklabels(glyphs, fontsize=fontsize)\n",
    "    else:\n",
    "        ax.set_yticklabels([])\n",
    "    ax.set_ylim(31.5, -0.5)\n",
    "    if colorbar:\n",
    "        cbar = plt.colorbar(mappable=im, ax=ax)\n",
    "        return im, np.max(cms[best_idx]), cbar\n",
    "    else:\n",
    "        return im, np.max(cms[best_idx])\n",
    "\n",
    "def plot_correlations(true_corrs, diff_corrs, conc_corrs, onset_corrs, joined_corrs, identiy, colors, ax=None):\n",
    "    ''' Plot the correlations between the true and predicted confusion matrices for the different models'''\n",
    "\n",
    "    if ax is None:\n",
    "        fig = plt.figure(figsize=(10, 6))\n",
    "        ax = fig.add_subplot(111)\n",
    "    markers = style_params['odour_markers']\n",
    "    odour_labels = style_params['odour_labels']\n",
    "    facecolors = [mpl.colors.to_rgba(i, alpha=0.5) for i in colors]\n",
    "    scatter = ax.scatter(range(6), [true_corrs[0], diff_corrs[0], conc_corrs[0], onset_corrs[0], joined_corrs[0], identiy[0]], marker=markers[0], label=odour_labels[0], facecolors=facecolors, edgecolors=colors)\n",
    "    ax.scatter(range(6), [true_corrs[1], diff_corrs[1], conc_corrs[1], onset_corrs[1], joined_corrs[1], identiy[1]], marker=markers[1], label=odour_labels[1], facecolors=facecolors, edgecolors=colors)\n",
    "    ax.scatter(range(6), [true_corrs[2], diff_corrs[2], conc_corrs[2], onset_corrs[2], joined_corrs[2], identiy[2]], marker=markers[2], label=odour_labels[2], facecolors=facecolors, edgecolors=colors)\n",
    "\n",
    "    # ax.plot([0, 0], [np.min(true_corrs), np.max(true_corrs)], color='k', linestyle='--', zorder=-10)\n",
    "    # ax.plot([1, 1], [np.min(diff_corrs), np.max(diff_corrs)], color='k', linestyle='--', zorder=-10)\n",
    "    # ax.plot([2, 2], [np.min(conc_corrs), np.max(conc_corrs)], color='k', linestyle='--', zorder=-10)\n",
    "    # ax.plot([3, 3], [np.min(onset_corrs), np.max(onset_corrs)], color='k', linestyle='--', zorder=-10)\n",
    "    # ax.plot([4, 4], [np.min(joined_corrs), np.max(joined_corrs)], color='k', linestyle='--', zorder=-10)\n",
    "    # ax.plot([5, 5], [np.min(identiy), np.max(identiy)], color='k', linestyle='--', zorder=-10)\n",
    "\n",
    "    ax.legend()\n",
    "    ax.spines['top'].set_visible(False)\n",
    "    ax.spines['right'].set_visible(False)\n",
    "    ax.set_xticks(range(6))\n",
    "    ax.set_xticklabels(labels, rotation=90)\n",
    "    ax.set_ylabel('Correlation coefficient')"
   ]
  },
  {
   "cell_type": "code",
   "execution_count": 5,
   "metadata": {},
   "outputs": [
    {
     "name": "stdout",
     "output_type": "stream",
     "text": [
      "20 61\n"
     ]
    },
    {
     "data": {
      "image/png": "[encoded data removed]",
      "text/plain": [
       "<Figure size 432x288 with 1 Axes>"
      ]
     },
     "metadata": {
      "needs_background": "light"
     },
     "output_type": "display_data"
    }
   ],
   "source": [
    "fig, ax = plt.subplots(1, 1)\n",
    "conc_vs_onset_args = plot_difference_distributions(ax, conc_models1, onset_models1)\n"
   ]
  },
  {
   "cell_type": "code",
   "execution_count": 6,
   "metadata": {},
   "outputs": [],
   "source": [
    "def plot_single_model_fit(ax, model, show_x_labels=False, model_index=[0, 1], ):         \n",
    "    ax.errorbar(np.arange(0, 32*isi, isi), model.X_test_avg.mean(axis=0), yerr=(model.X_test_avg.mean(axis=0) - model.X_test_avg.min(axis=0), model.X_test_avg.max(axis=0) - model.X_test_avg.mean(axis=0)),fmt='.', color=colors[model_index[0]],  markersize=0, elinewidth=line_thickness)\n",
    "    ax.scatter(np.arange(0, 32*isi, isi), model.X_test_avg.mean(axis=0), color=colors[model_index[0]], s=s, zorder=10, marker=marker, label=labels[model_index[0]])\n",
    "    ax.errorbar(np.arange(0+sep, sep+32*isi, isi), model.pred_test_avg.mean(axis=0), yerr=(model.pred_test_avg.mean(axis=0) - model.pred_test_avg.min(axis=0), model.pred_test_avg.max(axis=0) - model.pred_test_avg.mean(axis=0)), fmt='.', color=colors[model_index[1]],  markersize=0, elinewidth=line_thickness)\n",
    "    ax.scatter(np.arange(sep+0, sep+32*isi, isi), model.pred_test_avg.mean(axis=0), color=colors[model_index[1]], s=s, zorder=10, marker=marker, label=labels[model_index[1]])\n",
    "    ax.spines['right'].set_visible(False)\n",
    "    ax.spines['top'].set_visible(False)\n",
    "    ax.set_xticks(np.arange(0+sep/2, sep/2+32*isi, isi))\n",
    "    if show_x_labels:\n",
    "        ax.set_xticklabels(glyphs, rotation=90)\n",
    "    else:\n",
    "        ax.set_xticklabels([])\n",
    "    ax.set_xlim(-1, 32*isi)"
   ]
  },
  {
   "cell_type": "code",
   "execution_count": 25,
   "metadata": {},
   "outputs": [
    {
     "name": "stdout",
     "output_type": "stream",
     "text": [
      "15\n",
      "12\n",
      "17\n"
     ]
    },
    {
     "data": {
      "image/png": "[encoded data removed]",
      "text/plain": [
       "<Figure size 576x864 with 15 Axes>"
      ]
     },
     "metadata": {
      "needs_background": "light"
     },
     "output_type": "display_data"
    }
   ],
   "source": [
    "style_params = json.load(open('../Data/style_params.json', 'r'))\n",
    "cao_array = ebm.trial_arrays['cao_array']\n",
    "diff_array = ebm.trial_arrays['diff_array']\n",
    "\n",
    "isi=2\n",
    "sep=0.5\n",
    "s = 8\n",
    "marker='o'\n",
    "line_thickness=1.5\n",
    "order = ['true', 'diff', 'CAO', 'conc', 'onset', 'base']\n",
    "labels = [style_params['model_labels'][i] for i in order]\n",
    "labels = labels[:-1] + ['Identity'] + [labels[-1]]\n",
    "colors = [style_params['model_colors'][i] for i in order] \n",
    "colors = colors[:-1] + ['magenta'] + [colors[-1]]\n",
    "label_axes_fs = style_params['label_axes_font_size']\n",
    "label_axes_font_weight = style_params['label_axes_font_weight']\n",
    "fig = plt.figure(figsize=(8, 12))\n",
    "super_gs = fig.add_gridspec(12, 3, hspace=1)\n",
    "gs = super_gs[:7, :].subgridspec(4, 3)\n",
    "conc_axs = [fig.add_subplot(gs[1, i]) for i in range(3)]\n",
    "ui = 55\n",
    "plot_single_model_fit(conc_axs[0], conc_models1[ui], show_x_labels=False, model_index=[0, 3])\n",
    "plot_single_model_fit(conc_axs[1], onset_models1[ui], show_x_labels=False, model_index=[0, 4])\n",
    "plot_single_model_fit(conc_axs[2], cao_models1[ui], show_x_labels=False, model_index=[0, 2])\n",
    "ylims = [i.get_ylim() for i in conc_axs]\n",
    "ylim = [np.min(ylims), np.max(ylims)]\n",
    "[conc_axs[i].set_ylim(ylim) for i in range(3)]\n",
    "\n",
    "onset_axs = [fig.add_subplot(gs[2, i]) for i in range(3)]\n",
    "ui = 75\n",
    "plot_single_model_fit(onset_axs[0], conc_models1[ui], show_x_labels=False, model_index=[0, 3])\n",
    "plot_single_model_fit(onset_axs[1], onset_models1[ui], show_x_labels=False, model_index=[0, 4])\n",
    "plot_single_model_fit(onset_axs[2], cao_models1[ui], show_x_labels=False, model_index=[0, 2])\n",
    "ylims = [i.get_ylim() for i in onset_axs]\n",
    "ylim = [np.min(ylims), np.max(ylims)]\n",
    "[onset_axs[i].set_ylim(ylim) for i in range(3)]\n",
    "\n",
    "cao_axs = [fig.add_subplot(gs[3, i]) for i in range(3)]\n",
    "ui = 90\n",
    "plot_single_model_fit(cao_axs[0], conc_models1[ui], show_x_labels=True, model_index=[0, 3])\n",
    "plot_single_model_fit(cao_axs[1], onset_models1[ui], show_x_labels=True, model_index=[0, 4])\n",
    "plot_single_model_fit(cao_axs[2], cao_models1[ui], show_x_labels=True, model_index=[0, 2])\n",
    "ylims = [i.get_ylim() for i in cao_axs]\n",
    "ylim = [np.min(ylims), np.max(ylims)]\n",
    "[cao_axs[i].set_ylim(ylim) for i in range(3)]\n",
    "\n",
    "[i.set_yticklabels([]) for axs in [conc_axs, onset_axs, cao_axs] for i in axs[1:]]\n",
    "[i.set_xticklabels(glyphs, rotation=90, fontsize=6) for i in cao_axs]\n",
    "\n",
    "#plot_single_model_fit(axs[3], diff_models1[ui], show_x_labels=True, model_index=[0, 1])\n",
    "text_ax = fig.add_subplot(gs[0, :], frameon=False)\n",
    "text_ax.set_xticks([])\n",
    "text_ax.set_yticks([])\n",
    "for i in range(32):\n",
    "    cao_string = ''.join(['▯▮'[j] for j in cao_array[i].astype(int)])\n",
    "    text_ax.text(0+int(i/8), 0+i%8, f'{glyphs[i]}')\n",
    "    text_ax.text(0.3+int(i/8), 0+i%8, f'{cao_string[5:][::-1]}', color='r')\n",
    "    text_ax.text(0.6+int(i/8), 0+i%8, f'{cao_string[:5]}', color='b')\n",
    "text_ax.set_xlim(0, 4)\n",
    "text_ax.set_ylim(-0.5, 8)\n",
    "for i in range(4):\n",
    "    text_ax.axvline(0.27+i, color='k')\n",
    "    text_ax.axvline(0.58+i, color='k')\n",
    "\n",
    "cm_ax1 = fig.add_subplot(super_gs[7:10, 0])\n",
    "cm_ax2 = fig.add_subplot(super_gs[7:10, 1])\n",
    "cm_ax3 = fig.add_subplot(super_gs[7:10, 2])\n",
    "\n",
    "fs = 6\n",
    "\n",
    "im1, vmax1 = plot_best_cm(cm_ax1, cms_conc1, cm_true1, show_yticks=True, show_xticks=True, colorbar=False, fontsize=fs)\n",
    "im2, vmax2 = plot_best_cm(cm_ax2, cms_onset1, cm_true1, show_yticks=False, colorbar=False, fontsize=fs)\n",
    "im3, vmax3 = plot_best_cm(cm_ax3, cms_joined1, cm_true1, show_yticks=False, colorbar=False, fontsize=fs)\n",
    "vmax = np.max([vmax1, vmax2, vmax3])\n",
    "[im.set_clim(0, vmax) for im in [im1, im2, im3]]\n",
    "cm_pos = cm_ax3.get_position()\n",
    "cbar_ax = fig.add_axes([0.92, cm_pos.y0, 0.02, cm_pos.height])\n",
    "cbar = plt.colorbar(im3, cax=cbar_ax)\n",
    "\n",
    "diff_ax = fig.add_subplot(super_gs[10:, :], frameon=False)\n",
    "diff_ax.set_xticks([])\n",
    "diff_ax.set_yticks([])\n",
    "diff_ax.set_xticks([])\n",
    "diff_ax.set_yticks([])\n",
    "for i in range(32):\n",
    "    diff_string = ''.join(['▯▮'[j] for j in diff_array[i].astype(int)])\n",
    "    diff_ax.text(0.0+int(i/8), 0+i%8, f'{diff_string[:5]}', color='green')\n",
    "    diff_ax.text(0.3+int(i/8), 0+i%8, f'{diff_string[5:]}', color='orange')\n",
    "diff_ax.set_xlim(-0.25, 3.75)\n",
    "diff_ax.set_ylim(-0.5, 8)\n",
    "for i in range(4):\n",
    "    diff_ax.axvline(0.27+i, color='k')\n",
    "\n",
    "\n",
    "axes = [text_ax, *conc_axs, *onset_axs, *cao_axs, cm_ax1, cm_ax2, cm_ax3, diff_ax]\n",
    "labels = ['A', 'Bi', 'ii', 'iii', 'Ci', 'ii', 'iii', 'Di', 'ii', 'iii', 'Ei', 'ii', 'iii', \"F\"]\n",
    "align_x = [[0, 1, 4, 7, 10, 13], [2, 5, 8, 11], [3, 6, 9, 12]]\n",
    "align_y = [[1, 2, 3], [4, 5, 6], [7, 8, 9], [10, 11, 12]]\n",
    "dx = [-0.025 for i in range(14)]\n",
    "label_axes.label_axes(axes, labels, align_x=align_x, align_y=align_y, fontsize=16, fontweight='bold', dx=dx)\n",
    "plt.savefig('230913_Sup41.pdf', bbox_inches='tight')"
   ]
  },
  {
   "cell_type": "code",
   "execution_count": null,
   "metadata": {},
   "outputs": [],
   "source": [
    "text_ax.text(0+int(i/8), 0+i%8, f'{glyphs[i]}  \\033[1;31m{cao_string[:5]}\\033[0m  \\033[1;34m{cao_string[5:][::-1]}\\033[0m')"
   ]
  },
  {
   "cell_type": "code",
   "execution_count": 72,
   "metadata": {},
   "outputs": [
    {
     "name": "stdout",
     "output_type": "stream",
     "text": [
      "▯ ▮\n"
     ]
    }
   ],
   "source": [
    "glyph_off = glyphs[0][0]\n",
    "glyph_on = glyphs[-1][1]\n",
    "print(glyph_off, glyph_on)"
   ]
  },
  {
   "cell_type": "code",
   "execution_count": 8,
   "metadata": {},
   "outputs": [],
   "source": [
    "cao_array = ebm.trial_arrays['cao_array']"
   ]
  },
  {
   "cell_type": "code",
   "execution_count": 83,
   "metadata": {},
   "outputs": [
    {
     "name": "stdout",
     "output_type": "stream",
     "text": [
      "▯▯▯▮▯ ▯▯▯▮▯ ▮▯▯▯▯\n",
      "▯▮▮▯▯ ▯▮▯▯▯ ▯▮▯▯▯\n",
      "▮▯▮▯▮ ▮▯▯▯▯ ▯▯▮▯▯\n",
      "▮▮▮▮▮ ▮▯▯▯▯ ▯▯▯▯▮\n"
     ]
    }
   ],
   "source": [
    "select_trials = [2, 12, 21, 31, ]\n",
    "for i in select_trials:\n",
    "    cao_string = ''.join(['▯▮'[j] for j in cao_array[i].astype(int)])\n",
    "    print(glyphs[i], cao_string[:5], cao_string[5:])"
   ]
  },
  {
   "cell_type": "code",
   "execution_count": 79,
   "metadata": {},
   "outputs": [
    {
     "name": "stdout",
     "output_type": "stream",
     "text": [
      "▮▯▯▯▯▯▯▯▯▮\n"
     ]
    }
   ],
   "source": [
    "cao_array[-1]\n",
    "cao_string = ''.join(['▯▮'[i] for i in cao_array[-1].astype(int)])\n",
    "print(cao_string)"
   ]
  },
  {
   "cell_type": "code",
   "execution_count": null,
   "metadata": {},
   "outputs": [],
   "source": [
    "for i in cao_array[-1:]"
   ]
  },
  {
   "cell_type": "code",
   "execution_count": 61,
   "metadata": {},
   "outputs": [
    {
     "name": "stdout",
     "output_type": "stream",
     "text": [
      "[ 55 126 121 125 115  62 109  70  59 118 105 107  66  31 123 124 122  54\n",
      "  29  58 113 119 114  90  64  50 117 100  74  99  41  47 120 103  26  83\n",
      " 101  91  81  63  92 112  51  60  33  85  76  40  68 127  56  88  11  18\n",
      "  44  34  75  48  21  10  95  79  43 104  23  80  84  52 116  87  30  96\n",
      "  49  27  42  45  98  93 102  35 128  37  61  39  73  36  72  77  94  14\n",
      "  71  53   2 129 106  86   3 108 110  32   4 111  57   0  46  89  69  97\n",
      "   1  82  67  16  20  65   8  19  38  78  15  22  28  13   6   9  12  17\n",
      "  24  25   7   5]\n",
      "[ 75  88  76  99  35  95  80  72  93  85  79  94  34 103  90  40  96 119\n",
      " 126 117  48 115 105 101 100  74  87  10 121 104  29 114  45  86  47   3\n",
      "  84  18  33 107 109  21 125 116  31 102  27  82 118  49  23  51  54  62\n",
      "  42  56 113  92  41  83  11  39  70  55  91  81  26  37  66  32  36  44\n",
      "  43  50  38  30 123   0 120 106 129  98 127  64 128 122  12 108  59  20\n",
      "  14  13  46 124 112   8   2   9  73 110  77 111  89   5  58  15  52  69\n",
      "  68  19  61  65   6  60  57  97  63  53   1  22  71  16   4  17  28   7\n",
      "  67  24  25  78]\n",
      "[ 75  35  76  95  99  88  85  90  93  72  40  34  80 126  94  96  79 103\n",
      "  48 101 121  74 109 119 115 105 100  29  55 104  87  47 117  10  45  84\n",
      " 114   3  31 125  33  86  18  62 107  21  23  51  70 113 102  91  39  82\n",
      "  50 122  81  83  54 123  41 120  37  59  69 116  42  26  63 118  49  66\n",
      "  60 112  92  56  64 127  44  68  27  98  36  11 124  43  58  52  14  78\n",
      "  38 128  77  46  32  61 111  20 129 108   2  65   5   0  73  53  97  30\n",
      "  71  57   8  89   4   9 110  19  15  12  13   6   1  67 106  22  17  28\n",
      "  16   7  25  24]\n"
     ]
    }
   ],
   "source": [
    "conc_fits1 = [i.fit_score for i in conc_models1]\n",
    "onset_fits1 = [i.fit_score for i in onset_models1]\n",
    "cao_fits1 = [i.fit_score for i in cao_models1]\n",
    "print(np.argsort(conc_fits1))\n",
    "print(np.argsort(onset_fits1))\n",
    "print(np.argsort(cao_fits1))"
   ]
  },
  {
   "cell_type": "code",
   "execution_count": 54,
   "metadata": {},
   "outputs": [
    {
     "name": "stdout",
     "output_type": "stream",
     "text": [
      "[ 29  63  40  35  60  65  54  70 125  91  62  32  75 105  67  15  55 104\n",
      "  11   4 113  66  69  46  20  99   8  28  42  39  59   2  13  47  72  86\n",
      "  64  58 124 103  98  81  25  23  18  51  33  30  37   9  61 112  21  22\n",
      "  73 129  14 123   3  26 127  34  79 108   7  36  74  17 110  84  50  80\n",
      "  56  57  41 115  16   0  53   1 106 117  31 120  24   6 100  94  68 109\n",
      "  43  44 114  93 122  48  45 121  90  89 119  52  88  96 111  97  27 118\n",
      " 101  95 116  12  10  19  49  38  78 107 126  77  92  85  82 128   5  87\n",
      "  76 102  83  71]\n",
      "(array([2]),)\n"
     ]
    }
   ],
   "source": [
    "losses = [i.loss(i.pred_resp, i.true_resp) for i in conc_models1]\n",
    "print(np.argsort(losses))\n",
    "print(np.where(np.argsort(losses) == 40))"
   ]
  },
  {
   "cell_type": "code",
   "execution_count": null,
   "metadata": {},
   "outputs": [],
   "source": []
  }
 ],
 "metadata": {
  "kernelspec": {
   "display_name": "blip_manu",
   "language": "python",
   "name": "python3"
  },
  "language_info": {
   "codemirror_mode": {
    "name": "ipython",
    "version": 3
   },
   "file_extension": ".py",
   "mimetype": "text/x-python",
   "name": "python",
   "nbconvert_exporter": "python",
   "pygments_lexer": "ipython3",
   "version": "3.7.3"
  },
  "orig_nbformat": 4
 },
 "nbformat": 4,
 "nbformat_minor": 2
}
