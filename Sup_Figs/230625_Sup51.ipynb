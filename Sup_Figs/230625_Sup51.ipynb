{
 "cells": [
  {
   "cell_type": "code",
   "execution_count": 1,
   "metadata": {},
   "outputs": [
    {
     "name": "stdout",
     "output_type": "stream",
     "text": [
      "b\n"
     ]
    }
   ],
   "source": [
    "import numpy as np\n",
    "import pickle\n",
    "import matplotlib.pyplot as plt\n",
    "import blip_analysis as ba\n",
    "from sklearn.decomposition import PCA\n",
    "from copy import deepcopy\n",
    "from tqdm import trange\n",
    "from matplotlib.gridspec import GridSpec\n",
    "import json\n",
    "from label_axes import label_axes\n",
    "import matplotlib\n",
    "matplotlib.rcParams['pdf.fonttype'] = 42\n",
    "matplotlib.rcParams['ps.fonttype'] = 42"
   ]
  },
  {
   "cell_type": "code",
   "execution_count": 2,
   "metadata": {},
   "outputs": [
    {
     "name": "stdout",
     "output_type": "stream",
     "text": [
      "Found odour 1\n",
      "Found odour 3\n",
      "Found odour 5\n"
     ]
    }
   ],
   "source": [
    "### Load in the data\n",
    "unit_usrt1, unit_usrt2, unit_usrt3 = ba.load_usrts()\n",
    "good_indexes = ba.get_stable_resp_indexes()\n",
    "glyphs = ba.get_glyphs()\n",
    "diff_models1 = pickle.Unpickler(open('../Data/230320_diff_models1.pkl', 'rb')).load()\n",
    "diff_models2 = pickle.Unpickler(open('../Data/230320_diff_models2.pkl', 'rb')).load()\n",
    "diff_models3 = pickle.Unpickler(open('../Data/230320_diff_models3.pkl', 'rb')).load()\n",
    "onset_models1 = pickle.Unpickler(open('../Data/230320_onset_models1.pkl', 'rb')).load()\n",
    "conc_models1 = pickle.Unpickler(open('../Data/230320_conc_models1.pkl', 'rb')).load()\n",
    "style_params = json.load(open('../Data/style_params.json', 'r'))\n",
    "\n"
   ]
  },
  {
   "cell_type": "code",
   "execution_count": 3,
   "metadata": {},
   "outputs": [],
   "source": [
    "style_params = json.load(open('../Data/style_params.json', 'r'))"
   ]
  },
  {
   "cell_type": "code",
   "execution_count": 4,
   "metadata": {},
   "outputs": [],
   "source": [
    "## Extract the bins fro the models\n",
    "bins1 = np.array([[j.x[:-1] for j in i.training_opts] for i in diff_models1]).mean(axis=1)\n",
    "bins2 = np.array([[j.x[:-1] for j in i.training_opts] for i in diff_models2]).mean(axis=1)\n",
    "bins3 = np.array([[j.x[:-1] for j in i.training_opts] for i in diff_models3]).mean(axis=1)\n",
    "\n",
    "all_preds = [i.pred_resp for i in diff_models1] + [i.pred_resp for i in diff_models2] + [i.pred_resp for i in diff_models3]\n",
    "all_trues = [i.true_resp for i in diff_models1] + [i.true_resp for i in diff_models2] + [i.true_resp for i in diff_models3]\n"
   ]
  },
  {
   "cell_type": "code",
   "execution_count": 7,
   "metadata": {},
   "outputs": [],
   "source": [
    "### apply PCA to the bins\n",
    "pca1 = PCA(n_components=9)\n",
    "fit_bins1 = pca1.fit_transform(bins1)\n",
    "fit_1_pc12 = deepcopy(fit_bins1)\n",
    "fit_1_pc12[:, 2:] = 0\n",
    "bins_1_pc12 = pca1.inverse_transform(fit_1_pc12)\n",
    "\n",
    "\n",
    "pca2 = PCA(n_components=9)\n",
    "fit_bins2 = pca2.fit_transform(bins2)\n",
    "fit_2_pc12 = fit_bins2.copy()\n",
    "fit_2_pc12[:, 2:] = 0\n",
    "bins_2_pc12 = pca2.inverse_transform(fit_2_pc12)\n",
    "\n",
    "pca3 = PCA(n_components=9)\n",
    "fit_bins3 = pca3.fit_transform(bins3)\n",
    "fit_3_pc12 = fit_bins3.copy()\n",
    "fit_3_pc12[:, 2:] = 0\n",
    "bins_3_pc12 = pca3.inverse_transform(fit_3_pc12)\n",
    "\n",
    "pca_all = PCA(n_components=9)\n",
    "all_bins = np.concatenate([bins1 , bins2 , bins3], axis=0)\n",
    "fit_bins_all = pca_all.fit_transform(all_bins)\n",
    "fit_all_pc12 = fit_bins_all.copy()\n",
    "fit_all_pc12[:, 2:] = 0\n",
    "bins_all_pc12 = pca_all.inverse_transform(fit_all_pc12)\n",
    "\n"
   ]
  },
  {
   "cell_type": "code",
   "execution_count": 5,
   "metadata": {},
   "outputs": [
    {
     "name": "stderr",
     "output_type": "stream",
     "text": [
      "100%|██████████| 100/100 [00:18<00:00,  5.38it/s]\n"
     ]
    }
   ],
   "source": [
    "### Normalise the change in the fit error for each cell as the number of PC increases\n",
    "all_normed = []\n",
    "for index in trange(100):\n",
    "    first_pass_bins = np.array([i.training_opts[index].x[:-1] for i in diff_models1])\n",
    "    threshes = np.array([i.training_opts[index].x[-1] for i in diff_models1])\n",
    "    pca = PCA(n_components=9)\n",
    "\n",
    "    all_fit_errors = []\n",
    "    all_pred_resps = []\n",
    "    for pcs in range(0, 10):\n",
    "        pcad_bins = pca.fit_transform(first_pass_bins)\n",
    "        pcad_bins[:, pcs:] = 0\n",
    "        pcad_bins = pca.inverse_transform(pcad_bins)\n",
    "        [model.fit(W=i.tolist() + [j]) for model, i, j in zip(diff_models1, pcad_bins, threshes)];\n",
    "        pred_resps = [i.pred_resp for i in diff_models1]\n",
    "        all_pred_resps.append(pred_resps)\n",
    "        fit_errors = [np.sum((i.X_test_avg[index] - j)**2) for i, j in zip(diff_models1, pred_resps)]\n",
    "        all_fit_errors.append(fit_errors)\n",
    "    all_fit_errors = np.array(all_fit_errors)\n",
    "    all_pred_resps = np.array(all_pred_resps)\n",
    "    normed =( all_fit_errors - all_fit_errors.min(axis=0)) / (all_fit_errors.max(axis=0) - all_fit_errors.min(axis=0))\n",
    "    # for i in normed.T:\n",
    "    #     plt.plot(i, alpha=0.5, color='lightgray')\n",
    "    # plt.plot(normed.mean(axis=1))\n",
    "    # plt.xlabel('Number of PCs')\n",
    "    # plt.ylabel('Normalized Fit Error')\n",
    "    all_normed.append(normed)\n"
   ]
  },
  {
   "cell_type": "code",
   "execution_count": 8,
   "metadata": {},
   "outputs": [],
   "source": [
    "### Generate the laplace distributions along both of the PCs\n",
    "pc1_exp_decay = np.abs([i - np.median(fit_bins_all[:, 0]) for i in fit_bins_all[:, 0]]).mean()\n",
    "pc2_exp_decay = np.abs([i - np.median(fit_bins_all[:, 1]) for i in fit_bins_all[:, 1]]).mean()\n",
    "rand1 = np.random.laplace(0, pc1_exp_decay, 10000)\n",
    "rand2 = np.random.laplace(0, pc2_exp_decay, 10000)"
   ]
  },
  {
   "cell_type": "code",
   "execution_count": 24,
   "metadata": {},
   "outputs": [],
   "source": [
    "def plot_heatmaps(gs):\n",
    "    ''' Plot the laplace modelled, true and difference heatmaps of the data'''\n",
    "    sub_gs = gs.subgridspec(1, 3)\n",
    "\n",
    "    fig = plt.gcf()\n",
    "    ax = [fig.add_subplot(sub_gs[i]) for i in range(3)]\n",
    "    \n",
    "    h, x, y, p  = ax[0].hist2d(rand1, rand2, bins=[np.linspace(-2.5, 2.5, 20), np.linspace(-2.5, 2.5, 20)], density=True);\n",
    "\n",
    "    h1, x1, y1, p1 = ax[1].hist2d(fit_bins_all[:, 0], fit_bins_all[:, 1], bins=[np.linspace(-2.5, 2.5, 20), np.linspace(-2.5, 2.5, 20)], density=True);\n",
    "\n",
    "    max_h = np.max([np.max(h), np.max(h1)])\n",
    "    p1.set_clim(0, max_h)\n",
    "    p.set_clim(0, max_h)\n",
    "    plt.draw()\n",
    "\n",
    "    ax[0].set_aspect('equal') \n",
    "    ax[1].set_aspect('equal')\n",
    "    vmax =0.3 #¢np.max(abs(h1-h))/2\n",
    "    im = ax[2].imshow(np.array(h1-h).T, cmap='bwr', vmax=vmax, vmin=-vmax, extent=[-2.5, 2.5, -2.5, 2.5], interpolation='gaussian', origin='lower')\n",
    "    cbar_1 = plt.colorbar(ax=ax[1], mappable=p1, shrink=0.72)\n",
    "    cbar_2 = plt.colorbar(ax=ax[2], mappable=im, shrink=0.72)\n",
    "    init_ax_pos = ax[0].get_position()\n",
    "    ax[0].set_position([init_ax_pos.x0, ax[1].get_position().y0, ax[1].get_position().width,  ax[1].get_position().height])\n",
    "    ax[0].set_title('Laplace fit')\n",
    "    ax[1].set_title('True')\n",
    "    ax[2].set_title('Difference')\n",
    "    ax[1].set_yticklabels([])\n",
    "    ax[0].set_ylabel('PC2')\n",
    "    ax[0].set_xlabel('PC1')\n",
    "    ax[1].set_xlabel('PC1')\n",
    "    ax[2].set_xlabel('PC1')\n",
    "    ax[2].set_ylabel('PC2')\n",
    "    return ax, [cbar_1, cbar_2]"
   ]
  },
  {
   "cell_type": "code",
   "execution_count": 11,
   "metadata": {},
   "outputs": [],
   "source": [
    "## Find the correlation between the PCs\n",
    "corrs = []\n",
    "for i in range(9):\n",
    "    flat_triag = np.triu(np.corrcoef([pca1.components_[i], pca2.components_[i], pca3.components_[i]]), 1).flatten()\n",
    "    flat_triag = flat_triag[flat_triag != 0]\n",
    "    corrs.append(flat_triag)"
   ]
  },
  {
   "cell_type": "code",
   "execution_count": 30,
   "metadata": {},
   "outputs": [
    {
     "data": {
      "image/png": "[encoded data removed]",
      "text/plain": [
       "<Figure size 576x432 with 7 Axes>"
      ]
     },
     "metadata": {
      "needs_background": "light"
     },
     "output_type": "display_data"
    }
   ],
   "source": [
    "fig = plt.figure(figsize=(8, 6))\n",
    "gs = fig.add_gridspec(2, 2, wspace=0.5)\n",
    "odour_grays = style_params['odour_colors']\n",
    "odour_labels = style_params['odour_labels']\n",
    "pc_ax3 = fig.add_subplot(gs[0, 0])\n",
    "\n",
    "pc_ax3.plot(pca1.components_[2][:5], color=odour_grays[0], label=odour_labels[0])\n",
    "pc_ax3.plot(pca2.components_[2][:5], color=odour_grays[1], label=odour_labels[1])\n",
    "pc_ax3.plot(pca3.components_[2][:5], color=odour_grays[2], label=odour_labels[2])\n",
    "\n",
    "pc_ax3.plot(range(5, 9), pca1.components_[2][5:], color=odour_grays[0])\n",
    "pc_ax3.plot(range(5, 9), pca2.components_[2][5:], color=odour_grays[1])\n",
    "pc_ax3.plot(range(5, 9), pca3.components_[2][5:], color=odour_grays[2])\n",
    "\n",
    "pc_ax3.spines['right'].set_visible(False)\n",
    "pc_ax3.spines['top'].set_visible(False)\n",
    "pc_ax3.set_title(f'PC{2+1}')\n",
    "pc_ax3.set_xticks(range(9))\n",
    "pc_ax3.set_xticklabels(range(1,10))\n",
    "pc_ax3.axvline(4.5, color='k', linestyle='--')\n",
    "pc_ax3.legend()\n",
    "\n",
    "corr_ax = fig.add_subplot(gs[0, 1])\n",
    "corr_ax.scatter(range(1, 5), np.array(corrs)[:4, 0], color=odour_grays[0])\n",
    "corr_ax.scatter(range(1, 5), np.array(corrs)[:4, 1], color=odour_grays[1])\n",
    "corr_ax.scatter(range(1, 5), np.array(corrs)[:4, 2], color=odour_grays[2])\n",
    "corr_ax.set_ylabel('Correlation coefficient')\n",
    "corr_ax.set_xlabel('PC')\n",
    "corr_ax.set_xticks(range(1, 5))\n",
    "corr_ax.spines['right'].set_visible(False)\n",
    "corr_ax.spines['top'].set_visible(False)\n",
    "heatmap_axs, cbars = plot_heatmaps(gs[1, :])\n",
    "hm_pos = heatmap_axs[1].get_position()\n",
    "hm_pos = [hm_pos.x0-0.05, hm_pos.y0, hm_pos.width, hm_pos.height]\n",
    "heatmap_axs[1].set_position(hm_pos)\n",
    "cbar_pos = cbars[0].ax.get_position()\n",
    "cbar_pos = [cbar_pos.x0-0.05, cbar_pos.y0, cbar_pos.width, cbar_pos.height]\n",
    "cbars[0].ax.set_position(cbar_pos)\n",
    "axes = [pc_ax3, corr_ax, heatmap_axs[0], heatmap_axs[1], heatmap_axs[2]]\n",
    "labels = ['A', 'B', 'Ci', 'ii', 'iii']\n",
    "align_x = [[0, 2]]\n",
    "align_y = [[0, 1], [2, 3, 4]]\n",
    "label_axes.label_axes(axes, labels, fontsize=16, fontweight='bold', align_x=align_x, align_y=align_y, align_x_fun=np.min, align_y_fun=np.max)\n",
    "plt.savefig('230825_Sup51.pdf', bbox_inches='tight')\n"
   ]
  },
  {
   "cell_type": "code",
   "execution_count": null,
   "metadata": {},
   "outputs": [],
   "source": [
    "corr_ax = fig.add_subplot(sub_gs[0, 2])\n",
    "corr_ax.scatter(range(1, 5), np.array(corrs)[:4, 0], color=odour_grays[0])\n",
    "corr_ax.scatter(range(1, 5), np.array(corrs)[:4, 1], color=odour_grays[1])\n",
    "corr_ax.scatter(range(1, 5), np.array(corrs)[:4, 2], color=odour_grays[2])\n",
    "corr_ax.set_ylabel('Correlation coefficient')\n",
    "corr_ax.set_xlabel('PC')\n",
    "corr_ax.set_xticks(range(1, 5))\n",
    "corr_ax.spines['right'].set_visible(False)\n",
    "corr_ax.spines['top'].set_visible(False)"
   ]
  }
 ],
 "metadata": {
  "kernelspec": {
   "display_name": "blip_manu",
   "language": "python",
   "name": "python3"
  },
  "language_info": {
   "codemirror_mode": {
    "name": "ipython",
    "version": 3
   },
   "file_extension": ".py",
   "mimetype": "text/x-python",
   "name": "python",
   "nbconvert_exporter": "python",
   "pygments_lexer": "ipython3",
   "version": "3.7.3"
  },
  "orig_nbformat": 4
 },
 "nbformat": 4,
 "nbformat_minor": 2
}
