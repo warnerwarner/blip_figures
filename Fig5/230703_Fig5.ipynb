{
 "cells": [
  {
   "cell_type": "code",
   "execution_count": 1,
   "metadata": {
    "autoscroll": false,
    "collapsed": false,
    "ein.hycell": false,
    "ein.tags": "worksheet-0",
    "slideshow": {
     "slide_type": "-"
    }
   },
   "outputs": [
    {
     "name": "stdout",
     "output_type": "stream",
     "text": [
      "b\n"
     ]
    }
   ],
   "source": [
    "import sys\n",
    "sys.path.append(\"./packages\")\n",
    "sys.path.append(\"./packages/neurolytics\")\n",
    "sys.path.append(\"./packages/blip_analysis\")\n",
    "sys.path.append(\"/camp/home/tootoos/working/tootoos/git/label_axes\")\n",
    "import numpy as np\n",
    "import pickle\n",
    "import matplotlib.pyplot as plt\n",
    "import blip_analysis as ba\n",
    "from sklearn.decomposition import PCA\n",
    "from copy import deepcopy\n",
    "from tqdm import trange\n",
    "from matplotlib.gridspec import GridSpec\n",
    "from label_axes import label_axes\n",
    "import matplotlib\n",
    "matplotlib.rcParams['pdf.fonttype'] = 42\n",
    "matplotlib.rcParams['ps.fonttype'] = 42"
   ]
  },
  {
   "cell_type": "code",
   "execution_count": 2,
   "metadata": {
    "autoscroll": false,
    "collapsed": false,
    "ein.hycell": false,
    "ein.tags": "worksheet-0",
    "slideshow": {
     "slide_type": "-"
    }
   },
   "outputs": [],
   "source": [
    "def scatter_pcs(ax=None):\n",
    "    ''' Plot the PCs of the data scattered in 2D'''\n",
    "    if ax is None:\n",
    "        fig = plt.figure()\n",
    "        ax = fig.add_subplot(111, aspect='equal')\n",
    "    plt.scatter(fit_bins_all[:130, 0], fit_bins_all[:130, 1], c='k', label='EB', marker=markers[0])\n",
    "    plt.scatter(fit_bins_all[130:260, 0], fit_bins_all[130:260, 1], c='gray', label='IA', marker=markers[1])\n",
    "    plt.scatter(fit_bins_all[260:, 0], fit_bins_all[260:, 1], c='lightgray', label='EA', marker=markers[2])\n",
    "    plt.legend()\n",
    "    #plt.scatter(fit_bins_all[:, 0], fit_bins_all[:, 1], c=cs, label='All', marker=marker)\n",
    "    xlims = ax.get_xlim()\n",
    "    ylims = ax.get_ylim()\n",
    "    max_lim = np.max(abs(np.concatenate([xlims, ylims])))\n",
    "    ax.set_ylim(-max_lim, max_lim)\n",
    "    ax.set_xlim(-max_lim, max_lim)\n",
    "    ax.spines['right'].set_visible(False)\n",
    "    ax.spines['top'].set_visible(False)\n",
    "    ax.set_xlabel('PC1')\n",
    "    ax.set_ylabel('PC2')\n",
    "    return ax\n",
    "\n",
    "def plot_heatmaps(gs):\n",
    "    ''' Plot the laplace modelled, true and difference heatmaps of the data'''\n",
    "    sub_gs = gs.subgridspec(1, 3)\n",
    "\n",
    "    fig = plt.gcf()\n",
    "    ax = [fig.add_subplot(sub_gs[i]) for i in range(3)]\n",
    "    \n",
    "    h, x, y, p  = ax[0].hist2d(rand1, rand2, bins=[np.linspace(-2.5, 2.5, 20), np.linspace(-2.5, 2.5, 20)], density=True);\n",
    "\n",
    "    h1, x1, y1, p1 = ax[1].hist2d(fit_bins_all[:, 0], fit_bins_all[:, 1], bins=[np.linspace(-2.5, 2.5, 20), np.linspace(-2.5, 2.5, 20)], density=True);\n",
    "\n",
    "    max_h = np.max([np.max(h), np.max(h1)])\n",
    "    p1.set_clim(0, max_h)\n",
    "    p.set_clim(0, max_h)\n",
    "    plt.draw()\n",
    "\n",
    "    ax[0].set_aspect('equal') \n",
    "    ax[1].set_aspect('equal')\n",
    "    vmax =0.3 #¢np.max(abs(h1-h))/2\n",
    "    im = ax[2].imshow(np.array(h1-h).T, cmap='bwr', vmax=vmax, vmin=-vmax, extent=[-2.5, 2.5, -2.5, 2.5], interpolation='gaussian', origin='lower')\n",
    "    plt.colorbar(ax=ax[1], mappable=p1, shrink=0.72)\n",
    "    plt.colorbar(ax=ax[2], mappable=im, shrink=0.72)\n",
    "    init_ax_pos = ax[0].get_position()\n",
    "    ax[0].set_position([init_ax_pos.x0, ax[1].get_position().y0, ax[1].get_position().width,  ax[1].get_position().height])\n",
    "    ax[0].set_title('Laplace fit')\n",
    "    ax[1].set_title('True')\n",
    "    ax[2].set_title('Difference')\n",
    "    ax[1].set_yticklabels([])\n",
    "    ax[0].set_ylabel('PC2')\n",
    "    ax[0].set_xlabel('PC1')\n",
    "    ax[1].set_xlabel('PC1')\n",
    "    ax[2].set_xlabel('PC1')\n",
    "    ax[2].set_ylabel('PC2')\n",
    "    return ax"
   ]
  },
  {
   "cell_type": "code",
   "execution_count": 3,
   "metadata": {
    "autoscroll": false,
    "collapsed": false,
    "ein.hycell": false,
    "ein.tags": "worksheet-0",
    "slideshow": {
     "slide_type": "-"
    }
   },
   "outputs": [
    {
     "name": "stdout",
     "output_type": "stream",
     "text": [
      "Found odour 1\n",
      "Found odour 3\n"
     ]
    },
    {
     "name": "stdout",
     "output_type": "stream",
     "text": [
      "Found odour 5\n"
     ]
    },
    {
     "name": "stderr",
     "output_type": "stream",
     "text": [
      "<ipython-input-3-e2efb779da9d>:5: DeprecationWarning: Please use `OptimizeResult` from the `scipy.optimize` namespace, the `scipy.optimize.optimize` namespace is deprecated.\n",
      "  diff_models1 = pickle.Unpickler(open('Data/230320_diff_models1.pkl', 'rb')).load()\n"
     ]
    },
    {
     "name": "stderr",
     "output_type": "stream",
     "text": [
      "<ipython-input-3-e2efb779da9d>:6: DeprecationWarning: Please use `OptimizeResult` from the `scipy.optimize` namespace, the `scipy.optimize.optimize` namespace is deprecated.\n",
      "  diff_models2 = pickle.Unpickler(open('Data/230320_diff_models2.pkl', 'rb')).load()\n"
     ]
    },
    {
     "name": "stderr",
     "output_type": "stream",
     "text": [
      "<ipython-input-3-e2efb779da9d>:7: DeprecationWarning: Please use `OptimizeResult` from the `scipy.optimize` namespace, the `scipy.optimize.optimize` namespace is deprecated.\n",
      "  diff_models3 = pickle.Unpickler(open('Data/230320_diff_models3.pkl', 'rb')).load()\n"
     ]
    },
    {
     "name": "stderr",
     "output_type": "stream",
     "text": [
      "<ipython-input-3-e2efb779da9d>:8: DeprecationWarning: Please use `OptimizeResult` from the `scipy.optimize` namespace, the `scipy.optimize.optimize` namespace is deprecated.\n",
      "  onset_models1 = pickle.Unpickler(open('Data/230320_onset_models1.pkl', 'rb')).load()\n"
     ]
    },
    {
     "name": "stderr",
     "output_type": "stream",
     "text": [
      "<ipython-input-3-e2efb779da9d>:9: DeprecationWarning: Please use `OptimizeResult` from the `scipy.optimize` namespace, the `scipy.optimize.optimize` namespace is deprecated.\n",
      "  conc_models1 = pickle.Unpickler(open('Data/230320_conc_models1.pkl', 'rb')).load()\n"
     ]
    }
   ],
   "source": [
    "### Load in the data\n",
    "unit_usrt1, unit_usrt2, unit_usrt3 = ba.load_usrts(filepath='./packages/blip_analysis/unit_usrts')\n",
    "good_indexes = ba.get_stable_resp_indexes()\n",
    "glyphs = ba.get_glyphs()\n",
    "diff_models1 = pickle.Unpickler(open('Data/230320_diff_models1.pkl', 'rb')).load()\n",
    "diff_models2 = pickle.Unpickler(open('Data/230320_diff_models2.pkl', 'rb')).load()\n",
    "diff_models3 = pickle.Unpickler(open('Data/230320_diff_models3.pkl', 'rb')).load()\n",
    "onset_models1 = pickle.Unpickler(open('Data/230320_onset_models1.pkl', 'rb')).load()\n",
    "conc_models1 = pickle.Unpickler(open('Data/230320_conc_models1.pkl', 'rb')).load()\n",
    "\n"
   ]
  },
  {
   "cell_type": "code",
   "execution_count": 4,
   "metadata": {
    "autoscroll": false,
    "collapsed": false,
    "ein.hycell": false,
    "ein.tags": "worksheet-0",
    "slideshow": {
     "slide_type": "-"
    }
   },
   "outputs": [],
   "source": [
    "## Extract the bins fro the models\n",
    "bins1 = np.array([[j.x[:-1] for j in i.training_opts] for i in diff_models1]).mean(axis=1)\n",
    "bins2 = np.array([[j.x[:-1] for j in i.training_opts] for i in diff_models2]).mean(axis=1)\n",
    "bins3 = np.array([[j.x[:-1] for j in i.training_opts] for i in diff_models3]).mean(axis=1)\n",
    "\n",
    "all_preds = [i.pred_resp for i in diff_models1] + [i.pred_resp for i in diff_models2] + [i.pred_resp for i in diff_models3]\n",
    "all_trues = [i.true_resp for i in diff_models1] + [i.true_resp for i in diff_models2] + [i.true_resp for i in diff_models3]\n"
   ]
  },
  {
   "cell_type": "code",
   "execution_count": 5,
   "metadata": {
    "autoscroll": false,
    "collapsed": false,
    "ein.hycell": false,
    "ein.tags": "worksheet-0",
    "slideshow": {
     "slide_type": "-"
    }
   },
   "outputs": [],
   "source": [
    "### apply PCA to the bins\n",
    "pca1 = PCA(n_components=9)\n",
    "fit_bins1 = pca1.fit_transform(bins1)\n",
    "fit_1_pc12 = deepcopy(fit_bins1)\n",
    "fit_1_pc12[:, 2:] = 0\n",
    "bins_1_pc12 = pca1.inverse_transform(fit_1_pc12)\n",
    "\n",
    "\n",
    "pca2 = PCA(n_components=9)\n",
    "fit_bins2 = pca2.fit_transform(bins2)\n",
    "fit_2_pc12 = fit_bins2.copy()\n",
    "fit_2_pc12[:, 2:] = 0\n",
    "bins_2_pc12 = pca2.inverse_transform(fit_2_pc12)\n",
    "\n",
    "pca3 = PCA(n_components=9)\n",
    "fit_bins3 = pca3.fit_transform(bins3)\n",
    "fit_3_pc12 = fit_bins3.copy()\n",
    "fit_3_pc12[:, 2:] = 0\n",
    "bins_3_pc12 = pca3.inverse_transform(fit_3_pc12)\n",
    "\n",
    "pca_all = PCA(n_components=9)\n",
    "all_bins = np.concatenate([bins1 , bins2 , bins3], axis=0)\n",
    "fit_bins_all = pca_all.fit_transform(all_bins)\n",
    "fit_all_pc12 = fit_bins_all.copy()\n",
    "fit_all_pc12[:, 2:] = 0\n",
    "bins_all_pc12 = pca_all.inverse_transform(fit_all_pc12)\n",
    "\n"
   ]
  },
  {
   "cell_type": "code",
   "execution_count": 6,
   "metadata": {
    "autoscroll": false,
    "collapsed": false,
    "ein.hycell": false,
    "ein.tags": "worksheet-0",
    "slideshow": {
     "slide_type": "-"
    }
   },
   "outputs": [],
   "source": [
    "## Find the correlation between the PCs\n",
    "corrs = []\n",
    "for i in range(9):\n",
    "    flat_triag = np.triu(np.corrcoef([pca1.components_[i], pca2.components_[i], pca3.components_[i]]), 1).flatten()\n",
    "    flat_triag = flat_triag[flat_triag != 0]\n",
    "    corrs.append(flat_triag)"
   ]
  },
  {
   "cell_type": "code",
   "execution_count": 7,
   "metadata": {
    "autoscroll": false,
    "collapsed": false,
    "ein.hycell": false,
    "ein.tags": "worksheet-0",
    "slideshow": {
     "slide_type": "-"
    }
   },
   "outputs": [
    {
     "name": "stderr",
     "output_type": "stream",
     "text": [
      "\r",
      "  0%|          | 0/100 [00:00<?, ?it/s]"
     ]
    },
    {
     "name": "stderr",
     "output_type": "stream",
     "text": [
      "\r",
      "  1%|          | 1/100 [00:00<00:14,  6.63it/s]"
     ]
    },
    {
     "name": "stderr",
     "output_type": "stream",
     "text": [
      "\r",
      "  2%|▏         | 2/100 [00:00<00:14,  6.67it/s]"
     ]
    },
    {
     "name": "stderr",
     "output_type": "stream",
     "text": [
      "\r",
      "  3%|▎         | 3/100 [00:00<00:14,  6.70it/s]"
     ]
    },
    {
     "name": "stderr",
     "output_type": "stream",
     "text": [
      "\r",
      "  4%|▍         | 4/100 [00:00<00:14,  6.71it/s]"
     ]
    },
    {
     "name": "stderr",
     "output_type": "stream",
     "text": [
      "\r",
      "  5%|▌         | 5/100 [00:00<00:14,  6.74it/s]"
     ]
    },
    {
     "name": "stderr",
     "output_type": "stream",
     "text": [
      "\r",
      "  6%|▌         | 6/100 [00:00<00:13,  6.75it/s]"
     ]
    },
    {
     "name": "stderr",
     "output_type": "stream",
     "text": [
      "\r",
      "  7%|▋         | 7/100 [00:01<00:13,  6.75it/s]"
     ]
    },
    {
     "name": "stderr",
     "output_type": "stream",
     "text": [
      "\r",
      "  8%|▊         | 8/100 [00:01<00:13,  6.75it/s]"
     ]
    },
    {
     "name": "stderr",
     "output_type": "stream",
     "text": [
      "\r",
      "  9%|▉         | 9/100 [00:01<00:13,  6.76it/s]"
     ]
    },
    {
     "name": "stderr",
     "output_type": "stream",
     "text": [
      "\r",
      " 10%|█         | 10/100 [00:01<00:13,  6.76it/s]"
     ]
    },
    {
     "name": "stderr",
     "output_type": "stream",
     "text": [
      "\r",
      " 11%|█         | 11/100 [00:01<00:13,  6.76it/s]"
     ]
    },
    {
     "name": "stderr",
     "output_type": "stream",
     "text": [
      "\r",
      " 12%|█▏        | 12/100 [00:01<00:12,  6.77it/s]"
     ]
    },
    {
     "name": "stderr",
     "output_type": "stream",
     "text": [
      "\r",
      " 13%|█▎        | 13/100 [00:01<00:12,  6.78it/s]"
     ]
    },
    {
     "name": "stderr",
     "output_type": "stream",
     "text": [
      "\r",
      " 14%|█▍        | 14/100 [00:02<00:12,  6.76it/s]"
     ]
    },
    {
     "name": "stderr",
     "output_type": "stream",
     "text": [
      "\r",
      " 15%|█▌        | 15/100 [00:02<00:12,  6.76it/s]"
     ]
    },
    {
     "name": "stderr",
     "output_type": "stream",
     "text": [
      "\r",
      " 16%|█▌        | 16/100 [00:02<00:12,  6.76it/s]"
     ]
    },
    {
     "name": "stderr",
     "output_type": "stream",
     "text": [
      "\r",
      " 17%|█▋        | 17/100 [00:02<00:12,  6.76it/s]"
     ]
    },
    {
     "name": "stderr",
     "output_type": "stream",
     "text": [
      "\r",
      " 18%|█▊        | 18/100 [00:02<00:12,  6.77it/s]"
     ]
    },
    {
     "name": "stderr",
     "output_type": "stream",
     "text": [
      "\r",
      " 19%|█▉        | 19/100 [00:02<00:11,  6.78it/s]"
     ]
    },
    {
     "name": "stderr",
     "output_type": "stream",
     "text": [
      "\r",
      " 20%|██        | 20/100 [00:02<00:11,  6.77it/s]"
     ]
    },
    {
     "name": "stderr",
     "output_type": "stream",
     "text": [
      "\r",
      " 21%|██        | 21/100 [00:03<00:11,  6.78it/s]"
     ]
    },
    {
     "name": "stderr",
     "output_type": "stream",
     "text": [
      "\r",
      " 22%|██▏       | 22/100 [00:03<00:11,  6.77it/s]"
     ]
    },
    {
     "name": "stderr",
     "output_type": "stream",
     "text": [
      "\r",
      " 23%|██▎       | 23/100 [00:03<00:11,  6.77it/s]"
     ]
    },
    {
     "name": "stderr",
     "output_type": "stream",
     "text": [
      "\r",
      " 24%|██▍       | 24/100 [00:03<00:11,  6.62it/s]"
     ]
    },
    {
     "name": "stderr",
     "output_type": "stream",
     "text": [
      "\r",
      " 25%|██▌       | 25/100 [00:03<00:11,  6.66it/s]"
     ]
    },
    {
     "name": "stderr",
     "output_type": "stream",
     "text": [
      "\r",
      " 26%|██▌       | 26/100 [00:03<00:11,  6.68it/s]"
     ]
    },
    {
     "name": "stderr",
     "output_type": "stream",
     "text": [
      "\r",
      " 27%|██▋       | 27/100 [00:04<00:10,  6.71it/s]"
     ]
    },
    {
     "name": "stderr",
     "output_type": "stream",
     "text": [
      "\r",
      " 28%|██▊       | 28/100 [00:04<00:10,  6.72it/s]"
     ]
    },
    {
     "name": "stderr",
     "output_type": "stream",
     "text": [
      "\r",
      " 29%|██▉       | 29/100 [00:04<00:10,  6.74it/s]"
     ]
    },
    {
     "name": "stderr",
     "output_type": "stream",
     "text": [
      "\r",
      " 30%|███       | 30/100 [00:04<00:10,  6.75it/s]"
     ]
    },
    {
     "name": "stderr",
     "output_type": "stream",
     "text": [
      "\r",
      " 31%|███       | 31/100 [00:04<00:10,  6.76it/s]"
     ]
    },
    {
     "name": "stderr",
     "output_type": "stream",
     "text": [
      "\r",
      " 32%|███▏      | 32/100 [00:04<00:10,  6.76it/s]"
     ]
    },
    {
     "name": "stderr",
     "output_type": "stream",
     "text": [
      "\r",
      " 33%|███▎      | 33/100 [00:04<00:09,  6.76it/s]"
     ]
    },
    {
     "name": "stderr",
     "output_type": "stream",
     "text": [
      "\r",
      " 34%|███▍      | 34/100 [00:05<00:09,  6.75it/s]"
     ]
    },
    {
     "name": "stderr",
     "output_type": "stream",
     "text": [
      "\r",
      " 35%|███▌      | 35/100 [00:05<00:09,  6.74it/s]"
     ]
    },
    {
     "name": "stderr",
     "output_type": "stream",
     "text": [
      "\r",
      " 36%|███▌      | 36/100 [00:05<00:09,  6.74it/s]"
     ]
    },
    {
     "name": "stderr",
     "output_type": "stream",
     "text": [
      "\r",
      " 37%|███▋      | 37/100 [00:05<00:09,  6.75it/s]"
     ]
    },
    {
     "name": "stderr",
     "output_type": "stream",
     "text": [
      "\r",
      " 38%|███▊      | 38/100 [00:05<00:09,  6.75it/s]"
     ]
    },
    {
     "name": "stderr",
     "output_type": "stream",
     "text": [
      "\r",
      " 39%|███▉      | 39/100 [00:05<00:09,  6.77it/s]"
     ]
    },
    {
     "name": "stderr",
     "output_type": "stream",
     "text": [
      "\r",
      " 40%|████      | 40/100 [00:05<00:08,  6.77it/s]"
     ]
    },
    {
     "name": "stderr",
     "output_type": "stream",
     "text": [
      "\r",
      " 41%|████      | 41/100 [00:06<00:08,  6.76it/s]"
     ]
    },
    {
     "name": "stderr",
     "output_type": "stream",
     "text": [
      "\r",
      " 42%|████▏     | 42/100 [00:06<00:08,  6.76it/s]"
     ]
    },
    {
     "name": "stderr",
     "output_type": "stream",
     "text": [
      "\r",
      " 43%|████▎     | 43/100 [00:06<00:08,  6.76it/s]"
     ]
    },
    {
     "name": "stderr",
     "output_type": "stream",
     "text": [
      "\r",
      " 44%|████▍     | 44/100 [00:06<00:08,  6.77it/s]"
     ]
    },
    {
     "name": "stderr",
     "output_type": "stream",
     "text": [
      "\r",
      " 45%|████▌     | 45/100 [00:06<00:08,  6.77it/s]"
     ]
    },
    {
     "name": "stderr",
     "output_type": "stream",
     "text": [
      "\r",
      " 46%|████▌     | 46/100 [00:06<00:08,  6.74it/s]"
     ]
    },
    {
     "name": "stderr",
     "output_type": "stream",
     "text": [
      "\r",
      " 47%|████▋     | 47/100 [00:06<00:07,  6.75it/s]"
     ]
    },
    {
     "name": "stderr",
     "output_type": "stream",
     "text": [
      "\r",
      " 48%|████▊     | 48/100 [00:07<00:07,  6.76it/s]"
     ]
    },
    {
     "name": "stderr",
     "output_type": "stream",
     "text": [
      "\r",
      " 49%|████▉     | 49/100 [00:07<00:07,  6.78it/s]"
     ]
    },
    {
     "name": "stderr",
     "output_type": "stream",
     "text": [
      "\r",
      " 50%|█████     | 50/100 [00:07<00:07,  6.78it/s]"
     ]
    },
    {
     "name": "stderr",
     "output_type": "stream",
     "text": [
      "\r",
      " 51%|█████     | 51/100 [00:07<00:07,  6.78it/s]"
     ]
    },
    {
     "name": "stderr",
     "output_type": "stream",
     "text": [
      "\r",
      " 52%|█████▏    | 52/100 [00:07<00:07,  6.78it/s]"
     ]
    },
    {
     "name": "stderr",
     "output_type": "stream",
     "text": [
      "\r",
      " 53%|█████▎    | 53/100 [00:07<00:06,  6.79it/s]"
     ]
    },
    {
     "name": "stderr",
     "output_type": "stream",
     "text": [
      "\r",
      " 54%|█████▍    | 54/100 [00:07<00:06,  6.78it/s]"
     ]
    },
    {
     "name": "stderr",
     "output_type": "stream",
     "text": [
      "\r",
      " 55%|█████▌    | 55/100 [00:08<00:06,  6.79it/s]"
     ]
    },
    {
     "name": "stderr",
     "output_type": "stream",
     "text": [
      "\r",
      " 56%|█████▌    | 56/100 [00:08<00:06,  6.79it/s]"
     ]
    },
    {
     "name": "stderr",
     "output_type": "stream",
     "text": [
      "\r",
      " 57%|█████▋    | 57/100 [00:08<00:06,  6.78it/s]"
     ]
    },
    {
     "name": "stderr",
     "output_type": "stream",
     "text": [
      "\r",
      " 58%|█████▊    | 58/100 [00:08<00:06,  6.77it/s]"
     ]
    },
    {
     "name": "stderr",
     "output_type": "stream",
     "text": [
      "\r",
      " 59%|█████▉    | 59/100 [00:08<00:06,  6.78it/s]"
     ]
    },
    {
     "name": "stderr",
     "output_type": "stream",
     "text": [
      "\r",
      " 60%|██████    | 60/100 [00:08<00:05,  6.78it/s]"
     ]
    },
    {
     "name": "stderr",
     "output_type": "stream",
     "text": [
      "\r",
      " 61%|██████    | 61/100 [00:09<00:05,  6.78it/s]"
     ]
    },
    {
     "name": "stderr",
     "output_type": "stream",
     "text": [
      "\r",
      " 62%|██████▏   | 62/100 [00:09<00:05,  6.78it/s]"
     ]
    },
    {
     "name": "stderr",
     "output_type": "stream",
     "text": [
      "\r",
      " 63%|██████▎   | 63/100 [00:09<00:05,  6.79it/s]"
     ]
    },
    {
     "name": "stderr",
     "output_type": "stream",
     "text": [
      "\r",
      " 64%|██████▍   | 64/100 [00:09<00:05,  6.78it/s]"
     ]
    },
    {
     "name": "stderr",
     "output_type": "stream",
     "text": [
      "\r",
      " 65%|██████▌   | 65/100 [00:09<00:05,  6.74it/s]"
     ]
    },
    {
     "name": "stderr",
     "output_type": "stream",
     "text": [
      "\r",
      " 66%|██████▌   | 66/100 [00:09<00:05,  6.74it/s]"
     ]
    },
    {
     "name": "stderr",
     "output_type": "stream",
     "text": [
      "\r",
      " 67%|██████▋   | 67/100 [00:09<00:04,  6.74it/s]"
     ]
    },
    {
     "name": "stderr",
     "output_type": "stream",
     "text": [
      "\r",
      " 68%|██████▊   | 68/100 [00:10<00:04,  6.74it/s]"
     ]
    },
    {
     "name": "stderr",
     "output_type": "stream",
     "text": [
      "\r",
      " 69%|██████▉   | 69/100 [00:10<00:04,  6.76it/s]"
     ]
    },
    {
     "name": "stderr",
     "output_type": "stream",
     "text": [
      "\r",
      " 70%|███████   | 70/100 [00:10<00:04,  6.76it/s]"
     ]
    },
    {
     "name": "stderr",
     "output_type": "stream",
     "text": [
      "\r",
      " 71%|███████   | 71/100 [00:10<00:04,  6.77it/s]"
     ]
    },
    {
     "name": "stderr",
     "output_type": "stream",
     "text": [
      "\r",
      " 72%|███████▏  | 72/100 [00:10<00:04,  6.78it/s]"
     ]
    },
    {
     "name": "stderr",
     "output_type": "stream",
     "text": [
      "\r",
      " 73%|███████▎  | 73/100 [00:10<00:03,  6.78it/s]"
     ]
    },
    {
     "name": "stderr",
     "output_type": "stream",
     "text": [
      "\r",
      " 74%|███████▍  | 74/100 [00:10<00:03,  6.78it/s]"
     ]
    },
    {
     "name": "stderr",
     "output_type": "stream",
     "text": [
      "\r",
      " 75%|███████▌  | 75/100 [00:11<00:03,  6.79it/s]"
     ]
    },
    {
     "name": "stderr",
     "output_type": "stream",
     "text": [
      "\r",
      " 76%|███████▌  | 76/100 [00:11<00:03,  6.79it/s]"
     ]
    },
    {
     "name": "stderr",
     "output_type": "stream",
     "text": [
      "\r",
      " 77%|███████▋  | 77/100 [00:11<00:03,  6.79it/s]"
     ]
    },
    {
     "name": "stderr",
     "output_type": "stream",
     "text": [
      "\r",
      " 78%|███████▊  | 78/100 [00:11<00:03,  6.79it/s]"
     ]
    },
    {
     "name": "stderr",
     "output_type": "stream",
     "text": [
      "\r",
      " 79%|███████▉  | 79/100 [00:11<00:03,  6.78it/s]"
     ]
    },
    {
     "name": "stderr",
     "output_type": "stream",
     "text": [
      "\r",
      " 80%|████████  | 80/100 [00:11<00:02,  6.77it/s]"
     ]
    },
    {
     "name": "stderr",
     "output_type": "stream",
     "text": [
      "\r",
      " 81%|████████  | 81/100 [00:11<00:02,  6.78it/s]"
     ]
    },
    {
     "name": "stderr",
     "output_type": "stream",
     "text": [
      "\r",
      " 82%|████████▏ | 82/100 [00:12<00:02,  6.78it/s]"
     ]
    },
    {
     "name": "stderr",
     "output_type": "stream",
     "text": [
      "\r",
      " 83%|████████▎ | 83/100 [00:12<00:02,  6.79it/s]"
     ]
    },
    {
     "name": "stderr",
     "output_type": "stream",
     "text": [
      "\r",
      " 84%|████████▍ | 84/100 [00:12<00:02,  6.78it/s]"
     ]
    },
    {
     "name": "stderr",
     "output_type": "stream",
     "text": [
      "\r",
      " 85%|████████▌ | 85/100 [00:12<00:02,  6.77it/s]"
     ]
    },
    {
     "name": "stderr",
     "output_type": "stream",
     "text": [
      "\r",
      " 86%|████████▌ | 86/100 [00:12<00:02,  6.78it/s]"
     ]
    },
    {
     "name": "stderr",
     "output_type": "stream",
     "text": [
      "\r",
      " 87%|████████▋ | 87/100 [00:12<00:01,  6.79it/s]"
     ]
    },
    {
     "name": "stderr",
     "output_type": "stream",
     "text": [
      "\r",
      " 88%|████████▊ | 88/100 [00:13<00:01,  6.78it/s]"
     ]
    },
    {
     "name": "stderr",
     "output_type": "stream",
     "text": [
      "\r",
      " 89%|████████▉ | 89/100 [00:13<00:01,  6.78it/s]"
     ]
    },
    {
     "name": "stderr",
     "output_type": "stream",
     "text": [
      "\r",
      " 90%|█████████ | 90/100 [00:13<00:01,  6.77it/s]"
     ]
    },
    {
     "name": "stderr",
     "output_type": "stream",
     "text": [
      "\r",
      " 91%|█████████ | 91/100 [00:13<00:01,  6.77it/s]"
     ]
    },
    {
     "name": "stderr",
     "output_type": "stream",
     "text": [
      "\r",
      " 92%|█████████▏| 92/100 [00:13<00:01,  6.77it/s]"
     ]
    },
    {
     "name": "stderr",
     "output_type": "stream",
     "text": [
      "\r",
      " 93%|█████████▎| 93/100 [00:13<00:01,  6.78it/s]"
     ]
    },
    {
     "name": "stderr",
     "output_type": "stream",
     "text": [
      "\r",
      " 94%|█████████▍| 94/100 [00:13<00:00,  6.77it/s]"
     ]
    },
    {
     "name": "stderr",
     "output_type": "stream",
     "text": [
      "\r",
      " 95%|█████████▌| 95/100 [00:14<00:00,  6.78it/s]"
     ]
    },
    {
     "name": "stderr",
     "output_type": "stream",
     "text": [
      "\r",
      " 96%|█████████▌| 96/100 [00:14<00:00,  6.77it/s]"
     ]
    },
    {
     "name": "stderr",
     "output_type": "stream",
     "text": [
      "\r",
      " 97%|█████████▋| 97/100 [00:14<00:00,  6.79it/s]"
     ]
    },
    {
     "name": "stderr",
     "output_type": "stream",
     "text": [
      "\r",
      " 98%|█████████▊| 98/100 [00:14<00:00,  6.79it/s]"
     ]
    },
    {
     "name": "stderr",
     "output_type": "stream",
     "text": [
      "\r",
      " 99%|█████████▉| 99/100 [00:14<00:00,  6.79it/s]"
     ]
    },
    {
     "name": "stderr",
     "output_type": "stream",
     "text": [
      "\r",
      "100%|██████████| 100/100 [00:14<00:00,  6.79it/s]"
     ]
    },
    {
     "name": "stderr",
     "output_type": "stream",
     "text": [
      "\r",
      "100%|██████████| 100/100 [00:14<00:00,  6.76it/s]"
     ]
    },
    {
     "name": "stderr",
     "output_type": "stream",
     "text": [
      "\n"
     ]
    }
   ],
   "source": [
    "### Normalise the change in the fit error for each cell as the number of PC increases\n",
    "all_normed = []\n",
    "for index in trange(100):\n",
    "    first_pass_bins = np.array([i.training_opts[index].x[:-1] for i in diff_models1])\n",
    "    threshes = np.array([i.training_opts[index].x[-1] for i in diff_models1])\n",
    "    pca = PCA(n_components=9)\n",
    "\n",
    "    all_fit_errors = []\n",
    "    all_pred_resps = []\n",
    "    for pcs in range(0, 10):\n",
    "        pcad_bins = pca.fit_transform(first_pass_bins)\n",
    "        pcad_bins[:, pcs:] = 0\n",
    "        pcad_bins = pca.inverse_transform(pcad_bins)\n",
    "        [model.fit(W=i.tolist() + [j]) for model, i, j in zip(diff_models1, pcad_bins, threshes)];\n",
    "        pred_resps = [i.pred_resp for i in diff_models1]\n",
    "        all_pred_resps.append(pred_resps)\n",
    "        fit_errors = [np.sum((i.X_test_avg[index] - j)**2) for i, j in zip(diff_models1, pred_resps)]\n",
    "        all_fit_errors.append(fit_errors)\n",
    "    all_fit_errors = np.array(all_fit_errors)\n",
    "    all_pred_resps = np.array(all_pred_resps)\n",
    "    normed =( all_fit_errors - all_fit_errors.min(axis=0)) / (all_fit_errors.max(axis=0) - all_fit_errors.min(axis=0))\n",
    "    # for i in normed.T:\n",
    "    #     plt.plot(i, alpha=0.5, color='lightgray')\n",
    "    # plt.plot(normed.mean(axis=1))\n",
    "    # plt.xlabel('Number of PCs')\n",
    "    # plt.ylabel('Normalized Fit Error')\n",
    "    all_normed.append(normed)\n"
   ]
  },
  {
   "cell_type": "code",
   "execution_count": 8,
   "metadata": {
    "autoscroll": false,
    "collapsed": false,
    "ein.hycell": false,
    "ein.tags": "worksheet-0",
    "slideshow": {
     "slide_type": "-"
    }
   },
   "outputs": [],
   "source": [
    "### Generate the laplace distributions along both of the PCs\n",
    "pc1_exp_decay = np.abs([i - np.median(fit_bins_all[:, 0]) for i in fit_bins_all[:, 0]]).mean()\n",
    "pc2_exp_decay = np.abs([i - np.median(fit_bins_all[:, 1]) for i in fit_bins_all[:, 1]]).mean()\n",
    "rand1 = np.random.laplace(0, pc1_exp_decay, 10000)\n",
    "rand2 = np.random.laplace(0, pc2_exp_decay, 10000)"
   ]
  },
  {
   "cell_type": "code",
   "execution_count": 12,
   "metadata": {
    "autoscroll": false,
    "collapsed": false,
    "ein.hycell": false,
    "ein.tags": "worksheet-0",
    "slideshow": {
     "slide_type": "-"
    }
   },
   "outputs": [
    {
     "data": {
      "image/png": "[encoded data removed]",
      "text/plain": [
       "<Figure size 864x576 with 12 Axes>"
      ]
     },
     "metadata": {},
     "output_type": "display_data"
    }
   ],
   "source": [
    "### Plotting\n",
    "\n",
    "# Colors and markers\n",
    "odour_grays = ['k', 'gray', 'lightgray']\n",
    "markers = ['o', 's', 'd']\n",
    "\n",
    "\n",
    "fig = plt.figure(figsize=(12, 8))\n",
    "gs = GridSpec(5, 5, hspace=1, wspace=1)\n",
    "sub_gs = gs[:3, :3].subgridspec(2, 3, wspace=0.6, hspace=0.6)\n",
    "\n",
    "### Add the explained variance ratio axis\n",
    "pc_var_ax = fig.add_subplot(sub_gs[0, 0])\n",
    "pc_var_ax.plot(range(1, 10), pca1.explained_variance_ratio_, label='EB', color=odour_grays[0])\n",
    "pc_var_ax.plot(range(1, 10), pca2.explained_variance_ratio_, label='IA', color=odour_grays[1])\n",
    "pc_var_ax.plot(range(1, 10), pca3.explained_variance_ratio_, label='EA', color=odour_grays[2])\n",
    "pc_var_ax.set_ylabel('Variance explained')\n",
    "pc_var_ax.set_xlabel('PC')\n",
    "pc_var_ax.spines['right'].set_visible(False)\n",
    "pc_var_ax.spines['top'].set_visible(False)\n",
    "pc_var_ax.set_xticks(range(0, 10))\n",
    "pc_var_ax.legend()\n",
    "\n",
    "### Add the change in fit error against number of PCs axis\n",
    "pc_error_ax = fig.add_subplot(sub_gs[0, 1])\n",
    "mean_normed = np.array(all_normed).mean(axis=0)\n",
    "for i in mean_normed.T:\n",
    "    pc_error_ax.plot(i, alpha=0.5, color='lightgray')\n",
    "pc_error_ax.plot(mean_normed.mean(axis=-1), color='k')\n",
    "pc_error_ax.spines['right'].set_visible(False)\n",
    "pc_error_ax.spines['top'].set_visible(False)\n",
    "pc_error_ax.set_ylabel('Relative fit error')\n",
    "pc_error_ax.set_xlabel('PC')\n",
    "pc_error_ax.set_xticks(range(0, 10))\n",
    "\n",
    "### Add the correlation between PCs axis\n",
    "corr_ax = fig.add_subplot(sub_gs[0, 2])\n",
    "corr_ax.scatter(range(1, 5), np.array(corrs)[:4, 0], color=odour_grays[0])\n",
    "corr_ax.scatter(range(1, 5), np.array(corrs)[:4, 1], color=odour_grays[1])\n",
    "corr_ax.scatter(range(1, 5), np.array(corrs)[:4, 2], color=odour_grays[2])\n",
    "corr_ax.set_ylabel('Correlation coefficient')\n",
    "corr_ax.set_xlabel('PC')\n",
    "corr_ax.set_xticks(range(1, 5))\n",
    "corr_ax.spines['right'].set_visible(False)\n",
    "corr_ax.spines['top'].set_visible(False)\n",
    "\n",
    "### Add the PC1, PC2, PC3 axes\n",
    "pc1_ax = fig.add_subplot(sub_gs[1, 0])\n",
    "pc2_ax = fig.add_subplot(sub_gs[1, 1])\n",
    "pc3_ax = fig.add_subplot(sub_gs[1, 2])\n",
    "\n",
    "# Plot PC1, PC2, PC3 on these axes\n",
    "pc_axs = [pc1_ax, pc2_ax, pc3_ax]\n",
    "for i in range(3):\n",
    "    pc_axs[i].plot(pca1.components_[i][:5], color=odour_grays[0], label='EB')\n",
    "    pc_axs[i].plot(pca2.components_[i][:5], color=odour_grays[1], label='IA')\n",
    "    pc_axs[i].plot(pca3.components_[i][:5], color=odour_grays[2], label='EA')\n",
    "\n",
    "    pc_axs[i].plot(range(5, 9), pca1.components_[i][5:], color=odour_grays[0])\n",
    "    pc_axs[i].plot(range(5, 9), pca2.components_[i][5:], color=odour_grays[1])\n",
    "    pc_axs[i].plot(range(5, 9), pca3.components_[i][5:], color=odour_grays[2])\n",
    "    \n",
    "    pc_axs[i].spines['right'].set_visible(False)\n",
    "    pc_axs[i].spines['top'].set_visible(False)\n",
    "    pc_axs[i].set_title(f'PC{i+1}')\n",
    "    pc_axs[i].set_xticks(range(9))\n",
    "    pc_axs[i].set_xticklabels(range(1,10))\n",
    "    pc_axs[i].axvline(4.5, color='k', linestyle='--')\n",
    "\n",
    "pc_axs[0].legend(bbox_to_anchor=(0.7, 0.6))\n",
    "\n",
    "\n",
    "### The scatter plot\n",
    "scatter_ax = fig.add_subplot(gs[:3, 3:], aspect='equal')\n",
    "scatter_pcs(scatter_ax)\n",
    "heatmap_axs = plot_heatmaps(gs[3:, :])\n",
    "\n",
    "### Labelling\n",
    "axes = [pc_var_ax, pc_error_ax, corr_ax, scatter_ax, pc1_ax, pc2_ax, pc3_ax, *heatmap_axs]\n",
    "labels = ['A', 'B', 'C', 'D', 'Ei', 'ii', 'iii', 'Fi', 'ii', 'iii']\n",
    "x_aligns = [[0, 4, 7], [1, 5], [2, 6]]\n",
    "y_aligns = [[0, 1, 2, 3], [4, 5, 6], [7, 8, 9]]\n",
    "\n",
    "label_axes(axes, labels, align_x=x_aligns, align_y=y_aligns, fontsize=16, fontweight='bold')\n",
    "#plt.savefig('230703_fig5.pdf', bbox_inches='tight')"
   ]
  },
  {
   "cell_type": "code",
   "execution_count": null,
   "metadata": {
    "autoscroll": false,
    "collapsed": false,
    "ein.hycell": false,
    "ein.tags": "worksheet-0",
    "slideshow": {
     "slide_type": "-"
    }
   },
   "outputs": [],
   "source": []
  }
 ],
 "metadata": {
  "kernelspec": {
   "display_name": "Python 3",
   "name": "python3"
  },
  "language_info": {
   "codemirror_mode": {
    "name": "ipython",
    "version": 3
   },
   "file_extension": ".py",
   "mimetype": "text/x-python",
   "name": "python",
   "nbconvert_exporter": "python",
   "pygments_lexer": "ipython3",
   "version": "3.7.3"
  },
  "name": "230703_Fig5.ipynb"
 },
 "nbformat": 4,
 "nbformat_minor": 2
}
