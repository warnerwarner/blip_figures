{
 "cells": [
  {
   "cell_type": "code",
   "execution_count": 1,
   "metadata": {
    "autoscroll": false,
    "collapsed": false,
    "ein.hycell": false,
    "ein.tags": "worksheet-0",
    "slideshow": {
     "slide_type": "-"
    }
   },
   "outputs": [
    {
     "name": "stdout",
     "output_type": "stream",
     "text": [
      "b\n"
     ]
    }
   ],
   "source": [
    "import sys\n",
    "\n",
    "import matplotlib.pyplot as plt\n",
    "import numpy as np\n",
    "import blip_analysis as ba\n",
    "from matplotlib.gridspec import GridSpec\n",
    "import pickle\n",
    "from sklearn.metrics import confusion_matrix\n",
    "from label_axes import label_axes\n",
    "import exp_blip_models as em\n",
    "import json\n",
    "import matplotlib\n",
    "matplotlib.rcParams['pdf.fonttype'] = 42\n",
    "matplotlib.rcParams['ps.fonttype'] = 42\n"
   ]
  },
  {
   "cell_type": "code",
   "execution_count": 2,
   "metadata": {},
   "outputs": [],
   "source": [
    "style_params = json.load(open('../Data/style_params.json'))"
   ]
  },
  {
   "cell_type": "code",
   "execution_count": 3,
   "metadata": {
    "autoscroll": false,
    "collapsed": false,
    "ein.hycell": false,
    "ein.tags": "worksheet-0",
    "slideshow": {
     "slide_type": "-"
    }
   },
   "outputs": [
    {
     "name": "stdout",
     "output_type": "stream",
     "text": [
      "Found odour 1\n",
      "Found odour 3\n",
      "Found odour 5\n"
     ]
    }
   ],
   "source": [
    "unit_usrt1, unit_usrt2, unit_usrt3= ba.load_usrts()\n",
    "### Load in the data\n",
    "good_indexes = ba.get_stable_resp_indexes()\n",
    "unit_usrt1 = unit_usrt1[good_indexes]\n",
    "unit_usrt2 = unit_usrt2[good_indexes]\n",
    "unit_usrt3 = unit_usrt3[good_indexes]\n",
    "glyphs = np.array(ba.get_glyphs())\n",
    "\n",
    "units_usrt_long1 =np.load('../Data/230704_Fig1_long_usrt1.npy', allow_pickle=True)\n",
    "mean_usrt1 = np.array([[np.mean(i, axis=0) for i in j] for j in unit_usrt1])\n",
    "mean_usrt2 = np.array([[np.mean(i, axis=0) for i in j] for j in unit_usrt2])\n",
    "mean_usrt3 = np.array([[np.mean(i, axis=0) for i in j] for j in unit_usrt3])\n",
    "mean_usrt_long1 = np.array([[np.mean(i, axis=0) for i in j] for j in units_usrt_long1])\n",
    "\n",
    "sum_usrt1 = mean_usrt1.sum(axis=-1)\n",
    "sum_usrt2 = mean_usrt2.sum(axis=-1)\n",
    "sum_usrt3 = mean_usrt3.sum(axis=-1)\n",
    "\n",
    "res = pickle.Unpickler(open('../Data/220313_classifier_score_and_preds.pkl', 'rb')).load()\n",
    "res_shuf = pickle.Unpickler(open('../Data/220313_classifier_score_and_preds_shuf.pkl', 'rb')).load()\n",
    "res_rf = pickle.Unpickler(open('../Data/220315_classifier_score_and_preds_RF.pkl', 'rb')).load()\n",
    "res_joined_rf = pickle.Unpickler(open('../Data/220315_classifier_score_and_preds_joined_RF.pkl', 'rb')).load()\n"
   ]
  },
  {
   "cell_type": "code",
   "execution_count": 4,
   "metadata": {
    "autoscroll": false,
    "collapsed": false,
    "ein.hycell": false,
    "ein.tags": "worksheet-0",
    "slideshow": {
     "slide_type": "-"
    }
   },
   "outputs": [],
   "source": [
    "### Reshape the data for plotting\n",
    "scores = res[:, :, :, :, 0].astype(float)\n",
    "preds = np.array(list(res[:, :, :, :, 1]))\n",
    "scores_shuf = res_shuf[:, :, :, 0].astype(float)\n",
    "preds_shuf = res_shuf[:, :, :, 1]\n",
    "scores_rf = res_rf[:, :, :, :, 0].astype(float)\n",
    "preds_rf = res_rf[:, :, :, :, 1]\n",
    "scores_joined_rf = res_joined_rf[:, :, :, :, 0].astype(float)\n",
    "preds_joined_rf = res_joined_rf[:, :, :, :, 1]"
   ]
  },
  {
   "cell_type": "code",
   "execution_count": 5,
   "metadata": {
    "autoscroll": false,
    "collapsed": false,
    "ein.hycell": false,
    "ein.tags": "worksheet-0",
    "slideshow": {
     "slide_type": "-"
    }
   },
   "outputs": [],
   "source": [
    "### Label all trials by either their onset or concentration\n",
    "\n",
    "labs_onset = np.where(em.trial_arrays['cao_array'][:, :5] == 1)[1]\n",
    "labs_conc = np.where(em.trial_arrays['cao_array'][:, 5:] == 1)[1]\n",
    "labs_conc = np.append([-1], labs_conc)\n",
    "labs_onset = np.append([5], labs_onset)\n",
    "\n"
   ]
  },
  {
   "cell_type": "code",
   "execution_count": 6,
   "metadata": {
    "autoscroll": false,
    "collapsed": false,
    "ein.hycell": false,
    "ein.tags": "worksheet-0",
    "slideshow": {
     "slide_type": "-"
    }
   },
   "outputs": [],
   "source": [
    "### Generate extended labels for confusion matrices\n",
    "\n",
    "conc_trials = [0, 16, 24, 28, 30, 31]\n",
    "onset_trials = [16, 8, 4, 2, 1, 0]\n",
    "iti_trials = [24, 20, 18, 17]\n",
    "c_joined_true = [i for j in range(100) for i in labs_conc]\n",
    "o_joined_true = [i for j in range(100) for i in labs_onset]\n",
    "c_trues = [i for j in range(100) for i in conc_trials]\n",
    "o_trues = [i for j in range(100) for i in onset_trials]\n",
    "i_trues = [i for j in range(100) for i in iti_trials]"
   ]
  },
  {
   "cell_type": "code",
   "execution_count": 7,
   "metadata": {
    "autoscroll": false,
    "collapsed": false,
    "ein.hycell": false,
    "ein.tags": "worksheet-0",
    "slideshow": {
     "slide_type": "-"
    }
   },
   "outputs": [],
   "source": [
    "def plot_heatmap(ax, trues, preds, labels, set_glyphs=True):\n",
    "    '''\n",
    "    Plot confusion matrix heatmaps for part B\n",
    "    '''\n",
    "    cm = confusion_matrix(trues, preds, normalize='true', labels=labels)\n",
    "    im = ax.imshow(cm, cmap='plasma')\n",
    "    ax.set_xticks(range(len(labels)))\n",
    "    ax.set_yticks(range(len(labels)))\n",
    "    ax.set_ylim(len(labels)-0.5, -0.5)\n",
    "    if set_glyphs:\n",
    "        ax.set_xticklabels(glyphs[labels], rotation=90)\n",
    "        ax.set_yticklabels(glyphs[labels])\n",
    "    else:\n",
    "        ax.set_xticklabels(labels, rotation=90)\n",
    "        ax.set_yticklabels(labels)\n",
    "    return im, np.max(cm), cm\n",
    "\n",
    "def set_global_ylim(axs):\n",
    "    '''\n",
    "    A utility function which sets all axs to have the same y lims\n",
    "    '''\n",
    "    ylims = np.array([i.get_ylim() for i in axs])\n",
    "    ymax = np.max(ylims[:, 1])\n",
    "    ymin = np.min(ylims[:, 0])\n",
    "    [i.set_ylim(ymin, ymax) for i in axs]\n",
    "\n",
    "def forceAspect(ax,aspect=1):\n",
    "    '''\n",
    "    A utility function which forces the aspect ratio of a plot to be 1\n",
    "    '''\n",
    "    extent = ax.get_xlim() + ax.get_ylim()\n",
    "    print(extent)\n",
    "    ax.set_aspect(abs((extent[1]-extent[0])/(extent[3]-extent[2]))/aspect)\n",
    "\n",
    "def plot_mean_and_std(ax, data, axis=0, xs = None, sem=False, color=None, label=None):\n",
    "    '''\n",
    "    Plot the mean and standard deviation of a dataset\n",
    "    '''\n",
    "    mean_data = np.mean(data, axis=axis)\n",
    "    if xs is None:\n",
    "        xs = np.arange(len(mean_data))\n",
    "    std_data = np.std(data, axis=axis)\n",
    "    if sem:\n",
    "        std_data = std_data / np.sqrt(data.shape[axis])\n",
    "    mins = mean_data - std_data\n",
    "    maxs = mean_data + std_data\n",
    "    ax.plot(xs, mean_data, color=color, label=label)\n",
    "    ax.fill_between(xs, mins, maxs, alpha=0.5, color=color)"
   ]
  },
  {
   "cell_type": "code",
   "execution_count": 8,
   "metadata": {
    "autoscroll": false,
    "collapsed": false,
    "ein.hycell": false,
    "ein.tags": "worksheet-0",
    "slideshow": {
     "slide_type": "-"
    }
   },
   "outputs": [
    {
     "name": "stdout",
     "output_type": "stream",
     "text": [
      "(-6.45, 135.45, 0.0, 0.9319821014447636)\n",
      "(-6.45, 135.45, 0.0, 0.9319821014447636)\n",
      "(-6.45, 135.45, 0.0, 0.9319821014447636)\n",
      "(-6.45, 135.45, 0.0, 0.9319821014447636)\n",
      "(-6.45, 135.45, 0.0, 0.9319821014447636)\n"
     ]
    },
    {
     "data": {
      "image/png": "[encoded data removed]",
      "text/plain": [
       "<Figure size 576x288 with 11 Axes>"
      ]
     },
     "metadata": {
      "needs_background": "light"
     },
     "output_type": "display_data"
    }
   ],
   "source": [
    "### Plotting\n",
    "\n",
    "fig = plt.figure(figsize=(8, 4))\n",
    "gs = GridSpec(2, 5, wspace=0.7, hspace=0)\n",
    "odour_grays = ['k', 'gray', 'lightgray']\n",
    "labels = style_params['odour_labels']\n",
    "\n",
    "### Make the axes for all parts of A\n",
    "acc_ax1 = fig.add_subplot(gs[0, 0])\n",
    "acc_ax2 = fig.add_subplot(gs[0, 1])\n",
    "acc_ax3 = fig.add_subplot(gs[0, 2])\n",
    "acc_ax4 = fig.add_subplot(gs[0, 3])\n",
    "acc_ax5 = fig.add_subplot(gs[0, 4])\n",
    "\n",
    "# Plot the mean and std (in this case its been changed to the SEM) \n",
    "for i in range(3):\n",
    "    plot_mean_and_std(acc_ax1, scores_rf[i, 0], axis=-1, sem=True, color=odour_grays[i])\n",
    "    plot_mean_and_std(acc_ax2, scores_rf[i, 1], axis=-1, sem=True, color=odour_grays[i])\n",
    "    plot_mean_and_std(acc_ax3, scores_rf[i, 2], axis=-1, sem=True, color=odour_grays[i])\n",
    "    plot_mean_and_std(acc_ax4, scores_joined_rf[i, 0], axis=-1, sem=True, color=odour_grays[i])\n",
    "    plot_mean_and_std(acc_ax5, scores_joined_rf[i, 1], axis=-1, sem=True, color=odour_grays[i], label=labels[i])\n",
    "\n",
    "acc_ax5.plot([], color='k', linestyle='--', label='Chance')\n",
    "\n",
    "[i.spines['top'].set_visible(False) for i in [acc_ax1, acc_ax2, acc_ax3, acc_ax4, acc_ax5]]\n",
    "[i.spines['right'].set_visible(False) for i in [acc_ax1, acc_ax2, acc_ax3, acc_ax4, acc_ax5]]\n",
    "\n",
    "acc_ax1.axhline(1/6, linestyle='--', color='k')\n",
    "acc_ax2.axhline(1/6, linestyle='--', color='k')\n",
    "acc_ax3.axhline(1/4, linestyle='--', color='k')\n",
    "acc_ax4.axhline(0.246, linestyle='--', color='k')\n",
    "acc_ax5.axhline(0.334, linestyle='--', color='k')\n",
    "\n",
    "### Make all the axes for the heatmaps\n",
    "heatmap_ax1 = fig.add_subplot(gs[1, 0])\n",
    "heatmap_ax2 = fig.add_subplot(gs[1, 1])\n",
    "heatmap_ax3 = fig.add_subplot(gs[1, 2])\n",
    "heatmap_ax4 = fig.add_subplot(gs[1, 3])\n",
    "heatmap_ax5 = fig.add_subplot(gs[1, 4])\n",
    "\n",
    "# Plot the heatmaps\n",
    "im1, vmax1, cm1 = plot_heatmap(heatmap_ax1, np.hstack(preds_rf[0, 0, -1]), c_trues, np.unique(c_trues))\n",
    "im2, vmax2, cm2 = plot_heatmap(heatmap_ax2, np.hstack(preds_rf[0, 1, -1]), o_trues, np.unique(o_trues))\n",
    "im3, vmax3, cm3 = plot_heatmap(heatmap_ax3, np.hstack(preds_rf[0, 2, -1]), i_trues, np.unique(i_trues))\n",
    "im4, vmax4, cm4 = plot_heatmap(heatmap_ax4, np.hstack(preds_joined_rf[0, 0, -1]), c_joined_true, np.unique(c_joined_true))\n",
    "im5, vmax5, cm5 = plot_heatmap(heatmap_ax5, np.hstack(preds_joined_rf[0, 1, -1]), o_joined_true, np.unique(o_joined_true)[::-1])\n",
    "\n",
    "# Some labelling\n",
    "acc_ax1.set_title('Total odour')\n",
    "acc_ax2.set_title('Latency to\\nodour')\n",
    "acc_ax3.set_title('Intermittency')\n",
    "acc_ax4.set_title('Total odour\\n(joined)')\n",
    "acc_ax5.set_title('Latency to\\nodour (joined)')\n",
    "heatmap_ax4.set_xticklabels(['None', 1, 2, 3, 4, 5])\n",
    "heatmap_ax4.set_yticklabels(['None', 1, 2, 3, 4, 5])\n",
    "heatmap_ax5.set_xticklabels([0, 20, 40, 60, 80, 'N/A'][::-1])\n",
    "heatmap_ax5.set_yticklabels([0, 20, 40, 60, 80, 'N/A'][::-1])\n",
    "[i.set_xlabel('Number of units') for i in [acc_ax1, acc_ax2, acc_ax3, acc_ax4, acc_ax5]]\n",
    "\n",
    "# Formatting of the ylim and aspects\n",
    "set_global_ylim([acc_ax1, acc_ax2, acc_ax3, acc_ax4, acc_ax5])\n",
    "[i.set_ylim(0) for i in [acc_ax1, acc_ax2, acc_ax3, acc_ax4, acc_ax5]]\n",
    "[forceAspect(i) for i in [acc_ax1, acc_ax2, acc_ax3, acc_ax4, acc_ax5]]\n",
    "[i.set_yticklabels([]) for i in [acc_ax2 , acc_ax3, acc_ax4, acc_ax5]]\n",
    "\n",
    "acc_ax1.set_ylabel('Accuracy')\n",
    "heatmap_ax1.set_ylabel('True')\n",
    "[i.set_xlabel('Predicted') for i in [heatmap_ax1, heatmap_ax2, heatmap_ax3, heatmap_ax4, heatmap_ax5]]\n",
    "heatmap_ax5.set_xlabel('Predicted', labelpad=12)\n",
    "\n",
    "# Group the axes for label_axes\n",
    "axs = [acc_ax1, acc_ax2, acc_ax3, acc_ax4, acc_ax5, heatmap_ax1, heatmap_ax2, heatmap_ax3, heatmap_ax4, heatmap_ax5]\n",
    "labels = ['Ai', 'ii', 'iii', 'iv', 'v', 'Bi', 'ii', 'iii', 'iv', 'v']\n",
    "label_axes.label_axes(axs, labels, fontsize=16, fontweight='bold', align_x = [[0, 5], [1, 6], [2, 7], [3, 8], [4, 9]], align_y = [[0, 1, 2, 3, 4], [5, 6, 7, 8, 9]], align_x_fun=np.min, align_y_fun=np.max)\n",
    "acc_ax5.legend(loc='right', bbox_to_anchor=(2.4, 0.5))\n",
    "\n",
    "## Make a colorbar\n",
    "y0 = heatmap_ax5.get_position().y0\n",
    "h = heatmap_ax5.get_position().height\n",
    "cbax = fig.add_axes([0.91, y0, 0.01, h])\n",
    "vmax = np.max([vmax1, vmax2, vmax3, vmax4, vmax5])\n",
    "[im.set_clim(0, vmax) for im in [im1, im2, im3, im4, im5]]\n",
    "cbar = plt.colorbar(im5, cax=cbax)\n",
    "plt.draw()\n",
    "#plt.savefig('230813_Fig2.pdf', bbox_inches='tight')"
   ]
  },
  {
   "cell_type": "code",
   "execution_count": 17,
   "metadata": {
    "autoscroll": false,
    "collapsed": false,
    "ein.hycell": false,
    "ein.tags": "worksheet-0",
    "slideshow": {
     "slide_type": "-"
    }
   },
   "outputs": [
    {
     "name": "stdout",
     "output_type": "stream",
     "text": [
      "[0.56794872 0.49871795 0.51666667]\n",
      "[0.15972219 0.14543797 0.15310183]\n"
     ]
    }
   ],
   "source": [
    "print(scores_rf[:, 0, :, -1].mean(axis=-1))\n",
    "print(scores_rf[:, 0, :, -1].std(axis=-1))"
   ]
  },
  {
   "cell_type": "code",
   "execution_count": 22,
   "metadata": {},
   "outputs": [
    {
     "name": "stdout",
     "output_type": "stream",
     "text": [
      "(0.9624464035677333, 7.858054980428027e-21)\n"
     ]
    }
   ],
   "source": [
    "import scipy\n",
    "print(scipy.stats.pearsonr(cm2.ravel(), cm5.ravel()))"
   ]
  },
  {
   "cell_type": "code",
   "execution_count": 16,
   "metadata": {},
   "outputs": [
    {
     "name": "stdout",
     "output_type": "stream",
     "text": [
      "[0.63333333 0.59230769 0.53974359]\n",
      "[0.71346154 0.66538462 0.54423077]\n",
      "[0.46947115 0.41995192 0.45769231]\n",
      "[0.73341346 0.72980769 0.67548077]\n"
     ]
    }
   ],
   "source": [
    "print(scores_rf[:, 1, :, -1].mean(axis=-1))\n",
    "print(scores_rf[:, 1, :, -1].std(axis=-1))\n",
    "print(scores_rf[:, 2, :, -1].mean(axis=-1))\n",
    "print(scores_rf[:, 2, :, -1].std(axis=-1))\n",
    "print(scores_joined_rf[:, 0, :, -1].mean(axis=-1))\n",
    "print(scores_joined_rf[:, 0, :, -1].std(axis=-1))\n",
    "print(scores_joined_rf[:, 1, :, -1].mean(axis=-1))\n",
    "print(scores_joined_rf[:, 1, :, -1].std(axis=-1))"
   ]
  },
  {
   "cell_type": "code",
   "execution_count": null,
   "metadata": {},
   "outputs": [],
   "source": []
  }
 ],
 "metadata": {
  "kernelspec": {
   "display_name": "Python 3",
   "name": "python3"
  },
  "language_info": {
   "codemirror_mode": {
    "name": "ipython",
    "version": 3
   },
   "file_extension": ".py",
   "mimetype": "text/x-python",
   "name": "python",
   "nbconvert_exporter": "python",
   "pygments_lexer": "ipython3",
   "version": "3.7.3"
  },
  "name": "230704_Fig2.ipynb"
 },
 "nbformat": 4,
 "nbformat_minor": 2
}
