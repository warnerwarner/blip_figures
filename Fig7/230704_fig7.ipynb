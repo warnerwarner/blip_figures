{
 "cells": [
  {
   "cell_type": "code",
   "execution_count": 3,
   "metadata": {
    "autoscroll": false,
    "collapsed": false,
    "ein.hycell": false,
    "ein.tags": "worksheet-0",
    "slideshow": {
     "slide_type": "-"
    }
   },
   "outputs": [],
   "source": [
    "import sys\n",
    "sys.path.append(\"./packages\")\n",
    "sys.path.append(\"./packages/neurolytics\")\n",
    "sys.path.append(\"./packages/blip_analysis\")\n",
    "sys.path.append(\"/camp/home/tootoos/working/tootoos/git/label_axes\")\n",
    "\n",
    "import numpy as np\n",
    "import blip_analysis as ba\n",
    "import matplotlib.pyplot as plt\n",
    "import pickle\n",
    "import scipy\n",
    "from tqdm import trange\n",
    "from matplotlib.gridspec import GridSpec\n",
    "from label_axes import label_axes\n",
    "from scipy.optimize import minimize"
   ]
  },
  {
   "cell_type": "code",
   "execution_count": 4,
   "metadata": {
    "autoscroll": false,
    "collapsed": false,
    "ein.hycell": false,
    "ein.tags": "worksheet-0",
    "slideshow": {
     "slide_type": "-"
    }
   },
   "outputs": [
    {
     "name": "stdout",
     "output_type": "stream",
     "text": [
      "Found odour 1\n",
      "Found odour 3\n"
     ]
    },
    {
     "name": "stdout",
     "output_type": "stream",
     "text": [
      "Found odour 5\n"
     ]
    }
   ],
   "source": [
    "## Load data\n",
    "unit_usrt1, unit_usrt2, unit_usrt3 = ba.load_usrts(filepath='./packages/blip_analysis/unit_usrts')\n",
    "good_indexes = ba.get_stable_resp_indexes()\n",
    "glyphs = ba.get_glyphs()"
   ]
  },
  {
   "cell_type": "code",
   "execution_count": 5,
   "metadata": {
    "autoscroll": false,
    "collapsed": false,
    "ein.hycell": false,
    "ein.tags": "worksheet-0",
    "slideshow": {
     "slide_type": "-"
    }
   },
   "outputs": [
    {
     "name": "stderr",
     "output_type": "stream",
     "text": [
      "<ipython-input-5-0026a930f9c9>:2: DeprecationWarning: Please use `OptimizeResult` from the `scipy.optimize` namespace, the `scipy.optimize.optimize` namespace is deprecated.\n",
      "  diff_models1 = pickle.Unpickler(open('Data/230320_diff_models1.pkl', 'rb')).load()\n"
     ]
    },
    {
     "name": "stderr",
     "output_type": "stream",
     "text": [
      "<ipython-input-5-0026a930f9c9>:3: DeprecationWarning: Please use `OptimizeResult` from the `scipy.optimize` namespace, the `scipy.optimize.optimize` namespace is deprecated.\n",
      "  diff_models2 = pickle.Unpickler(open('Data/230320_diff_models2.pkl', 'rb')).load()\n"
     ]
    },
    {
     "name": "stderr",
     "output_type": "stream",
     "text": [
      "<ipython-input-5-0026a930f9c9>:4: DeprecationWarning: Please use `OptimizeResult` from the `scipy.optimize` namespace, the `scipy.optimize.optimize` namespace is deprecated.\n",
      "  diff_models3 = pickle.Unpickler(open('Data/230320_diff_models3.pkl', 'rb')).load()\n"
     ]
    }
   ],
   "source": [
    "### Run to load in all the models\n",
    "diff_models1 = pickle.Unpickler(open('Data/230320_diff_models1.pkl', 'rb')).load()\n",
    "diff_models2 = pickle.Unpickler(open('Data/230320_diff_models2.pkl', 'rb')).load()\n",
    "diff_models3 = pickle.Unpickler(open('Data/230320_diff_models3.pkl', 'rb')).load()\n",
    "model_length = 130"
   ]
  },
  {
   "cell_type": "code",
   "execution_count": 6,
   "metadata": {
    "autoscroll": false,
    "collapsed": false,
    "ein.hycell": false,
    "ein.tags": "worksheet-0",
    "slideshow": {
     "slide_type": "-"
    }
   },
   "outputs": [],
   "source": [
    "### Loading responsive cells from the 230509_fig5_2PCs.ipynb - only cells which are 'responsive' to all three odours\n",
    "responsive_only_cells = np.load('Data/230515_all_responsive_cells.npy')\n",
    "diff_models1 = diff_models1[responsive_only_cells]\n",
    "diff_models2 = diff_models2[responsive_only_cells]\n",
    "diff_models3 = diff_models3[responsive_only_cells]\n",
    "model_length = 66"
   ]
  },
  {
   "cell_type": "code",
   "execution_count": 7,
   "metadata": {
    "autoscroll": false,
    "collapsed": false,
    "ein.hycell": false,
    "ein.tags": "worksheet-0",
    "slideshow": {
     "slide_type": "-"
    }
   },
   "outputs": [],
   "source": [
    "### Fit all models to ensure their weighting has all repeats\n",
    "[i.fit() for i in diff_models1];\n",
    "[i.fit() for i in diff_models2];\n",
    "[i.fit() for i in diff_models3];"
   ]
  },
  {
   "cell_type": "code",
   "execution_count": 8,
   "metadata": {
    "autoscroll": false,
    "collapsed": false,
    "ein.hycell": false,
    "ein.tags": "worksheet-0",
    "slideshow": {
     "slide_type": "-"
    }
   },
   "outputs": [
    {
     "name": "stdout",
     "output_type": "stream",
     "text": [
      "[ 3 51 41 12  4 24  2 63 31 52 49 53 21 44  6 47 22 25 64 10 43 36 16 13\n",
      " 11 58 15 60 56 23 20  5 55 54 17 62 48  8 59  0 50  1 57 18 45  9 33 26\n",
      " 14 35 30 46 29 28 42 38 19 65 61 27  7 40 37 32 39 34]\n"
     ]
    }
   ],
   "source": [
    "## calculate the mean and std of each cell\n",
    "mean_usrt1 = [[np.mean(np.mean(i, axis=-1)) for i in j] for j in unit_usrt1[good_indexes][responsive_only_cells]]\n",
    "std_usrt1 = [[np.std(np.mean(i, axis=-1)) for i in j] for j in unit_usrt1[good_indexes][responsive_only_cells]]\n",
    "mean_usrt2 = [[np.mean(np.mean(i, axis=-1)) for i in j] for j in unit_usrt2[good_indexes][responsive_only_cells]]\n",
    "std_usrt2 = [[np.std(np.mean(i, axis=-1)) for i in j] for j in unit_usrt2[good_indexes][responsive_only_cells]]\n",
    "mean_usrt3 = [[np.mean(np.mean(i, axis=-1)) for i in j] for j in unit_usrt3[good_indexes][responsive_only_cells]]\n",
    "std_usrt3 = [[np.std(np.mean(i, axis=-1)) for i in j] for j in unit_usrt3[good_indexes][responsive_only_cells]]\n",
    "corrs = [np.corrcoef(i, j)[0, 1] for i, j in zip(mean_usrt1, mean_usrt2)]\n",
    "print(np.argsort(np.abs(corrs)))\n",
    "corr_args = np.argsort(np.abs(corrs))"
   ]
  },
  {
   "cell_type": "code",
   "execution_count": 9,
   "metadata": {
    "autoscroll": false,
    "collapsed": false,
    "ein.hycell": false,
    "ein.tags": "worksheet-0",
    "slideshow": {
     "slide_type": "-"
    }
   },
   "outputs": [],
   "source": [
    "### Load in the other odour fit results (this takes the 66 responsive cells)\n",
    "res = np.load('Data/230704_other_odour_fits.npy', allow_pickle=True)"
   ]
  },
  {
   "cell_type": "code",
   "execution_count": 10,
   "metadata": {
    "autoscroll": false,
    "collapsed": false,
    "ein.hycell": false,
    "ein.tags": "worksheet-0",
    "slideshow": {
     "slide_type": "-"
    }
   },
   "outputs": [],
   "source": [
    "## reshaping\n",
    "cell_preds12 = res[0, 0, :, 0, :]\n",
    "scores12 = res[0, 0, :, 1, :]\n",
    "cell_preds13 = res[0, 1, :, 0, :]\n",
    "scores13 = res[0, 1, :, 1, :]\n",
    "cell_preds21 = res[1, 0, :, 0, :]\n",
    "scores21 = res[1, 0, :, 1, :]\n",
    "cell_preds23 = res[1, 1, :, 0, :]\n",
    "scores23 = res[1, 1, :, 1, :]\n",
    "cell_preds31 = res[2, 0, :, 0, :]\n",
    "scores31 = res[2, 0, :, 1, :]\n",
    "cell_preds32 = res[2, 1, :, 0, :]\n",
    "scores32 = res[2, 1, :, 1, :]"
   ]
  },
  {
   "cell_type": "code",
   "execution_count": 17,
   "metadata": {
    "autoscroll": false,
    "collapsed": false,
    "ein.hycell": false,
    "ein.tags": "worksheet-0",
    "slideshow": {
     "slide_type": "-"
    }
   },
   "outputs": [],
   "source": [
    "def plot_score_fracs(scores1, scores2, odour1_label='Odour 1', odour2_label='Odour 2', ax=None, colors=['C0', 'C1', 'r'], show_best=True):\n",
    "    '''Plots the fraction of cells which are fit better to another odour response than a given cell - generates part A'''\n",
    "    scores_frac1 = []\n",
    "    scores_frac2 = []\n",
    "    for i in range(model_length):\n",
    "        self_score1 = scores1[i][i]\n",
    "        self_score2 = scores2[i][i]\n",
    "        scores_frac1.append(len(np.where(np.array(scores1)[i] < self_score1)[0])/model_length)\n",
    "        scores_frac2.append(len(np.where(np.array(scores2)[i] < self_score2)[0])/model_length)\n",
    "    min_score_fracs = np.min([scores_frac1, scores_frac2], axis=0)\n",
    "    best_odour_fracs = np.array([scores_frac1, scores_frac2]).argmin(axis=0)\n",
    "\n",
    "    frac_args1 = np.argsort(scores_frac1)\n",
    "    frac_args2 = np.argsort(scores_frac2)\n",
    "    minfracs_args = np.argsort(min_score_fracs)\n",
    "\n",
    "    if ax is None:\n",
    "        fig = plt.figure()\n",
    "        ax = fig.add_subplot(111)\n",
    "    ax.plot(np.array(scores_frac1)[frac_args1], label=odour1_label, color=colors[0])\n",
    "    ax.plot(np.array(scores_frac2)[frac_args2], label=odour2_label, color=colors[1])\n",
    "    if show_best:\n",
    "        ax.plot(np.array(min_score_fracs)[minfracs_args], label='Min of both odours', color=colors[2])\n",
    "    ax.axhline(0.5, color='k', linestyle='--')\n",
    "    ax.set_xlabel('Sorted cell number')\n",
    "    ax.set_ylabel('Fraction of cells with better fit')\n",
    "    ax.axvline(int(model_length/2), color='k', linestyle='--')\n",
    "\n",
    "    print(len(np.where(np.array(scores_frac1) < 0.5)[0]))\n",
    "    print(len(np.where(np.array(scores_frac2) < 0.5)[0]))\n",
    "    print(len(np.where(np.array(min_score_fracs) < 0.5)[0]))\n",
    "    fracs = [len(np.where(np.array(scores_frac1) < 0.5)[0]), len(np.where(np.array(scores_frac2) < 0.5)[0]), len(np.where(np.array(min_score_fracs) < 0.5)[0])]\n",
    "    joint_args = [frac_args1, frac_args2, minfracs_args]\n",
    "    return ax, fracs, joint_args\n",
    "\n",
    "\n",
    "\n",
    "def auto_scale(odour1, odour2, ui):\n",
    "    '''Automatically scales the two odour responses to minimise the sum of squared differences'''\n",
    "    data1 = np.array(odour1[ui])\n",
    "    data2 = np.array(odour2[ui])\n",
    "\n",
    "    x_data = np.array(range(32))\n",
    "    init_limits = [0, 100]\n",
    "\n",
    "    result = minimize(calc_diff, init_limits, args=(data1, data2), method='Nelder-Mead', tol=1e-20, options={'maxiter': 10000})\n",
    "    return result.x\n",
    "\n",
    "def calc_diff(limits, data1, data2):\n",
    "    '''Calculates the sum of squared differences between two odour responses, scaled to the limits given'''\n",
    "    lower, upper = limits\n",
    "    \n",
    "    # Rescale data\n",
    "    scaled_data2 = lower + (data2 - np.min(data2))*(upper - lower) / (np.max(data2) - np.min(data2))\n",
    "    \n",
    "    # Calculate sum of squared differences\n",
    "    diff = np.sum((data1 - scaled_data2)**2)\n",
    "    return diff\n",
    "\n",
    "\n",
    "\n",
    "\n",
    "def plot_multi_odour_response2(cell_index, odour1, odour2, ax=None, odour1_std = None, odour2_std = None, legend=False):\n",
    "    '''Plots the responses of a given cell to two odours, scaled to minimise the sum of squared differences'''\n",
    "    data1 = np.array(odour1[cell_index])\n",
    "    data2 = np.array(odour2[cell_index])\n",
    "    lower, upper = auto_scale(odour1, odour2, cell_index)\n",
    "    scaled_data2 = lower + (data2 - np.min(data2))*(upper - lower) / (np.max(data2) - np.min(data2))\n",
    "    scaled_err = np.abs((upper - lower) / (np.max(data2) - np.min(data2)) * np.array(odour2_std[cell_index]))\n",
    "\n",
    "    print(min(scaled_err), max(scaled_err))\n",
    "    \n",
    "    if ax is None:\n",
    "        fig = plt.figure()\n",
    "        ax = fig.add_subplot(111)\n",
    "    ax.errorbar(np.arange(0, 64, 2), data1, yerr=odour1_std[cell_index], fmt='.', color='k', linewidth=1)\n",
    "    ax.errorbar(np.arange(0.5, 64.5, 2), scaled_data2, yerr=scaled_err,  fmt='.', color='r', linewidth=1)\n",
    "    ax.set_xticks(np.arange(0.25, 64.25, 2))\n",
    "    ax.set_xticklabels(glyphs, rotation=90);\n",
    "    ylims = ax.get_ylim()\n",
    "    ax2 = ax.twinx()\n",
    "    scaled_ylims = ((np.array(ylims) - lower) * (np.max(data2) - np.min(data2)) / (upper - lower)) + np.min(data2)\n",
    "    ax2.set_ylim(scaled_ylims)\n",
    "    ax2.set_ylabel('Firing rate IA (Hz)', color='r')\n",
    "    ax.set_ylabel('Firing rate EB (Hz)')\n"
   ]
  },
  {
   "cell_type": "code",
   "execution_count": 18,
   "metadata": {
    "autoscroll": false,
    "collapsed": false,
    "ein.hycell": false,
    "ein.tags": "worksheet-0",
    "slideshow": {
     "slide_type": "-"
    }
   },
   "outputs": [
    {
     "name": "stdout",
     "output_type": "stream",
     "text": [
      "54\n",
      "36\n",
      "58\n",
      "55\n",
      "46\n",
      "62\n",
      "42\n",
      "48\n",
      "55\n"
     ]
    },
    {
     "name": "stdout",
     "output_type": "stream",
     "text": [
      "1.2926595765152893 3.6973822849809124\n"
     ]
    },
    {
     "name": "stdout",
     "output_type": "stream",
     "text": [
      "2.5182388839835856 17.26754459902682\n"
     ]
    },
    {
     "data": {
      "image/png": "[encoded data removed]",
      "text/plain": [
       "<Figure size 1080x864 with 7 Axes>"
      ]
     },
     "metadata": {},
     "output_type": "display_data"
    }
   ],
   "source": [
    "### Plotting\n",
    "\n",
    "odour_grays = ['k', 'gray', 'lightgray']\n",
    "fig = plt.figure(figsize=(15, 12))\n",
    "gs = GridSpec(3, 4, figure=fig, hspace=0.4, wspace=1)\n",
    "\n",
    "### Making the accuracy axes (part A)\n",
    "acc_gs = gs[0, :].subgridspec(1, 3)\n",
    "acc_axs = [fig.add_subplot(i) for i in acc_gs]\n",
    "acc_axs[0].plot([], color='k', label='EB')\n",
    "\n",
    "### Plotting the accuracies\n",
    "ax0, fracs1, sorted_args1 = plot_score_fracs(scores12, scores13, odour1_label='IA', odour2_label='EA', ax=acc_axs[0], colors=[odour_grays[1], odour_grays[2], 'r'], show_best=False)\n",
    "ax1, fracs2, sorted_args2 = plot_score_fracs(scores21, scores23, odour1_label='EB', odour2_label='EA', ax=acc_axs[1], colors=[odour_grays[0], odour_grays[2], 'r'], show_best=False)\n",
    "ax2, fracs3, sorted_args3 = plot_score_fracs(scores31, scores32, odour1_label='EB', odour2_label='IA', ax=acc_axs[2], colors=[odour_grays[0], odour_grays[1], 'r'], show_best=False)\n",
    "[ax.spines['right'].set_visible(False) for ax in acc_axs]\n",
    "[ax.spines['top'].set_visible(False) for ax in acc_axs]\n",
    "[i.set_ylabel('') for i in acc_axs[1:]]\n",
    "[i.set_yticklabels([]) for i in acc_axs[1:]]\n",
    "acc_axs[0].legend()\n",
    "\n",
    "### Making the example response plots\n",
    "best_response_ax1 = fig.add_subplot(gs[1, 0:2])\n",
    "best_response_ax2 = fig.add_subplot(gs[1, 2:4])\n",
    "\n",
    "### Plotting them\n",
    "plot_multi_odour_response2(corr_args[-1], mean_usrt1, mean_usrt2, odour1_std=std_usrt1, odour2_std=std_usrt2, ax=best_response_ax1)\n",
    "plot_multi_odour_response2(corr_args[-8], mean_usrt1, mean_usrt2, odour1_std=std_usrt1, odour2_std=std_usrt2, ax=best_response_ax2)\n",
    "\n",
    "### Labelling the axes\n",
    "axes = [*acc_axs, best_response_ax1, best_response_ax2]\n",
    "labels = ['Ai', 'ii', 'iii', 'Bi', 'ii']\n",
    "align_x = [[0, 3]]\n",
    "align_y = [[0, 1, 2], [3, 4]]\n",
    "dx = [0, -0.02, -0.02, 0, 0]\n",
    "label_axes(axes, labels, align_x=align_x, align_y=align_y, fontsize=16, fontweight='bold', align_x_fun=np.min, align_y_fun=np.max, dx=dx)\n",
    "#plt.savefig('230703_fig7.pdf', bbox_inches='tight')\n"
   ]
  },
  {
   "cell_type": "code",
   "execution_count": null,
   "metadata": {
    "autoscroll": false,
    "collapsed": false,
    "ein.hycell": false,
    "ein.tags": "worksheet-0",
    "slideshow": {
     "slide_type": "-"
    }
   },
   "outputs": [],
   "source": []
  }
 ],
 "metadata": {
  "kernelspec": {
   "display_name": "Python 3",
   "name": "python3"
  },
  "language_info": {
   "codemirror_mode": {
    "name": "ipython",
    "version": 3
   },
   "file_extension": ".py",
   "mimetype": "text/x-python",
   "name": "python",
   "nbconvert_exporter": "python",
   "pygments_lexer": "ipython3",
   "version": "3.7.3"
  },
  "name": "2307034_fig7.ipynb"
 },
 "nbformat": 4,
 "nbformat_minor": 2
}
